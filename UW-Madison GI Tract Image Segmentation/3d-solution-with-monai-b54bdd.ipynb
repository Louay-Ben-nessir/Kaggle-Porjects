{
 "cells": [
  {
   "cell_type": "code",
   "execution_count": 1,
   "id": "3d13f428",
   "metadata": {
    "execution": {
     "iopub.execute_input": "2022-07-05T20:07:24.833969Z",
     "iopub.status.busy": "2022-07-05T20:07:24.832473Z",
     "iopub.status.idle": "2022-07-05T20:07:25.571555Z",
     "shell.execute_reply": "2022-07-05T20:07:25.570952Z",
     "shell.execute_reply.started": "2022-07-05T16:59:27.510224Z"
    },
    "papermill": {
     "duration": 0.763289,
     "end_time": "2022-07-05T20:07:25.571708",
     "exception": false,
     "start_time": "2022-07-05T20:07:24.808419",
     "status": "completed"
    },
    "tags": []
   },
   "outputs": [],
   "source": [
    "!cp -r ../input/ttapytoirch ."
   ]
  },
  {
   "cell_type": "code",
   "execution_count": 2,
   "id": "8feccb65",
   "metadata": {
    "execution": {
     "iopub.execute_input": "2022-07-05T20:07:25.622237Z",
     "iopub.status.busy": "2022-07-05T20:07:25.621232Z",
     "iopub.status.idle": "2022-07-05T20:07:55.565428Z",
     "shell.execute_reply": "2022-07-05T20:07:55.566234Z",
     "shell.execute_reply.started": "2022-07-05T16:59:28.278879Z"
    },
    "papermill": {
     "duration": 29.973614,
     "end_time": "2022-07-05T20:07:55.566417",
     "exception": false,
     "start_time": "2022-07-05T20:07:25.592803",
     "status": "completed"
    },
    "tags": []
   },
   "outputs": [
    {
     "name": "stdout",
     "output_type": "stream",
     "text": [
      "\u001b[33mWARNING: Running pip as the 'root' user can result in broken permissions and conflicting behaviour with the system package manager. It is recommended to use a virtual environment instead: https://pip.pypa.io/warnings/venv\u001b[0m\r\n"
     ]
    }
   ],
   "source": [
    "!pip install -q ./ttapytoirch"
   ]
  },
  {
   "cell_type": "markdown",
   "id": "016840b8",
   "metadata": {
    "papermill": {
     "duration": 0.019003,
     "end_time": "2022-07-05T20:07:55.605704",
     "exception": false,
     "start_time": "2022-07-05T20:07:55.586701",
     "status": "completed"
    },
    "tags": []
   },
   "source": [
    "## Load Libs"
   ]
  },
  {
   "cell_type": "code",
   "execution_count": 3,
   "id": "519027ed",
   "metadata": {
    "execution": {
     "iopub.execute_input": "2022-07-05T20:07:55.650033Z",
     "iopub.status.busy": "2022-07-05T20:07:55.649067Z",
     "iopub.status.idle": "2022-07-05T20:07:55.651624Z",
     "shell.execute_reply": "2022-07-05T20:07:55.651089Z",
     "shell.execute_reply.started": "2022-07-05T16:59:58.437825Z"
    },
    "papermill": {
     "duration": 0.026483,
     "end_time": "2022-07-05T20:07:55.651746",
     "exception": false,
     "start_time": "2022-07-05T20:07:55.625263",
     "status": "completed"
    },
    "tags": []
   },
   "outputs": [],
   "source": [
    "import sys\n",
    "\n",
    "sys.path.append('../input/monai-v081/')\n"
   ]
  },
  {
   "cell_type": "code",
   "execution_count": 4,
   "id": "131c1372",
   "metadata": {
    "execution": {
     "iopub.execute_input": "2022-07-05T20:07:55.695707Z",
     "iopub.status.busy": "2022-07-05T20:07:55.694949Z",
     "iopub.status.idle": "2022-07-05T20:08:02.437182Z",
     "shell.execute_reply": "2022-07-05T20:08:02.436644Z",
     "shell.execute_reply.started": "2022-07-05T16:59:58.444805Z"
    },
    "papermill": {
     "duration": 6.76696,
     "end_time": "2022-07-05T20:08:02.437339",
     "exception": false,
     "start_time": "2022-07-05T20:07:55.670379",
     "status": "completed"
    },
    "tags": []
   },
   "outputs": [],
   "source": [
    "import gc\n",
    "from glob import glob\n",
    "import os\n",
    "import numpy as np\n",
    "import pandas as pd\n",
    "import torch\n",
    "from torch import nn\n",
    "from monai.inferers import sliding_window_inference\n",
    "from monai.data import decollate_batch\n",
    "from monai.handlers.utils import from_engine\n",
    "from monai.networks.nets import UNet\n",
    "from torch.cuda.amp import GradScaler, autocast\n",
    "from tqdm import tqdm\n",
    "import json\n",
    "import ttach as tta"
   ]
  },
  {
   "cell_type": "code",
   "execution_count": 5,
   "id": "0dce8902",
   "metadata": {
    "execution": {
     "iopub.execute_input": "2022-07-05T20:08:02.482118Z",
     "iopub.status.busy": "2022-07-05T20:08:02.481271Z",
     "iopub.status.idle": "2022-07-05T20:08:02.483806Z",
     "shell.execute_reply": "2022-07-05T20:08:02.483376Z",
     "shell.execute_reply.started": "2022-07-05T17:00:05.367439Z"
    },
    "papermill": {
     "duration": 0.026572,
     "end_time": "2022-07-05T20:08:02.483941",
     "exception": false,
     "start_time": "2022-07-05T20:08:02.457369",
     "status": "completed"
    },
    "tags": []
   },
   "outputs": [],
   "source": [
    "from monai.data import CacheDataset, DataLoader\n",
    "from monai.transforms import (\n",
    "    Compose,\n",
    "    Activations,\n",
    "    AsDiscrete,\n",
    "    Activationsd,\n",
    "    AsDiscreted,\n",
    "    KeepLargestConnectedComponentd,\n",
    "    Invertd,\n",
    "    LoadImage,\n",
    "    Transposed,\n",
    "    LoadImaged,\n",
    "    AddChanneld,\n",
    "    CastToTyped,\n",
    "    Lambdad,\n",
    "    Resized,\n",
    "    EnsureTyped,\n",
    "    SpatialPadd,\n",
    "    EnsureChannelFirstd,\n",
    ")"
   ]
  },
  {
   "cell_type": "markdown",
   "id": "58c25af0",
   "metadata": {
    "papermill": {
     "duration": 0.018614,
     "end_time": "2022-07-05T20:08:02.521469",
     "exception": false,
     "start_time": "2022-07-05T20:08:02.502855",
     "status": "completed"
    },
    "tags": []
   },
   "source": [
    "## Prepare meta info."
   ]
  },
  {
   "cell_type": "markdown",
   "id": "640c5bb3",
   "metadata": {
    "papermill": {
     "duration": 0.018728,
     "end_time": "2022-07-05T20:08:02.559289",
     "exception": false,
     "start_time": "2022-07-05T20:08:02.540561",
     "status": "completed"
    },
    "tags": []
   },
   "source": [
    "### Thanks awsaf49, this section refers to:\n",
    "https://www.kaggle.com/code/awsaf49/uwmgi-2-5d-infer-pytorch"
   ]
  },
  {
   "cell_type": "code",
   "execution_count": 6,
   "id": "05d35df0",
   "metadata": {
    "execution": {
     "iopub.execute_input": "2022-07-05T20:08:02.607606Z",
     "iopub.status.busy": "2022-07-05T20:08:02.604901Z",
     "iopub.status.idle": "2022-07-05T20:08:02.610630Z",
     "shell.execute_reply": "2022-07-05T20:08:02.610223Z",
     "shell.execute_reply.started": "2022-07-05T17:00:05.378010Z"
    },
    "papermill": {
     "duration": 0.03271,
     "end_time": "2022-07-05T20:08:02.610740",
     "exception": false,
     "start_time": "2022-07-05T20:08:02.578030",
     "status": "completed"
    },
    "tags": []
   },
   "outputs": [],
   "source": [
    "def get_metadata(row):\n",
    "    data = row['id'].split('_')\n",
    "    case = int(data[0].replace('case',''))\n",
    "    day = int(data[1].replace('day',''))\n",
    "    slice_ = int(data[-1])\n",
    "    row['case'] = case\n",
    "    row['day'] = day\n",
    "    row['slice'] = slice_\n",
    "    return row\n",
    "\n",
    "def path2info(row):\n",
    "    path = row['image_path']\n",
    "    data = path.split('/')\n",
    "    slice_ = int(data[-1].split('_')[1])\n",
    "    case = int(data[-3].split('_')[0].replace('case',''))\n",
    "    day = int(data[-3].split('_')[1].replace('day',''))\n",
    "    width = int(data[-1].split('_')[2])\n",
    "    height = int(data[-1].split('_')[3])\n",
    "    row['height'] = height\n",
    "    row['width'] = width\n",
    "    row['case'] = case\n",
    "    row['day'] = day\n",
    "    row['slice'] = slice_\n",
    "    return row"
   ]
  },
  {
   "cell_type": "code",
   "execution_count": 7,
   "id": "d6427de9",
   "metadata": {
    "execution": {
     "iopub.execute_input": "2022-07-05T20:08:02.657340Z",
     "iopub.status.busy": "2022-07-05T20:08:02.656762Z",
     "iopub.status.idle": "2022-07-05T20:08:04.559632Z",
     "shell.execute_reply": "2022-07-05T20:08:04.559082Z",
     "shell.execute_reply.started": "2022-07-05T17:00:05.390271Z"
    },
    "papermill": {
     "duration": 1.929657,
     "end_time": "2022-07-05T20:08:04.559770",
     "exception": false,
     "start_time": "2022-07-05T20:08:02.630113",
     "status": "completed"
    },
    "tags": []
   },
   "outputs": [],
   "source": [
    "sub_df = pd.read_csv('../input/uw-madison-gi-tract-image-segmentation/sample_submission.csv')\n",
    "if not len(sub_df):\n",
    "    debug = True\n",
    "    sub_df = pd.read_csv('../input/uw-madison-gi-tract-image-segmentation/train.csv')[:1000*3]\n",
    "    sub_df = sub_df.drop(columns=['class','segmentation']).drop_duplicates()\n",
    "else:\n",
    "    debug = False\n",
    "    sub_df = sub_df.drop(columns=['class','predicted']).drop_duplicates()\n",
    "sub_df = sub_df.apply(lambda x: get_metadata(x),axis=1)"
   ]
  },
  {
   "cell_type": "code",
   "execution_count": 8,
   "id": "cb0d2a06",
   "metadata": {
    "execution": {
     "iopub.execute_input": "2022-07-05T20:08:04.603461Z",
     "iopub.status.busy": "2022-07-05T20:08:04.602896Z",
     "iopub.status.idle": "2022-07-05T20:09:38.814149Z",
     "shell.execute_reply": "2022-07-05T20:09:38.814783Z",
     "shell.execute_reply.started": "2022-07-05T17:00:07.365086Z"
    },
    "papermill": {
     "duration": 94.235882,
     "end_time": "2022-07-05T20:09:38.815012",
     "exception": false,
     "start_time": "2022-07-05T20:08:04.579130",
     "status": "completed"
    },
    "tags": []
   },
   "outputs": [
    {
     "data": {
      "text/html": [
       "<div>\n",
       "<style scoped>\n",
       "    .dataframe tbody tr th:only-of-type {\n",
       "        vertical-align: middle;\n",
       "    }\n",
       "\n",
       "    .dataframe tbody tr th {\n",
       "        vertical-align: top;\n",
       "    }\n",
       "\n",
       "    .dataframe thead th {\n",
       "        text-align: right;\n",
       "    }\n",
       "</style>\n",
       "<table border=\"1\" class=\"dataframe\">\n",
       "  <thead>\n",
       "    <tr style=\"text-align: right;\">\n",
       "      <th></th>\n",
       "      <th>image_path</th>\n",
       "      <th>height</th>\n",
       "      <th>width</th>\n",
       "      <th>case</th>\n",
       "      <th>day</th>\n",
       "      <th>slice</th>\n",
       "    </tr>\n",
       "  </thead>\n",
       "  <tbody>\n",
       "    <tr>\n",
       "      <th>0</th>\n",
       "      <td>/kaggle/input/uw-madison-gi-tract-image-segmen...</td>\n",
       "      <td>266</td>\n",
       "      <td>266</td>\n",
       "      <td>36</td>\n",
       "      <td>14</td>\n",
       "      <td>6</td>\n",
       "    </tr>\n",
       "    <tr>\n",
       "      <th>1</th>\n",
       "      <td>/kaggle/input/uw-madison-gi-tract-image-segmen...</td>\n",
       "      <td>266</td>\n",
       "      <td>266</td>\n",
       "      <td>36</td>\n",
       "      <td>14</td>\n",
       "      <td>82</td>\n",
       "    </tr>\n",
       "    <tr>\n",
       "      <th>2</th>\n",
       "      <td>/kaggle/input/uw-madison-gi-tract-image-segmen...</td>\n",
       "      <td>266</td>\n",
       "      <td>266</td>\n",
       "      <td>36</td>\n",
       "      <td>14</td>\n",
       "      <td>113</td>\n",
       "    </tr>\n",
       "    <tr>\n",
       "      <th>3</th>\n",
       "      <td>/kaggle/input/uw-madison-gi-tract-image-segmen...</td>\n",
       "      <td>266</td>\n",
       "      <td>266</td>\n",
       "      <td>36</td>\n",
       "      <td>14</td>\n",
       "      <td>76</td>\n",
       "    </tr>\n",
       "    <tr>\n",
       "      <th>4</th>\n",
       "      <td>/kaggle/input/uw-madison-gi-tract-image-segmen...</td>\n",
       "      <td>266</td>\n",
       "      <td>266</td>\n",
       "      <td>36</td>\n",
       "      <td>14</td>\n",
       "      <td>125</td>\n",
       "    </tr>\n",
       "  </tbody>\n",
       "</table>\n",
       "</div>"
      ],
      "text/plain": [
       "                                          image_path  height  width  case  \\\n",
       "0  /kaggle/input/uw-madison-gi-tract-image-segmen...     266    266    36   \n",
       "1  /kaggle/input/uw-madison-gi-tract-image-segmen...     266    266    36   \n",
       "2  /kaggle/input/uw-madison-gi-tract-image-segmen...     266    266    36   \n",
       "3  /kaggle/input/uw-madison-gi-tract-image-segmen...     266    266    36   \n",
       "4  /kaggle/input/uw-madison-gi-tract-image-segmen...     266    266    36   \n",
       "\n",
       "   day  slice  \n",
       "0   14      6  \n",
       "1   14     82  \n",
       "2   14    113  \n",
       "3   14     76  \n",
       "4   14    125  "
      ]
     },
     "execution_count": 8,
     "metadata": {},
     "output_type": "execute_result"
    }
   ],
   "source": [
    "if debug:\n",
    "    paths = glob(f'/kaggle/input/uw-madison-gi-tract-image-segmentation/train/**/*png',recursive=True)\n",
    "#     paths = sorted(paths)\n",
    "else:\n",
    "    paths = glob(f'/kaggle/input/uw-madison-gi-tract-image-segmentation/test/**/*png',recursive=True)\n",
    "#     paths = sorted(paths)\n",
    "path_df = pd.DataFrame(paths, columns=['image_path'])\n",
    "path_df = path_df.apply(lambda x: path2info(x),axis=1)\n",
    "path_df.head()"
   ]
  },
  {
   "cell_type": "markdown",
   "id": "410b729f",
   "metadata": {
    "papermill": {
     "duration": 0.023897,
     "end_time": "2022-07-05T20:09:38.869433",
     "exception": false,
     "start_time": "2022-07-05T20:09:38.845536",
     "status": "completed"
    },
    "tags": []
   },
   "source": [
    "## Produce 3d data list for MONAI DataSet"
   ]
  },
  {
   "cell_type": "code",
   "execution_count": 9,
   "id": "e4fb5a56",
   "metadata": {
    "execution": {
     "iopub.execute_input": "2022-07-05T20:09:38.915190Z",
     "iopub.status.busy": "2022-07-05T20:09:38.914480Z",
     "iopub.status.idle": "2022-07-05T20:09:38.936846Z",
     "shell.execute_reply": "2022-07-05T20:09:38.936399Z",
     "shell.execute_reply.started": "2022-07-05T17:01:41.182394Z"
    },
    "papermill": {
     "duration": 0.048352,
     "end_time": "2022-07-05T20:09:38.936987",
     "exception": false,
     "start_time": "2022-07-05T20:09:38.888635",
     "status": "completed"
    },
    "tags": []
   },
   "outputs": [],
   "source": [
    "test_df = sub_df.merge(path_df, on=['case','day','slice'], how='left')\n",
    "test_df[\"case_id_str\"] = test_df[\"id\"].apply(lambda x: x.split(\"_\", 2)[0])\n",
    "test_df[\"day_num_str\"] = test_df[\"id\"].apply(lambda x: x.split(\"_\", 2)[1])\n",
    "test_df[\"slice_id\"] = test_df[\"id\"].apply(lambda x: x.split(\"_\", 2)[2])"
   ]
  },
  {
   "cell_type": "code",
   "execution_count": 10,
   "id": "ef9b1aa7",
   "metadata": {
    "execution": {
     "iopub.execute_input": "2022-07-05T20:09:38.982667Z",
     "iopub.status.busy": "2022-07-05T20:09:38.982109Z",
     "iopub.status.idle": "2022-07-05T20:09:39.112583Z",
     "shell.execute_reply": "2022-07-05T20:09:39.111595Z",
     "shell.execute_reply.started": "2022-07-05T17:01:41.209772Z"
    },
    "papermill": {
     "duration": 0.156427,
     "end_time": "2022-07-05T20:09:39.112710",
     "exception": false,
     "start_time": "2022-07-05T20:09:38.956283",
     "status": "completed"
    },
    "tags": []
   },
   "outputs": [],
   "source": [
    "test_data = []\n",
    "\n",
    "for group in test_df.groupby([\"case_id_str\", \"day_num_str\"]):\n",
    "\n",
    "    case_id_str, day_num_str = group[0]\n",
    "    group_id = case_id_str + \"_\" + day_num_str\n",
    "    group_df = group[1].sort_values(\"slice_id\", ascending=True)\n",
    "    n_slices = group_df.shape[0]\n",
    "    group_slices, group_ids = [], []\n",
    "    for idx in range(n_slices):\n",
    "        slc = group_df.iloc[idx]\n",
    "        group_slices.append(slc.image_path)\n",
    "        group_ids.append(slc.id)\n",
    "    test_data.append({\"image\": group_slices, \"id\": group_ids})"
   ]
  },
  {
   "cell_type": "markdown",
   "id": "2885ba2b",
   "metadata": {
    "papermill": {
     "duration": 0.019569,
     "end_time": "2022-07-05T20:09:39.151967",
     "exception": false,
     "start_time": "2022-07-05T20:09:39.132398",
     "status": "completed"
    },
    "tags": []
   },
   "source": [
    "## Prepare Transforms, Dataset, DataLoader"
   ]
  },
  {
   "cell_type": "code",
   "execution_count": 11,
   "id": "236c6b45",
   "metadata": {
    "execution": {
     "iopub.execute_input": "2022-07-05T20:09:39.250812Z",
     "iopub.status.busy": "2022-07-05T20:09:39.250256Z",
     "iopub.status.idle": "2022-07-05T20:09:39.254599Z",
     "shell.execute_reply": "2022-07-05T20:09:39.253777Z",
     "shell.execute_reply.started": "2022-07-05T17:01:41.346241Z"
    },
    "papermill": {
     "duration": 0.08369,
     "end_time": "2022-07-05T20:09:39.254720",
     "exception": false,
     "start_time": "2022-07-05T20:09:39.171030",
     "status": "completed"
    },
    "tags": []
   },
   "outputs": [],
   "source": [
    "class cfg:\n",
    "    img_size = (224, 224, 80)\n",
    "    in_channels = 1\n",
    "    out_channels = 3\n",
    "    device = torch.device(\"cuda:0\" if torch.cuda.is_available() else \"cpu\")\n",
    "    weights = ['../input/uwmadison-gi-tract-image-segmentation-weights/best_weights_fold_0.pth', '../input/uwmadison-gi-tract-image-segmentation-weights/best_weights_fold_1.pth']\n",
    "    batch_size = 1\n",
    "    sw_batch_size = 4"
   ]
  },
  {
   "cell_type": "code",
   "execution_count": 12,
   "id": "c43aedf3",
   "metadata": {
    "execution": {
     "iopub.execute_input": "2022-07-05T20:09:39.303528Z",
     "iopub.status.busy": "2022-07-05T20:09:39.302775Z",
     "iopub.status.idle": "2022-07-05T20:09:39.305219Z",
     "shell.execute_reply": "2022-07-05T20:09:39.304807Z",
     "shell.execute_reply.started": "2022-07-05T17:01:41.422560Z"
    },
    "papermill": {
     "duration": 0.030811,
     "end_time": "2022-07-05T20:09:39.305329",
     "exception": false,
     "start_time": "2022-07-05T20:09:39.274518",
     "status": "completed"
    },
    "tags": []
   },
   "outputs": [],
   "source": [
    "test_transforms = Compose(\n",
    "    [\n",
    "        LoadImaged(keys=\"image\"), # d, h, w\n",
    "        AddChanneld(keys=\"image\"), # c, d, h, w\n",
    "        Transposed(keys=\"image\", indices=[0, 2, 3, 1]), # c, w, h, d\n",
    "        Lambdad(keys=\"image\", func=lambda x: x / x.max()),\n",
    "#         SpatialPadd(keys=\"image\", spatial_size=cfg.img_size),  # in case less than 80 slices\n",
    "        EnsureTyped(keys=\"image\", dtype=torch.float32),\n",
    "    ]\n",
    ")\n",
    "\n",
    "test_ds = CacheDataset(\n",
    "        data=test_data,\n",
    "        transform=test_transforms,\n",
    "        cache_rate=0.0,\n",
    "        num_workers=2,\n",
    "    )\n",
    "\n",
    "test_dataloader = DataLoader(\n",
    "    test_ds,\n",
    "    batch_size=cfg.batch_size,\n",
    "    num_workers=2,\n",
    "    pin_memory=True,\n",
    ")"
   ]
  },
  {
   "cell_type": "markdown",
   "id": "c6d308f4",
   "metadata": {
    "papermill": {
     "duration": 0.019308,
     "end_time": "2022-07-05T20:09:39.343590",
     "exception": false,
     "start_time": "2022-07-05T20:09:39.324282",
     "status": "completed"
    },
    "tags": []
   },
   "source": [
    "## Prepare Network"
   ]
  },
  {
   "cell_type": "code",
   "execution_count": 13,
   "id": "51cc63d8",
   "metadata": {
    "execution": {
     "iopub.execute_input": "2022-07-05T20:09:39.390612Z",
     "iopub.status.busy": "2022-07-05T20:09:39.390065Z",
     "iopub.status.idle": "2022-07-05T20:09:42.687279Z",
     "shell.execute_reply": "2022-07-05T20:09:42.686774Z",
     "shell.execute_reply.started": "2022-07-05T17:01:41.440225Z"
    },
    "papermill": {
     "duration": 3.324224,
     "end_time": "2022-07-05T20:09:42.687401",
     "exception": false,
     "start_time": "2022-07-05T20:09:39.363177",
     "status": "completed"
    },
    "tags": []
   },
   "outputs": [],
   "source": [
    "model = UNet(\n",
    "    spatial_dims=3,\n",
    "    in_channels=cfg.in_channels,\n",
    "    out_channels=cfg.out_channels,\n",
    "    channels=(32, 64, 128, 256, 512),\n",
    "    strides=(2, 2, 2, 2),\n",
    "    kernel_size=3,\n",
    "    up_kernel_size=3,\n",
    "    num_res_units=2,\n",
    "    act=\"PRELU\",\n",
    "    norm=\"BATCH\",\n",
    "    dropout=0.2,\n",
    "    bias=True,\n",
    "    dimensions=None,\n",
    ").to(cfg.device)"
   ]
  },
  {
   "cell_type": "markdown",
   "id": "6a89ceef",
   "metadata": {
    "papermill": {
     "duration": 0.019013,
     "end_time": "2022-07-05T20:09:42.726214",
     "exception": false,
     "start_time": "2022-07-05T20:09:42.707201",
     "status": "completed"
    },
    "tags": []
   },
   "source": [
    "## Infer"
   ]
  },
  {
   "cell_type": "code",
   "execution_count": 14,
   "id": "70e7f34e",
   "metadata": {
    "execution": {
     "iopub.execute_input": "2022-07-05T20:09:42.770949Z",
     "iopub.status.busy": "2022-07-05T20:09:42.770148Z",
     "iopub.status.idle": "2022-07-05T20:09:42.772072Z",
     "shell.execute_reply": "2022-07-05T20:09:42.772466Z",
     "shell.execute_reply.started": "2022-07-05T17:01:44.833516Z"
    },
    "papermill": {
     "duration": 0.027217,
     "end_time": "2022-07-05T20:09:42.772589",
     "exception": false,
     "start_time": "2022-07-05T20:09:42.745372",
     "status": "completed"
    },
    "tags": []
   },
   "outputs": [],
   "source": [
    "# ref.: https://www.kaggle.com/stainsby/fast-tested-rle\n",
    "def rle_encode(img):\n",
    "    \"\"\" TBD\n",
    "    \n",
    "    Args:\n",
    "        img (np.array): \n",
    "            - 1 indicating mask\n",
    "            - 0 indicating background\n",
    "    \n",
    "    Returns: \n",
    "        run length as string formated\n",
    "    \"\"\"\n",
    "    \n",
    "    pixels = img.flatten()\n",
    "    pixels = np.concatenate([[0], pixels, [0]])\n",
    "    runs = np.where(pixels[1:] != pixels[:-1])[0] + 1\n",
    "    runs[1::2] -= runs[::2]\n",
    "    return ' '.join(str(x) for x in runs)"
   ]
  },
  {
   "cell_type": "code",
   "execution_count": 15,
   "id": "63aff9ed",
   "metadata": {
    "execution": {
     "iopub.execute_input": "2022-07-05T20:09:42.826162Z",
     "iopub.status.busy": "2022-07-05T20:09:42.824482Z",
     "iopub.status.idle": "2022-07-05T20:12:26.842354Z",
     "shell.execute_reply": "2022-07-05T20:12:26.840816Z",
     "shell.execute_reply.started": "2022-07-05T17:02:49.352775Z"
    },
    "papermill": {
     "duration": 164.051043,
     "end_time": "2022-07-05T20:12:26.842485",
     "exception": false,
     "start_time": "2022-07-05T20:09:42.791442",
     "status": "completed"
    },
    "tags": []
   },
   "outputs": [
    {
     "name": "stderr",
     "output_type": "stream",
     "text": [
      "100%|██████████| 7/7 [02:43<00:00, 23.43s/it]\n"
     ]
    }
   ],
   "source": [
    "outputs = []\n",
    "\n",
    "post_pred = Compose([\n",
    "    Activations(sigmoid=True),\n",
    "    AsDiscrete(threshold=0.5),\n",
    "])\n",
    "\n",
    "\n",
    "\n",
    "torch.set_grad_enabled(False)\n",
    "progress_bar = tqdm(range(len(test_dataloader)))\n",
    "val_it = iter(test_dataloader)\n",
    "for itr in progress_bar:\n",
    "    batch = next(val_it)\n",
    "    test_inputs = batch[\"image\"].to(cfg.device)\n",
    "\n",
    "    pred_all = []\n",
    "    for weights in cfg.weights:\n",
    "        model = UNet(\n",
    "    spatial_dims=3,\n",
    "    in_channels=cfg.in_channels,\n",
    "    out_channels=cfg.out_channels,\n",
    "    channels=(32, 64, 128, 256, 512),\n",
    "    strides=(2, 2, 2, 2),\n",
    "    kernel_size=3,\n",
    "    up_kernel_size=3,\n",
    "    num_res_units=2,\n",
    "    act=\"PRELU\",\n",
    "    norm=\"BATCH\",\n",
    "    dropout=0.2,\n",
    "    bias=True,\n",
    "    dimensions=None,\n",
    ").to(cfg.device)\n",
    "        model.eval()\n",
    "        model.load_state_dict(torch.load(weights)['model'])\n",
    "        model = tta.SegmentationTTAWrapper(model, tta.aliases.flip_transform(), merge_mode='mean')\n",
    "        pred = sliding_window_inference(test_inputs, cfg.img_size, cfg.sw_batch_size, model)\n",
    "        pred_all.append(pred)\n",
    "        # do 4 tta\n",
    "        for dims in [[2], [3], [2, 3]]:\n",
    "            flip_pred = sliding_window_inference(torch.flip(test_inputs, dims=dims), cfg.img_size, cfg.sw_batch_size, model)\n",
    "            flip_pred = torch.flip(flip_pred, dims=dims)\n",
    "            pred_all.append(flip_pred)\n",
    "    \n",
    "    pred_all = torch.mean(torch.stack(pred_all), dim=0)[0]\n",
    "    pred_all = post_pred(pred_all)\n",
    "    # c, w, h, d to d, c, h, w\n",
    "    pred_all = torch.permute(pred_all, [3, 0, 2, 1]).cpu().numpy().astype(np.uint8)\n",
    "    id_outputs = from_engine([\"id\"])(batch)[0]\n",
    "\n",
    "    for test_output, id_output in zip(pred_all, id_outputs):\n",
    "        id_name = id_output[0]\n",
    "        lb, sb, st = test_output\n",
    "        outputs.append([id_name, \"large_bowel\", rle_encode(lb)])\n",
    "        outputs.append([id_name, \"small_bowel\", rle_encode(sb)])\n",
    "        outputs.append([id_name, \"stomach\", rle_encode(st)])\n"
   ]
  },
  {
   "cell_type": "code",
   "execution_count": 16,
   "id": "a2eab7c3",
   "metadata": {
    "execution": {
     "iopub.execute_input": "2022-07-05T20:12:26.949150Z",
     "iopub.status.busy": "2022-07-05T20:12:26.947749Z",
     "iopub.status.idle": "2022-07-05T20:12:26.949795Z",
     "shell.execute_reply": "2022-07-05T20:12:26.950218Z",
     "shell.execute_reply.started": "2022-07-05T17:01:49.230769Z"
    },
    "papermill": {
     "duration": 0.085087,
     "end_time": "2022-07-05T20:12:26.950362",
     "exception": false,
     "start_time": "2022-07-05T20:12:26.865275",
     "status": "completed"
    },
    "tags": []
   },
   "outputs": [],
   "source": [
    "submit = pd.DataFrame(data=np.array(outputs), columns=[\"id\", \"class\", \"predicted\"])"
   ]
  },
  {
   "cell_type": "code",
   "execution_count": 17,
   "id": "34e8deb8",
   "metadata": {
    "execution": {
     "iopub.execute_input": "2022-07-05T20:12:27.002124Z",
     "iopub.status.busy": "2022-07-05T20:12:27.001403Z",
     "iopub.status.idle": "2022-07-05T20:12:27.030687Z",
     "shell.execute_reply": "2022-07-05T20:12:27.030192Z",
     "shell.execute_reply.started": "2022-07-05T17:01:49.232484Z"
    },
    "papermill": {
     "duration": 0.057434,
     "end_time": "2022-07-05T20:12:27.030818",
     "exception": false,
     "start_time": "2022-07-05T20:12:26.973384",
     "status": "completed"
    },
    "tags": []
   },
   "outputs": [],
   "source": [
    "# Fix sub error, refers to: https://www.kaggle.com/competitions/uw-madison-gi-tract-image-segmentation/discussion/320541\n",
    "if not debug:\n",
    "    sub_df = pd.read_csv('../input/uw-madison-gi-tract-image-segmentation/sample_submission.csv')\n",
    "    del sub_df['predicted']\n",
    "    sub_df = sub_df.merge(submit, on=['id','class'])\n",
    "    sub_df.to_csv('submission.csv',index=False)\n",
    "else:\n",
    "    submit.to_csv('submission.csv', index=False)"
   ]
  }
 ],
 "metadata": {
  "kernelspec": {
   "display_name": "Python 3",
   "language": "python",
   "name": "python3"
  },
  "language_info": {
   "codemirror_mode": {
    "name": "ipython",
    "version": 3
   },
   "file_extension": ".py",
   "mimetype": "text/x-python",
   "name": "python",
   "nbconvert_exporter": "python",
   "pygments_lexer": "ipython3",
   "version": "3.7.12"
  },
  "papermill": {
   "default_parameters": {},
   "duration": 312.203624,
   "end_time": "2022-07-05T20:12:28.869459",
   "environment_variables": {},
   "exception": null,
   "input_path": "__notebook__.ipynb",
   "output_path": "__notebook__.ipynb",
   "parameters": {},
   "start_time": "2022-07-05T20:07:16.665835",
   "version": "2.3.3"
  }
 },
 "nbformat": 4,
 "nbformat_minor": 5
}
