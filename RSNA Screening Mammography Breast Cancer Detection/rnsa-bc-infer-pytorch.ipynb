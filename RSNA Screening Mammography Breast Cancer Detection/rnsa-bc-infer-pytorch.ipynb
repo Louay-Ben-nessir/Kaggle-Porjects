{
 "cells": [
  {
   "cell_type": "markdown",
   "id": "6f8ceafe",
   "metadata": {
    "papermill": {
     "duration": 0.010009,
     "end_time": "2023-02-15T20:31:54.598713",
     "exception": false,
     "start_time": "2023-02-15T20:31:54.588704",
     "status": "completed"
    },
    "tags": []
   },
   "source": [
    "# 📚 Import Libraries"
   ]
  },
  {
   "cell_type": "code",
   "execution_count": 1,
   "id": "23511f0c",
   "metadata": {
    "execution": {
     "iopub.execute_input": "2023-02-15T20:31:54.618224Z",
     "iopub.status.busy": "2023-02-15T20:31:54.617500Z",
     "iopub.status.idle": "2023-02-15T20:31:58.881154Z",
     "shell.execute_reply": "2023-02-15T20:31:58.880000Z"
    },
    "papermill": {
     "duration": 4.276672,
     "end_time": "2023-02-15T20:31:58.883977",
     "exception": false,
     "start_time": "2023-02-15T20:31:54.607305",
     "status": "completed"
    },
    "tags": []
   },
   "outputs": [
    {
     "name": "stdout",
     "output_type": "stream",
     "text": [
      "/bin/bash: /opt/conda/lib/libtinfo.so.6: no version information available (required by /bin/bash)\r\n"
     ]
    }
   ],
   "source": [
    "!cp -r /kaggle/input/timmmaster . "
   ]
  },
  {
   "cell_type": "code",
   "execution_count": 2,
   "id": "eda47f3b",
   "metadata": {
    "execution": {
     "iopub.execute_input": "2023-02-15T20:31:58.903842Z",
     "iopub.status.busy": "2023-02-15T20:31:58.902901Z",
     "iopub.status.idle": "2023-02-15T20:32:32.040125Z",
     "shell.execute_reply": "2023-02-15T20:32:32.038917Z"
    },
    "papermill": {
     "duration": 33.150201,
     "end_time": "2023-02-15T20:32:32.042936",
     "exception": false,
     "start_time": "2023-02-15T20:31:58.892735",
     "status": "completed"
    },
    "tags": []
   },
   "outputs": [
    {
     "name": "stdout",
     "output_type": "stream",
     "text": [
      "/bin/bash: /opt/conda/lib/libtinfo.so.6: no version information available (required by /bin/bash)\r\n",
      "\u001b[33mWARNING: Running pip as the 'root' user can result in broken permissions and conflicting behaviour with the system package manager. It is recommended to use a virtual environment instead: https://pip.pypa.io/warnings/venv\u001b[0m\u001b[33m\r\n",
      "\u001b[0m\u001b[33mWARNING: There was an error checking the latest version of pip.\u001b[0m\u001b[33m\r\n",
      "\u001b[0m"
     ]
    }
   ],
   "source": [
    "!pip install -qU ./timmmaster"
   ]
  },
  {
   "cell_type": "code",
   "execution_count": 3,
   "id": "b35105c6",
   "metadata": {
    "execution": {
     "iopub.execute_input": "2023-02-15T20:32:32.062206Z",
     "iopub.status.busy": "2023-02-15T20:32:32.061878Z",
     "iopub.status.idle": "2023-02-15T20:34:00.666746Z",
     "shell.execute_reply": "2023-02-15T20:34:00.665535Z"
    },
    "papermill": {
     "duration": 88.617271,
     "end_time": "2023-02-15T20:34:00.669180",
     "exception": false,
     "start_time": "2023-02-15T20:32:32.051909",
     "status": "completed"
    },
    "tags": []
   },
   "outputs": [
    {
     "name": "stdout",
     "output_type": "stream",
     "text": [
      "/bin/bash: /opt/conda/lib/libtinfo.so.6: no version information available (required by /bin/bash)\r\n",
      "\u001b[33mWARNING: Running pip as the 'root' user can result in broken permissions and conflicting behaviour with the system package manager. It is recommended to use a virtual environment instead: https://pip.pypa.io/warnings/venv\u001b[0m\u001b[33m\r\n",
      "\u001b[0m\u001b[33mWARNING: There was an error checking the latest version of pip.\u001b[0m\u001b[33m\r\n",
      "\u001b[0m/bin/bash: /opt/conda/lib/libtinfo.so.6: no version information available (required by /bin/bash)\r\n",
      "\u001b[33mWARNING: Running pip as the 'root' user can result in broken permissions and conflicting behaviour with the system package manager. It is recommended to use a virtual environment instead: https://pip.pypa.io/warnings/venv\u001b[0m\u001b[33m\r\n",
      "\u001b[0m\u001b[33mWARNING: There was an error checking the latest version of pip.\u001b[0m\u001b[33m\r\n",
      "\u001b[0m/bin/bash: /opt/conda/lib/libtinfo.so.6: no version information available (required by /bin/bash)\r\n",
      "\u001b[33mWARNING: Running pip as the 'root' user can result in broken permissions and conflicting behaviour with the system package manager. It is recommended to use a virtual environment instead: https://pip.pypa.io/warnings/venv\u001b[0m\u001b[33m\r\n",
      "\u001b[0m\u001b[33mWARNING: There was an error checking the latest version of pip.\u001b[0m\u001b[33m\r\n",
      "\u001b[0m"
     ]
    }
   ],
   "source": [
    "!pip install -q /kaggle/input/rsna-bcd-whl-ds/python_gdcm-3.0.20-cp37-cp37m-manylinux_2_17_x86_64.manylinux2014_x86_64.whl\n",
    "!pip install -q /kaggle/input/rsna-bcd-whl-ds/pylibjpeg-1.4.0-py3-none-any.whl\n",
    "!pip install -q /kaggle/input/rsna-bcd-whl-ds/dicomsdl-0.109.1-cp37-cp37m-manylinux_2_12_x86_64.manylinux2010_x86_64.whl"
   ]
  },
  {
   "cell_type": "code",
   "execution_count": 4,
   "id": "85e782c4",
   "metadata": {
    "execution": {
     "iopub.execute_input": "2023-02-15T20:34:00.691473Z",
     "iopub.status.busy": "2023-02-15T20:34:00.689878Z",
     "iopub.status.idle": "2023-02-15T20:34:05.371112Z",
     "shell.execute_reply": "2023-02-15T20:34:05.370037Z"
    },
    "papermill": {
     "duration": 4.694363,
     "end_time": "2023-02-15T20:34:05.373704",
     "exception": false,
     "start_time": "2023-02-15T20:34:00.679341",
     "status": "completed"
    },
    "tags": []
   },
   "outputs": [],
   "source": [
    "import pandas as pd\n",
    "import numpy as np\n",
    "from glob import glob\n",
    "from collections import defaultdict\n",
    "from tqdm import tqdm\n",
    "import time\n",
    "import os \n",
    "import copy\n",
    "import gc\n",
    "\n",
    "# visualization\n",
    "import cv2\n",
    "import matplotlib.pyplot as plt\n",
    "\n",
    "# Sklearn\n",
    "from sklearn.model_selection import StratifiedKFold, KFold, StratifiedGroupKFold,GroupKFold \n",
    "from multiprocessing import cpu_count\n",
    "# PyTorch \n",
    "import torch\n",
    "import torch.nn as nn\n",
    "import torch.optim as optim\n",
    "from torch.optim import lr_scheduler\n",
    "from torch.utils.data import Dataset, DataLoader\n",
    "from torch.cuda import amp\n",
    "from torchvision.ops import sigmoid_focal_loss\n",
    "\n",
    "import timm\n",
    "\n",
    "# Albumentations for augmentations\n",
    "import albumentations as A\n",
    "from albumentations.pytorch import ToTensorV2\n",
    "\n",
    "# Metrics \n",
    "from sklearn.metrics import roc_auc_score\n",
    "\n",
    "# For colored terminal text\n",
    "from colorama import Fore, Back, Style\n",
    "c_  = Fore.GREEN\n",
    "sr_ = Style.RESET_ALL\n",
    "\n",
    "import warnings\n",
    "warnings.filterwarnings('ignore')"
   ]
  },
  {
   "cell_type": "markdown",
   "id": "25c0f296",
   "metadata": {
    "papermill": {
     "duration": 0.009396,
     "end_time": "2023-02-15T20:34:05.392635",
     "exception": false,
     "start_time": "2023-02-15T20:34:05.383239",
     "status": "completed"
    },
    "tags": []
   },
   "source": [
    "# ⚙️ Configuration"
   ]
  },
  {
   "cell_type": "code",
   "execution_count": 5,
   "id": "d4467281",
   "metadata": {
    "execution": {
     "iopub.execute_input": "2023-02-15T20:34:05.412253Z",
     "iopub.status.busy": "2023-02-15T20:34:05.411951Z",
     "iopub.status.idle": "2023-02-15T20:34:05.418873Z",
     "shell.execute_reply": "2023-02-15T20:34:05.417836Z"
    },
    "papermill": {
     "duration": 0.019242,
     "end_time": "2023-02-15T20:34:05.420978",
     "exception": false,
     "start_time": "2023-02-15T20:34:05.401736",
     "status": "completed"
    },
    "tags": []
   },
   "outputs": [],
   "source": [
    "class CFG:\n",
    "    seed          = 2307\n",
    "    debug         = False # set debug=False for Full Training\n",
    "    comment       = \"\"\n",
    "    folds         = 5\n",
    "    backbone      = \"convnextv2_base\"\n",
    "    train_bs      = 1\n",
    "    valid_bs      = 2\n",
    "    epochs        = 25\n",
    "    lr            = 1.2e-5\n",
    "    scheduler     = 'CosineAnnealingLR'\n",
    "    min_lr        = 1e-6\n",
    "    T_max         = int(30000/train_bs*epochs)+50\n",
    "    T_0           = 25\n",
    "    warmup_epochs = 1\n",
    "    wd            = 1e-6\n",
    "    img_size      = (960,1536)\n",
    "    n_accumulate  = 1#max(1, 32//train_bs)\n",
    "    device        = torch.device(\"cuda:0\" if torch.cuda.is_available() else \"cpu\")\n",
    "    resize_dim = 1024\n",
    "    aspect_ratio = True\n",
    "    thr          = 0.65\n",
    "# Dimensions of processed images\n",
    "TARGET_HEIGHT = 1536\n",
    "TARGET_WIDTH = 960\n",
    "N_CHANNELS = 1\n",
    "TARGET_HEIGHT_WIDTH_RATIO = TARGET_HEIGHT / TARGET_WIDTH"
   ]
  },
  {
   "cell_type": "code",
   "execution_count": 6,
   "id": "5e862827",
   "metadata": {
    "execution": {
     "iopub.execute_input": "2023-02-15T20:34:05.443138Z",
     "iopub.status.busy": "2023-02-15T20:34:05.442863Z",
     "iopub.status.idle": "2023-02-15T20:34:05.451660Z",
     "shell.execute_reply": "2023-02-15T20:34:05.450620Z"
    },
    "papermill": {
     "duration": 0.024021,
     "end_time": "2023-02-15T20:34:05.454027",
     "exception": false,
     "start_time": "2023-02-15T20:34:05.430006",
     "status": "completed"
    },
    "tags": []
   },
   "outputs": [
    {
     "name": "stdout",
     "output_type": "stream",
     "text": [
      "> SEEDING DONE\n"
     ]
    }
   ],
   "source": [
    "def set_seed(seed = 42):\n",
    "    np.random.seed(seed)\n",
    "    #random.seed(seed)\n",
    "    torch.manual_seed(seed)\n",
    "    torch.cuda.manual_seed(seed)\n",
    "    # When running on the CuDNN backend, two further options must be set\n",
    "    torch.backends.cudnn.deterministic = True\n",
    "    torch.backends.cudnn.benchmark = False\n",
    "    # Set a fixed value for the hash seed\n",
    "    os.environ['PYTHONHASHSEED'] = str(seed)\n",
    "    print('> SEEDING DONE')\n",
    "    \n",
    "set_seed(CFG.seed)"
   ]
  },
  {
   "cell_type": "code",
   "execution_count": 7,
   "id": "833d94b8",
   "metadata": {
    "execution": {
     "iopub.execute_input": "2023-02-15T20:34:05.472921Z",
     "iopub.status.busy": "2023-02-15T20:34:05.472657Z",
     "iopub.status.idle": "2023-02-15T20:34:05.476909Z",
     "shell.execute_reply": "2023-02-15T20:34:05.475842Z"
    },
    "papermill": {
     "duration": 0.016151,
     "end_time": "2023-02-15T20:34:05.479133",
     "exception": false,
     "start_time": "2023-02-15T20:34:05.462982",
     "status": "completed"
    },
    "tags": []
   },
   "outputs": [],
   "source": [
    "Data_dir = \"/kaggle/input/rsna-breast-cancer-detection/test_images/*\""
   ]
  },
  {
   "cell_type": "markdown",
   "id": "db8912da",
   "metadata": {
    "papermill": {
     "duration": 0.008777,
     "end_time": "2023-02-15T20:34:05.496894",
     "exception": false,
     "start_time": "2023-02-15T20:34:05.488117",
     "status": "completed"
    },
    "tags": []
   },
   "source": [
    "# ❗ Data"
   ]
  },
  {
   "cell_type": "code",
   "execution_count": 8,
   "id": "5e51d9a5",
   "metadata": {
    "execution": {
     "iopub.execute_input": "2023-02-15T20:34:05.515803Z",
     "iopub.status.busy": "2023-02-15T20:34:05.515547Z",
     "iopub.status.idle": "2023-02-15T20:34:05.542221Z",
     "shell.execute_reply": "2023-02-15T20:34:05.541283Z"
    },
    "papermill": {
     "duration": 0.038454,
     "end_time": "2023-02-15T20:34:05.544288",
     "exception": false,
     "start_time": "2023-02-15T20:34:05.505834",
     "status": "completed"
    },
    "tags": []
   },
   "outputs": [
    {
     "data": {
      "text/html": [
       "<div>\n",
       "<style scoped>\n",
       "    .dataframe tbody tr th:only-of-type {\n",
       "        vertical-align: middle;\n",
       "    }\n",
       "\n",
       "    .dataframe tbody tr th {\n",
       "        vertical-align: top;\n",
       "    }\n",
       "\n",
       "    .dataframe thead th {\n",
       "        text-align: right;\n",
       "    }\n",
       "</style>\n",
       "<table border=\"1\" class=\"dataframe\">\n",
       "  <thead>\n",
       "    <tr style=\"text-align: right;\">\n",
       "      <th></th>\n",
       "      <th>site_id</th>\n",
       "      <th>patient_id</th>\n",
       "      <th>image_id</th>\n",
       "      <th>laterality</th>\n",
       "      <th>view</th>\n",
       "      <th>age</th>\n",
       "      <th>implant</th>\n",
       "      <th>machine_id</th>\n",
       "      <th>prediction_id</th>\n",
       "    </tr>\n",
       "  </thead>\n",
       "  <tbody>\n",
       "    <tr>\n",
       "      <th>0</th>\n",
       "      <td>2</td>\n",
       "      <td>10008</td>\n",
       "      <td>736471439</td>\n",
       "      <td>L</td>\n",
       "      <td>MLO</td>\n",
       "      <td>81</td>\n",
       "      <td>0</td>\n",
       "      <td>21</td>\n",
       "      <td>10008_L</td>\n",
       "    </tr>\n",
       "    <tr>\n",
       "      <th>1</th>\n",
       "      <td>2</td>\n",
       "      <td>10008</td>\n",
       "      <td>1591370361</td>\n",
       "      <td>L</td>\n",
       "      <td>CC</td>\n",
       "      <td>81</td>\n",
       "      <td>0</td>\n",
       "      <td>21</td>\n",
       "      <td>10008_L</td>\n",
       "    </tr>\n",
       "    <tr>\n",
       "      <th>2</th>\n",
       "      <td>2</td>\n",
       "      <td>10008</td>\n",
       "      <td>68070693</td>\n",
       "      <td>R</td>\n",
       "      <td>MLO</td>\n",
       "      <td>81</td>\n",
       "      <td>0</td>\n",
       "      <td>21</td>\n",
       "      <td>10008_R</td>\n",
       "    </tr>\n",
       "    <tr>\n",
       "      <th>3</th>\n",
       "      <td>2</td>\n",
       "      <td>10008</td>\n",
       "      <td>361203119</td>\n",
       "      <td>R</td>\n",
       "      <td>CC</td>\n",
       "      <td>81</td>\n",
       "      <td>0</td>\n",
       "      <td>21</td>\n",
       "      <td>10008_R</td>\n",
       "    </tr>\n",
       "  </tbody>\n",
       "</table>\n",
       "</div>"
      ],
      "text/plain": [
       "   site_id  patient_id    image_id laterality view  age  implant  machine_id  \\\n",
       "0        2       10008   736471439          L  MLO   81        0          21   \n",
       "1        2       10008  1591370361          L   CC   81        0          21   \n",
       "2        2       10008    68070693          R  MLO   81        0          21   \n",
       "3        2       10008   361203119          R   CC   81        0          21   \n",
       "\n",
       "  prediction_id  \n",
       "0       10008_L  \n",
       "1       10008_L  \n",
       "2       10008_R  \n",
       "3       10008_R  "
      ]
     },
     "execution_count": 8,
     "metadata": {},
     "output_type": "execute_result"
    }
   ],
   "source": [
    "df = pd.read_csv(\"/kaggle/input/rsna-breast-cancer-detection/test.csv\")\n",
    "df"
   ]
  },
  {
   "cell_type": "code",
   "execution_count": null,
   "id": "ada59000",
   "metadata": {
    "papermill": {
     "duration": 0.009149,
     "end_time": "2023-02-15T20:34:05.562816",
     "exception": false,
     "start_time": "2023-02-15T20:34:05.553667",
     "status": "completed"
    },
    "tags": []
   },
   "outputs": [],
   "source": []
  },
  {
   "cell_type": "code",
   "execution_count": 9,
   "id": "4c1b3ada",
   "metadata": {
    "execution": {
     "iopub.execute_input": "2023-02-15T20:34:05.583780Z",
     "iopub.status.busy": "2023-02-15T20:34:05.582563Z",
     "iopub.status.idle": "2023-02-15T20:34:05.599561Z",
     "shell.execute_reply": "2023-02-15T20:34:05.598536Z"
    },
    "papermill": {
     "duration": 0.029306,
     "end_time": "2023-02-15T20:34:05.601610",
     "exception": false,
     "start_time": "2023-02-15T20:34:05.572304",
     "status": "completed"
    },
    "tags": []
   },
   "outputs": [
    {
     "data": {
      "text/html": [
       "<div>\n",
       "<style scoped>\n",
       "    .dataframe tbody tr th:only-of-type {\n",
       "        vertical-align: middle;\n",
       "    }\n",
       "\n",
       "    .dataframe tbody tr th {\n",
       "        vertical-align: top;\n",
       "    }\n",
       "\n",
       "    .dataframe thead th {\n",
       "        text-align: right;\n",
       "    }\n",
       "</style>\n",
       "<table border=\"1\" class=\"dataframe\">\n",
       "  <thead>\n",
       "    <tr style=\"text-align: right;\">\n",
       "      <th></th>\n",
       "      <th>site_id</th>\n",
       "      <th>patient_id</th>\n",
       "      <th>image_id</th>\n",
       "      <th>laterality</th>\n",
       "      <th>view</th>\n",
       "      <th>age</th>\n",
       "      <th>implant</th>\n",
       "      <th>machine_id</th>\n",
       "      <th>prediction_id</th>\n",
       "      <th>dicom_path</th>\n",
       "    </tr>\n",
       "  </thead>\n",
       "  <tbody>\n",
       "    <tr>\n",
       "      <th>0</th>\n",
       "      <td>2</td>\n",
       "      <td>10008</td>\n",
       "      <td>736471439</td>\n",
       "      <td>L</td>\n",
       "      <td>MLO</td>\n",
       "      <td>81</td>\n",
       "      <td>0</td>\n",
       "      <td>21</td>\n",
       "      <td>10008_L</td>\n",
       "      <td>/kaggle/input/rsna-breast-cancer-detection/tes...</td>\n",
       "    </tr>\n",
       "    <tr>\n",
       "      <th>1</th>\n",
       "      <td>2</td>\n",
       "      <td>10008</td>\n",
       "      <td>1591370361</td>\n",
       "      <td>L</td>\n",
       "      <td>CC</td>\n",
       "      <td>81</td>\n",
       "      <td>0</td>\n",
       "      <td>21</td>\n",
       "      <td>10008_L</td>\n",
       "      <td>/kaggle/input/rsna-breast-cancer-detection/tes...</td>\n",
       "    </tr>\n",
       "    <tr>\n",
       "      <th>2</th>\n",
       "      <td>2</td>\n",
       "      <td>10008</td>\n",
       "      <td>68070693</td>\n",
       "      <td>R</td>\n",
       "      <td>MLO</td>\n",
       "      <td>81</td>\n",
       "      <td>0</td>\n",
       "      <td>21</td>\n",
       "      <td>10008_R</td>\n",
       "      <td>/kaggle/input/rsna-breast-cancer-detection/tes...</td>\n",
       "    </tr>\n",
       "    <tr>\n",
       "      <th>3</th>\n",
       "      <td>2</td>\n",
       "      <td>10008</td>\n",
       "      <td>361203119</td>\n",
       "      <td>R</td>\n",
       "      <td>CC</td>\n",
       "      <td>81</td>\n",
       "      <td>0</td>\n",
       "      <td>21</td>\n",
       "      <td>10008_R</td>\n",
       "      <td>/kaggle/input/rsna-breast-cancer-detection/tes...</td>\n",
       "    </tr>\n",
       "  </tbody>\n",
       "</table>\n",
       "</div>"
      ],
      "text/plain": [
       "   site_id  patient_id    image_id laterality view  age  implant  machine_id  \\\n",
       "0        2       10008   736471439          L  MLO   81        0          21   \n",
       "1        2       10008  1591370361          L   CC   81        0          21   \n",
       "2        2       10008    68070693          R  MLO   81        0          21   \n",
       "3        2       10008   361203119          R   CC   81        0          21   \n",
       "\n",
       "  prediction_id                                         dicom_path  \n",
       "0       10008_L  /kaggle/input/rsna-breast-cancer-detection/tes...  \n",
       "1       10008_L  /kaggle/input/rsna-breast-cancer-detection/tes...  \n",
       "2       10008_R  /kaggle/input/rsna-breast-cancer-detection/tes...  \n",
       "3       10008_R  /kaggle/input/rsna-breast-cancer-detection/tes...  "
      ]
     },
     "execution_count": 9,
     "metadata": {},
     "output_type": "execute_result"
    }
   ],
   "source": [
    "df[\"dicom_path\"] = \"/kaggle/input/rsna-breast-cancer-detection/test_images/\" + df.patient_id.astype(str) + '/' + df.image_id.astype(str) + '.dcm'\n",
    "df"
   ]
  },
  {
   "cell_type": "code",
   "execution_count": 10,
   "id": "e76647c2",
   "metadata": {
    "execution": {
     "iopub.execute_input": "2023-02-15T20:34:05.623636Z",
     "iopub.status.busy": "2023-02-15T20:34:05.622840Z",
     "iopub.status.idle": "2023-02-15T20:34:06.607438Z",
     "shell.execute_reply": "2023-02-15T20:34:06.606334Z"
    },
    "papermill": {
     "duration": 0.997616,
     "end_time": "2023-02-15T20:34:06.609745",
     "exception": false,
     "start_time": "2023-02-15T20:34:05.612129",
     "status": "completed"
    },
    "tags": []
   },
   "outputs": [
    {
     "name": "stdout",
     "output_type": "stream",
     "text": [
      "/bin/bash: /opt/conda/lib/libtinfo.so.6: no version information available (required by /bin/bash)\r\n",
      "rm: cannot remove '/tmp/Dataset/rsna-bcd': No such file or directory\r\n"
     ]
    }
   ],
   "source": [
    "!rm -r /tmp/Dataset/rsna-bcd\n",
    "os.makedirs('/tmp/dataset/rsna-bcd/test_images', exist_ok = True)"
   ]
  },
  {
   "cell_type": "code",
   "execution_count": 11,
   "id": "813d0532",
   "metadata": {
    "execution": {
     "iopub.execute_input": "2023-02-15T20:34:06.631267Z",
     "iopub.status.busy": "2023-02-15T20:34:06.630963Z",
     "iopub.status.idle": "2023-02-15T20:34:06.677346Z",
     "shell.execute_reply": "2023-02-15T20:34:06.676503Z"
    },
    "papermill": {
     "duration": 0.059961,
     "end_time": "2023-02-15T20:34:06.679561",
     "exception": false,
     "start_time": "2023-02-15T20:34:06.619600",
     "status": "completed"
    },
    "tags": []
   },
   "outputs": [],
   "source": [
    "import cv2\n",
    "import dicomsdl\n",
    "def voi_lut(image, dicom):\n",
    "    # Load only the variables we need\n",
    "    center = dicom['WindowCenter']\n",
    "    width = dicom['WindowWidth']\n",
    "    bits_stored = dicom['BitsStored']\n",
    "    voi_lut_function = dicom['VOILUTFunction']\n",
    "\n",
    "    # For sigmoid it's a list, otherwise a single value\n",
    "    if isinstance(center, list):\n",
    "        center = center[0]\n",
    "    if isinstance(width, list):\n",
    "        width = width[0]\n",
    "\n",
    "    # Set y_min, max & range\n",
    "    y_min = 0\n",
    "    y_max = float(2**bits_stored - 1)\n",
    "    y_range = y_max\n",
    "\n",
    "    # Function with default LINEAR (so for Nan, it will use linear)\n",
    "    if voi_lut_function == 'SIGMOID':\n",
    "        image = y_range / (1 + np.exp(-4 * (image - center) / width)) + y_min\n",
    "    else:\n",
    "        # Checks width for < 1 (in our case not necessary, always >= 750)\n",
    "        center -= 0.5\n",
    "        width -= 1\n",
    "\n",
    "        below = image <= (center - width / 2)\n",
    "        above = image > (center + width / 2)\n",
    "        between = np.logical_and(~below, ~above)\n",
    "\n",
    "        image[below] = y_min\n",
    "        image[above] = y_max\n",
    "        if between.any():\n",
    "            image[between] = (\n",
    "                ((image[between] - center) / width + 0.5) * y_range + y_min\n",
    "            )\n",
    "\n",
    "    # Normalize to have 0 as background, some images are reversed where 0 is max intensity\n",
    "\n",
    "\n",
    "    return image\n",
    "\n",
    "def smooth(l):\n",
    "    # kernel size is 1% of vector\n",
    "    kernel_size = int(len(l) * 0.01)\n",
    "    kernel = np.ones(kernel_size) / kernel_size\n",
    "    return np.convolve(l, kernel, mode='same')\n",
    "\n",
    "# X Crop offset based on first column with sum below 5% of maximum column sums*std\n",
    "def get_x_offset(image, max_col_sum_ratio_threshold=0.05, debug=None):\n",
    "    # Image Dimensions\n",
    "    H, W = image.shape\n",
    "    # Percentual margin added to offset\n",
    "    margin = int(image.shape[1] * 0.00)\n",
    "    # Threshold values based on smoothed sum x std to capture varying intensity columns\n",
    "    vv = smooth(image.sum(axis=0).squeeze()) * smooth(image.std(axis=0).squeeze())\n",
    "    # Find maximum sum in first 75% of columns\n",
    "    vv_argmax = vv[:int(image.shape[1] * 0.75)].argmax()\n",
    "    # Threshold value\n",
    "    vv_threshold = vv.max() * max_col_sum_ratio_threshold\n",
    "    \n",
    "    # Find first column after maximum column below threshold value\n",
    "    for offset, v in enumerate(vv):\n",
    "        # Start searching from vv_argmax\n",
    "        if offset < vv_argmax:\n",
    "            continue\n",
    "        \n",
    "        # Column below threshold value found\n",
    "        if v < vv_threshold:\n",
    "            offset = min(W, offset + margin)\n",
    "            break\n",
    "            \n",
    "    if isinstance(debug, np.ndarray):\n",
    "        debug[1].imshow(image)\n",
    "        debug[1].set_title('X Offset')\n",
    "        vv_scale = H / vv.max() * 0.90\n",
    "        # Values\n",
    "        debug[1].plot(H - vv * vv_scale , c='red', label='vv')\n",
    "        # Threshold\n",
    "        debug[1].hlines(H - vv_threshold * vv_scale, 0, W -1, colors='orange', label='threshold')\n",
    "        # Max Value\n",
    "        debug[1].scatter(vv_argmax, H - vv[vv_argmax] * vv_scale, c='blue', s=100, label='Max', zorder=np.PINF)\n",
    "        # First Column Below Threshold\n",
    "        debug[1].scatter(offset, H - vv[offset] * vv_scale, c='purple', s=100, label='Offset', zorder=np.PINF)\n",
    "        debug[1].set_ylim(H, 0)\n",
    "        debug[1].legend()\n",
    "        debug[1].axis('off')\n",
    "        \n",
    "    return offset\n",
    "\n",
    "# Y Crop offset based on first bottom and top rows with sum below 10% of maximum row sum*std\n",
    "def get_y_offsets(image, max_row_sum_ratio_threshold=0.10, debug=None):\n",
    "    # Image Dimensions\n",
    "    H, W = image.shape\n",
    "    # Margin to add to offsets\n",
    "    margin = 0\n",
    "    # Threshold values based on smoothed sum x std to capture varying intensity columns\n",
    "    vv = smooth(image.sum(axis=1).squeeze()) * smooth(image.std(axis=1).squeeze())\n",
    "    # Find maximum sum * std row in inter quartile rows\n",
    "    vv_argmax = int(image.shape[0] * 0.25) + vv[int(image.shape[0] * 0.25):int(image.shape[0] * 0.75)].argmax()\n",
    "    # Threshold value\n",
    "    vv_threshold = vv.max() * max_row_sum_ratio_threshold\n",
    "    # Default crop offsets\n",
    "    offset_bottom = 0\n",
    "    offset_top = H\n",
    "\n",
    "    # Bottom offset, search from argmax to bottom\n",
    "    for offset in reversed(range(0, vv_argmax)):\n",
    "        v = vv[offset]\n",
    "        if v < vv_threshold:\n",
    "            offset_bottom = offset\n",
    "            break\n",
    "    \n",
    "    if isinstance(debug, np.ndarray):\n",
    "        debug[2].imshow(image)\n",
    "        debug[2].set_title('Y Bottom Offset')\n",
    "        vv_scale = W / vv.max() * 0.90\n",
    "        # Values\n",
    "        debug[2].plot(vv * vv_scale, np.arange(H), c='red', label='vv')\n",
    "        # Threshold\n",
    "        debug[2].vlines(vv_threshold * vv_scale, 0, H -1, colors='orange', label='threshold')\n",
    "        # Max Value\n",
    "        debug[2].scatter(vv[vv_argmax] * vv_scale, vv_argmax, c='blue', s=100, label='Max', zorder=np.PINF)\n",
    "        # First Column Below Threshold\n",
    "        debug[2].scatter(vv[offset_bottom] * vv_scale, offset_bottom, c='purple', s=100, label='Offset', zorder=np.PINF)\n",
    "        debug[2].set_ylim(H, 0)\n",
    "        debug[2].legend()\n",
    "        debug[2].axis('off')\n",
    "            \n",
    "    # Top offset, search from argmax to top\n",
    "    for offset in range(vv_argmax, H):\n",
    "        v = vv[offset]\n",
    "        if v < vv_threshold:\n",
    "            offset_top = offset\n",
    "            break\n",
    "            \n",
    "    if isinstance(debug, np.ndarray):\n",
    "        debug[3].imshow(image)\n",
    "        debug[3].set_title('Y Top Offset')\n",
    "        vv_scale = W / vv.max() * 0.90\n",
    "        # Values\n",
    "        debug[3].plot(vv * vv_scale, np.arange(H) , c='red', label='vv')\n",
    "        # Threshold\n",
    "        debug[3].vlines(vv_threshold * vv_scale, 0, H -1, colors='orange', label='threshold')\n",
    "        # Max Value\n",
    "        debug[3].scatter(vv[vv_argmax] * vv_scale, vv_argmax, c='blue', s=100, label='Max', zorder=np.PINF)\n",
    "        # First Column Below Threshold\n",
    "        debug[3].scatter(vv[offset_top] * vv_scale, offset_top, c='purple', s=100, label='Offset', zorder=np.PINF)\n",
    "        debug[2].set_ylim(H, 0)\n",
    "        debug[3].legend()\n",
    "        debug[3].axis('off')\n",
    "            \n",
    "    return max(0, offset_bottom - margin), min(image.shape[0], offset_top + margin)\n",
    "\n",
    "# Crop image and pad offsets to target image height/width ratio to preserve information\n",
    "def crop(image, size=None, debug=False):\n",
    "    # Image dimensions\n",
    "    H, W = image.shape\n",
    "    # Compute x/bottom/top offsets\n",
    "    x_offset = get_x_offset(image, debug=debug)\n",
    "    offset_bottom, offset_top = get_y_offsets(image[:,:x_offset], debug=debug)\n",
    "    # Crop Height and Width\n",
    "    h_crop = offset_top - offset_bottom\n",
    "    w_crop = x_offset\n",
    "    \n",
    "    # Pad crop offsets to target aspect ratio\n",
    "    if size is not None:\n",
    "        # Height too large, pad x offset\n",
    "        if (h_crop / w_crop) > TARGET_HEIGHT_WIDTH_RATIO:\n",
    "            x_offset += int(h_crop / TARGET_HEIGHT_WIDTH_RATIO - w_crop)\n",
    "        else:\n",
    "            # Height too small, pad bottom/top offsets\n",
    "            offset_bottom -= int(0.50 * (w_crop * TARGET_HEIGHT_WIDTH_RATIO - h_crop))\n",
    "            offset_bottom_correction = max(0, -offset_bottom)\n",
    "            offset_bottom += offset_bottom_correction\n",
    "\n",
    "            offset_top += int(0.50 * (w_crop * TARGET_HEIGHT_WIDTH_RATIO - h_crop))\n",
    "            offset_top += offset_bottom_correction\n",
    "        \n",
    "    # Crop Image\n",
    "    image = image[offset_bottom:offset_top:,:x_offset]\n",
    "        \n",
    "    return image\n",
    "\n",
    "def process(file_path, size=None, dicom_process=True, ret_target=False, crop_image=False,  debug=False):\n",
    "    # Read Dicom File\n",
    "    dicom = dicomsdl.open(file_path)\n",
    "    image = dicom.pixelData()\n",
    "    \n",
    "    # Save original image for debug purposes\n",
    "    if debug:\n",
    "        fig, axes = plt.subplots(1, 5, figsize=(20,10))\n",
    "        image0 = np.copy(image)\n",
    "        axes[0].imshow(image0)\n",
    "        axes[0].set_title('Original Image')\n",
    "        axes[0].axis('off')\n",
    "    else:\n",
    "        axes = False\n",
    "        \n",
    "    try:\n",
    "        image = voi_lut(image, dicom)\n",
    "    except:\n",
    "        pass\n",
    "    \n",
    "    if dicom['PhotometricInterpretation'] == 'MONOCHROME1':\n",
    "        image = np.max(image) - image\n",
    "    # Normalize [0,1] range\n",
    "    image = (image - image.min()) / (image.max() - image.min())\n",
    "\n",
    "    # Convert to uint8 image in range [0, 255]\n",
    "    image = (image * 255).astype(np.uint8)\n",
    "    \n",
    "    # Normalize to left/right orientation by flipping right/left oriented images\n",
    "    h0, w0 = image.shape\n",
    "    if image[:,int(-w0 * 0.10):].sum() > image[:,:int(w0 * 0.10)].sum():\n",
    "        image = np.flip(image, axis=1)\n",
    "    \n",
    "    if crop_image:\n",
    "        image = crop(image, size=size, debug=axes)\n",
    "    \n",
    "    # Resize\n",
    "    if size is not None:\n",
    "        # Pad black pixels to get correct image ratios\n",
    "        h, w = image.shape\n",
    "        if (h / w) > TARGET_HEIGHT_WIDTH_RATIO:\n",
    "            pad = int(h / TARGET_HEIGHT_WIDTH_RATIO - w)\n",
    "            image = np.pad(image, [[0,0], [0, pad]])\n",
    "            h, w = image.shape\n",
    "        else:\n",
    "            pad = int(0.50 * (w * TARGET_HEIGHT_WIDTH_RATIO - h))\n",
    "            image = np.pad(image, [[pad, pad], [0,0]])\n",
    "            h, w = image.shape\n",
    "        # Resize\n",
    "        image = cv2.resize(image, size, interpolation=cv2.INTER_AREA)\n",
    "        \n",
    "\n",
    "\n",
    "        \n",
    "    if debug:\n",
    "        axes[4].imshow(image)\n",
    "        axes[4].set_title('Processed Image')\n",
    "        axes[4].axis('off')\n",
    "        plt.show()\n",
    "\n",
    "    # Return Cancer Target\n",
    "  \n",
    "    patient_id = int(file_path.split('/')[-2])\n",
    "    image_id = int(file_path.split('/')[-1].split('.')[0])\n",
    "\n",
    "    target = f\"{IMG_DIR}/test_images/{patient_id}/{image_id}.png\"\n",
    "    os.makedirs(f\"{IMG_DIR}/test_images/{patient_id}/\", exist_ok=True)\n",
    "    cv2.imwrite(target, image)"
   ]
  },
  {
   "cell_type": "code",
   "execution_count": 12,
   "id": "1fe8bf62",
   "metadata": {
    "execution": {
     "iopub.execute_input": "2023-02-15T20:34:06.700018Z",
     "iopub.status.busy": "2023-02-15T20:34:06.699734Z",
     "iopub.status.idle": "2023-02-15T20:34:09.242042Z",
     "shell.execute_reply": "2023-02-15T20:34:09.240097Z"
    },
    "papermill": {
     "duration": 2.5551,
     "end_time": "2023-02-15T20:34:09.244339",
     "exception": false,
     "start_time": "2023-02-15T20:34:06.689239",
     "status": "completed"
    },
    "tags": []
   },
   "outputs": [
    {
     "name": "stderr",
     "output_type": "stream",
     "text": [
      "100%|██████████| 4/4 [00:01<00:00,  3.14it/s]\n"
     ]
    },
    {
     "name": "stdout",
     "output_type": "stream",
     "text": [
      "CPU times: user 184 ms, sys: 51.3 ms, total: 236 ms\n",
      "Wall time: 2.54 s\n"
     ]
    }
   ],
   "source": [
    "%%time\n",
    "from joblib import Parallel, delayed\n",
    "IMG_DIR = '/tmp/dataset/rsna-bcd'\n",
    "file_paths = df.dicom_path.tolist()\n",
    "imgsize = Parallel( n_jobs=cpu_count(),\n",
    "    backend='multiprocessing',\n",
    "    prefer='threads')(delayed(process)(file_path,crop_image=True,size=(TARGET_WIDTH, TARGET_HEIGHT))\\\n",
    "                                             for file_path in tqdm(file_paths, leave=True, position=0))"
   ]
  },
  {
   "cell_type": "code",
   "execution_count": 13,
   "id": "4a522825",
   "metadata": {
    "execution": {
     "iopub.execute_input": "2023-02-15T20:34:09.266565Z",
     "iopub.status.busy": "2023-02-15T20:34:09.265671Z",
     "iopub.status.idle": "2023-02-15T20:34:10.325939Z",
     "shell.execute_reply": "2023-02-15T20:34:10.324674Z"
    },
    "papermill": {
     "duration": 1.07362,
     "end_time": "2023-02-15T20:34:10.328285",
     "exception": false,
     "start_time": "2023-02-15T20:34:09.254665",
     "status": "completed"
    },
    "tags": []
   },
   "outputs": [
    {
     "name": "stdout",
     "output_type": "stream",
     "text": [
      "/bin/bash: /opt/conda/lib/libtinfo.so.6: no version information available (required by /bin/bash)\r\n",
      "1591370361.png\t361203119.png  68070693.png  736471439.png\r\n"
     ]
    }
   ],
   "source": [
    "!ls /tmp/dataset/rsna-bcd/test_images/10008"
   ]
  },
  {
   "cell_type": "code",
   "execution_count": 14,
   "id": "14095542",
   "metadata": {
    "execution": {
     "iopub.execute_input": "2023-02-15T20:34:10.353867Z",
     "iopub.status.busy": "2023-02-15T20:34:10.353536Z",
     "iopub.status.idle": "2023-02-15T20:34:10.372310Z",
     "shell.execute_reply": "2023-02-15T20:34:10.371459Z"
    },
    "papermill": {
     "duration": 0.03198,
     "end_time": "2023-02-15T20:34:10.374434",
     "exception": false,
     "start_time": "2023-02-15T20:34:10.342454",
     "status": "completed"
    },
    "tags": []
   },
   "outputs": [
    {
     "data": {
      "text/html": [
       "<div>\n",
       "<style scoped>\n",
       "    .dataframe tbody tr th:only-of-type {\n",
       "        vertical-align: middle;\n",
       "    }\n",
       "\n",
       "    .dataframe tbody tr th {\n",
       "        vertical-align: top;\n",
       "    }\n",
       "\n",
       "    .dataframe thead th {\n",
       "        text-align: right;\n",
       "    }\n",
       "</style>\n",
       "<table border=\"1\" class=\"dataframe\">\n",
       "  <thead>\n",
       "    <tr style=\"text-align: right;\">\n",
       "      <th></th>\n",
       "      <th>site_id</th>\n",
       "      <th>patient_id</th>\n",
       "      <th>image_id</th>\n",
       "      <th>laterality</th>\n",
       "      <th>view</th>\n",
       "      <th>age</th>\n",
       "      <th>implant</th>\n",
       "      <th>machine_id</th>\n",
       "      <th>prediction_id</th>\n",
       "      <th>dicom_path</th>\n",
       "      <th>path</th>\n",
       "    </tr>\n",
       "  </thead>\n",
       "  <tbody>\n",
       "    <tr>\n",
       "      <th>0</th>\n",
       "      <td>2</td>\n",
       "      <td>10008</td>\n",
       "      <td>736471439</td>\n",
       "      <td>L</td>\n",
       "      <td>MLO</td>\n",
       "      <td>81</td>\n",
       "      <td>0</td>\n",
       "      <td>21</td>\n",
       "      <td>10008_L</td>\n",
       "      <td>/kaggle/input/rsna-breast-cancer-detection/tes...</td>\n",
       "      <td>/tmp/dataset/rsna-bcd/test_images/10008/736471...</td>\n",
       "    </tr>\n",
       "    <tr>\n",
       "      <th>1</th>\n",
       "      <td>2</td>\n",
       "      <td>10008</td>\n",
       "      <td>1591370361</td>\n",
       "      <td>L</td>\n",
       "      <td>CC</td>\n",
       "      <td>81</td>\n",
       "      <td>0</td>\n",
       "      <td>21</td>\n",
       "      <td>10008_L</td>\n",
       "      <td>/kaggle/input/rsna-breast-cancer-detection/tes...</td>\n",
       "      <td>/tmp/dataset/rsna-bcd/test_images/10008/159137...</td>\n",
       "    </tr>\n",
       "    <tr>\n",
       "      <th>2</th>\n",
       "      <td>2</td>\n",
       "      <td>10008</td>\n",
       "      <td>68070693</td>\n",
       "      <td>R</td>\n",
       "      <td>MLO</td>\n",
       "      <td>81</td>\n",
       "      <td>0</td>\n",
       "      <td>21</td>\n",
       "      <td>10008_R</td>\n",
       "      <td>/kaggle/input/rsna-breast-cancer-detection/tes...</td>\n",
       "      <td>/tmp/dataset/rsna-bcd/test_images/10008/680706...</td>\n",
       "    </tr>\n",
       "    <tr>\n",
       "      <th>3</th>\n",
       "      <td>2</td>\n",
       "      <td>10008</td>\n",
       "      <td>361203119</td>\n",
       "      <td>R</td>\n",
       "      <td>CC</td>\n",
       "      <td>81</td>\n",
       "      <td>0</td>\n",
       "      <td>21</td>\n",
       "      <td>10008_R</td>\n",
       "      <td>/kaggle/input/rsna-breast-cancer-detection/tes...</td>\n",
       "      <td>/tmp/dataset/rsna-bcd/test_images/10008/361203...</td>\n",
       "    </tr>\n",
       "  </tbody>\n",
       "</table>\n",
       "</div>"
      ],
      "text/plain": [
       "   site_id  patient_id    image_id laterality view  age  implant  machine_id  \\\n",
       "0        2       10008   736471439          L  MLO   81        0          21   \n",
       "1        2       10008  1591370361          L   CC   81        0          21   \n",
       "2        2       10008    68070693          R  MLO   81        0          21   \n",
       "3        2       10008   361203119          R   CC   81        0          21   \n",
       "\n",
       "  prediction_id                                         dicom_path  \\\n",
       "0       10008_L  /kaggle/input/rsna-breast-cancer-detection/tes...   \n",
       "1       10008_L  /kaggle/input/rsna-breast-cancer-detection/tes...   \n",
       "2       10008_R  /kaggle/input/rsna-breast-cancer-detection/tes...   \n",
       "3       10008_R  /kaggle/input/rsna-breast-cancer-detection/tes...   \n",
       "\n",
       "                                                path  \n",
       "0  /tmp/dataset/rsna-bcd/test_images/10008/736471...  \n",
       "1  /tmp/dataset/rsna-bcd/test_images/10008/159137...  \n",
       "2  /tmp/dataset/rsna-bcd/test_images/10008/680706...  \n",
       "3  /tmp/dataset/rsna-bcd/test_images/10008/361203...  "
      ]
     },
     "execution_count": 14,
     "metadata": {},
     "output_type": "execute_result"
    }
   ],
   "source": [
    "df[\"path\"] = \"/tmp/dataset/rsna-bcd/test_images/\" + df.patient_id.astype(str) + '/' + df.image_id.astype(str) + '.png'\n",
    "df"
   ]
  },
  {
   "cell_type": "markdown",
   "id": "3fa31531",
   "metadata": {
    "papermill": {
     "duration": 0.01011,
     "end_time": "2023-02-15T20:34:10.394540",
     "exception": false,
     "start_time": "2023-02-15T20:34:10.384430",
     "status": "completed"
    },
    "tags": []
   },
   "source": [
    "# 🔨 Utility"
   ]
  },
  {
   "cell_type": "code",
   "execution_count": 15,
   "id": "7b335938",
   "metadata": {
    "execution": {
     "iopub.execute_input": "2023-02-15T20:34:10.415792Z",
     "iopub.status.busy": "2023-02-15T20:34:10.415515Z",
     "iopub.status.idle": "2023-02-15T20:34:10.423909Z",
     "shell.execute_reply": "2023-02-15T20:34:10.422950Z"
    },
    "papermill": {
     "duration": 0.021098,
     "end_time": "2023-02-15T20:34:10.425710",
     "exception": false,
     "start_time": "2023-02-15T20:34:10.404612",
     "status": "completed"
    },
    "tags": []
   },
   "outputs": [],
   "source": [
    "def load_img(path):\n",
    "\n",
    "    img = cv2.imread(path)\n",
    "    img = cv2.resize(img ,CFG.img_size)\n",
    "\n",
    "    #img = img.astype('uint8') #* 255 # original is uint16\n",
    "    #img/= 255.0\n",
    "    return img\n",
    "\n",
    "def show_img(img):\n",
    "    plt.imshow(img)\n",
    "    plt.axis('off')\n",
    "\n",
    "def display_batch(batch, size=2):\n",
    "    if isinstance(batch, list):\n",
    "        imgs, tars = batch\n",
    "    else:\n",
    "        imgs = batch\n",
    "        tars = None\n",
    "    imgs = np.transpose(imgs, (0, 2, 3, 1))\n",
    "    tars = tars.numpy().squeeze()\n",
    "    plt.figure(figsize=(size*8, 10))\n",
    "    for img_idx in range(size):\n",
    "        plt.subplot(1, size, img_idx+1)\n",
    "        if tars is not None:\n",
    "            plt.title(f'cancer: {tars[img_idx]:0.3f}', fontsize=10)\n",
    "        plt.imshow(imgs[img_idx,:, :, :])\n",
    "        plt.xticks([]); plt.yticks([])\n",
    "    plt.tight_layout()\n",
    "    plt.show()"
   ]
  },
  {
   "cell_type": "code",
   "execution_count": 16,
   "id": "35bcd793",
   "metadata": {
    "execution": {
     "iopub.execute_input": "2023-02-15T20:34:10.447588Z",
     "iopub.status.busy": "2023-02-15T20:34:10.446821Z",
     "iopub.status.idle": "2023-02-15T20:34:10.869627Z",
     "shell.execute_reply": "2023-02-15T20:34:10.868659Z"
    },
    "papermill": {
     "duration": 0.437213,
     "end_time": "2023-02-15T20:34:10.873094",
     "exception": false,
     "start_time": "2023-02-15T20:34:10.435881",
     "status": "completed"
    },
    "tags": []
   },
   "outputs": [
    {
     "data": {
      "image/png": "[encoded data removed]",
      "text/plain": [
       "<Figure size 640x480 with 1 Axes>"
      ]
     },
     "metadata": {},
     "output_type": "display_data"
    }
   ],
   "source": [
    "img = load_img(df.path[0:1].item())\n",
    "show_img(img)"
   ]
  },
  {
   "cell_type": "markdown",
   "id": "a81cc457",
   "metadata": {
    "papermill": {
     "duration": 0.011841,
     "end_time": "2023-02-15T20:34:10.897656",
     "exception": false,
     "start_time": "2023-02-15T20:34:10.885815",
     "status": "completed"
    },
    "tags": []
   },
   "source": [
    "# ❗ DataLoaders"
   ]
  },
  {
   "cell_type": "code",
   "execution_count": 17,
   "id": "8d5e4b5c",
   "metadata": {
    "execution": {
     "iopub.execute_input": "2023-02-15T20:34:10.921619Z",
     "iopub.status.busy": "2023-02-15T20:34:10.921269Z",
     "iopub.status.idle": "2023-02-15T20:34:10.927422Z",
     "shell.execute_reply": "2023-02-15T20:34:10.926409Z"
    },
    "papermill": {
     "duration": 0.020311,
     "end_time": "2023-02-15T20:34:10.929334",
     "exception": false,
     "start_time": "2023-02-15T20:34:10.909023",
     "status": "completed"
    },
    "tags": []
   },
   "outputs": [],
   "source": [
    "df[\"data_index\"] = df.patient_id.astype(str) + '_' +df.laterality"
   ]
  },
  {
   "cell_type": "code",
   "execution_count": 18,
   "id": "5f2c62d1",
   "metadata": {
    "execution": {
     "iopub.execute_input": "2023-02-15T20:34:10.953516Z",
     "iopub.status.busy": "2023-02-15T20:34:10.953194Z",
     "iopub.status.idle": "2023-02-15T20:34:10.961253Z",
     "shell.execute_reply": "2023-02-15T20:34:10.960228Z"
    },
    "papermill": {
     "duration": 0.022288,
     "end_time": "2023-02-15T20:34:10.963170",
     "exception": false,
     "start_time": "2023-02-15T20:34:10.940882",
     "status": "completed"
    },
    "tags": []
   },
   "outputs": [],
   "source": [
    "class RNSADataset(Dataset):\n",
    "    def __init__(self, df, label=True ,transforms = None):\n",
    "        self.df = df\n",
    "        self.transforms = transforms\n",
    "        self.patient_ids = df.data_index.unique().tolist()\n",
    "       \n",
    "        \n",
    "    def __len__(self):\n",
    "        return len(self.patient_ids)\n",
    "  \n",
    "    def __getitem__(self,index):\n",
    "        \n",
    "        pid = self.patient_ids[index]\n",
    "        data = self.df.query(\"data_index==@pid and view in ['CC','MLO']\")\n",
    "        bcc   = data.query(\"view == 'CC'\").sample(1).path.values[0]\n",
    "        mlo  = data.query(\"view == 'MLO'\").sample(1).path.values[0]\n",
    "\n",
    "        img =  np.hstack( (load_img(bcc) , load_img(mlo) ) )\n",
    "\n",
    "        if self.transforms:\n",
    "            result = self.transforms(image=img)\n",
    "            img = result[\"image\"]\n",
    "            \n",
    "        img = np.transpose(img, (2, 0, 1))\n",
    "    \n",
    "        return torch.tensor(img),  pid"
   ]
  },
  {
   "cell_type": "code",
   "execution_count": 19,
   "id": "19853e08",
   "metadata": {
    "execution": {
     "iopub.execute_input": "2023-02-15T20:34:10.988711Z",
     "iopub.status.busy": "2023-02-15T20:34:10.987953Z",
     "iopub.status.idle": "2023-02-15T20:34:10.995227Z",
     "shell.execute_reply": "2023-02-15T20:34:10.994184Z"
    },
    "papermill": {
     "duration": 0.022566,
     "end_time": "2023-02-15T20:34:10.997270",
     "exception": false,
     "start_time": "2023-02-15T20:34:10.974704",
     "status": "completed"
    },
    "tags": []
   },
   "outputs": [],
   "source": [
    "data_transforms = {\n",
    "    \"train\": A.Compose([A.Sharpen(),\n",
    "                       A.Flip(),\n",
    "                       A.ShiftScaleRotate(shift_limit = 0.2,scale_limit = 0.5,rotate_limit = 35),\n",
    "                        A.Cutout(num_holes = 10, max_h_size = 16,max_w_size = 16),\n",
    "                        A.ColorJitter(brightness=0.15, contrast=[0.8, 1.2], saturation=[0.7, 1.3], hue=0.05),\n",
    "                        A.Normalize()\n",
    "                       ], p=1.0),\n",
    "    \"valid\": A.Compose([A.Normalize()], p=1.0)\n",
    "}"
   ]
  },
  {
   "cell_type": "code",
   "execution_count": 20,
   "id": "1941978e",
   "metadata": {
    "execution": {
     "iopub.execute_input": "2023-02-15T20:34:11.021600Z",
     "iopub.status.busy": "2023-02-15T20:34:11.020844Z",
     "iopub.status.idle": "2023-02-15T20:34:11.026670Z",
     "shell.execute_reply": "2023-02-15T20:34:11.025839Z"
    },
    "papermill": {
     "duration": 0.019958,
     "end_time": "2023-02-15T20:34:11.028653",
     "exception": false,
     "start_time": "2023-02-15T20:34:11.008695",
     "status": "completed"
    },
    "tags": []
   },
   "outputs": [],
   "source": [
    "def prepare_loaders(df, debug=False):\n",
    "\n",
    "    \n",
    "\n",
    "    valid_dataset = RNSADataset(df, transforms=data_transforms['valid'])\n",
    "\n",
    "    valid_loader = DataLoader(valid_dataset, batch_size=CFG.valid_bs if not debug else 3, \n",
    "                              num_workers=4, shuffle=False, pin_memory=True)\n",
    "    \n",
    "    return valid_loader"
   ]
  },
  {
   "cell_type": "code",
   "execution_count": 21,
   "id": "8d5166a3",
   "metadata": {
    "execution": {
     "iopub.execute_input": "2023-02-15T20:34:11.052977Z",
     "iopub.status.busy": "2023-02-15T20:34:11.052143Z",
     "iopub.status.idle": "2023-02-15T20:34:13.698613Z",
     "shell.execute_reply": "2023-02-15T20:34:13.696649Z"
    },
    "papermill": {
     "duration": 2.660797,
     "end_time": "2023-02-15T20:34:13.700768",
     "exception": false,
     "start_time": "2023-02-15T20:34:11.039971",
     "status": "completed"
    },
    "tags": []
   },
   "outputs": [
    {
     "name": "stdout",
     "output_type": "stream",
     "text": [
      "torch.Size([2, 3, 1536, 1920]) ['10008_L', '10008_R']\n"
     ]
    }
   ],
   "source": [
    "valid_loader = prepare_loaders(df=df, debug=False)\n",
    "batch = next(iter(valid_loader))\n",
    "img ,label = batch\n",
    "print(img.size(),label)"
   ]
  },
  {
   "cell_type": "code",
   "execution_count": 22,
   "id": "5b748f48",
   "metadata": {
    "execution": {
     "iopub.execute_input": "2023-02-15T20:34:13.726335Z",
     "iopub.status.busy": "2023-02-15T20:34:13.725442Z",
     "iopub.status.idle": "2023-02-15T20:34:13.730040Z",
     "shell.execute_reply": "2023-02-15T20:34:13.729048Z"
    },
    "papermill": {
     "duration": 0.019179,
     "end_time": "2023-02-15T20:34:13.732000",
     "exception": false,
     "start_time": "2023-02-15T20:34:13.712821",
     "status": "completed"
    },
    "tags": []
   },
   "outputs": [],
   "source": [
    "#display_batch(batch, label.shape[0]);"
   ]
  },
  {
   "cell_type": "code",
   "execution_count": 23,
   "id": "39794ab4",
   "metadata": {
    "execution": {
     "iopub.execute_input": "2023-02-15T20:34:13.756584Z",
     "iopub.status.busy": "2023-02-15T20:34:13.755754Z",
     "iopub.status.idle": "2023-02-15T20:34:13.764055Z",
     "shell.execute_reply": "2023-02-15T20:34:13.763148Z"
    },
    "papermill": {
     "duration": 0.022737,
     "end_time": "2023-02-15T20:34:13.766112",
     "exception": false,
     "start_time": "2023-02-15T20:34:13.743375",
     "status": "completed"
    },
    "tags": []
   },
   "outputs": [],
   "source": [
    "import torch.nn.functional as F\n",
    "class GeneralizedMeanPooling(nn.Module):\n",
    "    \"\"\"Applies a 2D power-average adaptive pooling over an input signal composed of several input planes.\n",
    "    The function computed is: :math:`f(X) = pow(sum(pow(X, p)), 1/p)`\n",
    "        - At p = infinity, one gets Max Pooling\n",
    "        - At p = 1, one gets Average Pooling\n",
    "    The output is of size H x W, for any input size.\n",
    "    The number of output features is equal to the number of input planes.\n",
    "    Args:\n",
    "        output_size: the target output size of the image of the form H x W.\n",
    "                     Can be a tuple (H, W) or a single H for a square image H x H\n",
    "                     H and W can be either a ``int``, or ``None`` which means the size will\n",
    "                     be the same as that of the input.\n",
    "    \"\"\"\n",
    "\n",
    "    def __init__(self, norm, output_size=1, eps=1e-6):\n",
    "        super(GeneralizedMeanPooling, self).__init__()\n",
    "        assert norm > 0\n",
    "        self.p = float(norm)\n",
    "        self.output_size = output_size\n",
    "        self.eps = eps\n",
    "\n",
    "    def forward(self, x):\n",
    "        x = x.clamp(min=self.eps).pow(self.p)\n",
    "        return F.adaptive_avg_pool2d(x, self.output_size).pow(1. / self.p)\n",
    "\n",
    "    def __repr__(self):\n",
    "        return self.__class__.__name__ + '(' \\\n",
    "            + str(self.p) + ', ' \\\n",
    "            + 'output_size=' + str(self.output_size) + ')'"
   ]
  },
  {
   "cell_type": "code",
   "execution_count": 24,
   "id": "31771666",
   "metadata": {
    "execution": {
     "iopub.execute_input": "2023-02-15T20:34:13.790803Z",
     "iopub.status.busy": "2023-02-15T20:34:13.790017Z",
     "iopub.status.idle": "2023-02-15T20:34:13.798082Z",
     "shell.execute_reply": "2023-02-15T20:34:13.797229Z"
    },
    "papermill": {
     "duration": 0.02235,
     "end_time": "2023-02-15T20:34:13.800043",
     "exception": false,
     "start_time": "2023-02-15T20:34:13.777693",
     "status": "completed"
    },
    "tags": []
   },
   "outputs": [],
   "source": [
    "class RNSAModel(nn.Module):\n",
    "\n",
    "    def __init__(self, model_name=CFG.backbone, num_classes=2, pretrained=True):\n",
    "        super().__init__()\n",
    "        self.base = timm.create_model(model_name, pretrained=pretrained, num_classes=1)\n",
    "        self.out  = self.base.get_classifier().in_features\n",
    "        #self.base.reset_classifier(0)\n",
    "        self.pool = GeneralizedMeanPooling(3)\n",
    "        \n",
    "        self.althead = nn.Sequential(\n",
    "                       nn.Linear(self.out,512),\n",
    "                       nn.SELU(),\n",
    "                        nn.Linear(512,128),\n",
    "                       nn.SELU(),\n",
    "                        nn.Linear(128,64),\n",
    "                       nn.SELU(),\n",
    "                       nn.Linear(64,1)\n",
    "                    )\n",
    "\n",
    "\n",
    "    def forward(self, x):\n",
    "        x =  self.base.forward_features(x) \n",
    "        x = self.pool(x)\n",
    "        x = x.view(-1,self.out)\n",
    "        x = self.althead(x)\n",
    "        return x "
   ]
  },
  {
   "cell_type": "code",
   "execution_count": 25,
   "id": "31f7b7eb",
   "metadata": {
    "execution": {
     "iopub.execute_input": "2023-02-15T20:34:13.824582Z",
     "iopub.status.busy": "2023-02-15T20:34:13.823796Z",
     "iopub.status.idle": "2023-02-15T20:34:13.830310Z",
     "shell.execute_reply": "2023-02-15T20:34:13.829481Z"
    },
    "papermill": {
     "duration": 0.02091,
     "end_time": "2023-02-15T20:34:13.832288",
     "exception": false,
     "start_time": "2023-02-15T20:34:13.811378",
     "status": "completed"
    },
    "tags": []
   },
   "outputs": [],
   "source": [
    "def get_model(path):\n",
    "    model = RNSAModel(CFG.backbone ,pretrained = False).to(CFG.device)\n",
    "    try:\n",
    "        state_dict = torch.load(path,map_location=torch.device(CFG.device))[\"model\"]\n",
    "    except:\n",
    "        state_dict = torch.load(path,map_location=torch.device(CFG.device))\n",
    "    for key in list(state_dict.keys()):\n",
    "        state_dict[key.replace('module.', '')] = state_dict.pop(key)\n",
    "    model.load_state_dict(state_dict)\n",
    "    model.eval()\n",
    "    return model"
   ]
  },
  {
   "cell_type": "code",
   "execution_count": 26,
   "id": "733e48f6",
   "metadata": {
    "execution": {
     "iopub.execute_input": "2023-02-15T20:34:13.857662Z",
     "iopub.status.busy": "2023-02-15T20:34:13.856814Z",
     "iopub.status.idle": "2023-02-15T20:34:13.861036Z",
     "shell.execute_reply": "2023-02-15T20:34:13.859889Z"
    },
    "papermill": {
     "duration": 0.018648,
     "end_time": "2023-02-15T20:34:13.862984",
     "exception": false,
     "start_time": "2023-02-15T20:34:13.844336",
     "status": "completed"
    },
    "tags": []
   },
   "outputs": [],
   "source": [
    "#list(m.named_modules())[-8]"
   ]
  },
  {
   "cell_type": "markdown",
   "id": "e9184897",
   "metadata": {
    "papermill": {
     "duration": 0.011446,
     "end_time": "2023-02-15T20:34:13.885861",
     "exception": false,
     "start_time": "2023-02-15T20:34:13.874415",
     "status": "completed"
    },
    "tags": []
   },
   "source": [
    "# 🔧 Loss Function"
   ]
  },
  {
   "cell_type": "markdown",
   "id": "6ca345e2",
   "metadata": {
    "papermill": {
     "duration": 0.011186,
     "end_time": "2023-02-15T20:34:13.908534",
     "exception": false,
     "start_time": "2023-02-15T20:34:13.897348",
     "status": "completed"
    },
    "tags": []
   },
   "source": [
    "# 🚄 Training Function"
   ]
  },
  {
   "cell_type": "code",
   "execution_count": 27,
   "id": "d134fe13",
   "metadata": {
    "execution": {
     "iopub.execute_input": "2023-02-15T20:34:13.933580Z",
     "iopub.status.busy": "2023-02-15T20:34:13.932036Z",
     "iopub.status.idle": "2023-02-15T20:34:13.940164Z",
     "shell.execute_reply": "2023-02-15T20:34:13.939292Z"
    },
    "papermill": {
     "duration": 0.022295,
     "end_time": "2023-02-15T20:34:13.942182",
     "exception": false,
     "start_time": "2023-02-15T20:34:13.919887",
     "status": "completed"
    },
    "tags": []
   },
   "outputs": [],
   "source": [
    "@torch.no_grad()\n",
    "def run_test(models, dataloader):\n",
    "    pbar = tqdm(enumerate(dataloader), total=len(dataloader), desc='Valid ')\n",
    "    n_models = range(len(models))\n",
    "    preds = [[] for i in n_models] ; ids = []\n",
    "    for step, (images,labels) in pbar:         \n",
    "        images = images.to(CFG.device, dtype=torch.float)\n",
    "        \n",
    "        pred = [nn.Sigmoid()(model(images)).cpu().detach().numpy().reshape(-1) for model in models]\n",
    "        ids.extend(labels)\n",
    "        for i in n_models:\n",
    "            preds[i].extend(pred[i])\n",
    "    df_dict = {'prediction_id':ids}\n",
    "    df_dict.update({f'cancer{i}':preds[i] for i in n_models})\n",
    "    pred_df = pd.DataFrame(df_dict)\n",
    "    return pred_df"
   ]
  },
  {
   "cell_type": "code",
   "execution_count": 28,
   "id": "5ce5ead0",
   "metadata": {
    "execution": {
     "iopub.execute_input": "2023-02-15T20:34:13.966437Z",
     "iopub.status.busy": "2023-02-15T20:34:13.965706Z",
     "iopub.status.idle": "2023-02-15T20:34:19.275519Z",
     "shell.execute_reply": "2023-02-15T20:34:19.274506Z"
    },
    "papermill": {
     "duration": 5.324644,
     "end_time": "2023-02-15T20:34:19.278150",
     "exception": false,
     "start_time": "2023-02-15T20:34:13.953506",
     "status": "completed"
    },
    "tags": []
   },
   "outputs": [],
   "source": [
    "test_loader = prepare_loaders( df=df, debug = CFG.debug)\n",
    "l = [\"/kaggle/input/rnsabctpu/best_epoch-22-0.bin\"]\n",
    "models     = [get_model(i) for i in l]"
   ]
  },
  {
   "cell_type": "code",
   "execution_count": 29,
   "id": "7cbc27ff",
   "metadata": {
    "execution": {
     "iopub.execute_input": "2023-02-15T20:34:19.305986Z",
     "iopub.status.busy": "2023-02-15T20:34:19.305669Z",
     "iopub.status.idle": "2023-02-15T20:34:25.009197Z",
     "shell.execute_reply": "2023-02-15T20:34:25.007769Z"
    },
    "papermill": {
     "duration": 5.720777,
     "end_time": "2023-02-15T20:34:25.011541",
     "exception": false,
     "start_time": "2023-02-15T20:34:19.290764",
     "status": "completed"
    },
    "tags": []
   },
   "outputs": [
    {
     "name": "stderr",
     "output_type": "stream",
     "text": [
      "Valid : 100%|██████████| 1/1 [00:05<00:00,  5.59s/it]\n"
     ]
    }
   ],
   "source": [
    "\n",
    "\n",
    "\n",
    "preds = run_test(models, test_loader )\n",
    "\n"
   ]
  },
  {
   "cell_type": "code",
   "execution_count": 30,
   "id": "3b3c55df",
   "metadata": {
    "execution": {
     "iopub.execute_input": "2023-02-15T20:34:25.038745Z",
     "iopub.status.busy": "2023-02-15T20:34:25.038399Z",
     "iopub.status.idle": "2023-02-15T20:34:25.047263Z",
     "shell.execute_reply": "2023-02-15T20:34:25.046282Z"
    },
    "papermill": {
     "duration": 0.025293,
     "end_time": "2023-02-15T20:34:25.049631",
     "exception": false,
     "start_time": "2023-02-15T20:34:25.024338",
     "status": "completed"
    },
    "tags": []
   },
   "outputs": [],
   "source": [
    "preds[\"cancer\"] = preds.mean(axis=1)"
   ]
  },
  {
   "cell_type": "code",
   "execution_count": 31,
   "id": "2a7f7755",
   "metadata": {
    "execution": {
     "iopub.execute_input": "2023-02-15T20:34:25.076639Z",
     "iopub.status.busy": "2023-02-15T20:34:25.075028Z",
     "iopub.status.idle": "2023-02-15T20:34:25.086648Z",
     "shell.execute_reply": "2023-02-15T20:34:25.085507Z"
    },
    "papermill": {
     "duration": 0.026474,
     "end_time": "2023-02-15T20:34:25.088828",
     "exception": false,
     "start_time": "2023-02-15T20:34:25.062354",
     "status": "completed"
    },
    "tags": []
   },
   "outputs": [
    {
     "data": {
      "text/html": [
       "<div>\n",
       "<style scoped>\n",
       "    .dataframe tbody tr th:only-of-type {\n",
       "        vertical-align: middle;\n",
       "    }\n",
       "\n",
       "    .dataframe tbody tr th {\n",
       "        vertical-align: top;\n",
       "    }\n",
       "\n",
       "    .dataframe thead th {\n",
       "        text-align: right;\n",
       "    }\n",
       "</style>\n",
       "<table border=\"1\" class=\"dataframe\">\n",
       "  <thead>\n",
       "    <tr style=\"text-align: right;\">\n",
       "      <th></th>\n",
       "      <th>prediction_id</th>\n",
       "      <th>cancer0</th>\n",
       "      <th>cancer</th>\n",
       "    </tr>\n",
       "  </thead>\n",
       "  <tbody>\n",
       "    <tr>\n",
       "      <th>0</th>\n",
       "      <td>10008_L</td>\n",
       "      <td>0.070490</td>\n",
       "      <td>0.070490</td>\n",
       "    </tr>\n",
       "    <tr>\n",
       "      <th>1</th>\n",
       "      <td>10008_R</td>\n",
       "      <td>0.121813</td>\n",
       "      <td>0.121813</td>\n",
       "    </tr>\n",
       "  </tbody>\n",
       "</table>\n",
       "</div>"
      ],
      "text/plain": [
       "  prediction_id   cancer0    cancer\n",
       "0       10008_L  0.070490  0.070490\n",
       "1       10008_R  0.121813  0.121813"
      ]
     },
     "execution_count": 31,
     "metadata": {},
     "output_type": "execute_result"
    }
   ],
   "source": [
    "preds"
   ]
  },
  {
   "cell_type": "code",
   "execution_count": 32,
   "id": "01a7007d",
   "metadata": {
    "execution": {
     "iopub.execute_input": "2023-02-15T20:34:25.114627Z",
     "iopub.status.busy": "2023-02-15T20:34:25.113781Z",
     "iopub.status.idle": "2023-02-15T20:34:25.130175Z",
     "shell.execute_reply": "2023-02-15T20:34:25.129064Z"
    },
    "papermill": {
     "duration": 0.031137,
     "end_time": "2023-02-15T20:34:25.132283",
     "exception": false,
     "start_time": "2023-02-15T20:34:25.101146",
     "status": "completed"
    },
    "tags": []
   },
   "outputs": [
    {
     "data": {
      "text/html": [
       "<div>\n",
       "<style scoped>\n",
       "    .dataframe tbody tr th:only-of-type {\n",
       "        vertical-align: middle;\n",
       "    }\n",
       "\n",
       "    .dataframe tbody tr th {\n",
       "        vertical-align: top;\n",
       "    }\n",
       "\n",
       "    .dataframe thead th {\n",
       "        text-align: right;\n",
       "    }\n",
       "</style>\n",
       "<table border=\"1\" class=\"dataframe\">\n",
       "  <thead>\n",
       "    <tr style=\"text-align: right;\">\n",
       "      <th></th>\n",
       "      <th>prediction_id</th>\n",
       "      <th>cancer</th>\n",
       "    </tr>\n",
       "  </thead>\n",
       "  <tbody>\n",
       "    <tr>\n",
       "      <th>0</th>\n",
       "      <td>10008_L</td>\n",
       "      <td>0.0</td>\n",
       "    </tr>\n",
       "    <tr>\n",
       "      <th>1</th>\n",
       "      <td>10008_R</td>\n",
       "      <td>1.0</td>\n",
       "    </tr>\n",
       "  </tbody>\n",
       "</table>\n",
       "</div>"
      ],
      "text/plain": [
       "  prediction_id  cancer\n",
       "0       10008_L     0.0\n",
       "1       10008_R     1.0"
      ]
     },
     "execution_count": 32,
     "metadata": {},
     "output_type": "execute_result"
    }
   ],
   "source": [
    "sub_df = preds.groupby('prediction_id')['cancer'].max().reset_index()  # merge duplicate prediction_id\n",
    "thr = sub_df.cancer.quantile(1-0.0206)\n",
    "sub_df['cancer'] = (sub_df.cancer>thr).astype('float64') # thresholding\n",
    "sub_df"
   ]
  },
  {
   "cell_type": "code",
   "execution_count": 33,
   "id": "3d5c7f17",
   "metadata": {
    "execution": {
     "iopub.execute_input": "2023-02-15T20:34:25.158452Z",
     "iopub.status.busy": "2023-02-15T20:34:25.157714Z",
     "iopub.status.idle": "2023-02-15T20:34:25.164869Z",
     "shell.execute_reply": "2023-02-15T20:34:25.163991Z"
    },
    "papermill": {
     "duration": 0.022137,
     "end_time": "2023-02-15T20:34:25.167017",
     "exception": false,
     "start_time": "2023-02-15T20:34:25.144880",
     "status": "completed"
    },
    "tags": []
   },
   "outputs": [],
   "source": [
    "sub_df.to_csv('submission.csv',index=False)"
   ]
  },
  {
   "cell_type": "code",
   "execution_count": 34,
   "id": "1b577664",
   "metadata": {
    "execution": {
     "iopub.execute_input": "2023-02-15T20:34:25.192154Z",
     "iopub.status.busy": "2023-02-15T20:34:25.191282Z",
     "iopub.status.idle": "2023-02-15T20:34:25.203797Z",
     "shell.execute_reply": "2023-02-15T20:34:25.202844Z"
    },
    "papermill": {
     "duration": 0.026908,
     "end_time": "2023-02-15T20:34:25.205735",
     "exception": false,
     "start_time": "2023-02-15T20:34:25.178827",
     "status": "completed"
    },
    "tags": []
   },
   "outputs": [
    {
     "data": {
      "text/plain": [
       "prediction_id     object\n",
       "cancer           float64\n",
       "dtype: object"
      ]
     },
     "execution_count": 34,
     "metadata": {},
     "output_type": "execute_result"
    }
   ],
   "source": [
    "pd.read_csv(\"/kaggle/input/rsna-breast-cancer-detection/sample_submission.csv\").dtypes"
   ]
  },
  {
   "cell_type": "code",
   "execution_count": 35,
   "id": "249ffd39",
   "metadata": {
    "execution": {
     "iopub.execute_input": "2023-02-15T20:34:25.230966Z",
     "iopub.status.busy": "2023-02-15T20:34:25.230325Z",
     "iopub.status.idle": "2023-02-15T20:34:25.236758Z",
     "shell.execute_reply": "2023-02-15T20:34:25.235847Z"
    },
    "papermill": {
     "duration": 0.021255,
     "end_time": "2023-02-15T20:34:25.238807",
     "exception": false,
     "start_time": "2023-02-15T20:34:25.217552",
     "status": "completed"
    },
    "tags": []
   },
   "outputs": [
    {
     "data": {
      "text/plain": [
       "prediction_id     object\n",
       "cancer           float64\n",
       "dtype: object"
      ]
     },
     "execution_count": 35,
     "metadata": {},
     "output_type": "execute_result"
    }
   ],
   "source": [
    "sub_df.dtypes"
   ]
  },
  {
   "cell_type": "code",
   "execution_count": null,
   "id": "9057ec3f",
   "metadata": {
    "papermill": {
     "duration": 0.011764,
     "end_time": "2023-02-15T20:34:25.262288",
     "exception": false,
     "start_time": "2023-02-15T20:34:25.250524",
     "status": "completed"
    },
    "tags": []
   },
   "outputs": [],
   "source": []
  }
 ],
 "metadata": {
  "kernelspec": {
   "display_name": "Python 3",
   "language": "python",
   "name": "python3"
  },
  "language_info": {
   "codemirror_mode": {
    "name": "ipython",
    "version": 3
   },
   "file_extension": ".py",
   "mimetype": "text/x-python",
   "name": "python",
   "nbconvert_exporter": "python",
   "pygments_lexer": "ipython3",
   "version": "3.7.12"
  },
  "papermill": {
   "default_parameters": {},
   "duration": 161.095032,
   "end_time": "2023-02-15T20:34:28.094169",
   "environment_variables": {},
   "exception": null,
   "input_path": "__notebook__.ipynb",
   "output_path": "__notebook__.ipynb",
   "parameters": {},
   "start_time": "2023-02-15T20:31:46.999137",
   "version": "2.3.4"
  }
 },
 "nbformat": 4,
 "nbformat_minor": 5
}
