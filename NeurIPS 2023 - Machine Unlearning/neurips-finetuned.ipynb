{
 "cells": [
  {
   "cell_type": "markdown",
   "id": "c640cd6f",
   "metadata": {
    "papermill": {
     "duration": 0.003287,
     "end_time": "2023-10-08T22:09:58.868735",
     "exception": false,
     "start_time": "2023-10-08T22:09:58.865448",
     "status": "completed"
    },
    "tags": []
   },
   "source": [
    "# 🚀 **NeurIPS 2023 Unlearning Challenge Notebook**\n",
    "\n",
    "\n",
    "Welcome to this Jupyter notebook designed for the NeurIPS 2023 Unlearning Challenge. This notebook demonstrates an unlearning approach using fine-tuning and checkpoint creation.\n",
    "\n",
    "\n",
    "\n",
    "## Let's get started! 🎉\n"
   ]
  },
  {
   "cell_type": "markdown",
   "id": "42271953",
   "metadata": {
    "papermill": {
     "duration": 0.002619,
     "end_time": "2023-10-08T22:09:58.874396",
     "exception": false,
     "start_time": "2023-10-08T22:09:58.871777",
     "status": "completed"
    },
    "tags": []
   },
   "source": [
    "## 📦 **Cell 1: Importing Libraries and Setting Device**\n",
    "In this cell, we import necessary libraries, check for GPU availability, and set the device accordingly."
   ]
  },
  {
   "cell_type": "code",
   "execution_count": 1,
   "id": "ec74b438",
   "metadata": {
    "execution": {
     "iopub.execute_input": "2023-10-08T22:09:58.881527Z",
     "iopub.status.busy": "2023-10-08T22:09:58.881217Z",
     "iopub.status.idle": "2023-10-08T22:10:04.882103Z",
     "shell.execute_reply": "2023-10-08T22:10:04.881205Z"
    },
    "papermill": {
     "duration": 6.007159,
     "end_time": "2023-10-08T22:10:04.884259",
     "exception": false,
     "start_time": "2023-10-08T22:09:58.877100",
     "status": "completed"
    },
    "tags": []
   },
   "outputs": [
    {
     "name": "stderr",
     "output_type": "stream",
     "text": [
      "/opt/conda/lib/python3.10/site-packages/scipy/__init__.py:146: UserWarning: A NumPy version >=1.16.5 and <1.23.0 is required for this version of SciPy (detected version 1.23.5\n",
      "  warnings.warn(f\"A NumPy version >={np_minversion} and <{np_maxversion}\"\n"
     ]
    },
    {
     "name": "stdout",
     "output_type": "stream",
     "text": [
      "Running on device: CUDA\n"
     ]
    }
   ],
   "source": [
    "import os\n",
    "import requests\n",
    "import numpy as np\n",
    "import matplotlib.pyplot as plt\n",
    "from sklearn import linear_model, model_selection\n",
    "from tqdm import tqdm\n",
    "\n",
    "import torch\n",
    "from torch import nn\n",
    "from torch import optim\n",
    "from torch.utils.data import DataLoader\n",
    "\n",
    "import torchvision\n",
    "from torchvision import transforms\n",
    "from torchvision.utils import make_grid\n",
    "from torchvision.models import resnet18\n",
    "\n",
    "DEVICE = device = \"cuda\" if torch.cuda.is_available() else \"cpu\"\n",
    "print(\"Running on device:\", DEVICE.upper())\n",
    "import timm\n",
    "\n",
    "# manual random seed is used for dataset partitioning\n",
    "# to ensure reproducible results across runs\n",
    "RNG = torch.Generator().manual_seed(42)"
   ]
  },
  {
   "cell_type": "code",
   "execution_count": 2,
   "id": "80020fa8",
   "metadata": {
    "_cell_guid": "b1076dfc-b9ad-4769-8c92-a6c4dae69d19",
    "_uuid": "8f2839f25d086af736a60e9eeb907d3b93b6e0e5",
    "execution": {
     "iopub.execute_input": "2023-10-08T22:10:04.892658Z",
     "iopub.status.busy": "2023-10-08T22:10:04.891313Z",
     "iopub.status.idle": "2023-10-08T22:10:05.664736Z",
     "shell.execute_reply": "2023-10-08T22:10:05.663807Z"
    },
    "papermill": {
     "duration": 0.779382,
     "end_time": "2023-10-08T22:10:05.666884",
     "exception": false,
     "start_time": "2023-10-08T22:10:04.887502",
     "status": "completed"
    },
    "tags": []
   },
   "outputs": [],
   "source": [
    "import os  # 📂 Import the 'os' module to interact with the operating system.\n",
    "import subprocess  # 🚀 Import the 'subprocess' module for running external commands.\n",
    "\n",
    "import pandas as pd  # 📊 Import 'pandas' library for data manipulation.\n",
    "import torch  # 🔥 Import 'torch' library for PyTorch functionalities.\n",
    "import torchvision  # 🖼️ Import 'torchvision' for computer vision utilities.\n",
    "import torch.nn as nn  # 🧠 Import 'nn' module from 'torch' for neural network components.\n",
    "import torch.optim as optim  # ⚙️ Import 'optim' module for optimization algorithms.\n",
    "from torchvision.models import resnet18  # 📸 Import the ResNet-18 model from torchvision.\n",
    "from torch.utils.data import DataLoader, Dataset  # 🧾 Import data-related components.\n",
    "\n",
    "DEVICE = 'cuda' if torch.cuda.is_available() else 'cpu'  # 🧭 Check and set the device to GPU if available, otherwise use CPU.\n"
   ]
  },
  {
   "cell_type": "markdown",
   "id": "48d3ccd0",
   "metadata": {
    "papermill": {
     "duration": 0.002733,
     "end_time": "2023-10-08T22:10:05.672767",
     "exception": false,
     "start_time": "2023-10-08T22:10:05.670034",
     "status": "completed"
    },
    "tags": []
   },
   "source": [
    "## 🚧 **Cell 2: Accelerator Check**\n",
    "This cell checks if a GPU accelerator is available and raises an error if not."
   ]
  },
  {
   "cell_type": "code",
   "execution_count": 3,
   "id": "c70904f5",
   "metadata": {
    "execution": {
     "iopub.execute_input": "2023-10-08T22:10:05.680888Z",
     "iopub.status.busy": "2023-10-08T22:10:05.679411Z",
     "iopub.status.idle": "2023-10-08T22:10:05.684670Z",
     "shell.execute_reply": "2023-10-08T22:10:05.683856Z"
    },
    "papermill": {
     "duration": 0.01062,
     "end_time": "2023-10-08T22:10:05.686285",
     "exception": false,
     "start_time": "2023-10-08T22:10:05.675665",
     "status": "completed"
    },
    "tags": []
   },
   "outputs": [],
   "source": [
    "#use p100\n",
    "if DEVICE != 'cuda':\n",
    "    raise RuntimeError('❗ Make sure you have added an accelerator (e.g., GPU) to your notebook; the submission will fail otherwise! 🚀')\n"
   ]
  },
  {
   "cell_type": "markdown",
   "id": "73c2d7d2",
   "metadata": {
    "papermill": {
     "duration": 0.002688,
     "end_time": "2023-10-08T22:10:05.691724",
     "exception": false,
     "start_time": "2023-10-08T22:10:05.689036",
     "status": "completed"
    },
    "tags": []
   },
   "source": [
    "## 📂 **Cell 3: Dataset Loading and Preparation**\n",
    "Here, we define functions and classes for loading and preparing the dataset for training and validation."
   ]
  },
  {
   "cell_type": "code",
   "execution_count": 4,
   "id": "d20ff63c",
   "metadata": {
    "execution": {
     "iopub.execute_input": "2023-10-08T22:10:05.698594Z",
     "iopub.status.busy": "2023-10-08T22:10:05.698229Z",
     "iopub.status.idle": "2023-10-08T22:10:05.708671Z",
     "shell.execute_reply": "2023-10-08T22:10:05.707896Z"
    },
    "papermill": {
     "duration": 0.01574,
     "end_time": "2023-10-08T22:10:05.710284",
     "exception": false,
     "start_time": "2023-10-08T22:10:05.694544",
     "status": "completed"
    },
    "tags": []
   },
   "outputs": [],
   "source": [
    "def load_example(df_row):\n",
    "    '''Load an example from the dataset.'''\n",
    "    image = torchvision.io.read_image(df_row['image_path'])  # 📷 Read the image using torchvision.\n",
    "    result = {\n",
    "        'image': image,\n",
    "        'image_id': df_row['image_id'],\n",
    "        'age_group': df_row['age_group'],\n",
    "        'age': df_row['age'],\n",
    "        'person_id': df_row['person_id']\n",
    "    }\n",
    "    return result\n",
    "\n",
    "\n",
    "class HiddenDataset(Dataset):\n",
    "    '''The hidden dataset for training and validation.'''\n",
    "    def __init__(self, split='train'):\n",
    "        super().__init__()\n",
    "        self.examples = []\n",
    "\n",
    "        df = pd.read_csv(f'/kaggle/input/neurips-2023-machine-unlearning/{split}.csv')  # 📊 Read the dataset CSV.\n",
    "        df['image_path'] = df['image_id'].apply(\n",
    "            lambda x: os.path.join('/kaggle/input/neurips-2023-machine-unlearning/', 'images', x.split('-')[0], x.split('-')[1] + '.png'))\n",
    "        df = df.sort_values(by='image_path')  # 📂 Sort the dataset by image path.\n",
    "        df.apply(lambda row: self.examples.append(load_example(row)), axis=1)\n",
    "        if len(self.examples) == 0:\n",
    "            raise ValueError('No examples.')\n",
    "\n",
    "    def __len__(self):\n",
    "        return len(self.examples)\n",
    "\n",
    "    def __getitem__(self, idx):\n",
    "        '''Get an example from the dataset.'''\n",
    "        example = self.examples[idx]\n",
    "        image = example['image']\n",
    "        image = image.to(torch.float32)  # 🌟 Convert image to float32.\n",
    "        example['image'] = image\n",
    "        return example['image'],example['age_group']\n",
    "\n",
    "\n",
    "def get_dataset(batch_size):\n",
    "    '''Get dataloaders for different dataset splits.'''\n",
    "    retain_ds = HiddenDataset(split='retain')\n",
    "    forget_ds = HiddenDataset(split='forget')\n",
    "    val_ds = HiddenDataset(split='validation')\n",
    "\n",
    "    retain_loader = DataLoader(retain_ds, batch_size=batch_size, shuffle=True)  # 📦 Create a DataLoader for 'retain' split.\n",
    "    forget_loader = DataLoader(forget_ds, batch_size=batch_size, shuffle=True)  # 📦 Create a DataLoader for 'forget' split.\n",
    "    validation_loader = DataLoader(val_ds, batch_size=batch_size, shuffle=True)  # 📦 Create a DataLoader for 'validation' split.\n",
    "\n",
    "    return retain_loader, forget_loader, validation_loader\n"
   ]
  },
  {
   "cell_type": "markdown",
   "id": "0ce99373",
   "metadata": {
    "papermill": {
     "duration": 0.002699,
     "end_time": "2023-10-08T22:10:05.715842",
     "exception": false,
     "start_time": "2023-10-08T22:10:05.713143",
     "status": "completed"
    },
    "tags": []
   },
   "source": [
    "## 🧠 **Cell 4: Unlearning Function**\n",
    "This cell contains the unlearning function, which fine-tunes the model using a provided dataset."
   ]
  },
  {
   "cell_type": "code",
   "execution_count": 5,
   "id": "83fb3e72",
   "metadata": {
    "execution": {
     "iopub.execute_input": "2023-10-08T22:10:05.722594Z",
     "iopub.status.busy": "2023-10-08T22:10:05.722229Z",
     "iopub.status.idle": "2023-10-08T22:10:05.729748Z",
     "shell.execute_reply": "2023-10-08T22:10:05.728940Z"
    },
    "papermill": {
     "duration": 0.012771,
     "end_time": "2023-10-08T22:10:05.731413",
     "exception": false,
     "start_time": "2023-10-08T22:10:05.718642",
     "status": "completed"
    },
    "tags": []
   },
   "outputs": [],
   "source": [
    "class Discriminator(nn.Module):\n",
    "    def __init__(self,input_dim = 512):\n",
    "        super(Discriminator, self).__init__()\n",
    "        self.dics = nn.Sequential(\n",
    "            nn.Linear(input_dim, input_dim * 4),\n",
    "            nn.LeakyReLU(0.2, inplace=True),\n",
    "            nn.Linear(input_dim * 4, input_dim * 8),\n",
    "            nn.LeakyReLU(0.2, inplace=True),\n",
    "            nn.Linear(input_dim * 8, input_dim * 2),\n",
    "            nn.LeakyReLU(0.2, inplace=True),\n",
    "            nn.Linear(input_dim * 2, input_dim),\n",
    "            nn.LeakyReLU(0.2, inplace=True),\n",
    "            nn.Linear(input_dim , 1),\n",
    "    )\n",
    "    def forward(self, x):\n",
    "        return self.dics(x)\n",
    "    \n",
    "    def get_loss(self,gen,   forget, test):\n",
    "        \n",
    "        fake = gen.forward_features(forget).detach()\n",
    "        real = gen.forward_features(test).detach()\n",
    "        \n",
    "        disc_fake_pred = self.forward(fake)\n",
    "        disc_fake_loss = criterion(disc_fake_pred, torch.zeros_like(disc_fake_pred))\n",
    "        \n",
    "        disc_real_pred = self.forward(real)\n",
    "        disc_real_loss = criterion(disc_real_pred, torch.ones_like(disc_real_pred))\n",
    "        \n",
    "        disc_loss = (disc_fake_loss + disc_real_loss) / 2\n",
    "        \n",
    "        return disc_loss"
   ]
  },
  {
   "cell_type": "code",
   "execution_count": 6,
   "id": "800eeda5",
   "metadata": {
    "execution": {
     "iopub.execute_input": "2023-10-08T22:10:05.738079Z",
     "iopub.status.busy": "2023-10-08T22:10:05.737846Z",
     "iopub.status.idle": "2023-10-08T22:10:05.743242Z",
     "shell.execute_reply": "2023-10-08T22:10:05.742299Z"
    },
    "papermill": {
     "duration": 0.010789,
     "end_time": "2023-10-08T22:10:05.745038",
     "exception": false,
     "start_time": "2023-10-08T22:10:05.734249",
     "status": "completed"
    },
    "tags": []
   },
   "outputs": [],
   "source": [
    "class Generator(nn.Module):\n",
    "    def __init__(self,net):\n",
    "        super(Generator, self).__init__()\n",
    "        self.model = net\n",
    "        self.head = self.model.fc\n",
    "        self.model.fc = nn.Identity()\n",
    "        \n",
    "    def forward(self,x):\n",
    "        x = self.model(x)\n",
    "        return self.head(x)\n",
    "    def forward_features(self,x):\n",
    "        return self.model(x)\n",
    "    def get_loss(self, disc, forget,class_labels  ):\n",
    "\n",
    "        logits = self.model(forget)\n",
    "        disc_fake_pred = disc(logits)\n",
    "\n",
    "        #classification_loss = clas_criterion(self.head(logits),  class_labels)\n",
    "\n",
    "        gen_loss = criterion(disc_fake_pred, torch.ones_like(disc_fake_pred)) \n",
    "\n",
    "        return gen_loss#(classification_loss + gen_loss) / 2"
   ]
  },
  {
   "cell_type": "code",
   "execution_count": 7,
   "id": "9991de6a",
   "metadata": {
    "execution": {
     "iopub.execute_input": "2023-10-08T22:10:05.751668Z",
     "iopub.status.busy": "2023-10-08T22:10:05.751439Z",
     "iopub.status.idle": "2023-10-08T22:10:05.755441Z",
     "shell.execute_reply": "2023-10-08T22:10:05.754518Z"
    },
    "papermill": {
     "duration": 0.009354,
     "end_time": "2023-10-08T22:10:05.757238",
     "exception": false,
     "start_time": "2023-10-08T22:10:05.747884",
     "status": "completed"
    },
    "tags": []
   },
   "outputs": [],
   "source": [
    "normalize =transforms.Normalize((0.4914, 0.4822, 0.4465), (0.2023, 0.1994, 0.2010))"
   ]
  },
  {
   "cell_type": "code",
   "execution_count": 8,
   "id": "0d2ebbd3",
   "metadata": {
    "execution": {
     "iopub.execute_input": "2023-10-08T22:10:05.764136Z",
     "iopub.status.busy": "2023-10-08T22:10:05.763909Z",
     "iopub.status.idle": "2023-10-08T22:10:05.772043Z",
     "shell.execute_reply": "2023-10-08T22:10:05.771126Z"
    },
    "papermill": {
     "duration": 0.013822,
     "end_time": "2023-10-08T22:10:05.773868",
     "exception": false,
     "start_time": "2023-10-08T22:10:05.760046",
     "status": "completed"
    },
    "tags": []
   },
   "outputs": [],
   "source": [
    "criterion = nn.BCEWithLogitsLoss()\n",
    "clas_criterion = nn.CrossEntropyLoss()\n",
    "\n",
    "def unlearning(net,retain_loader,forget_loader,val_loader):\n",
    "\n",
    "    lr = 0.0005\n",
    "    n_epochs = 25\n",
    "\n",
    "    gen = Generator(net).to(device)\n",
    "    gen_opt = torch.optim.Adam(gen.parameters(), lr=lr)\n",
    "    disc = Discriminator().to(device) \n",
    "    disc_opt = torch.optim.Adam(disc.parameters(), lr=lr)\n",
    "    gscheduler = torch.optim.lr_scheduler.CosineAnnealingLR(gen_opt, T_max=n_epochs)\n",
    "    dscheduler = torch.optim.lr_scheduler.CosineAnnealingLR(disc_opt, T_max=n_epochs)\n",
    "    for epoch in range(n_epochs):\n",
    "        for (forget_images,forget_label),(retain_images,retain_labels) in zip(forget_loader,retain_loader):\n",
    "            cur_batch_size = forget_images.size(0)\n",
    "\n",
    "            forget_images = forget_images.to(device, dtype=torch.float)\n",
    "            forget_label = forget_label.to(device, dtype=torch.long)\n",
    "            \n",
    "            retain_images = retain_images.to(device, dtype=torch.float)\n",
    "            retain_labels = retain_labels.to(device, dtype=torch.long)\n",
    "            \n",
    "            test_image = normalize(torch.rand_like(forget_images))\n",
    "            test_image = test_image.to(device, dtype=torch.float)\n",
    "\n",
    "\n",
    "\n",
    "            gen.eval()\n",
    "            disc.train()\n",
    "            disc_opt.zero_grad()\n",
    "            disc_loss = disc.get_loss(gen,   forget_images , test_image)\n",
    "\n",
    "            disc_loss.backward(retain_graph=True)\n",
    "\n",
    "\n",
    "            disc_opt.step()\n",
    "\n",
    "\n",
    "            gen.train()\n",
    "            disc.eval()\n",
    "            gen_opt.zero_grad()\n",
    "\n",
    "\n",
    "            outputs = gen(retain_images)\n",
    "            loss = clas_criterion(outputs, retain_labels)\n",
    "            gen_loss =  gen.get_loss(disc, forget_images,forget_label)\n",
    "            (gen_loss + loss).backward()\n",
    "            \n",
    "            gen_opt.step()\n",
    "        gscheduler.step()\n",
    "        dscheduler.step()\n",
    "    net.fc = gen.head\n",
    "    net.eval()  # 🧪 Set the network to evaluation mode when done training.\n"
   ]
  },
  {
   "cell_type": "markdown",
   "id": "4a09376b",
   "metadata": {
    "papermill": {
     "duration": 0.002696,
     "end_time": "2023-10-08T22:10:05.779505",
     "exception": false,
     "start_time": "2023-10-08T22:10:05.776809",
     "status": "completed"
    },
    "tags": []
   },
   "source": [
    "## 💾 **Cell 5: Checkpoint Generation & Submission**\n",
    "In this cell, we create unlearned model checkpoints and ensure there are exactly 512 checkpoints.and handles the submission process, including creating the submission.zip file."
   ]
  },
  {
   "cell_type": "code",
   "execution_count": 9,
   "id": "a34c95d9",
   "metadata": {
    "execution": {
     "iopub.execute_input": "2023-10-08T22:10:05.786071Z",
     "iopub.status.busy": "2023-10-08T22:10:05.785841Z",
     "iopub.status.idle": "2023-10-08T22:10:05.799646Z",
     "shell.execute_reply": "2023-10-08T22:10:05.798857Z"
    },
    "papermill": {
     "duration": 0.019022,
     "end_time": "2023-10-08T22:10:05.801333",
     "exception": false,
     "start_time": "2023-10-08T22:10:05.782311",
     "status": "completed"
    },
    "tags": []
   },
   "outputs": [],
   "source": [
    "if os.path.exists('/kaggle/input/neurips-2023-machine-unlearning/empty.txt'):\n",
    "    # 📦 Mock submission: Create an empty submission.zip file.\n",
    "    subprocess.run('touch submission.zip', shell=True)\n",
    "else:\n",
    "    # 🚀 Create unlearned checkpoints outside of the working directory to avoid disk space issues.\n",
    "    os.makedirs('/kaggle/tmp', exist_ok=True)\n",
    "\n",
    "    # 🧾 Load the datasets and initialize the model.\n",
    "    retain_loader, forget_loader, validation_loader = get_dataset(128 * 2)\n",
    "    net = resnet18(weights=None, num_classes=10)\n",
    "    net.to(DEVICE)\n",
    "\n",
    "    # 🔄 Iterate to create unlearned checkpoints.\n",
    "    for i in range(512):\n",
    "        net.load_state_dict(torch.load('/kaggle/input/neurips-2023-machine-unlearning/original_model.pth'))  # 📂 Load the original model.\n",
    "        unlearning(net, retain_loader, forget_loader, validation_loader)  # 🧠 Perform unlearning.\n",
    "        state = net.state_dict()  # 📄 Get the model's state.\n",
    "        torch.save(state, f'/kaggle/tmp/unlearned_checkpoint_{i}.pth')  # 💾 Save unlearned checkpoint.\n",
    "\n",
    "    # 📏 Check the number of unlearned checkpoints to ensure it's 512.\n",
    "    unlearned_ckpts = os.listdir('/kaggle/tmp')\n",
    "    if len(unlearned_ckpts) != 512:\n",
    "        raise RuntimeError('❗ Expected exactly 512 checkpoints. The submission will throw an exception otherwise.')\n",
    "\n",
    "    # 📦 Create the submission.zip file containing the unlearned checkpoints.\n",
    "    subprocess.run('zip submission.zip /kaggle/tmp/*.pth', shell=True)\n"
   ]
  }
 ],
 "metadata": {
  "kernelspec": {
   "display_name": "Python 3",
   "language": "python",
   "name": "python3"
  },
  "language_info": {
   "codemirror_mode": {
    "name": "ipython",
    "version": 3
   },
   "file_extension": ".py",
   "mimetype": "text/x-python",
   "name": "python",
   "nbconvert_exporter": "python",
   "pygments_lexer": "ipython3",
   "version": "3.10.12"
  },
  "papermill": {
   "default_parameters": {},
   "duration": 11.331804,
   "end_time": "2023-10-08T22:10:07.225648",
   "environment_variables": {},
   "exception": null,
   "input_path": "__notebook__.ipynb",
   "output_path": "__notebook__.ipynb",
   "parameters": {},
   "start_time": "2023-10-08T22:09:55.893844",
   "version": "2.4.0"
  }
 },
 "nbformat": 4,
 "nbformat_minor": 5
}
