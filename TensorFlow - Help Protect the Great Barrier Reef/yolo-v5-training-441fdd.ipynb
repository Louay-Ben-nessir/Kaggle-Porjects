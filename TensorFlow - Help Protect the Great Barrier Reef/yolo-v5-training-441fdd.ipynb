{
 "cells": [
  {
   "cell_type": "code",
   "execution_count": 1,
   "id": "7da1cf74",
   "metadata": {
    "_cell_guid": "b1076dfc-b9ad-4769-8c92-a6c4dae69d19",
    "_uuid": "8f2839f25d086af736a60e9eeb907d3b93b6e0e5",
    "execution": {
     "iopub.execute_input": "2022-01-18T10:00:27.132106Z",
     "iopub.status.busy": "2022-01-18T10:00:27.131083Z",
     "iopub.status.idle": "2022-01-18T10:00:28.246937Z",
     "shell.execute_reply": "2022-01-18T10:00:28.245990Z",
     "shell.execute_reply.started": "2022-01-18T09:59:02.695263Z"
    },
    "papermill": {
     "duration": 1.141179,
     "end_time": "2022-01-18T10:00:28.247114",
     "exception": false,
     "start_time": "2022-01-18T10:00:27.105935",
     "status": "completed"
    },
    "tags": []
   },
   "outputs": [],
   "source": [
    "import pandas as pd\n",
    "import ast\n",
    "from sklearn.model_selection import GroupKFold\n",
    "from tqdm.notebook import tqdm\n",
    "from shutil import copyfile\n",
    "import json\n",
    "import random\n",
    "import numpy as np\n",
    "tqdm.pandas()"
   ]
  },
  {
   "cell_type": "code",
   "execution_count": 2,
   "id": "699dcc60",
   "metadata": {
    "execution": {
     "iopub.execute_input": "2022-01-18T10:00:28.283971Z",
     "iopub.status.busy": "2022-01-18T10:00:28.283027Z",
     "iopub.status.idle": "2022-01-18T10:00:46.882357Z",
     "shell.execute_reply": "2022-01-18T10:00:46.881789Z",
     "shell.execute_reply.started": "2022-01-18T09:59:03.863397Z"
    },
    "papermill": {
     "duration": 18.618324,
     "end_time": "2022-01-18T10:00:46.882499",
     "exception": false,
     "start_time": "2022-01-18T10:00:28.264175",
     "status": "completed"
    },
    "tags": []
   },
   "outputs": [
    {
     "name": "stdout",
     "output_type": "stream",
     "text": [
      "\u001b[33mWARNING: Running pip as the 'root' user can result in broken permissions and conflicting behaviour with the system package manager. It is recommended to use a virtual environment instead: https://pip.pypa.io/warnings/venv\u001b[0m\r\n",
      "\u001b[34m\u001b[1mwandb\u001b[0m: Appending key for api.wandb.ai to your netrc file: /root/.netrc\r\n"
     ]
    }
   ],
   "source": [
    "# Install W&B \n",
    "!pip install -q --upgrade wandb\n",
    "\n",
    "# Login \n",
    "import wandb\n",
    "\n",
    "\n",
    "! wandb login -"
   ]
  },
  {
   "cell_type": "code",
   "execution_count": 3,
   "id": "a6b7c5b4",
   "metadata": {
    "execution": {
     "iopub.execute_input": "2022-01-18T10:00:46.919045Z",
     "iopub.status.busy": "2022-01-18T10:00:46.918078Z",
     "iopub.status.idle": "2022-01-18T10:00:47.688112Z",
     "shell.execute_reply": "2022-01-18T10:00:47.688883Z",
     "shell.execute_reply.started": "2022-01-18T09:59:22.564907Z"
    },
    "papermill": {
     "duration": 0.791162,
     "end_time": "2022-01-18T10:00:47.689097",
     "exception": false,
     "start_time": "2022-01-18T10:00:46.897935",
     "status": "completed"
    },
    "tags": []
   },
   "outputs": [],
   "source": [
    "!mkdir -p /kaggle/working/datasets/coco/{images,labels}/{train,val}"
   ]
  },
  {
   "cell_type": "code",
   "execution_count": 4,
   "id": "bac47e5b",
   "metadata": {
    "execution": {
     "iopub.execute_input": "2022-01-18T10:00:47.724943Z",
     "iopub.status.busy": "2022-01-18T10:00:47.722463Z",
     "iopub.status.idle": "2022-01-18T10:00:47.786327Z",
     "shell.execute_reply": "2022-01-18T10:00:47.785611Z",
     "shell.execute_reply.started": "2022-01-18T09:59:23.336936Z"
    },
    "papermill": {
     "duration": 0.0825,
     "end_time": "2022-01-18T10:00:47.786465",
     "exception": false,
     "start_time": "2022-01-18T10:00:47.703965",
     "status": "completed"
    },
    "tags": []
   },
   "outputs": [],
   "source": [
    "vide_data = pd.read_csv(\"../input/tensorflow-great-barrier-reef/train.csv\")"
   ]
  },
  {
   "cell_type": "code",
   "execution_count": 5,
   "id": "4fea7218",
   "metadata": {
    "execution": {
     "iopub.execute_input": "2022-01-18T10:00:47.824273Z",
     "iopub.status.busy": "2022-01-18T10:00:47.818110Z",
     "iopub.status.idle": "2022-01-18T10:00:47.826763Z",
     "shell.execute_reply": "2022-01-18T10:00:47.827429Z",
     "shell.execute_reply.started": "2022-01-18T09:59:23.409370Z"
    },
    "papermill": {
     "duration": 0.026502,
     "end_time": "2022-01-18T10:00:47.827580",
     "exception": false,
     "start_time": "2022-01-18T10:00:47.801078",
     "status": "completed"
    },
    "tags": []
   },
   "outputs": [],
   "source": [
    "width,height=1280,720\n",
    "def parse_annotations(annotation): # [{'x': 559, 'y': 213, 'width': 50, 'height': 32}] -> [559, 213, 50, 32]\n",
    "    changed_anno=''\n",
    "    for ano in annotation:\n",
    "        comp=list(ano.values())\n",
    "        comp[0]=(comp[0]+np.round(comp[2]/2))/width#(comp[0]+comp[2])/(2*width)\n",
    "        comp[1]=(comp[1]+np.round(comp[3]/2))/height#(comp[1]+comp[3])/(2*height)\n",
    "        comp[2]/=width\n",
    "        comp[3]/=height\n",
    "        changed_anno+=f'0 {comp[0]} {comp[1]} {comp[2]} {comp[3]} \\n'\n",
    "    return changed_anno[:-1]\n",
    "def make_path(image_info): #assuming a path starting from this files's location\n",
    "    return \"../input/tensorflow-great-barrier-reef/train_images/video_{0}/{1}.jpg\".format(image_info['video_id'],image_info['video_frame'])"
   ]
  },
  {
   "cell_type": "code",
   "execution_count": 6,
   "id": "b922f3e3",
   "metadata": {
    "execution": {
     "iopub.execute_input": "2022-01-18T10:00:47.865746Z",
     "iopub.status.busy": "2022-01-18T10:00:47.864962Z",
     "iopub.status.idle": "2022-01-18T10:00:49.166516Z",
     "shell.execute_reply": "2022-01-18T10:00:49.165491Z",
     "shell.execute_reply.started": "2022-01-18T09:59:23.424211Z"
    },
    "papermill": {
     "duration": 1.324321,
     "end_time": "2022-01-18T10:00:49.166667",
     "exception": false,
     "start_time": "2022-01-18T10:00:47.842346",
     "status": "completed"
    },
    "tags": []
   },
   "outputs": [],
   "source": [
    "vide_data['annotations']=vide_data['annotations'].apply(lambda x: ast.literal_eval(x)) \n",
    "\n",
    "vide_data['num_bbox']=vide_data['annotations'].apply(lambda x: len(x))\n",
    "\n",
    "keep=[num_bbox>0 or random.random()>0.96 for num_bbox in vide_data['num_bbox']]\n",
    "vide_data=vide_data[keep]\n",
    "\n",
    "vide_data['bboxes']=vide_data['annotations'].apply(parse_annotations)\n",
    "\n",
    "vide_data[\"image_path\"] = vide_data.apply(make_path,axis=1)\n",
    "\n",
    "vide_data=vide_data.reset_index(drop=True)"
   ]
  },
  {
   "cell_type": "code",
   "execution_count": 7,
   "id": "43b2ec16",
   "metadata": {
    "execution": {
     "iopub.execute_input": "2022-01-18T10:00:49.204262Z",
     "iopub.status.busy": "2022-01-18T10:00:49.203118Z",
     "iopub.status.idle": "2022-01-18T10:00:49.212353Z",
     "shell.execute_reply": "2022-01-18T10:00:49.212906Z",
     "shell.execute_reply.started": "2022-01-18T09:59:24.431272Z"
    },
    "papermill": {
     "duration": 0.0314,
     "end_time": "2022-01-18T10:00:49.213067",
     "exception": false,
     "start_time": "2022-01-18T10:00:49.181667",
     "status": "completed"
    },
    "tags": []
   },
   "outputs": [],
   "source": [
    "#yetted this for kfold implementation\n",
    "kf = GroupKFold(n_splits = 6)\n",
    "vide_data['fold'] = -1\n",
    "for fold, (train_idx, val_idx) in enumerate(kf.split(vide_data, y = vide_data.video_id.tolist(), groups=vide_data.sequence)):\n",
    "    vide_data.loc[val_idx, 'fold'] = fold"
   ]
  },
  {
   "cell_type": "code",
   "execution_count": 8,
   "id": "a68b9f46",
   "metadata": {
    "execution": {
     "iopub.execute_input": "2022-01-18T10:00:49.247012Z",
     "iopub.status.busy": "2022-01-18T10:00:49.246048Z",
     "iopub.status.idle": "2022-01-18T10:00:49.248867Z",
     "shell.execute_reply": "2022-01-18T10:00:49.249443Z",
     "shell.execute_reply.started": "2022-01-18T09:59:24.453143Z"
    },
    "papermill": {
     "duration": 0.022174,
     "end_time": "2022-01-18T10:00:49.249602",
     "exception": false,
     "start_time": "2022-01-18T10:00:49.227428",
     "status": "completed"
    },
    "tags": []
   },
   "outputs": [],
   "source": [
    "SELECTED_FOLD = 4"
   ]
  },
  {
   "cell_type": "code",
   "execution_count": 9,
   "id": "07f4f673",
   "metadata": {
    "execution": {
     "iopub.execute_input": "2022-01-18T10:00:49.287749Z",
     "iopub.status.busy": "2022-01-18T10:00:49.286654Z",
     "iopub.status.idle": "2022-01-18T10:02:01.578513Z",
     "shell.execute_reply": "2022-01-18T10:02:01.575449Z"
    },
    "papermill": {
     "duration": 72.314917,
     "end_time": "2022-01-18T10:02:01.578779",
     "exception": false,
     "start_time": "2022-01-18T10:00:49.263862",
     "status": "completed"
    },
    "tags": []
   },
   "outputs": [
    {
     "data": {
      "application/vnd.jupyter.widget-view+json": {
       "model_id": "0d7213c1555d4331a8dd56e43ba319f8",
       "version_major": 2,
       "version_minor": 0
      },
      "text/plain": [
       "  0%|          | 0/5689 [00:00<?, ?it/s]"
      ]
     },
     "metadata": {},
     "output_type": "display_data"
    }
   ],
   "source": [
    "trainf= open('/kaggle/working/datasets/coco/train.txt', \"a\")\n",
    "valf= open('/kaggle/working/datasets/coco/val.txt', \"a\")\n",
    "\n",
    "for i in tqdm(range(len(vide_data))):\n",
    "    row = vide_data.loc[i]\n",
    "    if row.fold != SELECTED_FOLD:\n",
    "        copyfile(f'{row.image_path}', f'/kaggle/working/datasets/coco/images/train/{row.image_id}.jpg')\n",
    "        trainf.write(f'/kaggle/working/datasets/coco/images/train/{row.image_id}.jpg \\n')\n",
    "        with open(f'/kaggle/working/datasets/coco/labels/train/{row.image_id}.txt', \"w\") as f:\n",
    "            f.write(row.bboxes)\n",
    "        \n",
    "    elif row.fold == SELECTED_FOLD:\n",
    "        copyfile(f'{row.image_path}', f'/kaggle/working/datasets/coco/images/val/{row.image_id}.jpg')\n",
    "        trainf.write(f'/kaggle/working/datasets/coco/images/val/{row.image_id}.jpg \\n')\n",
    "        with open(f'/kaggle/working/datasets/coco/labels/val/{row.image_id}.txt', \"w\") as f:\n",
    "            f.write(row.bboxes)\n",
    "trainf.close()\n",
    "valf.close()"
   ]
  },
  {
   "cell_type": "code",
   "execution_count": 10,
   "id": "45e9fce8",
   "metadata": {
    "execution": {
     "iopub.execute_input": "2022-01-18T10:02:01.661966Z",
     "iopub.status.busy": "2022-01-18T10:02:01.660895Z",
     "iopub.status.idle": "2022-01-18T10:02:17.707644Z",
     "shell.execute_reply": "2022-01-18T10:02:17.707071Z"
    },
    "papermill": {
     "duration": 16.08729,
     "end_time": "2022-01-18T10:02:17.707817",
     "exception": false,
     "start_time": "2022-01-18T10:02:01.620527",
     "status": "completed"
    },
    "tags": []
   },
   "outputs": [
    {
     "name": "stdout",
     "output_type": "stream",
     "text": [
      "/kaggle/working\n",
      "Cloning into 'yolov5'...\r\n",
      "remote: Enumerating objects: 10562, done.\u001b[K\r\n",
      "remote: Total 10562 (delta 0), reused 0 (delta 0), pack-reused 10562\u001b[K\r\n",
      "Receiving objects: 100% (10562/10562), 10.70 MiB | 14.47 MiB/s, done.\r\n",
      "Resolving deltas: 100% (7304/7304), done.\r\n",
      "/kaggle/working/yolov5\n",
      "Requirement already satisfied: matplotlib>=3.2.2 in /opt/conda/lib/python3.7/site-packages (from -r requirements.txt (line 4)) (3.5.0)\r\n",
      "Requirement already satisfied: numpy>=1.18.5 in /opt/conda/lib/python3.7/site-packages (from -r requirements.txt (line 5)) (1.19.5)\r\n",
      "Requirement already satisfied: opencv-python>=4.1.2 in /opt/conda/lib/python3.7/site-packages (from -r requirements.txt (line 6)) (4.5.4.60)\r\n",
      "Requirement already satisfied: Pillow>=7.1.2 in /opt/conda/lib/python3.7/site-packages (from -r requirements.txt (line 7)) (8.2.0)\r\n",
      "Requirement already satisfied: PyYAML>=5.3.1 in /opt/conda/lib/python3.7/site-packages (from -r requirements.txt (line 8)) (6.0)\r\n",
      "Requirement already satisfied: requests>=2.23.0 in /opt/conda/lib/python3.7/site-packages (from -r requirements.txt (line 9)) (2.25.1)\r\n",
      "Requirement already satisfied: scipy>=1.4.1 in /opt/conda/lib/python3.7/site-packages (from -r requirements.txt (line 10)) (1.7.2)\r\n",
      "Requirement already satisfied: torch>=1.7.0 in /opt/conda/lib/python3.7/site-packages (from -r requirements.txt (line 11)) (1.9.1)\r\n",
      "Requirement already satisfied: torchvision>=0.8.1 in /opt/conda/lib/python3.7/site-packages (from -r requirements.txt (line 12)) (0.10.1)\r\n",
      "Requirement already satisfied: tqdm>=4.41.0 in /opt/conda/lib/python3.7/site-packages (from -r requirements.txt (line 13)) (4.62.3)\r\n",
      "Requirement already satisfied: tensorboard>=2.4.1 in /opt/conda/lib/python3.7/site-packages (from -r requirements.txt (line 16)) (2.6.0)\r\n",
      "Requirement already satisfied: pandas>=1.1.4 in /opt/conda/lib/python3.7/site-packages (from -r requirements.txt (line 20)) (1.3.4)\r\n",
      "Requirement already satisfied: seaborn>=0.11.0 in /opt/conda/lib/python3.7/site-packages (from -r requirements.txt (line 21)) (0.11.2)\r\n",
      "Collecting thop\r\n",
      "  Downloading thop-0.0.31.post2005241907-py3-none-any.whl (8.7 kB)\r\n",
      "Requirement already satisfied: packaging>=20.0 in /opt/conda/lib/python3.7/site-packages (from matplotlib>=3.2.2->-r requirements.txt (line 4)) (21.0)\r\n",
      "Requirement already satisfied: python-dateutil>=2.7 in /opt/conda/lib/python3.7/site-packages (from matplotlib>=3.2.2->-r requirements.txt (line 4)) (2.8.0)\r\n",
      "Requirement already satisfied: pyparsing>=2.2.1 in /opt/conda/lib/python3.7/site-packages (from matplotlib>=3.2.2->-r requirements.txt (line 4)) (3.0.6)\r\n",
      "Requirement already satisfied: setuptools-scm>=4 in /opt/conda/lib/python3.7/site-packages (from matplotlib>=3.2.2->-r requirements.txt (line 4)) (6.3.2)\r\n",
      "Requirement already satisfied: kiwisolver>=1.0.1 in /opt/conda/lib/python3.7/site-packages (from matplotlib>=3.2.2->-r requirements.txt (line 4)) (1.3.2)\r\n",
      "Requirement already satisfied: cycler>=0.10 in /opt/conda/lib/python3.7/site-packages (from matplotlib>=3.2.2->-r requirements.txt (line 4)) (0.11.0)\r\n",
      "Requirement already satisfied: fonttools>=4.22.0 in /opt/conda/lib/python3.7/site-packages (from matplotlib>=3.2.2->-r requirements.txt (line 4)) (4.28.2)\r\n",
      "Requirement already satisfied: idna<3,>=2.5 in /opt/conda/lib/python3.7/site-packages (from requests>=2.23.0->-r requirements.txt (line 9)) (2.10)\r\n",
      "Requirement already satisfied: certifi>=2017.4.17 in /opt/conda/lib/python3.7/site-packages (from requests>=2.23.0->-r requirements.txt (line 9)) (2021.10.8)\r\n",
      "Requirement already satisfied: urllib3<1.27,>=1.21.1 in /opt/conda/lib/python3.7/site-packages (from requests>=2.23.0->-r requirements.txt (line 9)) (1.26.7)\r\n",
      "Requirement already satisfied: chardet<5,>=3.0.2 in /opt/conda/lib/python3.7/site-packages (from requests>=2.23.0->-r requirements.txt (line 9)) (4.0.0)\r\n",
      "Requirement already satisfied: typing-extensions in /opt/conda/lib/python3.7/site-packages (from torch>=1.7.0->-r requirements.txt (line 11)) (3.10.0.2)\r\n",
      "Requirement already satisfied: wheel>=0.26 in /opt/conda/lib/python3.7/site-packages (from tensorboard>=2.4.1->-r requirements.txt (line 16)) (0.37.0)\r\n",
      "Requirement already satisfied: tensorboard-data-server<0.7.0,>=0.6.0 in /opt/conda/lib/python3.7/site-packages (from tensorboard>=2.4.1->-r requirements.txt (line 16)) (0.6.1)\r\n",
      "Requirement already satisfied: tensorboard-plugin-wit>=1.6.0 in /opt/conda/lib/python3.7/site-packages (from tensorboard>=2.4.1->-r requirements.txt (line 16)) (1.8.0)\r\n",
      "Requirement already satisfied: markdown>=2.6.8 in /opt/conda/lib/python3.7/site-packages (from tensorboard>=2.4.1->-r requirements.txt (line 16)) (3.3.6)\r\n",
      "Requirement already satisfied: absl-py>=0.4 in /opt/conda/lib/python3.7/site-packages (from tensorboard>=2.4.1->-r requirements.txt (line 16)) (0.15.0)\r\n",
      "Requirement already satisfied: grpcio>=1.24.3 in /opt/conda/lib/python3.7/site-packages (from tensorboard>=2.4.1->-r requirements.txt (line 16)) (1.42.0)\r\n",
      "Requirement already satisfied: werkzeug>=0.11.15 in /opt/conda/lib/python3.7/site-packages (from tensorboard>=2.4.1->-r requirements.txt (line 16)) (2.0.2)\r\n",
      "Requirement already satisfied: google-auth-oauthlib<0.5,>=0.4.1 in /opt/conda/lib/python3.7/site-packages (from tensorboard>=2.4.1->-r requirements.txt (line 16)) (0.4.6)\r\n",
      "Requirement already satisfied: setuptools>=41.0.0 in /opt/conda/lib/python3.7/site-packages (from tensorboard>=2.4.1->-r requirements.txt (line 16)) (59.1.1)\r\n",
      "Requirement already satisfied: protobuf>=3.6.0 in /opt/conda/lib/python3.7/site-packages (from tensorboard>=2.4.1->-r requirements.txt (line 16)) (3.19.1)\r\n",
      "Requirement already satisfied: google-auth<2,>=1.6.3 in /opt/conda/lib/python3.7/site-packages (from tensorboard>=2.4.1->-r requirements.txt (line 16)) (1.35.0)\r\n",
      "Requirement already satisfied: pytz>=2017.3 in /opt/conda/lib/python3.7/site-packages (from pandas>=1.1.4->-r requirements.txt (line 20)) (2021.3)\r\n",
      "Requirement already satisfied: six in /opt/conda/lib/python3.7/site-packages (from absl-py>=0.4->tensorboard>=2.4.1->-r requirements.txt (line 16)) (1.16.0)\r\n",
      "Requirement already satisfied: pyasn1-modules>=0.2.1 in /opt/conda/lib/python3.7/site-packages (from google-auth<2,>=1.6.3->tensorboard>=2.4.1->-r requirements.txt (line 16)) (0.2.7)\r\n",
      "Requirement already satisfied: cachetools<5.0,>=2.0.0 in /opt/conda/lib/python3.7/site-packages (from google-auth<2,>=1.6.3->tensorboard>=2.4.1->-r requirements.txt (line 16)) (4.2.4)\r\n",
      "Requirement already satisfied: rsa<5,>=3.1.4 in /opt/conda/lib/python3.7/site-packages (from google-auth<2,>=1.6.3->tensorboard>=2.4.1->-r requirements.txt (line 16)) (4.7.2)\r\n",
      "Requirement already satisfied: requests-oauthlib>=0.7.0 in /opt/conda/lib/python3.7/site-packages (from google-auth-oauthlib<0.5,>=0.4.1->tensorboard>=2.4.1->-r requirements.txt (line 16)) (1.3.0)\r\n",
      "Requirement already satisfied: importlib-metadata>=4.4 in /opt/conda/lib/python3.7/site-packages (from markdown>=2.6.8->tensorboard>=2.4.1->-r requirements.txt (line 16)) (4.8.2)\r\n",
      "Requirement already satisfied: tomli>=1.0.0 in /opt/conda/lib/python3.7/site-packages (from setuptools-scm>=4->matplotlib>=3.2.2->-r requirements.txt (line 4)) (1.2.2)\r\n",
      "Requirement already satisfied: zipp>=0.5 in /opt/conda/lib/python3.7/site-packages (from importlib-metadata>=4.4->markdown>=2.6.8->tensorboard>=2.4.1->-r requirements.txt (line 16)) (3.6.0)\r\n",
      "Requirement already satisfied: pyasn1<0.5.0,>=0.4.6 in /opt/conda/lib/python3.7/site-packages (from pyasn1-modules>=0.2.1->google-auth<2,>=1.6.3->tensorboard>=2.4.1->-r requirements.txt (line 16)) (0.4.8)\r\n",
      "Requirement already satisfied: oauthlib>=3.0.0 in /opt/conda/lib/python3.7/site-packages (from requests-oauthlib>=0.7.0->google-auth-oauthlib<0.5,>=0.4.1->tensorboard>=2.4.1->-r requirements.txt (line 16)) (3.1.1)\r\n",
      "Installing collected packages: thop\r\n",
      "Successfully installed thop-0.0.31.post2005241907\r\n",
      "\u001b[33mWARNING: Running pip as the 'root' user can result in broken permissions and conflicting behaviour with the system package manager. It is recommended to use a virtual environment instead: https://pip.pypa.io/warnings/venv\u001b[0m\r\n"
     ]
    }
   ],
   "source": [
    "%cd /kaggle/working/\n",
    "!git clone https://github.com/ultralytics/yolov5  # clone\n",
    "%cd yolov5\n",
    "!pip install -r requirements.txt  # install"
   ]
  },
  {
   "cell_type": "code",
   "execution_count": 11,
   "id": "abeccabb",
   "metadata": {
    "execution": {
     "iopub.execute_input": "2022-01-18T10:02:17.773681Z",
     "iopub.status.busy": "2022-01-18T10:02:17.771978Z",
     "iopub.status.idle": "2022-01-18T10:02:17.777276Z",
     "shell.execute_reply": "2022-01-18T10:02:17.776756Z"
    },
    "papermill": {
     "duration": 0.040725,
     "end_time": "2022-01-18T10:02:17.777454",
     "exception": false,
     "start_time": "2022-01-18T10:02:17.736729",
     "status": "completed"
    },
    "tags": []
   },
   "outputs": [],
   "source": [
    "import yaml\n",
    "conf = dict(\n",
    "train= '/kaggle/working/datasets/coco/images/train/',\n",
    "val= '/kaggle/working/datasets/coco/images/val/',\n",
    "nc= 1  ,\n",
    "names= ['cots']\n",
    ")\n",
    "with open('/kaggle/working/yolov5/data/coco.yaml', 'w') as outfile:\n",
    "    yaml.dump(conf, outfile, default_flow_style=False)"
   ]
  },
  {
   "cell_type": "code",
   "execution_count": 12,
   "id": "ba490e55",
   "metadata": {
    "execution": {
     "iopub.execute_input": "2022-01-18T10:02:17.843849Z",
     "iopub.status.busy": "2022-01-18T10:02:17.842955Z",
     "iopub.status.idle": "2022-01-18T10:02:17.845902Z",
     "shell.execute_reply": "2022-01-18T10:02:17.846519Z"
    },
    "papermill": {
     "duration": 0.039982,
     "end_time": "2022-01-18T10:02:17.846676",
     "exception": false,
     "start_time": "2022-01-18T10:02:17.806694",
     "status": "completed"
    },
    "tags": []
   },
   "outputs": [],
   "source": [
    "hyps = '''\n",
    "# YOLOv5 by Ultralytics, GPL-3.0 license\n",
    "# Hyperparameters for COCO training from scratch\n",
    "# python train.py --batch 40 --cfg yolov5m.yaml --weights '' --data coco.yaml --img 640 --epochs 300\n",
    "# See tutorials for hyperparameter evolution https://github.com/ultralytics/yolov5#tutorials\n",
    "\n",
    "lr0: 0.01  # initial learning rate (SGD=1E-2, Adam=1E-3)\n",
    "lrf: 0.1  # final OneCycleLR learning rate (lr0 * lrf)\n",
    "momentum: 0.937  # SGD momentum/Adam beta1\n",
    "weight_decay: 0.0005  # optimizer weight decay 5e-4\n",
    "warmup_epochs: 3.0  # warmup epochs (fractions ok)\n",
    "warmup_momentum: 0.8  # warmup initial momentum\n",
    "warmup_bias_lr: 0.1  # warmup initial bias lr\n",
    "box: 0.05  # box loss gain\n",
    "cls: 0.5  # cls loss gain\n",
    "cls_pw: 1.0  # cls BCELoss positive_weight\n",
    "obj: 1.0  # obj loss gain (scale with pixels)\n",
    "obj_pw: 1.0  # obj BCELoss positive_weight\n",
    "iou_t: 0.20  # IoU training threshold\n",
    "anchor_t: 4.0  # anchor-multiple threshold\n",
    "anchors: 3  # anchors per output layer (0 to ignore)\n",
    "fl_gamma: 0.0  # focal loss gamma (efficientDet default gamma=1.5)\n",
    "hsv_h: 0.015  # image HSV-Hue augmentation (fraction)\n",
    "hsv_s: 0.7  # image HSV-Saturation augmentation (fraction)\n",
    "hsv_v: 0.4  # image HSV-Value augmentation (fraction)\n",
    "degrees: 90  # image rotation (+/- deg)\n",
    "translate: 0.0  # image translation (+/- fraction)\n",
    "scale: 0.75  # image scale (+/- gain)\n",
    "shear: 0.0  # image shear (+/- deg)\n",
    "perspective: 0.0  # image perspective (+/- fraction), range 0-0.001\n",
    "flipud: 0.5  # image flip up-down (probability)\n",
    "fliplr: 0.5  # image flip left-right (probability)\n",
    "mosaic: 1.0  # image mosaic (probability)\n",
    "mixup: 0.5  # image mixup (probability)\n",
    "copy_paste: 0.0  # segment copy-paste (probability)\n",
    "'''\n",
    "with open('/kaggle/working//yolov5/data/hyps/hyp.heavy.2.yaml', 'w') as fp:\n",
    "    fp.write(hyps)"
   ]
  },
  {
   "cell_type": "code",
   "execution_count": 13,
   "id": "fb35a260",
   "metadata": {
    "execution": {
     "iopub.execute_input": "2022-01-18T10:02:17.918618Z",
     "iopub.status.busy": "2022-01-18T10:02:17.912302Z",
     "iopub.status.idle": "2022-01-18T18:39:27.082570Z",
     "shell.execute_reply": "2022-01-18T18:39:27.081928Z",
     "shell.execute_reply.started": "2022-01-17T17:58:52.420587Z"
    },
    "papermill": {
     "duration": 31029.206217,
     "end_time": "2022-01-18T18:39:27.082761",
     "exception": false,
     "start_time": "2022-01-18T10:02:17.876544",
     "status": "completed"
    },
    "tags": []
   },
   "outputs": [
    {
     "name": "stdout",
     "output_type": "stream",
     "text": [
      "Downloading https://ultralytics.com/assets/Arial.ttf to /root/.config/Ultralytics/Arial.ttf...\r\n",
      "\u001b[34m\u001b[1mwandb\u001b[0m: Currently logged in as: \u001b[33mothiro\u001b[0m (use `wandb login --relogin` to force relogin)\r\n",
      "\u001b[34m\u001b[1mgithub: \u001b[0mup to date with https://github.com/ultralytics/yolov5 ✅\r\n",
      "\u001b[34m\u001b[1mwandb\u001b[0m: Tracking run with wandb version 0.12.9\r\n",
      "\u001b[34m\u001b[1mwandb\u001b[0m: Resuming run \u001b[33miwant2die\u001b[0m\r\n",
      "\u001b[34m\u001b[1mwandb\u001b[0m: ⭐️ View project at \u001b[34m\u001b[4mhttps://wandb.ai/othiro/Yolo\u001b[0m\r\n",
      "\u001b[34m\u001b[1mwandb\u001b[0m: 🚀 View run at \u001b[34m\u001b[4mhttps://wandb.ai/othiro/Yolo/runs/1bqkoeue\u001b[0m\r\n",
      "\u001b[34m\u001b[1mwandb\u001b[0m: Run data is saved locally in /kaggle/working/yolov5/wandb/run-20220118_100239-1bqkoeue\r\n",
      "\u001b[34m\u001b[1mwandb\u001b[0m: Run `wandb offline` to turn off syncing.\r\n",
      "\r\n",
      "\r\n",
      "\r\n",
      "\r\n",
      "\r\n",
      "\r\n",
      "\r\n",
      "\r\n",
      "\r\n",
      "\r\n",
      "\r\n",
      "\r\n",
      "\r\n",
      "\r\n",
      "\r\n",
      "\r\n",
      "\r\n",
      "\r\n",
      "\r\n",
      "\r\n",
      "\r\n",
      "\r\n",
      "\r\n",
      "\r\n",
      "\r\n",
      "\r\n",
      "\r\n",
      "\r\n",
      "\r\n",
      "\r\n",
      "\r\n",
      "\r\n",
      "\u001b[34m\u001b[1mwandb\u001b[0m: Waiting for W&B process to finish, PID 204... (success).\r\n",
      "\u001b[34m\u001b[1mwandb\u001b[0m:                                                                                \r\n",
      "\u001b[34m\u001b[1mwandb\u001b[0m: Run history:\r\n",
      "\u001b[34m\u001b[1mwandb\u001b[0m:        metrics/mAP_0.5 ▅▁▄▆█▃▄▅██\r\n",
      "\u001b[34m\u001b[1mwandb\u001b[0m:   metrics/mAP_0.5:0.95 ▄▁▂▄▆▅▅▆██\r\n",
      "\u001b[34m\u001b[1mwandb\u001b[0m:      metrics/precision ▅▁▁█▆▃▃▄▆▆\r\n",
      "\u001b[34m\u001b[1mwandb\u001b[0m:         metrics/recall ▅▁▄▅█▂▄▅██\r\n",
      "\u001b[34m\u001b[1mwandb\u001b[0m:         train/box_loss █▆▅▄▄▃▂▂▁\r\n",
      "\u001b[34m\u001b[1mwandb\u001b[0m:         train/cls_loss ▁▁▁▁▁▁▁▁▁\r\n",
      "\u001b[34m\u001b[1mwandb\u001b[0m:         train/obj_loss █▅▅▅▅▂▂▁▁\r\n",
      "\u001b[34m\u001b[1mwandb\u001b[0m:           val/box_loss ▅██▅▃▅▄▃▁▁\r\n",
      "\u001b[34m\u001b[1mwandb\u001b[0m:           val/cls_loss ▁▁▁▁▁▁▁▁▁▁\r\n",
      "\u001b[34m\u001b[1mwandb\u001b[0m:           val/obj_loss █▅▁▃▃▇▄▆▆▆\r\n",
      "\u001b[34m\u001b[1mwandb\u001b[0m:                  x/lr0 █▇▆▅▄▃▂▁▁\r\n",
      "\u001b[34m\u001b[1mwandb\u001b[0m:                  x/lr1 █▇▆▅▄▃▂▁▁\r\n",
      "\u001b[34m\u001b[1mwandb\u001b[0m:                  x/lr2 █▇▆▅▄▃▂▁▁\r\n",
      "\u001b[34m\u001b[1mwandb\u001b[0m: \r\n",
      "\u001b[34m\u001b[1mwandb\u001b[0m: Run summary:\r\n",
      "\u001b[34m\u001b[1mwandb\u001b[0m:             best/epoch 19\r\n",
      "\u001b[34m\u001b[1mwandb\u001b[0m:           best/mAP_0.5 0.77311\r\n",
      "\u001b[34m\u001b[1mwandb\u001b[0m:      best/mAP_0.5:0.95 0.29949\r\n",
      "\u001b[34m\u001b[1mwandb\u001b[0m:         best/precision 0.8666\r\n",
      "\u001b[34m\u001b[1mwandb\u001b[0m:            best/recall 0.7167\r\n",
      "\u001b[34m\u001b[1mwandb\u001b[0m:        metrics/mAP_0.5 0.77292\r\n",
      "\u001b[34m\u001b[1mwandb\u001b[0m:   metrics/mAP_0.5:0.95 0.29867\r\n",
      "\u001b[34m\u001b[1mwandb\u001b[0m:      metrics/precision 0.86474\r\n",
      "\u001b[34m\u001b[1mwandb\u001b[0m:         metrics/recall 0.71753\r\n",
      "\u001b[34m\u001b[1mwandb\u001b[0m:         train/box_loss 0.04091\r\n",
      "\u001b[34m\u001b[1mwandb\u001b[0m:         train/cls_loss 0.0\r\n",
      "\u001b[34m\u001b[1mwandb\u001b[0m:         train/obj_loss 0.05929\r\n",
      "\u001b[34m\u001b[1mwandb\u001b[0m:           val/box_loss 0.03684\r\n",
      "\u001b[34m\u001b[1mwandb\u001b[0m:           val/cls_loss 0.0\r\n",
      "\u001b[34m\u001b[1mwandb\u001b[0m:           val/obj_loss 0.02063\r\n",
      "\u001b[34m\u001b[1mwandb\u001b[0m:                  x/lr0 0.00122\r\n",
      "\u001b[34m\u001b[1mwandb\u001b[0m:                  x/lr1 0.00122\r\n",
      "\u001b[34m\u001b[1mwandb\u001b[0m:                  x/lr2 0.00122\r\n",
      "\u001b[34m\u001b[1mwandb\u001b[0m: \r\n",
      "\u001b[34m\u001b[1mwandb\u001b[0m: Synced 3 W&B file(s), 172 media file(s), 1 artifact file(s) and 0 other file(s)\r\n",
      "\u001b[34m\u001b[1mwandb\u001b[0m: Synced \u001b[33miwant2die\u001b[0m: \u001b[34mhttps://wandb.ai/othiro/Yolo/runs/1bqkoeue\u001b[0m\r\n",
      "\u001b[34m\u001b[1mwandb\u001b[0m: Find logs at: ./wandb/run-20220118_100239-1bqkoeue/logs/debug.log\r\n",
      "\u001b[34m\u001b[1mwandb\u001b[0m: \r\n",
      "Exception ignored in: <function _MultiProcessingDataLoaderIter.__del__ at 0x7fb9a82f1950>\r\n",
      "Traceback (most recent call last):\r\n",
      "  File \"/opt/conda/lib/python3.7/site-packages/torch/utils/data/dataloader.py\", line 1328, in __del__\r\n",
      "  File \"/opt/conda/lib/python3.7/site-packages/torch/utils/data/dataloader.py\", line 1262, in _shutdown_workers\r\n",
      "AttributeError: 'NoneType' object has no attribute 'python_exit_status'\r\n",
      "Exception ignored in: <function _MultiProcessingDataLoaderIter.__del__ at 0x7fb9a82f1950>\r\n",
      "Traceback (most recent call last):\r\n",
      "  File \"/opt/conda/lib/python3.7/site-packages/torch/utils/data/dataloader.py\", line 1328, in __del__\r\n",
      "  File \"/opt/conda/lib/python3.7/site-packages/torch/utils/data/dataloader.py\", line 1262, in _shutdown_workers\r\n",
      "AttributeError: 'NoneType' object has no attribute 'python_exit_status'\r\n"
     ]
    }
   ],
   "source": [
    "!python train.py --img 3000 --batch-size -1 --epochs 20 --data coco.yaml  --project Yolo --name iwant2die  --hyp data/hyps/hyp.heavy.2.yaml --resume /kaggle/input/yolov5nano/yolov5/Yolo/iwant2die/weights/last.pt"
   ]
  },
  {
   "cell_type": "code",
   "execution_count": null,
   "id": "76919beb",
   "metadata": {
    "execution": {
     "iopub.execute_input": "2022-01-11T10:24:55.52925Z",
     "iopub.status.busy": "2022-01-11T10:24:55.528476Z",
     "iopub.status.idle": "2022-01-11T10:24:56.356211Z",
     "shell.execute_reply": "2022-01-11T10:24:56.355313Z",
     "shell.execute_reply.started": "2022-01-11T10:24:55.529172Z"
    },
    "papermill": {
     "duration": 2.471747,
     "end_time": "2022-01-18T18:39:32.383850",
     "exception": false,
     "start_time": "2022-01-18T18:39:29.912103",
     "status": "completed"
    },
    "tags": []
   },
   "outputs": [],
   "source": []
  },
  {
   "cell_type": "code",
   "execution_count": null,
   "id": "d1758c1b",
   "metadata": {
    "papermill": {
     "duration": 2.487059,
     "end_time": "2022-01-18T18:39:37.353189",
     "exception": false,
     "start_time": "2022-01-18T18:39:34.866130",
     "status": "completed"
    },
    "tags": []
   },
   "outputs": [],
   "source": []
  }
 ],
 "metadata": {
  "kernelspec": {
   "display_name": "Python 3",
   "language": "python",
   "name": "python3"
  },
  "language_info": {
   "codemirror_mode": {
    "name": "ipython",
    "version": 3
   },
   "file_extension": ".py",
   "mimetype": "text/x-python",
   "name": "python",
   "nbconvert_exporter": "python",
   "pygments_lexer": "ipython3",
   "version": "3.7.12"
  },
  "papermill": {
   "default_parameters": {},
   "duration": 31164.766004,
   "end_time": "2022-01-18T18:39:41.056229",
   "environment_variables": {},
   "exception": null,
   "input_path": "__notebook__.ipynb",
   "output_path": "__notebook__.ipynb",
   "parameters": {},
   "start_time": "2022-01-18T10:00:16.290225",
   "version": "2.3.3"
  },
  "widgets": {
   "application/vnd.jupyter.widget-state+json": {
    "state": {
     "0d7213c1555d4331a8dd56e43ba319f8": {
      "model_module": "@jupyter-widgets/controls",
      "model_module_version": "1.5.0",
      "model_name": "HBoxModel",
      "state": {
       "_dom_classes": [],
       "_model_module": "@jupyter-widgets/controls",
       "_model_module_version": "1.5.0",
       "_model_name": "HBoxModel",
       "_view_count": null,
       "_view_module": "@jupyter-widgets/controls",
       "_view_module_version": "1.5.0",
       "_view_name": "HBoxView",
       "box_style": "",
       "children": [
        "IPY_MODEL_7c3379ae79c343c8b1f24218bd39bd08",
        "IPY_MODEL_b2c43c1005aa4d1d862c51ace108b255",
        "IPY_MODEL_2707e3816adf4fdba166689d07d65fa9"
       ],
       "layout": "IPY_MODEL_8e16b581d45b4622b75dea8306cce25e"
      }
     },
     "108d53d584974b02b99117314617f7c2": {
      "model_module": "@jupyter-widgets/controls",
      "model_module_version": "1.5.0",
      "model_name": "DescriptionStyleModel",
      "state": {
       "_model_module": "@jupyter-widgets/controls",
       "_model_module_version": "1.5.0",
       "_model_name": "DescriptionStyleModel",
       "_view_count": null,
       "_view_module": "@jupyter-widgets/base",
       "_view_module_version": "1.2.0",
       "_view_name": "StyleView",
       "description_width": ""
      }
     },
     "1c2ddf201008482db69c8cd8b8a272a0": {
      "model_module": "@jupyter-widgets/base",
      "model_module_version": "1.2.0",
      "model_name": "LayoutModel",
      "state": {
       "_model_module": "@jupyter-widgets/base",
       "_model_module_version": "1.2.0",
       "_model_name": "LayoutModel",
       "_view_count": null,
       "_view_module": "@jupyter-widgets/base",
       "_view_module_version": "1.2.0",
       "_view_name": "LayoutView",
       "align_content": null,
       "align_items": null,
       "align_self": null,
       "border": null,
       "bottom": null,
       "display": null,
       "flex": null,
       "flex_flow": null,
       "grid_area": null,
       "grid_auto_columns": null,
       "grid_auto_flow": null,
       "grid_auto_rows": null,
       "grid_column": null,
       "grid_gap": null,
       "grid_row": null,
       "grid_template_areas": null,
       "grid_template_columns": null,
       "grid_template_rows": null,
       "height": null,
       "justify_content": null,
       "justify_items": null,
       "left": null,
       "margin": null,
       "max_height": null,
       "max_width": null,
       "min_height": null,
       "min_width": null,
       "object_fit": null,
       "object_position": null,
       "order": null,
       "overflow": null,
       "overflow_x": null,
       "overflow_y": null,
       "padding": null,
       "right": null,
       "top": null,
       "visibility": null,
       "width": null
      }
     },
     "2707e3816adf4fdba166689d07d65fa9": {
      "model_module": "@jupyter-widgets/controls",
      "model_module_version": "1.5.0",
      "model_name": "HTMLModel",
      "state": {
       "_dom_classes": [],
       "_model_module": "@jupyter-widgets/controls",
       "_model_module_version": "1.5.0",
       "_model_name": "HTMLModel",
       "_view_count": null,
       "_view_module": "@jupyter-widgets/controls",
       "_view_module_version": "1.5.0",
       "_view_name": "HTMLView",
       "description": "",
       "description_tooltip": null,
       "layout": "IPY_MODEL_1c2ddf201008482db69c8cd8b8a272a0",
       "placeholder": "​",
       "style": "IPY_MODEL_65bf8ccf2a6d48b6ac9899082eb6e088",
       "value": " 5689/5689 [01:12&lt;00:00, 70.04it/s]"
      }
     },
     "40f28dd63a194c06824a08d948ee284c": {
      "model_module": "@jupyter-widgets/base",
      "model_module_version": "1.2.0",
      "model_name": "LayoutModel",
      "state": {
       "_model_module": "@jupyter-widgets/base",
       "_model_module_version": "1.2.0",
       "_model_name": "LayoutModel",
       "_view_count": null,
       "_view_module": "@jupyter-widgets/base",
       "_view_module_version": "1.2.0",
       "_view_name": "LayoutView",
       "align_content": null,
       "align_items": null,
       "align_self": null,
       "border": null,
       "bottom": null,
       "display": null,
       "flex": null,
       "flex_flow": null,
       "grid_area": null,
       "grid_auto_columns": null,
       "grid_auto_flow": null,
       "grid_auto_rows": null,
       "grid_column": null,
       "grid_gap": null,
       "grid_row": null,
       "grid_template_areas": null,
       "grid_template_columns": null,
       "grid_template_rows": null,
       "height": null,
       "justify_content": null,
       "justify_items": null,
       "left": null,
       "margin": null,
       "max_height": null,
       "max_width": null,
       "min_height": null,
       "min_width": null,
       "object_fit": null,
       "object_position": null,
       "order": null,
       "overflow": null,
       "overflow_x": null,
       "overflow_y": null,
       "padding": null,
       "right": null,
       "top": null,
       "visibility": null,
       "width": null
      }
     },
     "65bf8ccf2a6d48b6ac9899082eb6e088": {
      "model_module": "@jupyter-widgets/controls",
      "model_module_version": "1.5.0",
      "model_name": "DescriptionStyleModel",
      "state": {
       "_model_module": "@jupyter-widgets/controls",
       "_model_module_version": "1.5.0",
       "_model_name": "DescriptionStyleModel",
       "_view_count": null,
       "_view_module": "@jupyter-widgets/base",
       "_view_module_version": "1.2.0",
       "_view_name": "StyleView",
       "description_width": ""
      }
     },
     "7c3379ae79c343c8b1f24218bd39bd08": {
      "model_module": "@jupyter-widgets/controls",
      "model_module_version": "1.5.0",
      "model_name": "HTMLModel",
      "state": {
       "_dom_classes": [],
       "_model_module": "@jupyter-widgets/controls",
       "_model_module_version": "1.5.0",
       "_model_name": "HTMLModel",
       "_view_count": null,
       "_view_module": "@jupyter-widgets/controls",
       "_view_module_version": "1.5.0",
       "_view_name": "HTMLView",
       "description": "",
       "description_tooltip": null,
       "layout": "IPY_MODEL_b5758d902304439d9606c9b0d6e05245",
       "placeholder": "​",
       "style": "IPY_MODEL_108d53d584974b02b99117314617f7c2",
       "value": "100%"
      }
     },
     "8e16b581d45b4622b75dea8306cce25e": {
      "model_module": "@jupyter-widgets/base",
      "model_module_version": "1.2.0",
      "model_name": "LayoutModel",
      "state": {
       "_model_module": "@jupyter-widgets/base",
       "_model_module_version": "1.2.0",
       "_model_name": "LayoutModel",
       "_view_count": null,
       "_view_module": "@jupyter-widgets/base",
       "_view_module_version": "1.2.0",
       "_view_name": "LayoutView",
       "align_content": null,
       "align_items": null,
       "align_self": null,
       "border": null,
       "bottom": null,
       "display": null,
       "flex": null,
       "flex_flow": null,
       "grid_area": null,
       "grid_auto_columns": null,
       "grid_auto_flow": null,
       "grid_auto_rows": null,
       "grid_column": null,
       "grid_gap": null,
       "grid_row": null,
       "grid_template_areas": null,
       "grid_template_columns": null,
       "grid_template_rows": null,
       "height": null,
       "justify_content": null,
       "justify_items": null,
       "left": null,
       "margin": null,
       "max_height": null,
       "max_width": null,
       "min_height": null,
       "min_width": null,
       "object_fit": null,
       "object_position": null,
       "order": null,
       "overflow": null,
       "overflow_x": null,
       "overflow_y": null,
       "padding": null,
       "right": null,
       "top": null,
       "visibility": null,
       "width": null
      }
     },
     "b2c43c1005aa4d1d862c51ace108b255": {
      "model_module": "@jupyter-widgets/controls",
      "model_module_version": "1.5.0",
      "model_name": "FloatProgressModel",
      "state": {
       "_dom_classes": [],
       "_model_module": "@jupyter-widgets/controls",
       "_model_module_version": "1.5.0",
       "_model_name": "FloatProgressModel",
       "_view_count": null,
       "_view_module": "@jupyter-widgets/controls",
       "_view_module_version": "1.5.0",
       "_view_name": "ProgressView",
       "bar_style": "success",
       "description": "",
       "description_tooltip": null,
       "layout": "IPY_MODEL_40f28dd63a194c06824a08d948ee284c",
       "max": 5689.0,
       "min": 0.0,
       "orientation": "horizontal",
       "style": "IPY_MODEL_e3d4a84b9b704490af587cf8940a6b71",
       "value": 5689.0
      }
     },
     "b5758d902304439d9606c9b0d6e05245": {
      "model_module": "@jupyter-widgets/base",
      "model_module_version": "1.2.0",
      "model_name": "LayoutModel",
      "state": {
       "_model_module": "@jupyter-widgets/base",
       "_model_module_version": "1.2.0",
       "_model_name": "LayoutModel",
       "_view_count": null,
       "_view_module": "@jupyter-widgets/base",
       "_view_module_version": "1.2.0",
       "_view_name": "LayoutView",
       "align_content": null,
       "align_items": null,
       "align_self": null,
       "border": null,
       "bottom": null,
       "display": null,
       "flex": null,
       "flex_flow": null,
       "grid_area": null,
       "grid_auto_columns": null,
       "grid_auto_flow": null,
       "grid_auto_rows": null,
       "grid_column": null,
       "grid_gap": null,
       "grid_row": null,
       "grid_template_areas": null,
       "grid_template_columns": null,
       "grid_template_rows": null,
       "height": null,
       "justify_content": null,
       "justify_items": null,
       "left": null,
       "margin": null,
       "max_height": null,
       "max_width": null,
       "min_height": null,
       "min_width": null,
       "object_fit": null,
       "object_position": null,
       "order": null,
       "overflow": null,
       "overflow_x": null,
       "overflow_y": null,
       "padding": null,
       "right": null,
       "top": null,
       "visibility": null,
       "width": null
      }
     },
     "e3d4a84b9b704490af587cf8940a6b71": {
      "model_module": "@jupyter-widgets/controls",
      "model_module_version": "1.5.0",
      "model_name": "ProgressStyleModel",
      "state": {
       "_model_module": "@jupyter-widgets/controls",
       "_model_module_version": "1.5.0",
       "_model_name": "ProgressStyleModel",
       "_view_count": null,
       "_view_module": "@jupyter-widgets/base",
       "_view_module_version": "1.2.0",
       "_view_name": "StyleView",
       "bar_color": null,
       "description_width": ""
      }
     }
    },
    "version_major": 2,
    "version_minor": 0
   }
  }
 },
 "nbformat": 4,
 "nbformat_minor": 5
}
