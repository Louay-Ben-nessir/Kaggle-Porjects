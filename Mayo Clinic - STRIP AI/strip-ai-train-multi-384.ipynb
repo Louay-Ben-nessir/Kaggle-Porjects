{
 "cells": [
  {
   "cell_type": "markdown",
   "id": "76de6459",
   "metadata": {
    "papermill": {
     "duration": 0.011791,
     "end_time": "2022-09-27T19:30:50.547503",
     "exception": false,
     "start_time": "2022-09-27T19:30:50.535712",
     "status": "completed"
    },
    "tags": []
   },
   "source": [
    "# 📚 Import Libraries"
   ]
  },
  {
   "cell_type": "code",
   "execution_count": 1,
   "id": "c0d22a01",
   "metadata": {
    "execution": {
     "iopub.execute_input": "2022-09-27T19:30:50.569801Z",
     "iopub.status.busy": "2022-09-27T19:30:50.569290Z",
     "iopub.status.idle": "2022-09-27T19:31:14.161166Z",
     "shell.execute_reply": "2022-09-27T19:31:14.159660Z"
    },
    "papermill": {
     "duration": 23.606382,
     "end_time": "2022-09-27T19:31:14.164121",
     "exception": false,
     "start_time": "2022-09-27T19:30:50.557739",
     "status": "completed"
    },
    "tags": []
   },
   "outputs": [
    {
     "name": "stdout",
     "output_type": "stream",
     "text": [
      "Collecting timm\r\n",
      "  Downloading timm-0.6.7-py3-none-any.whl (509 kB)\r\n",
      "\u001b[2K     \u001b[90m━━━━━━━━━━━━━━━━━━━━━━━━━━━━━━━━━━━━━━━\u001b[0m \u001b[32m510.0/510.0 kB\u001b[0m \u001b[31m6.4 MB/s\u001b[0m eta \u001b[36m0:00:00\u001b[0m\r\n",
      "\u001b[?25hRequirement already satisfied: torch>=1.4 in /opt/conda/lib/python3.7/site-packages (from timm) (1.11.0+cpu)\r\n",
      "Requirement already satisfied: torchvision in /opt/conda/lib/python3.7/site-packages (from timm) (0.12.0+cpu)\r\n",
      "Requirement already satisfied: typing-extensions in /opt/conda/lib/python3.7/site-packages (from torch>=1.4->timm) (4.1.1)\r\n",
      "Requirement already satisfied: numpy in /opt/conda/lib/python3.7/site-packages (from torchvision->timm) (1.21.6)\r\n",
      "Requirement already satisfied: pillow!=8.3.*,>=5.3.0 in /opt/conda/lib/python3.7/site-packages (from torchvision->timm) (9.1.1)\r\n",
      "Requirement already satisfied: requests in /opt/conda/lib/python3.7/site-packages (from torchvision->timm) (2.27.1)\r\n",
      "Requirement already satisfied: charset-normalizer~=2.0.0 in /opt/conda/lib/python3.7/site-packages (from requests->torchvision->timm) (2.0.12)\r\n",
      "Requirement already satisfied: certifi>=2017.4.17 in /opt/conda/lib/python3.7/site-packages (from requests->torchvision->timm) (2022.6.15)\r\n",
      "Requirement already satisfied: idna<4,>=2.5 in /opt/conda/lib/python3.7/site-packages (from requests->torchvision->timm) (3.3)\r\n",
      "Requirement already satisfied: urllib3<1.27,>=1.21.1 in /opt/conda/lib/python3.7/site-packages (from requests->torchvision->timm) (1.26.9)\r\n",
      "Installing collected packages: timm\r\n",
      "Successfully installed timm-0.6.7\r\n",
      "\u001b[33mWARNING: Running pip as the 'root' user can result in broken permissions and conflicting behaviour with the system package manager. It is recommended to use a virtual environment instead: https://pip.pypa.io/warnings/venv\u001b[0m\u001b[33m\r\n",
      "\u001b[0mCollecting pytorch_metric_learning\r\n",
      "  Downloading pytorch_metric_learning-1.6.2-py3-none-any.whl (111 kB)\r\n",
      "\u001b[2K     \u001b[90m━━━━━━━━━━━━━━━━━━━━━━━━━━━━━━━━━━━━━━━\u001b[0m \u001b[32m111.4/111.4 kB\u001b[0m \u001b[31m2.7 MB/s\u001b[0m eta \u001b[36m0:00:00\u001b[0m\r\n",
      "\u001b[?25hRequirement already satisfied: torchvision in /opt/conda/lib/python3.7/site-packages (from pytorch_metric_learning) (0.12.0+cpu)\r\n",
      "Requirement already satisfied: scikit-learn in /opt/conda/lib/python3.7/site-packages (from pytorch_metric_learning) (1.0.2)\r\n",
      "Requirement already satisfied: tqdm in /opt/conda/lib/python3.7/site-packages (from pytorch_metric_learning) (4.64.0)\r\n",
      "Requirement already satisfied: numpy in /opt/conda/lib/python3.7/site-packages (from pytorch_metric_learning) (1.21.6)\r\n",
      "Requirement already satisfied: torch>=1.6.0 in /opt/conda/lib/python3.7/site-packages (from pytorch_metric_learning) (1.11.0+cpu)\r\n",
      "Requirement already satisfied: typing-extensions in /opt/conda/lib/python3.7/site-packages (from torch>=1.6.0->pytorch_metric_learning) (4.1.1)\r\n",
      "Requirement already satisfied: joblib>=0.11 in /opt/conda/lib/python3.7/site-packages (from scikit-learn->pytorch_metric_learning) (1.1.0)\r\n",
      "Requirement already satisfied: threadpoolctl>=2.0.0 in /opt/conda/lib/python3.7/site-packages (from scikit-learn->pytorch_metric_learning) (3.1.0)\r\n",
      "Requirement already satisfied: scipy>=1.1.0 in /opt/conda/lib/python3.7/site-packages (from scikit-learn->pytorch_metric_learning) (1.7.3)\r\n",
      "Requirement already satisfied: requests in /opt/conda/lib/python3.7/site-packages (from torchvision->pytorch_metric_learning) (2.27.1)\r\n",
      "Requirement already satisfied: pillow!=8.3.*,>=5.3.0 in /opt/conda/lib/python3.7/site-packages (from torchvision->pytorch_metric_learning) (9.1.1)\r\n",
      "Requirement already satisfied: urllib3<1.27,>=1.21.1 in /opt/conda/lib/python3.7/site-packages (from requests->torchvision->pytorch_metric_learning) (1.26.9)\r\n",
      "Requirement already satisfied: idna<4,>=2.5 in /opt/conda/lib/python3.7/site-packages (from requests->torchvision->pytorch_metric_learning) (3.3)\r\n",
      "Requirement already satisfied: charset-normalizer~=2.0.0 in /opt/conda/lib/python3.7/site-packages (from requests->torchvision->pytorch_metric_learning) (2.0.12)\r\n",
      "Requirement already satisfied: certifi>=2017.4.17 in /opt/conda/lib/python3.7/site-packages (from requests->torchvision->pytorch_metric_learning) (2022.6.15)\r\n",
      "Installing collected packages: pytorch_metric_learning\r\n",
      "Successfully installed pytorch_metric_learning-1.6.2\r\n",
      "\u001b[33mWARNING: Running pip as the 'root' user can result in broken permissions and conflicting behaviour with the system package manager. It is recommended to use a virtual environment instead: https://pip.pypa.io/warnings/venv\u001b[0m\u001b[33m\r\n",
      "\u001b[0m"
     ]
    }
   ],
   "source": [
    "!pip install timm\n",
    "!pip install pytorch_metric_learning"
   ]
  },
  {
   "cell_type": "code",
   "execution_count": 2,
   "id": "e94eefee",
   "metadata": {
    "execution": {
     "iopub.execute_input": "2022-09-27T19:31:14.189213Z",
     "iopub.status.busy": "2022-09-27T19:31:14.188794Z",
     "iopub.status.idle": "2022-09-27T19:31:19.541984Z",
     "shell.execute_reply": "2022-09-27T19:31:19.540453Z"
    },
    "papermill": {
     "duration": 5.369352,
     "end_time": "2022-09-27T19:31:19.545013",
     "exception": false,
     "start_time": "2022-09-27T19:31:14.175661",
     "status": "completed"
    },
    "tags": []
   },
   "outputs": [],
   "source": [
    "import pandas as pd\n",
    "import numpy as np\n",
    "from glob import glob\n",
    "from collections import defaultdict\n",
    "from tqdm import tqdm\n",
    "import time\n",
    "import os \n",
    "import copy\n",
    "import gc\n",
    "\n",
    "# visualization\n",
    "import cv2\n",
    "import matplotlib.pyplot as plt\n",
    "\n",
    "# Sklearn\n",
    "from sklearn.model_selection import StratifiedKFold, KFold, StratifiedGroupKFold,GroupKFold \n",
    "\n",
    "# PyTorch \n",
    "import torch\n",
    "import torch.nn as nn\n",
    "import torch.optim as optim\n",
    "from torch.optim import lr_scheduler\n",
    "from torch.utils.data import Dataset, DataLoader\n",
    "from torch.cuda import amp\n",
    "from pytorch_metric_learning import losses\n",
    "import timm\n",
    "\n",
    "# Albumentations for augmentations\n",
    "import albumentations as A\n",
    "from albumentations.pytorch import ToTensorV2\n",
    "\n",
    "# Metrics \n",
    "from sklearn.metrics import accuracy_score, f1_score, precision_score, recall_score\n",
    "\n",
    "# For colored terminal text\n",
    "from colorama import Fore, Back, Style\n",
    "c_  = Fore.GREEN\n",
    "sr_ = Style.RESET_ALL\n",
    "\n",
    "import warnings\n",
    "warnings.filterwarnings('ignore')"
   ]
  },
  {
   "cell_type": "code",
   "execution_count": 3,
   "id": "a63deed7",
   "metadata": {
    "execution": {
     "iopub.execute_input": "2022-09-27T19:31:19.571947Z",
     "iopub.status.busy": "2022-09-27T19:31:19.571123Z",
     "iopub.status.idle": "2022-09-27T19:31:21.744274Z",
     "shell.execute_reply": "2022-09-27T19:31:21.743353Z"
    },
    "papermill": {
     "duration": 2.189669,
     "end_time": "2022-09-27T19:31:21.746791",
     "exception": false,
     "start_time": "2022-09-27T19:31:19.557122",
     "status": "completed"
    },
    "tags": []
   },
   "outputs": [
    {
     "name": "stderr",
     "output_type": "stream",
     "text": [
      "\u001b[34m\u001b[1mwandb\u001b[0m: W&B API key is configured. Use \u001b[1m`wandb login --relogin`\u001b[0m to force relogin\n",
      "\u001b[34m\u001b[1mwandb\u001b[0m: \u001b[33mWARNING\u001b[0m If you're specifying your api key in code, ensure this code is not shared publicly.\n",
      "\u001b[34m\u001b[1mwandb\u001b[0m: \u001b[33mWARNING\u001b[0m Consider setting the WANDB_API_KEY environment variable, or running `wandb login` from the command line.\n",
      "\u001b[34m\u001b[1mwandb\u001b[0m: Appending key for api.wandb.ai to your netrc file: /root/.netrc\n"
     ]
    }
   ],
   "source": [
    "import wandb\n",
    "\n",
    "try:\n",
    "    from kaggle_secrets import UserSecretsClient\n",
    "    user_secrets = UserSecretsClient()\n",
    "    api_key = user_secrets.get_secret(\"WANDB\")\n",
    "    wandb.login(key=api_key)\n",
    "    anonymous = None\n",
    "except:\n",
    "    anonymous = \"must\"\n",
    "    print('To use your W&B account,\\nGo to Add-ons -> Secrets and provide your W&B access token. Use the Label name as WANDB. \\nGet your W&B access token from here: https://wandb.ai/authorize')"
   ]
  },
  {
   "cell_type": "markdown",
   "id": "c17cb94e",
   "metadata": {
    "papermill": {
     "duration": 0.011825,
     "end_time": "2022-09-27T19:31:21.770341",
     "exception": false,
     "start_time": "2022-09-27T19:31:21.758516",
     "status": "completed"
    },
    "tags": []
   },
   "source": [
    "# ⚙️ Configuration"
   ]
  },
  {
   "cell_type": "code",
   "execution_count": 4,
   "id": "cfa48589",
   "metadata": {
    "execution": {
     "iopub.execute_input": "2022-09-27T19:31:21.795393Z",
     "iopub.status.busy": "2022-09-27T19:31:21.794376Z",
     "iopub.status.idle": "2022-09-27T19:31:21.802339Z",
     "shell.execute_reply": "2022-09-27T19:31:21.801498Z"
    },
    "papermill": {
     "duration": 0.022983,
     "end_time": "2022-09-27T19:31:21.804743",
     "exception": false,
     "start_time": "2022-09-27T19:31:21.781760",
     "status": "completed"
    },
    "tags": []
   },
   "outputs": [
    {
     "name": "stdout",
     "output_type": "stream",
     "text": [
      "2\n"
     ]
    }
   ],
   "source": [
    "class CFG:\n",
    "    seed          = 913\n",
    "    debug         = False # set debug=False for Full Training\n",
    "    comment       = \"eff b7 more more 0.15 satruration on data\"\n",
    "    n_flods       = 5\n",
    "    backbone      = \"convnext_tiny\"\n",
    "    train_bs      = 1\n",
    "    valid_bs      = train_bs\n",
    "    epochs        = 60\n",
    "    lr            = 0.00005\n",
    "    scheduler     = 'CosineAnnealingLR'\n",
    "    min_lr        = 1e-7\n",
    "    T_max         = int(30000/train_bs*epochs)+50\n",
    "    T_0           = 25\n",
    "    warmup_epochs = 1\n",
    "    wd            = 0.01\n",
    "    n_accumulate  = 2#max(1, 32//train_bs)\n",
    "    device        = torch.device(\"cuda:0\" if torch.cuda.is_available() else \"cpu\")\n",
    "    N_slides      = 45\n",
    "print(CFG.n_accumulate)"
   ]
  },
  {
   "cell_type": "code",
   "execution_count": 5,
   "id": "20156cbd",
   "metadata": {
    "execution": {
     "iopub.execute_input": "2022-09-27T19:31:21.829601Z",
     "iopub.status.busy": "2022-09-27T19:31:21.829203Z",
     "iopub.status.idle": "2022-09-27T19:31:21.839649Z",
     "shell.execute_reply": "2022-09-27T19:31:21.838691Z"
    },
    "papermill": {
     "duration": 0.025769,
     "end_time": "2022-09-27T19:31:21.841860",
     "exception": false,
     "start_time": "2022-09-27T19:31:21.816091",
     "status": "completed"
    },
    "tags": []
   },
   "outputs": [
    {
     "name": "stdout",
     "output_type": "stream",
     "text": [
      "> SEEDING DONE\n"
     ]
    }
   ],
   "source": [
    "def set_seed(seed = 42):\n",
    "    np.random.seed(seed)\n",
    "    #random.seed(seed)\n",
    "    torch.manual_seed(seed)\n",
    "    torch.cuda.manual_seed(seed)\n",
    "    # When running on the CuDNN backend, two further options must be set\n",
    "    torch.backends.cudnn.deterministic = True\n",
    "    torch.backends.cudnn.benchmark = False\n",
    "    # Set a fixed value for the hash seed\n",
    "    os.environ['PYTHONHASHSEED'] = str(seed)\n",
    "    print('> SEEDING DONE')\n",
    "    \n",
    "set_seed(CFG.seed)"
   ]
  },
  {
   "cell_type": "code",
   "execution_count": 6,
   "id": "c212aa72",
   "metadata": {
    "execution": {
     "iopub.execute_input": "2022-09-27T19:31:21.866639Z",
     "iopub.status.busy": "2022-09-27T19:31:21.866220Z",
     "iopub.status.idle": "2022-09-27T19:31:21.871720Z",
     "shell.execute_reply": "2022-09-27T19:31:21.870624Z"
    },
    "papermill": {
     "duration": 0.020502,
     "end_time": "2022-09-27T19:31:21.873855",
     "exception": false,
     "start_time": "2022-09-27T19:31:21.853353",
     "status": "completed"
    },
    "tags": []
   },
   "outputs": [],
   "source": [
    "Data_dir = [f\"../input/cleanedrescaled384-{i}/train/*\" for i in range(1,9)] #+ [f\"../input/mayo-train-images-size1024-n16/train_images_{i}/*\" for i in range(1,9)]"
   ]
  },
  {
   "cell_type": "markdown",
   "id": "ad733316",
   "metadata": {
    "papermill": {
     "duration": 0.011094,
     "end_time": "2022-09-27T19:31:21.896281",
     "exception": false,
     "start_time": "2022-09-27T19:31:21.885187",
     "status": "completed"
    },
    "tags": []
   },
   "source": [
    "# ❗ Data"
   ]
  },
  {
   "cell_type": "code",
   "execution_count": 7,
   "id": "7b376fa4",
   "metadata": {
    "execution": {
     "iopub.execute_input": "2022-09-27T19:31:21.920569Z",
     "iopub.status.busy": "2022-09-27T19:31:21.920144Z",
     "iopub.status.idle": "2022-09-27T19:31:21.925320Z",
     "shell.execute_reply": "2022-09-27T19:31:21.924192Z"
    },
    "papermill": {
     "duration": 0.019799,
     "end_time": "2022-09-27T19:31:21.927383",
     "exception": false,
     "start_time": "2022-09-27T19:31:21.907584",
     "status": "completed"
    },
    "tags": []
   },
   "outputs": [],
   "source": [
    "skip = [\"d4c955_0\",\"e26a04_0\",\"e72352_0\"]#,\"d7dc3e_0\",\"f3e9f6_0\",\"f3e9f6_0\",\"dbd64b_0\"]"
   ]
  },
  {
   "cell_type": "code",
   "execution_count": 8,
   "id": "fdeb9202",
   "metadata": {
    "execution": {
     "iopub.execute_input": "2022-09-27T19:31:21.951760Z",
     "iopub.status.busy": "2022-09-27T19:31:21.951324Z",
     "iopub.status.idle": "2022-09-27T19:31:21.962125Z",
     "shell.execute_reply": "2022-09-27T19:31:21.961025Z"
    },
    "papermill": {
     "duration": 0.025485,
     "end_time": "2022-09-27T19:31:21.964207",
     "exception": false,
     "start_time": "2022-09-27T19:31:21.938722",
     "status": "completed"
    },
    "tags": []
   },
   "outputs": [],
   "source": [
    "def get_data_info(paths , train = True):\n",
    "    img_prop = defaultdict(list)\n",
    "    \n",
    "    for i, path in tqdm(enumerate(paths), total = len(paths),desc = \"making dataframe\"):\n",
    "        img_info =  path.split('/')[-1]\n",
    "        if len(img_info.split(\"_\")) == 4:\n",
    "            patient_id , image_num  , centre_id ,slice_num= img_info.split(\"_\")\n",
    "        else:\n",
    "            patient_id , image_num   ,slice_num= img_info.split(\"_\")\n",
    "        #tl_pixel = tl_pixel.split('.')[0]\n",
    "        #centre_id = centre_id.split('.jpg')[0]\n",
    "        \n",
    "        img_prop['image_id'].append(f\"{patient_id}_{image_num}\")\n",
    "        img_prop['patient_id'].append(patient_id)\n",
    "        img_prop['image_num'].append(image_num)\n",
    "        img_prop['slice_num'].append(slice_num.split('.jpg')[0])\n",
    "\n",
    "        img_prop['path'].append(path)\n",
    "        #img_prop['tl_pixel'].append(tl_pixel)\n",
    "        \n",
    "        if train:\n",
    "            label = train_data[train_data[\"image_id\"]==f\"{patient_id}_{image_num}\"].label.item()\n",
    "            \n",
    "            img_prop['label'].append(label)\n",
    "            \n",
    "        \n",
    "        #img_prop['density'].append(extra_info)\n",
    "    \n",
    "    image_data = pd.DataFrame(img_prop)\n",
    "\n",
    "    image_data.sort_values(by='image_id', inplace=True)\n",
    "    image_data.reset_index(inplace=True, drop=True)\n",
    "    #image_data['density'] = image_data['density'].astype(np.float16)\n",
    "    \n",
    "    return image_data"
   ]
  },
  {
   "cell_type": "code",
   "execution_count": 9,
   "id": "a7fc1a36",
   "metadata": {
    "execution": {
     "iopub.execute_input": "2022-09-27T19:31:21.988879Z",
     "iopub.status.busy": "2022-09-27T19:31:21.988465Z",
     "iopub.status.idle": "2022-09-27T19:31:22.005413Z",
     "shell.execute_reply": "2022-09-27T19:31:22.004539Z"
    },
    "papermill": {
     "duration": 0.032016,
     "end_time": "2022-09-27T19:31:22.007599",
     "exception": false,
     "start_time": "2022-09-27T19:31:21.975583",
     "status": "completed"
    },
    "tags": []
   },
   "outputs": [],
   "source": [
    "train_data = pd.read_csv(\"../input/mayo-clinic-strip-ai/train.csv\")"
   ]
  },
  {
   "cell_type": "code",
   "execution_count": 10,
   "id": "79d0bcf4",
   "metadata": {
    "execution": {
     "iopub.execute_input": "2022-09-27T19:31:22.032639Z",
     "iopub.status.busy": "2022-09-27T19:31:22.031930Z",
     "iopub.status.idle": "2022-09-27T19:31:39.517304Z",
     "shell.execute_reply": "2022-09-27T19:31:39.516135Z"
    },
    "papermill": {
     "duration": 17.500765,
     "end_time": "2022-09-27T19:31:39.519922",
     "exception": false,
     "start_time": "2022-09-27T19:31:22.019157",
     "status": "completed"
    },
    "tags": []
   },
   "outputs": [
    {
     "name": "stderr",
     "output_type": "stream",
     "text": [
      "making dataframe: 100%|██████████| 30240/30240 [00:16<00:00, 1844.19it/s]\n"
     ]
    },
    {
     "data": {
      "text/html": [
       "<div>\n",
       "<style scoped>\n",
       "    .dataframe tbody tr th:only-of-type {\n",
       "        vertical-align: middle;\n",
       "    }\n",
       "\n",
       "    .dataframe tbody tr th {\n",
       "        vertical-align: top;\n",
       "    }\n",
       "\n",
       "    .dataframe thead th {\n",
       "        text-align: right;\n",
       "    }\n",
       "</style>\n",
       "<table border=\"1\" class=\"dataframe\">\n",
       "  <thead>\n",
       "    <tr style=\"text-align: right;\">\n",
       "      <th></th>\n",
       "      <th>image_id</th>\n",
       "      <th>patient_id</th>\n",
       "      <th>image_num</th>\n",
       "      <th>slice_num</th>\n",
       "      <th>path</th>\n",
       "      <th>label</th>\n",
       "    </tr>\n",
       "  </thead>\n",
       "  <tbody>\n",
       "    <tr>\n",
       "      <th>0</th>\n",
       "      <td>21b106_0</td>\n",
       "      <td>21b106</td>\n",
       "      <td>0</td>\n",
       "      <td>13</td>\n",
       "      <td>../input/cleanedrescaled384-3/train/21b106_0_1...</td>\n",
       "      <td>CE</td>\n",
       "    </tr>\n",
       "    <tr>\n",
       "      <th>1</th>\n",
       "      <td>21b106_0</td>\n",
       "      <td>21b106</td>\n",
       "      <td>0</td>\n",
       "      <td>37</td>\n",
       "      <td>../input/cleanedrescaled384-3/train/21b106_0_1...</td>\n",
       "      <td>CE</td>\n",
       "    </tr>\n",
       "    <tr>\n",
       "      <th>2</th>\n",
       "      <td>21b106_0</td>\n",
       "      <td>21b106</td>\n",
       "      <td>0</td>\n",
       "      <td>4</td>\n",
       "      <td>../input/cleanedrescaled384-3/train/21b106_0_1...</td>\n",
       "      <td>CE</td>\n",
       "    </tr>\n",
       "    <tr>\n",
       "      <th>3</th>\n",
       "      <td>21b106_0</td>\n",
       "      <td>21b106</td>\n",
       "      <td>0</td>\n",
       "      <td>23</td>\n",
       "      <td>../input/cleanedrescaled384-3/train/21b106_0_1...</td>\n",
       "      <td>CE</td>\n",
       "    </tr>\n",
       "    <tr>\n",
       "      <th>4</th>\n",
       "      <td>21b106_0</td>\n",
       "      <td>21b106</td>\n",
       "      <td>0</td>\n",
       "      <td>39</td>\n",
       "      <td>../input/cleanedrescaled384-3/train/21b106_0_1...</td>\n",
       "      <td>CE</td>\n",
       "    </tr>\n",
       "  </tbody>\n",
       "</table>\n",
       "</div>"
      ],
      "text/plain": [
       "   image_id patient_id image_num slice_num  \\\n",
       "0  21b106_0     21b106         0        13   \n",
       "1  21b106_0     21b106         0        37   \n",
       "2  21b106_0     21b106         0         4   \n",
       "3  21b106_0     21b106         0        23   \n",
       "4  21b106_0     21b106         0        39   \n",
       "\n",
       "                                                path label  \n",
       "0  ../input/cleanedrescaled384-3/train/21b106_0_1...    CE  \n",
       "1  ../input/cleanedrescaled384-3/train/21b106_0_1...    CE  \n",
       "2  ../input/cleanedrescaled384-3/train/21b106_0_1...    CE  \n",
       "3  ../input/cleanedrescaled384-3/train/21b106_0_1...    CE  \n",
       "4  ../input/cleanedrescaled384-3/train/21b106_0_1...    CE  "
      ]
     },
     "execution_count": 10,
     "metadata": {},
     "output_type": "execute_result"
    }
   ],
   "source": [
    "\n",
    "train_images = []\n",
    "for path in Data_dir:\n",
    "    train_images.extend(glob(path))\n",
    "#print(train_images)\n",
    "df = get_data_info(train_images)\n",
    "df.head()"
   ]
  },
  {
   "cell_type": "code",
   "execution_count": 11,
   "id": "8252df6d",
   "metadata": {
    "execution": {
     "iopub.execute_input": "2022-09-27T19:31:39.567373Z",
     "iopub.status.busy": "2022-09-27T19:31:39.566970Z",
     "iopub.status.idle": "2022-09-27T19:31:39.582235Z",
     "shell.execute_reply": "2022-09-27T19:31:39.581282Z"
    },
    "papermill": {
     "duration": 0.042636,
     "end_time": "2022-09-27T19:31:39.584259",
     "exception": false,
     "start_time": "2022-09-27T19:31:39.541623",
     "status": "completed"
    },
    "tags": []
   },
   "outputs": [
    {
     "data": {
      "text/html": [
       "<div>\n",
       "<style scoped>\n",
       "    .dataframe tbody tr th:only-of-type {\n",
       "        vertical-align: middle;\n",
       "    }\n",
       "\n",
       "    .dataframe tbody tr th {\n",
       "        vertical-align: top;\n",
       "    }\n",
       "\n",
       "    .dataframe thead th {\n",
       "        text-align: right;\n",
       "    }\n",
       "</style>\n",
       "<table border=\"1\" class=\"dataframe\">\n",
       "  <thead>\n",
       "    <tr style=\"text-align: right;\">\n",
       "      <th></th>\n",
       "      <th>image_id</th>\n",
       "      <th>patient_id</th>\n",
       "      <th>image_num</th>\n",
       "      <th>slice_num</th>\n",
       "      <th>path</th>\n",
       "      <th>label</th>\n",
       "    </tr>\n",
       "  </thead>\n",
       "  <tbody>\n",
       "    <tr>\n",
       "      <th>0</th>\n",
       "      <td>21b106_0</td>\n",
       "      <td>21b106</td>\n",
       "      <td>0</td>\n",
       "      <td>13</td>\n",
       "      <td>../input/cleanedrescaled384-3/train/21b106_0_1...</td>\n",
       "      <td>CE</td>\n",
       "    </tr>\n",
       "    <tr>\n",
       "      <th>1</th>\n",
       "      <td>21b106_0</td>\n",
       "      <td>21b106</td>\n",
       "      <td>0</td>\n",
       "      <td>37</td>\n",
       "      <td>../input/cleanedrescaled384-3/train/21b106_0_1...</td>\n",
       "      <td>CE</td>\n",
       "    </tr>\n",
       "    <tr>\n",
       "      <th>2</th>\n",
       "      <td>21b106_0</td>\n",
       "      <td>21b106</td>\n",
       "      <td>0</td>\n",
       "      <td>4</td>\n",
       "      <td>../input/cleanedrescaled384-3/train/21b106_0_1...</td>\n",
       "      <td>CE</td>\n",
       "    </tr>\n",
       "    <tr>\n",
       "      <th>3</th>\n",
       "      <td>21b106_0</td>\n",
       "      <td>21b106</td>\n",
       "      <td>0</td>\n",
       "      <td>23</td>\n",
       "      <td>../input/cleanedrescaled384-3/train/21b106_0_1...</td>\n",
       "      <td>CE</td>\n",
       "    </tr>\n",
       "    <tr>\n",
       "      <th>4</th>\n",
       "      <td>21b106_0</td>\n",
       "      <td>21b106</td>\n",
       "      <td>0</td>\n",
       "      <td>39</td>\n",
       "      <td>../input/cleanedrescaled384-3/train/21b106_0_1...</td>\n",
       "      <td>CE</td>\n",
       "    </tr>\n",
       "    <tr>\n",
       "      <th>...</th>\n",
       "      <td>...</td>\n",
       "      <td>...</td>\n",
       "      <td>...</td>\n",
       "      <td>...</td>\n",
       "      <td>...</td>\n",
       "      <td>...</td>\n",
       "    </tr>\n",
       "    <tr>\n",
       "      <th>30235</th>\n",
       "      <td>ffec5c_1</td>\n",
       "      <td>ffec5c</td>\n",
       "      <td>1</td>\n",
       "      <td>39</td>\n",
       "      <td>../input/cleanedrescaled384-1/train/ffec5c_1_7...</td>\n",
       "      <td>LAA</td>\n",
       "    </tr>\n",
       "    <tr>\n",
       "      <th>30236</th>\n",
       "      <td>ffec5c_1</td>\n",
       "      <td>ffec5c</td>\n",
       "      <td>1</td>\n",
       "      <td>3</td>\n",
       "      <td>../input/cleanedrescaled384-1/train/ffec5c_1_7...</td>\n",
       "      <td>LAA</td>\n",
       "    </tr>\n",
       "    <tr>\n",
       "      <th>30237</th>\n",
       "      <td>ffec5c_1</td>\n",
       "      <td>ffec5c</td>\n",
       "      <td>1</td>\n",
       "      <td>42</td>\n",
       "      <td>../input/cleanedrescaled384-1/train/ffec5c_1_7...</td>\n",
       "      <td>LAA</td>\n",
       "    </tr>\n",
       "    <tr>\n",
       "      <th>30238</th>\n",
       "      <td>ffec5c_1</td>\n",
       "      <td>ffec5c</td>\n",
       "      <td>1</td>\n",
       "      <td>2</td>\n",
       "      <td>../input/cleanedrescaled384-1/train/ffec5c_1_7...</td>\n",
       "      <td>LAA</td>\n",
       "    </tr>\n",
       "    <tr>\n",
       "      <th>30239</th>\n",
       "      <td>ffec5c_1</td>\n",
       "      <td>ffec5c</td>\n",
       "      <td>1</td>\n",
       "      <td>24</td>\n",
       "      <td>../input/cleanedrescaled384-1/train/ffec5c_1_7...</td>\n",
       "      <td>LAA</td>\n",
       "    </tr>\n",
       "  </tbody>\n",
       "</table>\n",
       "<p>30240 rows × 6 columns</p>\n",
       "</div>"
      ],
      "text/plain": [
       "       image_id patient_id image_num slice_num  \\\n",
       "0      21b106_0     21b106         0        13   \n",
       "1      21b106_0     21b106         0        37   \n",
       "2      21b106_0     21b106         0         4   \n",
       "3      21b106_0     21b106         0        23   \n",
       "4      21b106_0     21b106         0        39   \n",
       "...         ...        ...       ...       ...   \n",
       "30235  ffec5c_1     ffec5c         1        39   \n",
       "30236  ffec5c_1     ffec5c         1         3   \n",
       "30237  ffec5c_1     ffec5c         1        42   \n",
       "30238  ffec5c_1     ffec5c         1         2   \n",
       "30239  ffec5c_1     ffec5c         1        24   \n",
       "\n",
       "                                                    path label  \n",
       "0      ../input/cleanedrescaled384-3/train/21b106_0_1...    CE  \n",
       "1      ../input/cleanedrescaled384-3/train/21b106_0_1...    CE  \n",
       "2      ../input/cleanedrescaled384-3/train/21b106_0_1...    CE  \n",
       "3      ../input/cleanedrescaled384-3/train/21b106_0_1...    CE  \n",
       "4      ../input/cleanedrescaled384-3/train/21b106_0_1...    CE  \n",
       "...                                                  ...   ...  \n",
       "30235  ../input/cleanedrescaled384-1/train/ffec5c_1_7...   LAA  \n",
       "30236  ../input/cleanedrescaled384-1/train/ffec5c_1_7...   LAA  \n",
       "30237  ../input/cleanedrescaled384-1/train/ffec5c_1_7...   LAA  \n",
       "30238  ../input/cleanedrescaled384-1/train/ffec5c_1_7...   LAA  \n",
       "30239  ../input/cleanedrescaled384-1/train/ffec5c_1_7...   LAA  \n",
       "\n",
       "[30240 rows x 6 columns]"
      ]
     },
     "execution_count": 11,
     "metadata": {},
     "output_type": "execute_result"
    }
   ],
   "source": [
    "df"
   ]
  },
  {
   "cell_type": "code",
   "execution_count": 12,
   "id": "cde020c5",
   "metadata": {
    "execution": {
     "iopub.execute_input": "2022-09-27T19:31:39.628132Z",
     "iopub.status.busy": "2022-09-27T19:31:39.627683Z",
     "iopub.status.idle": "2022-09-27T19:31:39.667604Z",
     "shell.execute_reply": "2022-09-27T19:31:39.666703Z"
    },
    "papermill": {
     "duration": 0.06479,
     "end_time": "2022-09-27T19:31:39.670221",
     "exception": false,
     "start_time": "2022-09-27T19:31:39.605431",
     "status": "completed"
    },
    "tags": []
   },
   "outputs": [],
   "source": [
    "old_preds = pd.read_csv(\"../input/classifier-output/tile infos.csv\")\n",
    "old_preds.label = old_preds.label.apply(lambda x : x.split('(')[1][0]).astype(int)\n",
    "old_preds[\"pred\"]  = (old_preds.CE > old_preds.LAA).astype(int)\n",
    "old_preds[\"confidence_correct_CE\"] = (old_preds.label - old_preds.CE).apply(lambda x : max(x,0)) # bigger value = worst example \n",
    "old_preds[\"confidence_correct_LAA\"] = (old_preds.label.apply(lambda x : 0 if x else 1) - old_preds.LAA).apply(lambda x : max(x,0))\n",
    "thr = 0.55 # higher less we drop \n",
    "old_preds = old_preds[ ~( (old_preds.confidence_correct_CE > thr) + (old_preds.confidence_correct_LAA > thr) ) ].reset_index(drop = True)\n",
    "df = df[ df.patient_id.isin(old_preds.img_id) ]"
   ]
  },
  {
   "cell_type": "code",
   "execution_count": null,
   "id": "6d4d1695",
   "metadata": {
    "papermill": {
     "duration": 0.022024,
     "end_time": "2022-09-27T19:31:39.715082",
     "exception": false,
     "start_time": "2022-09-27T19:31:39.693058",
     "status": "completed"
    },
    "tags": []
   },
   "outputs": [],
   "source": []
  },
  {
   "cell_type": "code",
   "execution_count": 13,
   "id": "6b6ae8b6",
   "metadata": {
    "execution": {
     "iopub.execute_input": "2022-09-27T19:31:39.761233Z",
     "iopub.status.busy": "2022-09-27T19:31:39.760782Z",
     "iopub.status.idle": "2022-09-27T19:31:39.791037Z",
     "shell.execute_reply": "2022-09-27T19:31:39.789554Z"
    },
    "papermill": {
     "duration": 0.056418,
     "end_time": "2022-09-27T19:31:39.793864",
     "exception": false,
     "start_time": "2022-09-27T19:31:39.737446",
     "status": "completed"
    },
    "tags": []
   },
   "outputs": [
    {
     "data": {
      "text/html": [
       "<div>\n",
       "<style scoped>\n",
       "    .dataframe tbody tr th:only-of-type {\n",
       "        vertical-align: middle;\n",
       "    }\n",
       "\n",
       "    .dataframe tbody tr th {\n",
       "        vertical-align: top;\n",
       "    }\n",
       "\n",
       "    .dataframe thead th {\n",
       "        text-align: right;\n",
       "    }\n",
       "</style>\n",
       "<table border=\"1\" class=\"dataframe\">\n",
       "  <thead>\n",
       "    <tr style=\"text-align: right;\">\n",
       "      <th></th>\n",
       "      <th>image_id</th>\n",
       "      <th>patient_id</th>\n",
       "      <th>image_num</th>\n",
       "      <th>slice_num</th>\n",
       "      <th>path</th>\n",
       "      <th>label</th>\n",
       "    </tr>\n",
       "  </thead>\n",
       "  <tbody>\n",
       "    <tr>\n",
       "      <th>0</th>\n",
       "      <td>21b106_0</td>\n",
       "      <td>21b106</td>\n",
       "      <td>0</td>\n",
       "      <td>13</td>\n",
       "      <td>../input/cleanedrescaled384-3/train/21b106_0_1...</td>\n",
       "      <td>CE</td>\n",
       "    </tr>\n",
       "    <tr>\n",
       "      <th>1</th>\n",
       "      <td>21b106_0</td>\n",
       "      <td>21b106</td>\n",
       "      <td>0</td>\n",
       "      <td>37</td>\n",
       "      <td>../input/cleanedrescaled384-3/train/21b106_0_1...</td>\n",
       "      <td>CE</td>\n",
       "    </tr>\n",
       "    <tr>\n",
       "      <th>2</th>\n",
       "      <td>21b106_0</td>\n",
       "      <td>21b106</td>\n",
       "      <td>0</td>\n",
       "      <td>4</td>\n",
       "      <td>../input/cleanedrescaled384-3/train/21b106_0_1...</td>\n",
       "      <td>CE</td>\n",
       "    </tr>\n",
       "    <tr>\n",
       "      <th>3</th>\n",
       "      <td>21b106_0</td>\n",
       "      <td>21b106</td>\n",
       "      <td>0</td>\n",
       "      <td>23</td>\n",
       "      <td>../input/cleanedrescaled384-3/train/21b106_0_1...</td>\n",
       "      <td>CE</td>\n",
       "    </tr>\n",
       "    <tr>\n",
       "      <th>4</th>\n",
       "      <td>21b106_0</td>\n",
       "      <td>21b106</td>\n",
       "      <td>0</td>\n",
       "      <td>39</td>\n",
       "      <td>../input/cleanedrescaled384-3/train/21b106_0_1...</td>\n",
       "      <td>CE</td>\n",
       "    </tr>\n",
       "  </tbody>\n",
       "</table>\n",
       "</div>"
      ],
      "text/plain": [
       "   image_id patient_id image_num slice_num  \\\n",
       "0  21b106_0     21b106         0        13   \n",
       "1  21b106_0     21b106         0        37   \n",
       "2  21b106_0     21b106         0         4   \n",
       "3  21b106_0     21b106         0        23   \n",
       "4  21b106_0     21b106         0        39   \n",
       "\n",
       "                                                path label  \n",
       "0  ../input/cleanedrescaled384-3/train/21b106_0_1...    CE  \n",
       "1  ../input/cleanedrescaled384-3/train/21b106_0_1...    CE  \n",
       "2  ../input/cleanedrescaled384-3/train/21b106_0_1...    CE  \n",
       "3  ../input/cleanedrescaled384-3/train/21b106_0_1...    CE  \n",
       "4  ../input/cleanedrescaled384-3/train/21b106_0_1...    CE  "
      ]
     },
     "execution_count": 13,
     "metadata": {},
     "output_type": "execute_result"
    }
   ],
   "source": [
    "keep = df['label'].value_counts().LAA*2\n",
    "df = df.drop(df[df['label']==\"CE\"][keep//2:].index).reset_index(drop=True)\n",
    "df = df.drop(df[df['label']==\"LAA\"][keep//2:].index).reset_index(drop=True)\n",
    "df.head()"
   ]
  },
  {
   "cell_type": "code",
   "execution_count": 14,
   "id": "8f912e08",
   "metadata": {
    "execution": {
     "iopub.execute_input": "2022-09-27T19:31:39.841619Z",
     "iopub.status.busy": "2022-09-27T19:31:39.840774Z",
     "iopub.status.idle": "2022-09-27T19:31:39.857221Z",
     "shell.execute_reply": "2022-09-27T19:31:39.855894Z"
    },
    "papermill": {
     "duration": 0.043203,
     "end_time": "2022-09-27T19:31:39.860064",
     "exception": false,
     "start_time": "2022-09-27T19:31:39.816861",
     "status": "completed"
    },
    "tags": []
   },
   "outputs": [],
   "source": [
    "temp = df.groupby(by=\"image_id\").count()"
   ]
  },
  {
   "cell_type": "code",
   "execution_count": 15,
   "id": "50ead38a",
   "metadata": {
    "execution": {
     "iopub.execute_input": "2022-09-27T19:31:39.906338Z",
     "iopub.status.busy": "2022-09-27T19:31:39.905923Z",
     "iopub.status.idle": "2022-09-27T19:31:39.914756Z",
     "shell.execute_reply": "2022-09-27T19:31:39.913547Z"
    },
    "papermill": {
     "duration": 0.034777,
     "end_time": "2022-09-27T19:31:39.917207",
     "exception": false,
     "start_time": "2022-09-27T19:31:39.882430",
     "status": "completed"
    },
    "tags": []
   },
   "outputs": [
    {
     "data": {
      "text/plain": [
       "179"
      ]
     },
     "execution_count": 15,
     "metadata": {},
     "output_type": "execute_result"
    }
   ],
   "source": [
    "df[\"image_id\"].nunique()"
   ]
  },
  {
   "cell_type": "code",
   "execution_count": 16,
   "id": "93107f90",
   "metadata": {
    "execution": {
     "iopub.execute_input": "2022-09-27T19:31:39.963739Z",
     "iopub.status.busy": "2022-09-27T19:31:39.962956Z",
     "iopub.status.idle": "2022-09-27T19:31:39.974346Z",
     "shell.execute_reply": "2022-09-27T19:31:39.973177Z"
    },
    "papermill": {
     "duration": 0.037141,
     "end_time": "2022-09-27T19:31:39.976511",
     "exception": false,
     "start_time": "2022-09-27T19:31:39.939370",
     "status": "completed"
    },
    "tags": []
   },
   "outputs": [
    {
     "data": {
      "text/html": [
       "<div>\n",
       "<style scoped>\n",
       "    .dataframe tbody tr th:only-of-type {\n",
       "        vertical-align: middle;\n",
       "    }\n",
       "\n",
       "    .dataframe tbody tr th {\n",
       "        vertical-align: top;\n",
       "    }\n",
       "\n",
       "    .dataframe thead th {\n",
       "        text-align: right;\n",
       "    }\n",
       "</style>\n",
       "<table border=\"1\" class=\"dataframe\">\n",
       "  <thead>\n",
       "    <tr style=\"text-align: right;\">\n",
       "      <th></th>\n",
       "      <th>patient_id</th>\n",
       "      <th>image_num</th>\n",
       "      <th>slice_num</th>\n",
       "      <th>path</th>\n",
       "      <th>label</th>\n",
       "    </tr>\n",
       "    <tr>\n",
       "      <th>image_id</th>\n",
       "      <th></th>\n",
       "      <th></th>\n",
       "      <th></th>\n",
       "      <th></th>\n",
       "      <th></th>\n",
       "    </tr>\n",
       "  </thead>\n",
       "  <tbody>\n",
       "  </tbody>\n",
       "</table>\n",
       "</div>"
      ],
      "text/plain": [
       "Empty DataFrame\n",
       "Columns: [patient_id, image_num, slice_num, path, label]\n",
       "Index: []"
      ]
     },
     "execution_count": 16,
     "metadata": {},
     "output_type": "execute_result"
    }
   ],
   "source": [
    "temp[temp[\"patient_id\"]<CFG.N_slides]"
   ]
  },
  {
   "cell_type": "markdown",
   "id": "bc28f12c",
   "metadata": {
    "papermill": {
     "duration": 0.021875,
     "end_time": "2022-09-27T19:31:40.020540",
     "exception": false,
     "start_time": "2022-09-27T19:31:39.998665",
     "status": "completed"
    },
    "tags": []
   },
   "source": [
    "# 🔨 Utility"
   ]
  },
  {
   "cell_type": "code",
   "execution_count": 17,
   "id": "b7de3ff6",
   "metadata": {
    "execution": {
     "iopub.execute_input": "2022-09-27T19:31:40.067039Z",
     "iopub.status.busy": "2022-09-27T19:31:40.066607Z",
     "iopub.status.idle": "2022-09-27T19:31:40.073445Z",
     "shell.execute_reply": "2022-09-27T19:31:40.072339Z"
    },
    "papermill": {
     "duration": 0.033078,
     "end_time": "2022-09-27T19:31:40.075805",
     "exception": false,
     "start_time": "2022-09-27T19:31:40.042727",
     "status": "completed"
    },
    "tags": []
   },
   "outputs": [],
   "source": [
    "def load_img(path):\n",
    "    img = cv2.imread(path, cv2.IMREAD_UNCHANGED)\n",
    "    img = img.astype('uint16') # original is uint16\n",
    "\n",
    "    return img\n",
    "\n",
    "def show_img(img, ground_truth=\"\", pred = \"\", conf = \"\"):\n",
    "    plt.imshow(img)\n",
    "    plt.title(f'true: {\"CE\" if ground_truth else \"LAA\"} | predicted: {pred} | conf: {conf}')\n",
    "    plt.axis('off')\n",
    "    "
   ]
  },
  {
   "cell_type": "code",
   "execution_count": 18,
   "id": "b59d7f58",
   "metadata": {
    "execution": {
     "iopub.execute_input": "2022-09-27T19:31:40.122641Z",
     "iopub.status.busy": "2022-09-27T19:31:40.122240Z",
     "iopub.status.idle": "2022-09-27T19:31:40.245918Z",
     "shell.execute_reply": "2022-09-27T19:31:40.244705Z"
    },
    "papermill": {
     "duration": 0.15044,
     "end_time": "2022-09-27T19:31:40.248611",
     "exception": false,
     "start_time": "2022-09-27T19:31:40.098171",
     "status": "completed"
    },
    "tags": []
   },
   "outputs": [
    {
     "data": {
      "text/plain": [
       "fold  label\n",
       "0.0   CE        600\n",
       "      LAA      1200\n",
       "1.0   CE        650\n",
       "      LAA      1150\n",
       "2.0   CE        550\n",
       "      LAA      1250\n",
       "3.0   CE        500\n",
       "      LAA      1298\n",
       "4.0   CE        650\n",
       "      LAA      1100\n",
       "Name: image_id, dtype: int64"
      ]
     },
     "metadata": {},
     "output_type": "display_data"
    }
   ],
   "source": [
    "skf = StratifiedGroupKFold(n_splits=CFG.n_flods, shuffle=True, random_state=CFG.seed)\n",
    "\n",
    "for fold, (train_idx, val_idx) in enumerate(skf.split(df, df['label'], groups = df[\"image_id\"])):\n",
    "    df.loc[val_idx, 'fold'] = fold\n",
    "display(df.groupby(['fold','label'])['image_id'].count())"
   ]
  },
  {
   "cell_type": "markdown",
   "id": "ce8b7c36",
   "metadata": {
    "papermill": {
     "duration": 0.022177,
     "end_time": "2022-09-27T19:31:40.293437",
     "exception": false,
     "start_time": "2022-09-27T19:31:40.271260",
     "status": "completed"
    },
    "tags": []
   },
   "source": [
    "# ❗ DataLoaders"
   ]
  },
  {
   "cell_type": "code",
   "execution_count": 19,
   "id": "812b94e8",
   "metadata": {
    "execution": {
     "iopub.execute_input": "2022-09-27T19:31:40.340877Z",
     "iopub.status.busy": "2022-09-27T19:31:40.339603Z",
     "iopub.status.idle": "2022-09-27T19:31:40.349945Z",
     "shell.execute_reply": "2022-09-27T19:31:40.349018Z"
    },
    "papermill": {
     "duration": 0.03641,
     "end_time": "2022-09-27T19:31:40.352210",
     "exception": false,
     "start_time": "2022-09-27T19:31:40.315800",
     "status": "completed"
    },
    "tags": []
   },
   "outputs": [],
   "source": [
    "class StripAiDataset(Dataset):\n",
    "    def __init__(self, df, N_slides, label=True ,transforms = None):\n",
    "        self.df = df\n",
    "        self.transforms = transforms\n",
    "        self.image_ids = df['image_id'].unique().tolist()\n",
    "        if label:\n",
    "            self.labels = df.label.apply(lambda x: 1 if x == \"CE\" else 0).tolist()\n",
    "        self.N_slides = N_slides\n",
    "    def __len__(self):\n",
    "        return len(self.image_ids)\n",
    "  \n",
    "    def __getitem__(self,index):\n",
    "        img_id = self.image_ids[index]\n",
    "        tempdf =self.df[self.df[\"image_id\"] == img_id]\n",
    "        img_paths = tempdf.path.sample(self.N_slides,replace=True).tolist()\n",
    "        img = []\n",
    "        for path in img_paths:  \n",
    "            temp = self.transforms(image=load_img(path))[\"image\"]\n",
    "            temp = np.transpose(temp, (2, 0, 1))\n",
    "            img.append(temp)\n",
    "        #print(np.array(img).shape)\n",
    "        img = np.stack(img , axis = 0).astype(np.float32)\n",
    "\n",
    "        label = tempdf[0:1].label.item()\n",
    "        label = 1 if label == \"CE\" else 0\n",
    "\n",
    "        \n",
    "    \n",
    "    \n",
    "        return torch.tensor(img), torch.tensor(label)"
   ]
  },
  {
   "cell_type": "code",
   "execution_count": 20,
   "id": "56b7a7c7",
   "metadata": {
    "execution": {
     "iopub.execute_input": "2022-09-27T19:31:40.399167Z",
     "iopub.status.busy": "2022-09-27T19:31:40.398734Z",
     "iopub.status.idle": "2022-09-27T19:31:40.405795Z",
     "shell.execute_reply": "2022-09-27T19:31:40.404800Z"
    },
    "papermill": {
     "duration": 0.033338,
     "end_time": "2022-09-27T19:31:40.408016",
     "exception": false,
     "start_time": "2022-09-27T19:31:40.374678",
     "status": "completed"
    },
    "tags": []
   },
   "outputs": [],
   "source": [
    "data_transforms = {\n",
    "    \"train\": A.Compose([ #A.RandomBrightnessContrast(p=0.2),\n",
    "                        A.Flip(p=0.5),\n",
    "                        #A.ChannelShuffle(),\n",
    "                        #A.RandomGridShuffle(), \n",
    "                        #A.ColorJitter(),\n",
    "                       A.Normalize()], p=1.0),\n",
    "    \"valid\": A.Compose([A.Normalize()], p=1.0)\n",
    "}"
   ]
  },
  {
   "cell_type": "code",
   "execution_count": 21,
   "id": "c0f6dd58",
   "metadata": {
    "execution": {
     "iopub.execute_input": "2022-09-27T19:31:40.451924Z",
     "iopub.status.busy": "2022-09-27T19:31:40.451485Z",
     "iopub.status.idle": "2022-09-27T19:31:40.459617Z",
     "shell.execute_reply": "2022-09-27T19:31:40.458804Z"
    },
    "papermill": {
     "duration": 0.032302,
     "end_time": "2022-09-27T19:31:40.461615",
     "exception": false,
     "start_time": "2022-09-27T19:31:40.429313",
     "status": "completed"
    },
    "tags": []
   },
   "outputs": [],
   "source": [
    "def prepare_loaders(fold,N_slides, df, debug=False):\n",
    "    \n",
    "    train_df = df.query(\"fold!=@fold\").reset_index(drop=True)\n",
    "    valid_df = df.query(\"fold==@fold\").reset_index(drop=True)\n",
    "    \n",
    "    if debug:\n",
    "        train_df = train_df.head(10*5)\n",
    "        valid_df = valid_df.head(10*3)\n",
    "        \n",
    "    train_dataset = StripAiDataset(train_df, N_slides, transforms=data_transforms['train'])\n",
    "    valid_dataset = StripAiDataset(valid_df, N_slides , transforms=data_transforms['valid'])\n",
    "\n",
    "    train_loader = DataLoader(train_dataset, batch_size=CFG.train_bs if not debug else 3, \n",
    "                              num_workers=1, shuffle=True, pin_memory=True, drop_last=False)\n",
    "    valid_loader = DataLoader(valid_dataset, batch_size=CFG.valid_bs if not debug else 3, \n",
    "                              num_workers=1, shuffle=False, pin_memory=True)\n",
    "    \n",
    "    return train_loader, valid_loader"
   ]
  },
  {
   "cell_type": "code",
   "execution_count": 22,
   "id": "ae341a73",
   "metadata": {
    "execution": {
     "iopub.execute_input": "2022-09-27T19:31:40.508238Z",
     "iopub.status.busy": "2022-09-27T19:31:40.507822Z",
     "iopub.status.idle": "2022-09-27T19:31:42.472014Z",
     "shell.execute_reply": "2022-09-27T19:31:42.470467Z"
    },
    "papermill": {
     "duration": 1.990411,
     "end_time": "2022-09-27T19:31:42.474508",
     "exception": false,
     "start_time": "2022-09-27T19:31:40.484097",
     "status": "completed"
    },
    "tags": []
   },
   "outputs": [
    {
     "name": "stdout",
     "output_type": "stream",
     "text": [
      "torch.Size([1, 45, 3, 384, 384]) torch.Size([1])\n"
     ]
    }
   ],
   "source": [
    "train_loader, valid_loader = prepare_loaders(fold=0,N_slides = CFG.N_slides , df=df, debug=0)\n",
    "img ,label = next(iter(train_loader))\n",
    "print(img.size(),label.size())"
   ]
  },
  {
   "cell_type": "code",
   "execution_count": 23,
   "id": "e103043b",
   "metadata": {
    "execution": {
     "iopub.execute_input": "2022-09-27T19:31:42.522596Z",
     "iopub.status.busy": "2022-09-27T19:31:42.521255Z",
     "iopub.status.idle": "2022-09-27T19:31:42.529082Z",
     "shell.execute_reply": "2022-09-27T19:31:42.528003Z"
    },
    "papermill": {
     "duration": 0.034099,
     "end_time": "2022-09-27T19:31:42.531371",
     "exception": false,
     "start_time": "2022-09-27T19:31:42.497272",
     "status": "completed"
    },
    "tags": []
   },
   "outputs": [],
   "source": [
    "class Flatten(nn.Module):\n",
    "    def __init__(self, dim=1):\n",
    "        super().__init__()\n",
    "        self.dim = dim\n",
    "\n",
    "    def forward(self, x): \n",
    "        input_shape = x.shape\n",
    "        output_shape = [input_shape[i] for i in range(self.dim)] + [-1]\n",
    "        return x.view(*output_shape)\n"
   ]
  },
  {
   "cell_type": "code",
   "execution_count": 24,
   "id": "3bbc02e6",
   "metadata": {
    "execution": {
     "iopub.execute_input": "2022-09-27T19:31:42.575401Z",
     "iopub.status.busy": "2022-09-27T19:31:42.574336Z",
     "iopub.status.idle": "2022-09-27T19:31:42.584708Z",
     "shell.execute_reply": "2022-09-27T19:31:42.583833Z"
    },
    "papermill": {
     "duration": 0.034759,
     "end_time": "2022-09-27T19:31:42.587002",
     "exception": false,
     "start_time": "2022-09-27T19:31:42.552243",
     "status": "completed"
    },
    "tags": []
   },
   "outputs": [],
   "source": [
    "class StripModel(nn.Module):\n",
    "\n",
    "    def __init__(self, model_name, num_classes=2, pretrained=True ,num_instances=CFG.N_slides , path=\"\"):\n",
    "        super().__init__()\n",
    "        self.num_instances = num_instances\n",
    "        self.encoder = timm.create_model(model_name, pretrained=pretrained, num_classes=num_classes)\n",
    "\n",
    "        \n",
    "        \n",
    "        feature_dim = self.encoder.get_classifier().in_features\n",
    "        self.encoder.head.fc = nn.Identity()\n",
    "        self.feature_dim = feature_dim\n",
    "        print(feature_dim)\n",
    "        \n",
    "        self.head = nn.Sequential(\n",
    "            nn.Conv3d(self.num_instances ,1,(1,12,12)), nn.ReLU(inplace=True), Flatten(),\n",
    "            nn.Linear(feature_dim, 256), nn.ReLU(inplace=True), \n",
    "            nn.Linear(256, 64), nn.ReLU(inplace=True), \n",
    "            nn.Linear(64, num_classes)\n",
    "        )\n",
    "\n",
    "\n",
    "    def forward(self, x):\n",
    "        # x: bs x N x C x W x W\n",
    "        bs, _, ch, w, h = x.shape\n",
    "        x = x.view(bs*self.num_instances, ch, w, h) # x: N bs x C x W x W\n",
    "        x = self.encoder.forward_features(x) # x: N bs x C' x W' x W'\n",
    "\n",
    "        # Concat and pool\n",
    "        #bs2, ch2, w2, h2 = x.shape\n",
    "        #x = x.view(-1, self.num_instances, ch2, w2, h2).permute(0, 2, 1, 3, 4)\\\n",
    "            #.contiguous().view(bs, ch2, self.num_instances*w2, h2) # x: bs x C' x N W'' x W''\n",
    "        emb = self.head(x)\n",
    "\n",
    "        return emb,self.encoder.head(x)\n",
    "    \n",
    "\n",
    "        \n",
    "        \n",
    "        "
   ]
  },
  {
   "cell_type": "code",
   "execution_count": 25,
   "id": "1f2f5363",
   "metadata": {
    "execution": {
     "iopub.execute_input": "2022-09-27T19:31:42.634076Z",
     "iopub.status.busy": "2022-09-27T19:31:42.633687Z",
     "iopub.status.idle": "2022-09-27T19:31:42.638332Z",
     "shell.execute_reply": "2022-09-27T19:31:42.637327Z"
    },
    "papermill": {
     "duration": 0.030411,
     "end_time": "2022-09-27T19:31:42.640274",
     "exception": false,
     "start_time": "2022-09-27T19:31:42.609863",
     "status": "completed"
    },
    "tags": []
   },
   "outputs": [],
   "source": [
    "#    model     = StripModel(CFG.backbone ,pretrained = True , path = \"../input/good0rbad/best_epoch-0-01-0.6605431338125837.bin\").to(CFG.device)"
   ]
  },
  {
   "cell_type": "code",
   "execution_count": 26,
   "id": "50733be3",
   "metadata": {
    "execution": {
     "iopub.execute_input": "2022-09-27T19:31:42.683481Z",
     "iopub.status.busy": "2022-09-27T19:31:42.683089Z",
     "iopub.status.idle": "2022-09-27T19:31:47.469357Z",
     "shell.execute_reply": "2022-09-27T19:31:47.468121Z"
    },
    "papermill": {
     "duration": 4.811202,
     "end_time": "2022-09-27T19:31:47.472292",
     "exception": false,
     "start_time": "2022-09-27T19:31:42.661090",
     "status": "completed"
    },
    "tags": []
   },
   "outputs": [
    {
     "name": "stderr",
     "output_type": "stream",
     "text": [
      "Downloading: \"https://dl.fbaipublicfiles.com/convnext/convnext_tiny_1k_224_ema.pth\" to /root/.cache/torch/hub/checkpoints/convnext_tiny_1k_224_ema.pth\n"
     ]
    }
   ],
   "source": [
    "model     = timm.create_model(CFG.backbone ,pretrained = True )"
   ]
  },
  {
   "cell_type": "markdown",
   "id": "62dd40c5",
   "metadata": {
    "papermill": {
     "duration": 0.021834,
     "end_time": "2022-09-27T19:31:47.516781",
     "exception": false,
     "start_time": "2022-09-27T19:31:47.494947",
     "status": "completed"
    },
    "tags": []
   },
   "source": [
    "# 🔧 Loss Function"
   ]
  },
  {
   "cell_type": "code",
   "execution_count": 27,
   "id": "ba1c4cd4",
   "metadata": {
    "execution": {
     "iopub.execute_input": "2022-09-27T19:31:47.561515Z",
     "iopub.status.busy": "2022-09-27T19:31:47.561136Z",
     "iopub.status.idle": "2022-09-27T19:31:47.570387Z",
     "shell.execute_reply": "2022-09-27T19:31:47.569105Z"
    },
    "papermill": {
     "duration": 0.037008,
     "end_time": "2022-09-27T19:31:47.575249",
     "exception": false,
     "start_time": "2022-09-27T19:31:47.538241",
     "status": "completed"
    },
    "tags": []
   },
   "outputs": [],
   "source": [
    "def fetch_scheduler(optimizer):\n",
    "    if CFG.scheduler == 'CosineAnnealingLR':\n",
    "        scheduler = lr_scheduler.CosineAnnealingLR(optimizer,T_max=int(len(train_loader)/CFG.train_bs*CFG.epochs)+50, \n",
    "                                                   eta_min=CFG.min_lr)\n",
    "    elif CFG.scheduler == 'CosineAnnealingWarmRestarts':\n",
    "        scheduler = lr_scheduler.CosineAnnealingWarmRestarts(optimizer,T_0=int(len(train_loader)/CFG.train_bs*CFG.epochs)+50, \n",
    "                                                             eta_min=CFG.min_lr)\n",
    "    elif CFG.scheduler == 'ReduceLROnPlateau':\n",
    "        scheduler = lr_scheduler.ReduceLROnPlateau(optimizer,\n",
    "                                                   mode='min',\n",
    "                                                   factor=0.1,\n",
    "                                                   patience=7,\n",
    "                                                   threshold=0.0001,\n",
    "                                                   min_lr=CFG.min_lr,)\n",
    "    elif CFG.scheduler == 'ExponentialLR':\n",
    "        scheduler = lr_scheduler.ExponentialLR(optimizer, gamma=0.85)\n",
    "    elif CFG.scheduler == 'OneCycleLR':\n",
    "        scheduler = lr_scheduler.OneCycleLR(optimizer, max_lr=0.0001, epochs=CFG.epochs,\n",
    "                                                    steps_per_epoch=min(4000, len(train_loader)),\n",
    "                                                    pct_start=0.3)\n",
    "    elif CFG.scheduler == None:\n",
    "        return None\n",
    "        \n",
    "    return scheduler"
   ]
  },
  {
   "cell_type": "code",
   "execution_count": 28,
   "id": "4e028d88",
   "metadata": {
    "execution": {
     "iopub.execute_input": "2022-09-27T19:31:47.623377Z",
     "iopub.status.busy": "2022-09-27T19:31:47.621951Z",
     "iopub.status.idle": "2022-09-27T19:31:47.628745Z",
     "shell.execute_reply": "2022-09-27T19:31:47.627798Z"
    },
    "papermill": {
     "duration": 0.033359,
     "end_time": "2022-09-27T19:31:47.631334",
     "exception": false,
     "start_time": "2022-09-27T19:31:47.597975",
     "status": "completed"
    },
    "tags": []
   },
   "outputs": [],
   "source": [
    "metrics = accuracy_score, f1_score, precision_score, recall_score\n",
    "BCELoss = nn.CrossEntropyLoss()\n",
    "def criterion(y_pred, y_true):\n",
    "    return BCELoss(y_pred, y_true)"
   ]
  },
  {
   "cell_type": "code",
   "execution_count": 29,
   "id": "74b30bcc",
   "metadata": {
    "execution": {
     "iopub.execute_input": "2022-09-27T19:31:47.679477Z",
     "iopub.status.busy": "2022-09-27T19:31:47.678135Z",
     "iopub.status.idle": "2022-09-27T19:31:47.684457Z",
     "shell.execute_reply": "2022-09-27T19:31:47.683522Z"
    },
    "papermill": {
     "duration": 0.032852,
     "end_time": "2022-09-27T19:31:47.686908",
     "exception": false,
     "start_time": "2022-09-27T19:31:47.654056",
     "status": "completed"
    },
    "tags": []
   },
   "outputs": [],
   "source": [
    "\n",
    "CrossEntropyLoss = nn.CrossEntropyLoss()\n",
    "def metric(y_pred, y_true):\n",
    "    return CrossEntropyLoss(y_pred, y_true)"
   ]
  },
  {
   "cell_type": "code",
   "execution_count": 30,
   "id": "d360483e",
   "metadata": {
    "execution": {
     "iopub.execute_input": "2022-09-27T19:31:47.734039Z",
     "iopub.status.busy": "2022-09-27T19:31:47.733608Z",
     "iopub.status.idle": "2022-09-27T19:31:47.739361Z",
     "shell.execute_reply": "2022-09-27T19:31:47.738301Z"
    },
    "papermill": {
     "duration": 0.032222,
     "end_time": "2022-09-27T19:31:47.741814",
     "exception": false,
     "start_time": "2022-09-27T19:31:47.709592",
     "status": "completed"
    },
    "tags": []
   },
   "outputs": [],
   "source": [
    "T2loss = losses.NTXentLoss(temperature=0.07)"
   ]
  },
  {
   "cell_type": "markdown",
   "id": "6d37084a",
   "metadata": {
    "papermill": {
     "duration": 0.022417,
     "end_time": "2022-09-27T19:31:47.786788",
     "exception": false,
     "start_time": "2022-09-27T19:31:47.764371",
     "status": "completed"
    },
    "tags": []
   },
   "source": [
    "# 🚄 Training Function"
   ]
  },
  {
   "cell_type": "code",
   "execution_count": 31,
   "id": "e396b63b",
   "metadata": {
    "execution": {
     "iopub.execute_input": "2022-09-27T19:31:47.834154Z",
     "iopub.status.busy": "2022-09-27T19:31:47.833759Z",
     "iopub.status.idle": "2022-09-27T19:31:47.849989Z",
     "shell.execute_reply": "2022-09-27T19:31:47.848923Z"
    },
    "papermill": {
     "duration": 0.042885,
     "end_time": "2022-09-27T19:31:47.852441",
     "exception": false,
     "start_time": "2022-09-27T19:31:47.809556",
     "status": "completed"
    },
    "tags": []
   },
   "outputs": [],
   "source": [
    "def train_epoch(model, dataloader, criterion, optimizer,scheduler):\n",
    "    #model.train()\n",
    "   \n",
    "    epoch_loss = 0.0\n",
    "    epoch_acc = 0\n",
    "    phase = \"train\"\n",
    "    tp = 0\n",
    "    tn = 0\n",
    "    fp = 0\n",
    "    fn = 0\n",
    "    epsilon = 1e-7\n",
    "    data_size = len(dataloader.dataset)\n",
    "    pbar = tqdm(enumerate(dataloader), total=len(dataloader), desc='Train ')\n",
    "\n",
    "    for idx,item in pbar:\n",
    "                images = item[0].to(CFG.device).float()\n",
    "                classes = item[1].to(CFG.device).long()\n",
    "                optimizer.zero_grad()\n",
    "                with torch.set_grad_enabled(True):\n",
    "                    output,task2 = model(images)\n",
    "                    #print(output)\n",
    "                    loss = criterion(output, classes) * 4  + T2loss(task2,classes.repeat(task2.shape[0]))\n",
    "                    \n",
    "                    _, preds = torch.max(output, 1)\n",
    "                    \n",
    "                    loss.backward()\n",
    "                    optimizer.step()\n",
    "                    optimizer.zero_grad()\n",
    "                    scheduler.step()\n",
    "                    epoch_loss += loss.item() * len(output)\n",
    "                    epoch_acc += torch.sum(preds == classes.data)\n",
    "                    \n",
    "                    tp = (classes.data * preds).sum().to(torch.float32)\n",
    "                    tn = ((1 - classes.data) * (1 - preds)).sum().to(torch.float32)\n",
    "                    fp = ((1 - classes.data) * preds).sum().to(torch.float32)\n",
    "                    fn = (classes.data * (1 - preds)).sum().to(torch.float32)\n",
    "                mem = torch.cuda.memory_reserved() / 1E9 if torch.cuda.is_available() else 0\n",
    "                current_lr = optimizer.param_groups[0]['lr']\n",
    "                pbar.set_postfix(train_loss=f'{epoch_loss /((idx + 1) * CFG.train_bs) :0.4f}',lr=f'{current_lr:0.5f}',\n",
    "                    gpu_mem=f'{mem:0.2f} GB')\n",
    "    \n",
    "    \n",
    "    data_size = len(dataloader.dataset)\n",
    "    epoch_loss = epoch_loss / data_size\n",
    "    epoch_acc = epoch_acc.double() / data_size\n",
    "    \n",
    "    precision = tp / (tp + fp + epsilon)\n",
    "    recall = tp / (tp + fn + epsilon)\n",
    "    f1 = 2* (precision*recall) / (precision + recall + epsilon)\n",
    "            \n",
    "  \n",
    "    return [epoch_loss]"
   ]
  },
  {
   "cell_type": "code",
   "execution_count": 32,
   "id": "4131c2ad",
   "metadata": {
    "execution": {
     "iopub.execute_input": "2022-09-27T19:31:47.897424Z",
     "iopub.status.busy": "2022-09-27T19:31:47.896708Z",
     "iopub.status.idle": "2022-09-27T19:31:47.911845Z",
     "shell.execute_reply": "2022-09-27T19:31:47.910469Z"
    },
    "papermill": {
     "duration": 0.040869,
     "end_time": "2022-09-27T19:31:47.914830",
     "exception": false,
     "start_time": "2022-09-27T19:31:47.873961",
     "status": "completed"
    },
    "tags": []
   },
   "outputs": [],
   "source": [
    "def valid_epoch(model, dataloader, criterion, optimizer):\n",
    "    model.eval()\n",
    "    epoch_loss = 0.0\n",
    "    epoch_acc = 0\n",
    "    epoch_metr = 0.0\n",
    "    phase = \"val\"\n",
    "    tp = 0\n",
    "    tn = 0\n",
    "    fp = 0\n",
    "    fn = 0\n",
    "    epsilon = 1e-7\n",
    "    data_size = len(dataloader.dataset)\n",
    "    soft = nn.Softmax()\n",
    "    pbar = tqdm(enumerate(dataloader), total=len(dataloader), desc='Valid ')\n",
    "    for idx,item in pbar:\n",
    "            images = item[0].to(CFG.device).float()\n",
    "            classes = item[1].to(CFG.device).long()\n",
    "            optimizer.zero_grad()\n",
    "            with torch.set_grad_enabled(False):\n",
    "                output, _= model(images)\n",
    "                loss = criterion(output, classes)\n",
    "                metr = metric(output, classes)\n",
    "                _, preds = torch.max(output, 1)\n",
    "                \n",
    "\n",
    "                epoch_loss += loss.item() * len(output)\n",
    "                epoch_metr += metr.item() * len(output)\n",
    "                epoch_acc += torch.sum(preds == classes.data)\n",
    "                \n",
    "                \n",
    "                tp += (classes.data * preds).sum().to(torch.float32)\n",
    "                tn += ((1 - classes.data) * (1 - preds)).sum().to(torch.float32)\n",
    "                fp += ((1 - classes.data) * preds).sum().to(torch.float32)\n",
    "                fn += (classes.data * (1 - preds)).sum().to(torch.float32)\n",
    "            mem = torch.cuda.memory_reserved() / 1E9 if torch.cuda.is_available() else 0\n",
    "            pbar.set_postfix(valid_loss=f'{epoch_loss /((idx + 1) * CFG.valid_bs):0.4f}', metric = f'{epoch_metr  /((idx + 1) * CFG.valid_bs):0.4f}',\n",
    "                        gpu_memory=f'{mem:0.2f} GB')\n",
    "   \n",
    "    data_size = len(dataloader.dataset)\n",
    "    epoch_loss = epoch_loss / data_size\n",
    "    epoch_metr = epoch_metr / data_size\n",
    "    epoch_acc = epoch_acc.double() / data_size\n",
    "    \n",
    "    precision = tp / (tp + fp + epsilon)\n",
    "    recall = tp / (tp + fn + epsilon)\n",
    "    f1 = 2* (precision*recall) / (precision + recall + epsilon)\n",
    "    print(soft(output),classes)\n",
    "    \n",
    "    return epoch_loss, epoch_acc, precision, recall, f1 , epoch_metr"
   ]
  },
  {
   "cell_type": "code",
   "execution_count": 33,
   "id": "c671048d",
   "metadata": {
    "execution": {
     "iopub.execute_input": "2022-09-27T19:31:47.962464Z",
     "iopub.status.busy": "2022-09-27T19:31:47.961648Z",
     "iopub.status.idle": "2022-09-27T19:31:47.974067Z",
     "shell.execute_reply": "2022-09-27T19:31:47.972944Z"
    },
    "papermill": {
     "duration": 0.039553,
     "end_time": "2022-09-27T19:31:47.976982",
     "exception": false,
     "start_time": "2022-09-27T19:31:47.937429",
     "status": "completed"
    },
    "tags": []
   },
   "outputs": [],
   "source": [
    "def train_model(model, dataloaders_dict, criterion, optimizer, scheduler, num_epochs):\n",
    "    best_acc = np.inf\n",
    "    metrics = \"Loss, acc, precision, recall, f1, CrossEntropy\".split(', ')\n",
    "    logs = {}\n",
    "    for epoch in range(num_epochs):\n",
    "        \n",
    "        \n",
    "        model.train()\n",
    "        if epoch >=5: # freez model after 2 epochs \n",
    "            for param in model.encoder.parameters():\n",
    "                param.requires_grad = False\n",
    "            for param in model.head.parameters():\n",
    "                param.requires_grad = True\n",
    "\n",
    "        else:\n",
    "            for param in model.encoder.parameters():\n",
    "                param.requires_grad = True\n",
    "            for param in model.head.parameters():\n",
    "                param.requires_grad = False\n",
    "        \n",
    "        \n",
    "        train_info = train_epoch(model, dataloaders_dict[\"train\"], criterion, optimizer ,scheduler)\n",
    "        for idx,met in enumerate(train_info):\n",
    "            logs[f\"train {metrics[idx]}\"] = met\n",
    "            \n",
    "        valid_info = valid_epoch(model, dataloaders_dict[\"val\"], criterion, optimizer)\n",
    "        for idx,met in enumerate(valid_info):\n",
    "            logs[f\"val {metrics[idx]}\"] = met\n",
    "        \n",
    "        wandb.log(logs)    \n",
    "        epoch_acc =  valid_info[-1]\n",
    "\n",
    "        if epoch_acc < best_acc:\n",
    "            print(f\"Valid Score Improved ({best_acc:0.4f} ---> {epoch_acc:0.4f})\")\n",
    "            PATH = f\"best_epoch-{fold}-{epoch:02d}-{epoch_acc}.bin\"\n",
    "            torch.save(model.state_dict(), PATH)\n",
    "            best_acc = epoch_acc\n",
    "        else:\n",
    "            PATH = f\"last_epoch-{fold}-{epoch:02d}-{epoch_acc}.bin\"\n",
    "            torch.save(model.state_dict(), PATH)\n",
    "        #Focal.gamma -= 0.1\n"
   ]
  },
  {
   "cell_type": "code",
   "execution_count": 34,
   "id": "94633cbc",
   "metadata": {
    "execution": {
     "iopub.execute_input": "2022-09-27T19:31:48.024276Z",
     "iopub.status.busy": "2022-09-27T19:31:48.023885Z",
     "iopub.status.idle": "2022-09-27T19:31:51.295321Z",
     "shell.execute_reply": "2022-09-27T19:31:51.294266Z"
    },
    "papermill": {
     "duration": 3.298603,
     "end_time": "2022-09-27T19:31:51.298295",
     "exception": false,
     "start_time": "2022-09-27T19:31:47.999692",
     "status": "completed"
    },
    "tags": []
   },
   "outputs": [
    {
     "name": "stderr",
     "output_type": "stream",
     "text": [
      "\u001b[34m\u001b[1mwandb\u001b[0m: Currently logged in as: \u001b[33mothiro\u001b[0m. Use \u001b[1m`wandb login --relogin`\u001b[0m to force relogin\n"
     ]
    },
    {
     "data": {
      "text/html": [
       "wandb version 0.13.3 is available!  To upgrade, please run:\n",
       " $ pip install wandb --upgrade"
      ],
      "text/plain": [
       "<IPython.core.display.HTML object>"
      ]
     },
     "metadata": {},
     "output_type": "display_data"
    },
    {
     "data": {
      "text/html": [
       "Tracking run with wandb version 0.12.20"
      ],
      "text/plain": [
       "<IPython.core.display.HTML object>"
      ]
     },
     "metadata": {},
     "output_type": "display_data"
    },
    {
     "data": {
      "text/html": [
       "Run data is saved locally in <code>/kaggle/working/wandb/run-20220927_193148-1so4ov1p</code>"
      ],
      "text/plain": [
       "<IPython.core.display.HTML object>"
      ]
     },
     "metadata": {},
     "output_type": "display_data"
    },
    {
     "data": {
      "text/html": [
       "Syncing run <strong><a href=\"https://wandb.ai/othiro/Strip-Ai-MIL/runs/1so4ov1p\" target=\"_blank\">fold-4|model-convnext_tiny</a></strong> to <a href=\"https://wandb.ai/othiro/Strip-Ai-MIL\" target=\"_blank\">Weights & Biases</a> (<a href=\"https://wandb.me/run\" target=\"_blank\">docs</a>)<br/>"
      ],
      "text/plain": [
       "<IPython.core.display.HTML object>"
      ]
     },
     "metadata": {},
     "output_type": "display_data"
    }
   ],
   "source": [
    "run = wandb.init(project='Strip-Ai-MIL', \n",
    "                     config={k:v for k, v in dict(vars(CFG)).items() if '__' not in k},\n",
    "                     anonymous=anonymous,\n",
    "                     name=f\"fold-{fold}|model-{CFG.backbone}\",\n",
    "                     group=CFG.comment,\n",
    "                    )"
   ]
  },
  {
   "cell_type": "code",
   "execution_count": 35,
   "id": "c4fc8769",
   "metadata": {
    "execution": {
     "iopub.execute_input": "2022-09-27T19:31:51.351888Z",
     "iopub.status.busy": "2022-09-27T19:31:51.351154Z"
    },
    "papermill": {
     "duration": 2037.655634,
     "end_time": "2022-09-27T20:05:48.981842",
     "exception": false,
     "start_time": "2022-09-27T19:31:51.326208",
     "status": "completed"
    },
    "tags": []
   },
   "outputs": [
    {
     "name": "stdout",
     "output_type": "stream",
     "text": [
      "###############\n",
      "### Fold: 4\n",
      "###############\n",
      "768\n"
     ]
    },
    {
     "name": "stderr",
     "output_type": "stream",
     "text": [
      "Train :  25%|██▌       | 36/144 [33:37<1:39:16, 55.16s/it, gpu_mem=0.00 GB, lr=0.00005, train_loss=2.9093]"
     ]
    }
   ],
   "source": [
    "fold = 4\n",
    "print(f'#'*15)\n",
    "print(f'### Fold: {fold}')\n",
    "print(f'#'*15)\n",
    "\n",
    "\n",
    "train_loader, valid_loader = prepare_loaders(fold=fold,N_slides = CFG.N_slides, df=df, debug=CFG.debug)\n",
    "dataloaders_dict = {\"train\": train_loader, \"val\": valid_loader}\n",
    "model     = StripModel(CFG.backbone ,pretrained = True ).to(CFG.device)\n",
    "optimizer = optim.AdamW(model.parameters(), lr=CFG.lr, weight_decay=CFG.wd)\n",
    "scheduler = fetch_scheduler(optimizer)\n",
    "train_model(model, dataloaders_dict, criterion,optimizer,scheduler,CFG.epochs)\n",
    "run.finish() "
   ]
  },
  {
   "cell_type": "code",
   "execution_count": null,
   "id": "b533b196",
   "metadata": {
    "papermill": {
     "duration": null,
     "end_time": null,
     "exception": null,
     "start_time": null,
     "status": "completed"
    },
    "tags": []
   },
   "outputs": [],
   "source": []
  }
 ],
 "metadata": {
  "kernelspec": {
   "display_name": "Python 3",
   "language": "python",
   "name": "python3"
  },
  "language_info": {
   "codemirror_mode": {
    "name": "ipython",
    "version": 3
   },
   "file_extension": ".py",
   "mimetype": "text/x-python",
   "name": "python",
   "nbconvert_exporter": "python",
   "pygments_lexer": "ipython3",
   "version": "3.6.4"
  },
  "papermill": {
   "default_parameters": {},
   "duration": 2107.713742,
   "end_time": "2022-09-27T20:05:49.045966",
   "environment_variables": {},
   "exception": null,
   "input_path": "__notebook__.ipynb",
   "output_path": "__notebook__.ipynb",
   "parameters": {},
   "start_time": "2022-09-27T19:30:41.332224",
   "version": "2.3.4"
  }
 },
 "nbformat": 4,
 "nbformat_minor": 5
}
