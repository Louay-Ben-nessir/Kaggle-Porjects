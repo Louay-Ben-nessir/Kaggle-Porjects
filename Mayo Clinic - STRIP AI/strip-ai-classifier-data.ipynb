{
 "cells": [
  {
   "cell_type": "markdown",
   "id": "42f15b92",
   "metadata": {
    "papermill": {
     "duration": 0.007995,
     "end_time": "2022-09-25T18:20:05.984161",
     "exception": false,
     "start_time": "2022-09-25T18:20:05.976166",
     "status": "completed"
    },
    "tags": []
   },
   "source": [
    "# 📚 Import Libraries"
   ]
  },
  {
   "cell_type": "code",
   "execution_count": 1,
   "id": "be31e118",
   "metadata": {
    "execution": {
     "iopub.execute_input": "2022-09-25T18:20:06.000432Z",
     "iopub.status.busy": "2022-09-25T18:20:05.999521Z",
     "iopub.status.idle": "2022-09-25T18:20:08.136549Z",
     "shell.execute_reply": "2022-09-25T18:20:08.135269Z"
    },
    "papermill": {
     "duration": 2.14813,
     "end_time": "2022-09-25T18:20:08.139339",
     "exception": false,
     "start_time": "2022-09-25T18:20:05.991209",
     "status": "completed"
    },
    "tags": []
   },
   "outputs": [],
   "source": [
    "!cp -r ../input/timm-pytorch-image-models . \n",
    "#!cp -r ../input/openslide ."
   ]
  },
  {
   "cell_type": "code",
   "execution_count": 2,
   "id": "49b26767",
   "metadata": {
    "execution": {
     "iopub.execute_input": "2022-09-25T18:20:08.154428Z",
     "iopub.status.busy": "2022-09-25T18:20:08.154067Z",
     "iopub.status.idle": "2022-09-25T18:20:21.063066Z",
     "shell.execute_reply": "2022-09-25T18:20:21.061896Z"
    },
    "papermill": {
     "duration": 12.919581,
     "end_time": "2022-09-25T18:20:21.065840",
     "exception": false,
     "start_time": "2022-09-25T18:20:08.146259",
     "status": "completed"
    },
    "tags": []
   },
   "outputs": [
    {
     "name": "stdout",
     "output_type": "stream",
     "text": [
      "\u001b[33mWARNING: Running pip as the 'root' user can result in broken permissions and conflicting behaviour with the system package manager. It is recommended to use a virtual environment instead: https://pip.pypa.io/warnings/venv\u001b[0m\u001b[33m\r\n",
      "\u001b[0m"
     ]
    }
   ],
   "source": [
    "!pip install -qU ./timm-pytorch-image-models/pytorch-image-models-master\n",
    "#!pip install -qU ./openslide"
   ]
  },
  {
   "cell_type": "code",
   "execution_count": 3,
   "id": "3c0216d9",
   "metadata": {
    "execution": {
     "iopub.execute_input": "2022-09-25T18:20:21.081171Z",
     "iopub.status.busy": "2022-09-25T18:20:21.080848Z",
     "iopub.status.idle": "2022-09-25T18:20:25.916860Z",
     "shell.execute_reply": "2022-09-25T18:20:25.915801Z"
    },
    "papermill": {
     "duration": 4.846659,
     "end_time": "2022-09-25T18:20:25.919461",
     "exception": false,
     "start_time": "2022-09-25T18:20:21.072802",
     "status": "completed"
    },
    "tags": []
   },
   "outputs": [],
   "source": [
    "import pandas as pd\n",
    "import numpy as np\n",
    "from glob import glob\n",
    "from collections import defaultdict\n",
    "from tqdm import tqdm\n",
    "import time\n",
    "import os \n",
    "import copy\n",
    "import gc\n",
    "from openslide import OpenSlide\n",
    "from PIL import Image\n",
    "# visualization\n",
    "import cv2\n",
    "import matplotlib.pyplot as plt\n",
    "\n",
    "# Sklearn\n",
    "from sklearn.model_selection import StratifiedKFold, KFold, StratifiedGroupKFold,GroupKFold \n",
    "import tifffile\n",
    "# PyTorch \n",
    "import torch\n",
    "import torch.nn as nn\n",
    "import torch.optim as optim\n",
    "from torch.optim import lr_scheduler\n",
    "from torch.utils.data import Dataset, DataLoader\n",
    "from torch.cuda import amp\n",
    "\n",
    "import timm\n",
    "\n",
    "import zipfile\n",
    "#import pyvips\n",
    "# Albumentations for augmentations\n",
    "import albumentations as A\n",
    "from albumentations.pytorch import ToTensorV2\n",
    "\n",
    "# Metrics \n",
    "from sklearn.metrics import accuracy_score, f1_score, precision_score, recall_score\n",
    "\n",
    "\n",
    "# For colored terminal text\n",
    "from colorama import Fore, Back, Style\n",
    "c_  = Fore.GREEN\n",
    "sr_ = Style.RESET_ALL\n",
    "\n",
    "import warnings\n",
    "warnings.filterwarnings('ignore')"
   ]
  },
  {
   "cell_type": "markdown",
   "id": "39989e8f",
   "metadata": {
    "papermill": {
     "duration": 0.0065,
     "end_time": "2022-09-25T18:20:25.935502",
     "exception": false,
     "start_time": "2022-09-25T18:20:25.929002",
     "status": "completed"
    },
    "tags": []
   },
   "source": [
    "# ⚙️ Configuration"
   ]
  },
  {
   "cell_type": "code",
   "execution_count": 4,
   "id": "45a06fec",
   "metadata": {
    "execution": {
     "iopub.execute_input": "2022-09-25T18:20:25.951733Z",
     "iopub.status.busy": "2022-09-25T18:20:25.950057Z",
     "iopub.status.idle": "2022-09-25T18:20:25.966925Z",
     "shell.execute_reply": "2022-09-25T18:20:25.965382Z"
    },
    "papermill": {
     "duration": 0.02756,
     "end_time": "2022-09-25T18:20:25.969661",
     "exception": false,
     "start_time": "2022-09-25T18:20:25.942101",
     "status": "completed"
    },
    "tags": []
   },
   "outputs": [
    {
     "name": "stdout",
     "output_type": "stream",
     "text": [
      "True\n"
     ]
    }
   ],
   "source": [
    "fake_inf = len(glob(\"/kaggle/input/mayo-clinic-strip-ai/test/*\")) == 4 \n",
    "print(fake_inf)"
   ]
  },
  {
   "cell_type": "code",
   "execution_count": 5,
   "id": "32f3f78c",
   "metadata": {
    "execution": {
     "iopub.execute_input": "2022-09-25T18:20:25.985297Z",
     "iopub.status.busy": "2022-09-25T18:20:25.984485Z",
     "iopub.status.idle": "2022-09-25T18:20:26.044327Z",
     "shell.execute_reply": "2022-09-25T18:20:26.043294Z"
    },
    "papermill": {
     "duration": 0.069938,
     "end_time": "2022-09-25T18:20:26.046636",
     "exception": false,
     "start_time": "2022-09-25T18:20:25.976698",
     "status": "completed"
    },
    "tags": []
   },
   "outputs": [],
   "source": [
    "class CFG:\n",
    "    seed          = 913\n",
    "    debug         = False # set debug=False for Full Training\n",
    "    comment       = \"eff b7 more more 0.15 satruration on data\"\n",
    "    n_flods       = 5\n",
    "    backbone      = \"convnext_tiny\"\n",
    "    train_bs      = 1\n",
    "    valid_bs      = 1\n",
    "    epochs        = 25\n",
    "    lr            = 1e-4\n",
    "    scheduler     = 'CosineAnnealingLR'\n",
    "    min_lr        = 1e-6\n",
    "    T_max         = int(30000/train_bs*epochs)+50\n",
    "    T_0           = 25\n",
    "    warmup_epochs = 1\n",
    "    wd            = 1e-6\n",
    "    n_accumulate  = 2#max(1, 32//train_bs)\n",
    "    device        = torch.device(\"cuda:0\" if torch.cuda.is_available() else \"cpu\")\n",
    "    tile_size     = (1024,1024)\n",
    "    t_thr         = 0.4 # percentage of required color pixles to |keep the pic \n",
    "    faster_inf    = True #only take N_slides slides from each image \n",
    "    N_slides      = 45"
   ]
  },
  {
   "cell_type": "code",
   "execution_count": 6,
   "id": "34645c33",
   "metadata": {
    "execution": {
     "iopub.execute_input": "2022-09-25T18:20:26.061782Z",
     "iopub.status.busy": "2022-09-25T18:20:26.061488Z",
     "iopub.status.idle": "2022-09-25T18:20:26.076806Z",
     "shell.execute_reply": "2022-09-25T18:20:26.075277Z"
    },
    "papermill": {
     "duration": 0.026044,
     "end_time": "2022-09-25T18:20:26.079660",
     "exception": false,
     "start_time": "2022-09-25T18:20:26.053616",
     "status": "completed"
    },
    "tags": []
   },
   "outputs": [
    {
     "name": "stdout",
     "output_type": "stream",
     "text": [
      "> SEEDING DONE\n"
     ]
    }
   ],
   "source": [
    "def set_seed(seed = 42):\n",
    "    np.random.seed(seed)\n",
    "    #random.seed(seed)\n",
    "    torch.manual_seed(seed)\n",
    "    torch.cuda.manual_seed(seed)\n",
    "    # When running on the CuDNN backend, two further options must be set\n",
    "    torch.backends.cudnn.deterministic = True\n",
    "    torch.backends.cudnn.benchmark = False\n",
    "    # Set a fixed value for the hash seed\n",
    "    os.environ['PYTHONHASHSEED'] = str(seed)\n",
    "    print('> SEEDING DONE')\n",
    "    \n",
    "set_seed(CFG.seed)"
   ]
  },
  {
   "cell_type": "markdown",
   "id": "b2d32ae9",
   "metadata": {
    "papermill": {
     "duration": 0.006676,
     "end_time": "2022-09-25T18:20:26.093567",
     "exception": false,
     "start_time": "2022-09-25T18:20:26.086891",
     "status": "completed"
    },
    "tags": []
   },
   "source": [
    "# ❗ Data"
   ]
  },
  {
   "cell_type": "code",
   "execution_count": 7,
   "id": "0fd8d15c",
   "metadata": {
    "execution": {
     "iopub.execute_input": "2022-09-25T18:20:26.108305Z",
     "iopub.status.busy": "2022-09-25T18:20:26.108001Z",
     "iopub.status.idle": "2022-09-25T18:20:26.112453Z",
     "shell.execute_reply": "2022-09-25T18:20:26.111517Z"
    },
    "papermill": {
     "duration": 0.014257,
     "end_time": "2022-09-25T18:20:26.114419",
     "exception": false,
     "start_time": "2022-09-25T18:20:26.100162",
     "status": "completed"
    },
    "tags": []
   },
   "outputs": [],
   "source": [
    "Data_dir = [f\"../input/cleanedrescaled384-{i}/train/*\" for i in range(1,9)]"
   ]
  },
  {
   "cell_type": "code",
   "execution_count": 8,
   "id": "036b4041",
   "metadata": {
    "execution": {
     "iopub.execute_input": "2022-09-25T18:20:26.129794Z",
     "iopub.status.busy": "2022-09-25T18:20:26.129537Z",
     "iopub.status.idle": "2022-09-25T18:20:26.138148Z",
     "shell.execute_reply": "2022-09-25T18:20:26.137235Z"
    },
    "papermill": {
     "duration": 0.018446,
     "end_time": "2022-09-25T18:20:26.140179",
     "exception": false,
     "start_time": "2022-09-25T18:20:26.121733",
     "status": "completed"
    },
    "tags": []
   },
   "outputs": [],
   "source": [
    "def get_data_info(paths , train = True):\n",
    "    img_prop = defaultdict(list)\n",
    "    \n",
    "    for i, path in tqdm(enumerate(paths), total = len(paths),desc = \"making dataframe\"):\n",
    "        img_info =  path.split('/')[-1]\n",
    "\n",
    "        patient_id , image_num  , centre_id,slice_num = img_info.split(\"_\")\n",
    "        #tl_pixel = tl_pixel.split('.')[0]\n",
    "        #centre_id = centre_id.split('.jpg')[0]\n",
    "        \n",
    "        img_prop['image_id'].append(f\"{patient_id}_{image_num}\")\n",
    "        img_prop['patient_id'].append(patient_id)\n",
    "        img_prop['image_num'].append(image_num)\n",
    "        img_prop['centre_id'].append(centre_id)\n",
    "        img_prop['slice_num'].append(slice_num.split('.jpg')[0])\n",
    "        \n",
    "        img_prop['path'].append(path)\n",
    "        #img_prop['tl_pixel'].append(tl_pixel)\n",
    "        \n",
    "        if train:\n",
    "            label = train_data[train_data[\"image_id\"]==f\"{patient_id}_{image_num}\"].label.item()\n",
    "            \n",
    "            img_prop['label'].append(label)\n",
    "            \n",
    "        \n",
    "        #img_prop['density'].append(extra_info)\n",
    "    \n",
    "    image_data = pd.DataFrame(img_prop)\n",
    "\n",
    "    image_data.sort_values(by='image_id', inplace=True)\n",
    "    image_data.reset_index(inplace=True, drop=True)\n",
    "    #image_data['density'] = image_data['density'].astype(np.float16)\n",
    "    \n",
    "    return image_data"
   ]
  },
  {
   "cell_type": "code",
   "execution_count": 9,
   "id": "e759e92e",
   "metadata": {
    "execution": {
     "iopub.execute_input": "2022-09-25T18:20:26.155374Z",
     "iopub.status.busy": "2022-09-25T18:20:26.154622Z",
     "iopub.status.idle": "2022-09-25T18:20:26.171237Z",
     "shell.execute_reply": "2022-09-25T18:20:26.170353Z"
    },
    "papermill": {
     "duration": 0.026098,
     "end_time": "2022-09-25T18:20:26.173230",
     "exception": false,
     "start_time": "2022-09-25T18:20:26.147132",
     "status": "completed"
    },
    "tags": []
   },
   "outputs": [],
   "source": [
    "train_data = pd.read_csv(\"../input/mayo-clinic-strip-ai/train.csv\")"
   ]
  },
  {
   "cell_type": "code",
   "execution_count": 10,
   "id": "0d07149f",
   "metadata": {
    "execution": {
     "iopub.execute_input": "2022-09-25T18:20:26.188540Z",
     "iopub.status.busy": "2022-09-25T18:20:26.187771Z",
     "iopub.status.idle": "2022-09-25T18:20:45.769507Z",
     "shell.execute_reply": "2022-09-25T18:20:45.768364Z"
    },
    "papermill": {
     "duration": 19.591584,
     "end_time": "2022-09-25T18:20:45.771538",
     "exception": false,
     "start_time": "2022-09-25T18:20:26.179954",
     "status": "completed"
    },
    "tags": []
   },
   "outputs": [
    {
     "name": "stderr",
     "output_type": "stream",
     "text": [
      "making dataframe: 100%|██████████| 35238/35238 [00:17<00:00, 2007.44it/s]\n"
     ]
    },
    {
     "data": {
      "text/html": [
       "<div>\n",
       "<style scoped>\n",
       "    .dataframe tbody tr th:only-of-type {\n",
       "        vertical-align: middle;\n",
       "    }\n",
       "\n",
       "    .dataframe tbody tr th {\n",
       "        vertical-align: top;\n",
       "    }\n",
       "\n",
       "    .dataframe thead th {\n",
       "        text-align: right;\n",
       "    }\n",
       "</style>\n",
       "<table border=\"1\" class=\"dataframe\">\n",
       "  <thead>\n",
       "    <tr style=\"text-align: right;\">\n",
       "      <th></th>\n",
       "      <th>image_id</th>\n",
       "      <th>patient_id</th>\n",
       "      <th>image_num</th>\n",
       "      <th>centre_id</th>\n",
       "      <th>slice_num</th>\n",
       "      <th>path</th>\n",
       "      <th>label</th>\n",
       "    </tr>\n",
       "  </thead>\n",
       "  <tbody>\n",
       "    <tr>\n",
       "      <th>0</th>\n",
       "      <td>006388_0</td>\n",
       "      <td>006388</td>\n",
       "      <td>0</td>\n",
       "      <td>11</td>\n",
       "      <td>42</td>\n",
       "      <td>../input/cleanedrescaled384-2/train/006388_0_1...</td>\n",
       "      <td>CE</td>\n",
       "    </tr>\n",
       "    <tr>\n",
       "      <th>1</th>\n",
       "      <td>006388_0</td>\n",
       "      <td>006388</td>\n",
       "      <td>0</td>\n",
       "      <td>11</td>\n",
       "      <td>0</td>\n",
       "      <td>../input/cleanedrescaled384-2/train/006388_0_1...</td>\n",
       "      <td>CE</td>\n",
       "    </tr>\n",
       "    <tr>\n",
       "      <th>2</th>\n",
       "      <td>006388_0</td>\n",
       "      <td>006388</td>\n",
       "      <td>0</td>\n",
       "      <td>11</td>\n",
       "      <td>8</td>\n",
       "      <td>../input/cleanedrescaled384-2/train/006388_0_1...</td>\n",
       "      <td>CE</td>\n",
       "    </tr>\n",
       "    <tr>\n",
       "      <th>3</th>\n",
       "      <td>006388_0</td>\n",
       "      <td>006388</td>\n",
       "      <td>0</td>\n",
       "      <td>11</td>\n",
       "      <td>17</td>\n",
       "      <td>../input/cleanedrescaled384-2/train/006388_0_1...</td>\n",
       "      <td>CE</td>\n",
       "    </tr>\n",
       "    <tr>\n",
       "      <th>4</th>\n",
       "      <td>006388_0</td>\n",
       "      <td>006388</td>\n",
       "      <td>0</td>\n",
       "      <td>11</td>\n",
       "      <td>24</td>\n",
       "      <td>../input/cleanedrescaled384-2/train/006388_0_1...</td>\n",
       "      <td>CE</td>\n",
       "    </tr>\n",
       "  </tbody>\n",
       "</table>\n",
       "</div>"
      ],
      "text/plain": [
       "   image_id patient_id image_num centre_id slice_num  \\\n",
       "0  006388_0     006388         0        11        42   \n",
       "1  006388_0     006388         0        11         0   \n",
       "2  006388_0     006388         0        11         8   \n",
       "3  006388_0     006388         0        11        17   \n",
       "4  006388_0     006388         0        11        24   \n",
       "\n",
       "                                                path label  \n",
       "0  ../input/cleanedrescaled384-2/train/006388_0_1...    CE  \n",
       "1  ../input/cleanedrescaled384-2/train/006388_0_1...    CE  \n",
       "2  ../input/cleanedrescaled384-2/train/006388_0_1...    CE  \n",
       "3  ../input/cleanedrescaled384-2/train/006388_0_1...    CE  \n",
       "4  ../input/cleanedrescaled384-2/train/006388_0_1...    CE  "
      ]
     },
     "execution_count": 10,
     "metadata": {},
     "output_type": "execute_result"
    }
   ],
   "source": [
    "train_images = []\n",
    "for path in Data_dir:\n",
    "    train_images.extend(glob(path))\n",
    "#print(train_images)\n",
    "df = get_data_info(train_images)\n",
    "df.head()"
   ]
  },
  {
   "cell_type": "code",
   "execution_count": 11,
   "id": "5c6a6c65",
   "metadata": {
    "execution": {
     "iopub.execute_input": "2022-09-25T18:20:45.803931Z",
     "iopub.status.busy": "2022-09-25T18:20:45.803630Z",
     "iopub.status.idle": "2022-09-25T18:20:45.844495Z",
     "shell.execute_reply": "2022-09-25T18:20:45.843422Z"
    },
    "papermill": {
     "duration": 0.059256,
     "end_time": "2022-09-25T18:20:45.846582",
     "exception": false,
     "start_time": "2022-09-25T18:20:45.787326",
     "status": "completed"
    },
    "tags": []
   },
   "outputs": [
    {
     "data": {
      "text/html": [
       "<div>\n",
       "<style scoped>\n",
       "    .dataframe tbody tr th:only-of-type {\n",
       "        vertical-align: middle;\n",
       "    }\n",
       "\n",
       "    .dataframe tbody tr th {\n",
       "        vertical-align: top;\n",
       "    }\n",
       "\n",
       "    .dataframe thead th {\n",
       "        text-align: right;\n",
       "    }\n",
       "</style>\n",
       "<table border=\"1\" class=\"dataframe\">\n",
       "  <thead>\n",
       "    <tr style=\"text-align: right;\">\n",
       "      <th></th>\n",
       "      <th>image_id</th>\n",
       "      <th>patient_id</th>\n",
       "      <th>image_num</th>\n",
       "      <th>centre_id</th>\n",
       "      <th>slice_num</th>\n",
       "      <th>path</th>\n",
       "      <th>label</th>\n",
       "    </tr>\n",
       "  </thead>\n",
       "  <tbody>\n",
       "    <tr>\n",
       "      <th>0</th>\n",
       "      <td>006388_0</td>\n",
       "      <td>006388</td>\n",
       "      <td>0</td>\n",
       "      <td>11</td>\n",
       "      <td>42</td>\n",
       "      <td>../input/cleanedrescaled384-2/train/006388_0_1...</td>\n",
       "      <td>CE</td>\n",
       "    </tr>\n",
       "    <tr>\n",
       "      <th>1</th>\n",
       "      <td>006388_0</td>\n",
       "      <td>006388</td>\n",
       "      <td>0</td>\n",
       "      <td>11</td>\n",
       "      <td>0</td>\n",
       "      <td>../input/cleanedrescaled384-2/train/006388_0_1...</td>\n",
       "      <td>CE</td>\n",
       "    </tr>\n",
       "    <tr>\n",
       "      <th>2</th>\n",
       "      <td>006388_0</td>\n",
       "      <td>006388</td>\n",
       "      <td>0</td>\n",
       "      <td>11</td>\n",
       "      <td>8</td>\n",
       "      <td>../input/cleanedrescaled384-2/train/006388_0_1...</td>\n",
       "      <td>CE</td>\n",
       "    </tr>\n",
       "    <tr>\n",
       "      <th>3</th>\n",
       "      <td>006388_0</td>\n",
       "      <td>006388</td>\n",
       "      <td>0</td>\n",
       "      <td>11</td>\n",
       "      <td>17</td>\n",
       "      <td>../input/cleanedrescaled384-2/train/006388_0_1...</td>\n",
       "      <td>CE</td>\n",
       "    </tr>\n",
       "    <tr>\n",
       "      <th>4</th>\n",
       "      <td>006388_0</td>\n",
       "      <td>006388</td>\n",
       "      <td>0</td>\n",
       "      <td>11</td>\n",
       "      <td>24</td>\n",
       "      <td>../input/cleanedrescaled384-2/train/006388_0_1...</td>\n",
       "      <td>CE</td>\n",
       "    </tr>\n",
       "  </tbody>\n",
       "</table>\n",
       "</div>"
      ],
      "text/plain": [
       "   image_id patient_id image_num centre_id slice_num  \\\n",
       "0  006388_0     006388         0        11        42   \n",
       "1  006388_0     006388         0        11         0   \n",
       "2  006388_0     006388         0        11         8   \n",
       "3  006388_0     006388         0        11        17   \n",
       "4  006388_0     006388         0        11        24   \n",
       "\n",
       "                                                path label  \n",
       "0  ../input/cleanedrescaled384-2/train/006388_0_1...    CE  \n",
       "1  ../input/cleanedrescaled384-2/train/006388_0_1...    CE  \n",
       "2  ../input/cleanedrescaled384-2/train/006388_0_1...    CE  \n",
       "3  ../input/cleanedrescaled384-2/train/006388_0_1...    CE  \n",
       "4  ../input/cleanedrescaled384-2/train/006388_0_1...    CE  "
      ]
     },
     "execution_count": 11,
     "metadata": {},
     "output_type": "execute_result"
    }
   ],
   "source": [
    "\n",
    "\n",
    "keep = df['label'].value_counts().LAA*2\n",
    "df = df.drop(df[df['label']==\"CE\"][keep//2:].index).reset_index(drop=True)\n",
    "df = df.drop(df[df['label']==\"LAA\"][keep//2:].index).reset_index(drop=True)\n",
    "df.head()\n",
    "\n"
   ]
  },
  {
   "cell_type": "code",
   "execution_count": 12,
   "id": "881f807f",
   "metadata": {
    "execution": {
     "iopub.execute_input": "2022-09-25T18:20:45.879130Z",
     "iopub.status.busy": "2022-09-25T18:20:45.878810Z",
     "iopub.status.idle": "2022-09-25T18:20:45.897958Z",
     "shell.execute_reply": "2022-09-25T18:20:45.897053Z"
    },
    "papermill": {
     "duration": 0.037849,
     "end_time": "2022-09-25T18:20:45.900120",
     "exception": false,
     "start_time": "2022-09-25T18:20:45.862271",
     "status": "completed"
    },
    "tags": []
   },
   "outputs": [],
   "source": [
    "temp = df.groupby(by=\"image_id\").count()"
   ]
  },
  {
   "cell_type": "code",
   "execution_count": 13,
   "id": "5cad7fa3",
   "metadata": {
    "execution": {
     "iopub.execute_input": "2022-09-25T18:20:45.934315Z",
     "iopub.status.busy": "2022-09-25T18:20:45.932809Z",
     "iopub.status.idle": "2022-09-25T18:20:45.942203Z",
     "shell.execute_reply": "2022-09-25T18:20:45.941281Z"
    },
    "papermill": {
     "duration": 0.028094,
     "end_time": "2022-09-25T18:20:45.944206",
     "exception": false,
     "start_time": "2022-09-25T18:20:45.916112",
     "status": "completed"
    },
    "tags": []
   },
   "outputs": [
    {
     "data": {
      "text/plain": [
       "398"
      ]
     },
     "execution_count": 13,
     "metadata": {},
     "output_type": "execute_result"
    }
   ],
   "source": [
    "\n",
    "\n",
    "df[\"image_id\"].nunique()\n",
    "\n"
   ]
  },
  {
   "cell_type": "markdown",
   "id": "9d83df0a",
   "metadata": {
    "papermill": {
     "duration": 0.015334,
     "end_time": "2022-09-25T18:20:45.975022",
     "exception": false,
     "start_time": "2022-09-25T18:20:45.959688",
     "status": "completed"
    },
    "tags": []
   },
   "source": [
    "# 🔨 Utility"
   ]
  },
  {
   "cell_type": "code",
   "execution_count": 14,
   "id": "ff184245",
   "metadata": {
    "execution": {
     "iopub.execute_input": "2022-09-25T18:20:46.007975Z",
     "iopub.status.busy": "2022-09-25T18:20:46.007102Z",
     "iopub.status.idle": "2022-09-25T18:20:46.013058Z",
     "shell.execute_reply": "2022-09-25T18:20:46.012165Z"
    },
    "papermill": {
     "duration": 0.024492,
     "end_time": "2022-09-25T18:20:46.015017",
     "exception": false,
     "start_time": "2022-09-25T18:20:45.990525",
     "status": "completed"
    },
    "tags": []
   },
   "outputs": [],
   "source": [
    "def load_img(path):\n",
    "    img = cv2.imread(path, cv2.IMREAD_UNCHANGED)\n",
    "\n",
    "    img = img.astype('float32') \n",
    "    return img\n",
    "\n",
    "def show_img(img, ground_truth, pred = \"\", conf = \"\"):\n",
    "    plt.imshow(img)\n",
    "    plt.title(f'true: {\"CE\" if ground_truth else \"LAA\"} | predicted: {pred} | conf: {conf}')\n",
    "    plt.axis('off')\n",
    "    "
   ]
  },
  {
   "cell_type": "code",
   "execution_count": 15,
   "id": "633b9459",
   "metadata": {
    "execution": {
     "iopub.execute_input": "2022-09-25T18:20:46.048250Z",
     "iopub.status.busy": "2022-09-25T18:20:46.046817Z",
     "iopub.status.idle": "2022-09-25T18:20:46.262177Z",
     "shell.execute_reply": "2022-09-25T18:20:46.261169Z"
    },
    "papermill": {
     "duration": 0.23408,
     "end_time": "2022-09-25T18:20:46.264577",
     "exception": false,
     "start_time": "2022-09-25T18:20:46.030497",
     "status": "completed"
    },
    "tags": []
   },
   "outputs": [
    {
     "data": {
      "text/plain": [
       "fold  label\n",
       "0.0   CE       2000\n",
       "      LAA      1955\n",
       "1.0   CE       2000\n",
       "      LAA      1950\n",
       "2.0   CE       1850\n",
       "      LAA      2098\n",
       "3.0   CE       1904\n",
       "      LAA      2048\n",
       "4.0   CE       2147\n",
       "      LAA      1850\n",
       "Name: image_id, dtype: int64"
      ]
     },
     "metadata": {},
     "output_type": "display_data"
    }
   ],
   "source": [
    "\n",
    "\n",
    "skf = StratifiedGroupKFold(n_splits=CFG.n_flods, shuffle=True, random_state=CFG.seed)\n",
    "\n",
    "for fold, (train_idx, val_idx) in enumerate(skf.split(df, df['label'], groups = df[\"image_id\"])):\n",
    "    df.loc[val_idx, 'fold'] = fold\n",
    "display(df.groupby(['fold','label'])['image_id'].count())\n",
    "\n"
   ]
  },
  {
   "cell_type": "markdown",
   "id": "2e665b54",
   "metadata": {
    "papermill": {
     "duration": 0.015344,
     "end_time": "2022-09-25T18:20:46.296082",
     "exception": false,
     "start_time": "2022-09-25T18:20:46.280738",
     "status": "completed"
    },
    "tags": []
   },
   "source": [
    "# ❗ DataLoaders"
   ]
  },
  {
   "cell_type": "code",
   "execution_count": 16,
   "id": "58f00e6b",
   "metadata": {
    "execution": {
     "iopub.execute_input": "2022-09-25T18:20:46.329596Z",
     "iopub.status.busy": "2022-09-25T18:20:46.328030Z",
     "iopub.status.idle": "2022-09-25T18:20:46.337996Z",
     "shell.execute_reply": "2022-09-25T18:20:46.337102Z"
    },
    "papermill": {
     "duration": 0.028421,
     "end_time": "2022-09-25T18:20:46.340037",
     "exception": false,
     "start_time": "2022-09-25T18:20:46.311616",
     "status": "completed"
    },
    "tags": []
   },
   "outputs": [],
   "source": [
    "class StripAiDataset(Dataset):\n",
    "    def __init__(self, df, N_slides, label=False ,transforms = None):\n",
    "        self.df = df\n",
    "        self.transforms = transforms\n",
    "        self.image_ids = df['image_id'].unique().tolist()\n",
    "        self.file_names = df['path'].tolist()\n",
    "        self.patient_id = df['patient_id'].tolist()\n",
    "        self.labels = df.label.apply(lambda x: 1 if x == \"CE\" else 0).tolist()\n",
    "        self.N_slides = N_slides\n",
    "    def __len__(self):\n",
    "        return len(self.image_ids)\n",
    "  \n",
    "    def __getitem__(self,index):\n",
    "        img_id = self.image_ids[index]\n",
    "        tempdf =self.df[self.df[\"image_id\"] == img_id]\n",
    "        patient_id = tempdf['patient_id'].tolist()\n",
    "        img_paths = tempdf.path.sample(self.N_slides,replace=True).tolist()\n",
    "        img = []\n",
    "        for path in img_paths:  \n",
    "            temp = self.transforms(image=load_img(path))[\"image\"]\n",
    "            temp = np.transpose(temp, (2, 0, 1))\n",
    "            img.append(temp)\n",
    "        #print(np.array(img).shape)\n",
    "\n",
    "        img = np.stack(img , axis = 0).astype(np.float32)\n",
    "        label = tempdf[0:1].label.item()\n",
    "        label = 1 if label == \"CE\" else 0\n",
    "        #print(img.shape)\n",
    "        \n",
    "    \n",
    "    \n",
    "        return torch.tensor(img), patient_id[0] , label"
   ]
  },
  {
   "cell_type": "code",
   "execution_count": 17,
   "id": "81b2aa9d",
   "metadata": {
    "execution": {
     "iopub.execute_input": "2022-09-25T18:20:46.372421Z",
     "iopub.status.busy": "2022-09-25T18:20:46.372118Z",
     "iopub.status.idle": "2022-09-25T18:20:46.377359Z",
     "shell.execute_reply": "2022-09-25T18:20:46.376408Z"
    },
    "papermill": {
     "duration": 0.023622,
     "end_time": "2022-09-25T18:20:46.379382",
     "exception": false,
     "start_time": "2022-09-25T18:20:46.355760",
     "status": "completed"
    },
    "tags": []
   },
   "outputs": [],
   "source": [
    "\n",
    "\n",
    "data_transforms = {\n",
    "    \"train\": A.Compose([ #A.RandomBrightnessContrast(p=0.2),\n",
    "                        A.Flip(p=0.5),\n",
    "                        #A.ChannelShuffle(),\n",
    "                        #A.RandomGridShuffle(), \n",
    "                        #A.ColorJitter(),\n",
    "                       A.Normalize()], p=1.0),\n",
    "    \"valid\": A.Compose([A.Normalize()], p=1.0)\n",
    "}\n",
    "\n"
   ]
  },
  {
   "cell_type": "code",
   "execution_count": 18,
   "id": "3368620d",
   "metadata": {
    "execution": {
     "iopub.execute_input": "2022-09-25T18:20:46.412361Z",
     "iopub.status.busy": "2022-09-25T18:20:46.412063Z",
     "iopub.status.idle": "2022-09-25T18:20:46.417542Z",
     "shell.execute_reply": "2022-09-25T18:20:46.416645Z"
    },
    "papermill": {
     "duration": 0.024178,
     "end_time": "2022-09-25T18:20:46.419506",
     "exception": false,
     "start_time": "2022-09-25T18:20:46.395328",
     "status": "completed"
    },
    "tags": []
   },
   "outputs": [],
   "source": [
    "def prepare_loaders(test_df,fold,debug=False):\n",
    " \n",
    "    test_df = test_df.query(\"fold==@fold\").reset_index(drop=True)\n",
    "    test_dataset = StripAiDataset(test_df,transforms=data_transforms['valid'],N_slides = CFG.N_slides)\n",
    "\n",
    "    test_loader = DataLoader(test_dataset, batch_size=CFG.valid_bs, \n",
    "                              num_workers=1, shuffle=False, pin_memory=False)\n",
    "    \n",
    "    return test_loader"
   ]
  },
  {
   "cell_type": "code",
   "execution_count": 19,
   "id": "2936afbd",
   "metadata": {
    "execution": {
     "iopub.execute_input": "2022-09-25T18:20:46.452319Z",
     "iopub.status.busy": "2022-09-25T18:20:46.451513Z",
     "iopub.status.idle": "2022-09-25T18:20:46.457461Z",
     "shell.execute_reply": "2022-09-25T18:20:46.456601Z"
    },
    "papermill": {
     "duration": 0.024492,
     "end_time": "2022-09-25T18:20:46.459380",
     "exception": false,
     "start_time": "2022-09-25T18:20:46.434888",
     "status": "completed"
    },
    "tags": []
   },
   "outputs": [],
   "source": [
    "class Flatten(nn.Module):\n",
    "    def __init__(self, dim=1):\n",
    "        super().__init__()\n",
    "        self.dim = dim\n",
    "\n",
    "    def forward(self, x): \n",
    "        input_shape = x.shape\n",
    "        output_shape = [input_shape[i] for i in range(self.dim)] + [-1]\n",
    "        return x.view(*output_shape)"
   ]
  },
  {
   "cell_type": "code",
   "execution_count": 20,
   "id": "585eb640",
   "metadata": {
    "execution": {
     "iopub.execute_input": "2022-09-25T18:20:46.492541Z",
     "iopub.status.busy": "2022-09-25T18:20:46.491053Z",
     "iopub.status.idle": "2022-09-25T18:20:46.500614Z",
     "shell.execute_reply": "2022-09-25T18:20:46.499681Z"
    },
    "papermill": {
     "duration": 0.028082,
     "end_time": "2022-09-25T18:20:46.502732",
     "exception": false,
     "start_time": "2022-09-25T18:20:46.474650",
     "status": "completed"
    },
    "tags": []
   },
   "outputs": [],
   "source": [
    "\n",
    "\n",
    "class StripModel(nn.Module):\n",
    "\n",
    "    def __init__(self, model_name, num_classes=2, pretrained=True ,num_instances=CFG.N_slides , path=\"\"):\n",
    "        super().__init__()\n",
    "        self.num_instances = num_instances\n",
    "        self.encoder = timm.create_model(model_name, pretrained=pretrained, num_classes=num_classes)\n",
    "\n",
    "        \n",
    "        \n",
    "        feature_dim = self.encoder.get_classifier().in_features\n",
    "        self.encoder.head.fc = nn.Identity()\n",
    "        self.feature_dim = feature_dim\n",
    "        print(feature_dim)\n",
    "        \n",
    "        self.head = nn.Sequential(\n",
    "            nn.Conv3d(self.num_instances ,1,(1,12,12)), nn.ReLU(inplace=True), Flatten(),\n",
    "            nn.Linear(feature_dim, 256), nn.ReLU(inplace=True), \n",
    "            nn.Linear(256, 64), nn.ReLU(inplace=True), \n",
    "            nn.Linear(64, num_classes)\n",
    "        )\n",
    "\n",
    "\n",
    "    def forward(self, x):\n",
    "        # x: bs x N x C x W x W\n",
    "        bs, _, ch, w, h = x.shape\n",
    "        x = x.view(bs*self.num_instances, ch, w, h) # x: N bs x C x W x W\n",
    "        x = self.encoder.forward_features(x) # x: N bs x C' x W' x W'\n",
    "\n",
    "        # Concat and pool\n",
    "        #bs2, ch2, w2, h2 = x.shape\n",
    "        #x = x.view(-1, self.num_instances, ch2, w2, h2).permute(0, 2, 1, 3, 4)\\\n",
    "            #.contiguous().view(bs, ch2, self.num_instances*w2, h2) # x: bs x C' x N W'' x W''\n",
    "        emb = self.head(x)\n",
    "\n",
    "        return emb,self.encoder.head(x)\n",
    "    \n",
    "\n",
    "        \n",
    "        \n",
    "        \n",
    "\n"
   ]
  },
  {
   "cell_type": "code",
   "execution_count": 21,
   "id": "2b272bd6",
   "metadata": {
    "execution": {
     "iopub.execute_input": "2022-09-25T18:20:46.535329Z",
     "iopub.status.busy": "2022-09-25T18:20:46.534542Z",
     "iopub.status.idle": "2022-09-25T18:20:46.539997Z",
     "shell.execute_reply": "2022-09-25T18:20:46.539123Z"
    },
    "papermill": {
     "duration": 0.023787,
     "end_time": "2022-09-25T18:20:46.541937",
     "exception": false,
     "start_time": "2022-09-25T18:20:46.518150",
     "status": "completed"
    },
    "tags": []
   },
   "outputs": [],
   "source": [
    "def get_model(path):\n",
    "    model = StripModel(CFG.backbone ,pretrained = False)\n",
    "    model.to(CFG.device)\n",
    "    model.load_state_dict(torch.load(path,map_location=torch.device(CFG.device)))\n",
    "    model.eval()\n",
    "    return model"
   ]
  },
  {
   "cell_type": "markdown",
   "id": "12639d1a",
   "metadata": {
    "papermill": {
     "duration": 0.015392,
     "end_time": "2022-09-25T18:20:46.573514",
     "exception": false,
     "start_time": "2022-09-25T18:20:46.558122",
     "status": "completed"
    },
    "tags": []
   },
   "source": [
    "# 🔧 Loss Function"
   ]
  },
  {
   "cell_type": "markdown",
   "id": "42888f33",
   "metadata": {
    "papermill": {
     "duration": 0.015135,
     "end_time": "2022-09-25T18:20:46.604046",
     "exception": false,
     "start_time": "2022-09-25T18:20:46.588911",
     "status": "completed"
    },
    "tags": []
   },
   "source": [
    "# 🚄 Training Function"
   ]
  },
  {
   "cell_type": "code",
   "execution_count": 22,
   "id": "99b424bf",
   "metadata": {
    "execution": {
     "iopub.execute_input": "2022-09-25T18:20:46.637005Z",
     "iopub.status.busy": "2022-09-25T18:20:46.636104Z",
     "iopub.status.idle": "2022-09-25T18:20:46.643875Z",
     "shell.execute_reply": "2022-09-25T18:20:46.642973Z"
    },
    "papermill": {
     "duration": 0.026304,
     "end_time": "2022-09-25T18:20:46.645838",
     "exception": false,
     "start_time": "2022-09-25T18:20:46.619534",
     "status": "completed"
    },
    "tags": []
   },
   "outputs": [],
   "source": [
    "@torch.no_grad()\n",
    "def infer(model_ptahs, test_loader , preds):\n",
    "\n",
    "    model     = get_model(model_ptahs) \n",
    "    soft = nn.Softmax()\n",
    "    for idx, (img,img_id,label) in enumerate(tqdm(test_loader, total=len(test_loader), desc='Infer ')):\n",
    "        img = img.to(CFG.device, dtype=torch.float)# .squeeze(0)\n",
    "        out,_ = model(img)#.view(-1)\n",
    "        out = soft(out).cpu().detach().numpy()\n",
    "            \n",
    "        preds[\"img_id\"].extend(img_id)\n",
    "        preds[\"CE\"].extend(out[:,0])\n",
    "        preds[\"LAA\"].extend(out[:,1])\n",
    "        preds[\"label\"].extend(label)\n",
    "\n",
    "\n",
    "            #out = model(img)#.squeeze()\n",
    "        \n",
    "        del img,  out\n",
    "        gc.collect()\n",
    "        torch.cuda.empty_cache()\n",
    "\n",
    "    return preds"
   ]
  },
  {
   "cell_type": "code",
   "execution_count": 23,
   "id": "ea469774",
   "metadata": {
    "execution": {
     "iopub.execute_input": "2022-09-25T18:20:46.678978Z",
     "iopub.status.busy": "2022-09-25T18:20:46.677536Z",
     "iopub.status.idle": "2022-09-25T18:20:46.682472Z",
     "shell.execute_reply": "2022-09-25T18:20:46.681591Z"
    },
    "papermill": {
     "duration": 0.023109,
     "end_time": "2022-09-25T18:20:46.684403",
     "exception": false,
     "start_time": "2022-09-25T18:20:46.661294",
     "status": "completed"
    },
    "tags": []
   },
   "outputs": [],
   "source": [
    "model_ptahs = [\"../input/all5fold/best_epoch-0-37-0.6052189344461535.bin\",\"../input/all5fold/best_epoch-1-24-0.6121961653862201.bin\",\"../input/all5fold/best_epoch-2-03-0.6613527477627069.bin\",\"../input/all5fold/best_epoch-3-06-0.6782178148417406.bin\",\"../input/all5fold/best_epoch-4-07-0.655440097621509.bin\" ]#,\"../input/good0rbad/best_epoch-4-10-0.6704924667254091.bin\"]"
   ]
  },
  {
   "cell_type": "code",
   "execution_count": 24,
   "id": "e63d0ac5",
   "metadata": {
    "execution": {
     "iopub.execute_input": "2022-09-25T18:20:46.716996Z",
     "iopub.status.busy": "2022-09-25T18:20:46.716140Z",
     "iopub.status.idle": "2022-09-25T18:26:38.395405Z",
     "shell.execute_reply": "2022-09-25T18:26:38.393476Z"
    },
    "papermill": {
     "duration": 351.698034,
     "end_time": "2022-09-25T18:26:38.397852",
     "exception": false,
     "start_time": "2022-09-25T18:20:46.699818",
     "status": "completed"
    },
    "tags": []
   },
   "outputs": [
    {
     "name": "stdout",
     "output_type": "stream",
     "text": [
      "768\n"
     ]
    },
    {
     "name": "stderr",
     "output_type": "stream",
     "text": [
      "Infer : 100%|██████████| 80/80 [01:12<00:00,  1.11it/s]\n"
     ]
    },
    {
     "name": "stdout",
     "output_type": "stream",
     "text": [
      "768\n"
     ]
    },
    {
     "name": "stderr",
     "output_type": "stream",
     "text": [
      "Infer : 100%|██████████| 79/79 [01:07<00:00,  1.17it/s]\n"
     ]
    },
    {
     "name": "stdout",
     "output_type": "stream",
     "text": [
      "768\n"
     ]
    },
    {
     "name": "stderr",
     "output_type": "stream",
     "text": [
      "Infer : 100%|██████████| 79/79 [01:05<00:00,  1.20it/s]\n"
     ]
    },
    {
     "name": "stdout",
     "output_type": "stream",
     "text": [
      "768\n"
     ]
    },
    {
     "name": "stderr",
     "output_type": "stream",
     "text": [
      "Infer : 100%|██████████| 80/80 [01:07<00:00,  1.19it/s]\n"
     ]
    },
    {
     "name": "stdout",
     "output_type": "stream",
     "text": [
      "768\n"
     ]
    },
    {
     "name": "stderr",
     "output_type": "stream",
     "text": [
      "Infer : 100%|██████████| 80/80 [01:07<00:00,  1.18it/s]\n"
     ]
    }
   ],
   "source": [
    "preds = defaultdict(list)\n",
    "for i in range(5):\n",
    "    test_loader  = prepare_loaders(df,i)\n",
    "    preds = infer(model_ptahs[i],test_loader,preds)"
   ]
  },
  {
   "cell_type": "code",
   "execution_count": 25,
   "id": "74829c3e",
   "metadata": {
    "execution": {
     "iopub.execute_input": "2022-09-25T18:26:38.473816Z",
     "iopub.status.busy": "2022-09-25T18:26:38.473445Z",
     "iopub.status.idle": "2022-09-25T18:26:38.482191Z",
     "shell.execute_reply": "2022-09-25T18:26:38.481144Z"
    },
    "papermill": {
     "duration": 0.049281,
     "end_time": "2022-09-25T18:26:38.484261",
     "exception": false,
     "start_time": "2022-09-25T18:26:38.434980",
     "status": "completed"
    },
    "tags": []
   },
   "outputs": [],
   "source": [
    "preds = pd.DataFrame(preds)"
   ]
  },
  {
   "cell_type": "code",
   "execution_count": 26,
   "id": "29af09ca",
   "metadata": {
    "execution": {
     "iopub.execute_input": "2022-09-25T18:26:38.561373Z",
     "iopub.status.busy": "2022-09-25T18:26:38.559584Z",
     "iopub.status.idle": "2022-09-25T18:26:38.579688Z",
     "shell.execute_reply": "2022-09-25T18:26:38.578721Z"
    },
    "papermill": {
     "duration": 0.06082,
     "end_time": "2022-09-25T18:26:38.581831",
     "exception": false,
     "start_time": "2022-09-25T18:26:38.521011",
     "status": "completed"
    },
    "tags": []
   },
   "outputs": [
    {
     "data": {
      "text/html": [
       "<div>\n",
       "<style scoped>\n",
       "    .dataframe tbody tr th:only-of-type {\n",
       "        vertical-align: middle;\n",
       "    }\n",
       "\n",
       "    .dataframe tbody tr th {\n",
       "        vertical-align: top;\n",
       "    }\n",
       "\n",
       "    .dataframe thead th {\n",
       "        text-align: right;\n",
       "    }\n",
       "</style>\n",
       "<table border=\"1\" class=\"dataframe\">\n",
       "  <thead>\n",
       "    <tr style=\"text-align: right;\">\n",
       "      <th></th>\n",
       "      <th>img_id</th>\n",
       "      <th>CE</th>\n",
       "      <th>LAA</th>\n",
       "      <th>label</th>\n",
       "    </tr>\n",
       "  </thead>\n",
       "  <tbody>\n",
       "    <tr>\n",
       "      <th>0</th>\n",
       "      <td>006388</td>\n",
       "      <td>0.573381</td>\n",
       "      <td>0.426619</td>\n",
       "      <td>tensor(1)</td>\n",
       "    </tr>\n",
       "    <tr>\n",
       "      <th>1</th>\n",
       "      <td>029c68</td>\n",
       "      <td>0.381466</td>\n",
       "      <td>0.618534</td>\n",
       "      <td>tensor(1)</td>\n",
       "    </tr>\n",
       "    <tr>\n",
       "      <th>2</th>\n",
       "      <td>03d1ec</td>\n",
       "      <td>0.235467</td>\n",
       "      <td>0.764533</td>\n",
       "      <td>tensor(0)</td>\n",
       "    </tr>\n",
       "    <tr>\n",
       "      <th>3</th>\n",
       "      <td>0468a8</td>\n",
       "      <td>0.826008</td>\n",
       "      <td>0.173992</td>\n",
       "      <td>tensor(1)</td>\n",
       "    </tr>\n",
       "    <tr>\n",
       "      <th>4</th>\n",
       "      <td>055f6a</td>\n",
       "      <td>0.422620</td>\n",
       "      <td>0.577381</td>\n",
       "      <td>tensor(0)</td>\n",
       "    </tr>\n",
       "    <tr>\n",
       "      <th>...</th>\n",
       "      <td>...</td>\n",
       "      <td>...</td>\n",
       "      <td>...</td>\n",
       "      <td>...</td>\n",
       "    </tr>\n",
       "    <tr>\n",
       "      <th>393</th>\n",
       "      <td>dba56f</td>\n",
       "      <td>0.483596</td>\n",
       "      <td>0.516404</td>\n",
       "      <td>tensor(0)</td>\n",
       "    </tr>\n",
       "    <tr>\n",
       "      <th>394</th>\n",
       "      <td>f3e9f6</td>\n",
       "      <td>0.527918</td>\n",
       "      <td>0.472082</td>\n",
       "      <td>tensor(0)</td>\n",
       "    </tr>\n",
       "    <tr>\n",
       "      <th>395</th>\n",
       "      <td>f5ce23</td>\n",
       "      <td>0.590843</td>\n",
       "      <td>0.409157</td>\n",
       "      <td>tensor(0)</td>\n",
       "    </tr>\n",
       "    <tr>\n",
       "      <th>396</th>\n",
       "      <td>f83bf0</td>\n",
       "      <td>0.756116</td>\n",
       "      <td>0.243884</td>\n",
       "      <td>tensor(0)</td>\n",
       "    </tr>\n",
       "    <tr>\n",
       "      <th>397</th>\n",
       "      <td>fde9ba</td>\n",
       "      <td>0.369128</td>\n",
       "      <td>0.630872</td>\n",
       "      <td>tensor(0)</td>\n",
       "    </tr>\n",
       "  </tbody>\n",
       "</table>\n",
       "<p>398 rows × 4 columns</p>\n",
       "</div>"
      ],
      "text/plain": [
       "     img_id        CE       LAA      label\n",
       "0    006388  0.573381  0.426619  tensor(1)\n",
       "1    029c68  0.381466  0.618534  tensor(1)\n",
       "2    03d1ec  0.235467  0.764533  tensor(0)\n",
       "3    0468a8  0.826008  0.173992  tensor(1)\n",
       "4    055f6a  0.422620  0.577381  tensor(0)\n",
       "..      ...       ...       ...        ...\n",
       "393  dba56f  0.483596  0.516404  tensor(0)\n",
       "394  f3e9f6  0.527918  0.472082  tensor(0)\n",
       "395  f5ce23  0.590843  0.409157  tensor(0)\n",
       "396  f83bf0  0.756116  0.243884  tensor(0)\n",
       "397  fde9ba  0.369128  0.630872  tensor(0)\n",
       "\n",
       "[398 rows x 4 columns]"
      ]
     },
     "execution_count": 26,
     "metadata": {},
     "output_type": "execute_result"
    }
   ],
   "source": [
    "preds"
   ]
  },
  {
   "cell_type": "code",
   "execution_count": 27,
   "id": "abc5bdbd",
   "metadata": {
    "execution": {
     "iopub.execute_input": "2022-09-25T18:26:38.660443Z",
     "iopub.status.busy": "2022-09-25T18:26:38.658537Z",
     "iopub.status.idle": "2022-09-25T18:26:38.676339Z",
     "shell.execute_reply": "2022-09-25T18:26:38.675202Z"
    },
    "papermill": {
     "duration": 0.058533,
     "end_time": "2022-09-25T18:26:38.678946",
     "exception": false,
     "start_time": "2022-09-25T18:26:38.620413",
     "status": "completed"
    },
    "tags": []
   },
   "outputs": [
    {
     "data": {
      "text/html": [
       "<div>\n",
       "<style scoped>\n",
       "    .dataframe tbody tr th:only-of-type {\n",
       "        vertical-align: middle;\n",
       "    }\n",
       "\n",
       "    .dataframe tbody tr th {\n",
       "        vertical-align: top;\n",
       "    }\n",
       "\n",
       "    .dataframe thead th {\n",
       "        text-align: right;\n",
       "    }\n",
       "</style>\n",
       "<table border=\"1\" class=\"dataframe\">\n",
       "  <thead>\n",
       "    <tr style=\"text-align: right;\">\n",
       "      <th></th>\n",
       "      <th>img_id</th>\n",
       "      <th>CE</th>\n",
       "      <th>LAA</th>\n",
       "      <th>label</th>\n",
       "    </tr>\n",
       "  </thead>\n",
       "  <tbody>\n",
       "    <tr>\n",
       "      <th>0</th>\n",
       "      <td>006388</td>\n",
       "      <td>0.573381</td>\n",
       "      <td>0.426619</td>\n",
       "      <td>tensor(1)</td>\n",
       "    </tr>\n",
       "    <tr>\n",
       "      <th>1</th>\n",
       "      <td>029c68</td>\n",
       "      <td>0.381466</td>\n",
       "      <td>0.618534</td>\n",
       "      <td>tensor(1)</td>\n",
       "    </tr>\n",
       "    <tr>\n",
       "      <th>2</th>\n",
       "      <td>03d1ec</td>\n",
       "      <td>0.235467</td>\n",
       "      <td>0.764533</td>\n",
       "      <td>tensor(0)</td>\n",
       "    </tr>\n",
       "    <tr>\n",
       "      <th>3</th>\n",
       "      <td>0468a8</td>\n",
       "      <td>0.826008</td>\n",
       "      <td>0.173992</td>\n",
       "      <td>tensor(1)</td>\n",
       "    </tr>\n",
       "    <tr>\n",
       "      <th>4</th>\n",
       "      <td>055f6a</td>\n",
       "      <td>0.422620</td>\n",
       "      <td>0.577381</td>\n",
       "      <td>tensor(0)</td>\n",
       "    </tr>\n",
       "    <tr>\n",
       "      <th>...</th>\n",
       "      <td>...</td>\n",
       "      <td>...</td>\n",
       "      <td>...</td>\n",
       "      <td>...</td>\n",
       "    </tr>\n",
       "    <tr>\n",
       "      <th>393</th>\n",
       "      <td>dba56f</td>\n",
       "      <td>0.483596</td>\n",
       "      <td>0.516404</td>\n",
       "      <td>tensor(0)</td>\n",
       "    </tr>\n",
       "    <tr>\n",
       "      <th>394</th>\n",
       "      <td>f3e9f6</td>\n",
       "      <td>0.527918</td>\n",
       "      <td>0.472082</td>\n",
       "      <td>tensor(0)</td>\n",
       "    </tr>\n",
       "    <tr>\n",
       "      <th>395</th>\n",
       "      <td>f5ce23</td>\n",
       "      <td>0.590843</td>\n",
       "      <td>0.409157</td>\n",
       "      <td>tensor(0)</td>\n",
       "    </tr>\n",
       "    <tr>\n",
       "      <th>396</th>\n",
       "      <td>f83bf0</td>\n",
       "      <td>0.756116</td>\n",
       "      <td>0.243884</td>\n",
       "      <td>tensor(0)</td>\n",
       "    </tr>\n",
       "    <tr>\n",
       "      <th>397</th>\n",
       "      <td>fde9ba</td>\n",
       "      <td>0.369128</td>\n",
       "      <td>0.630872</td>\n",
       "      <td>tensor(0)</td>\n",
       "    </tr>\n",
       "  </tbody>\n",
       "</table>\n",
       "<p>398 rows × 4 columns</p>\n",
       "</div>"
      ],
      "text/plain": [
       "     img_id        CE       LAA      label\n",
       "0    006388  0.573381  0.426619  tensor(1)\n",
       "1    029c68  0.381466  0.618534  tensor(1)\n",
       "2    03d1ec  0.235467  0.764533  tensor(0)\n",
       "3    0468a8  0.826008  0.173992  tensor(1)\n",
       "4    055f6a  0.422620  0.577381  tensor(0)\n",
       "..      ...       ...       ...        ...\n",
       "393  dba56f  0.483596  0.516404  tensor(0)\n",
       "394  f3e9f6  0.527918  0.472082  tensor(0)\n",
       "395  f5ce23  0.590843  0.409157  tensor(0)\n",
       "396  f83bf0  0.756116  0.243884  tensor(0)\n",
       "397  fde9ba  0.369128  0.630872  tensor(0)\n",
       "\n",
       "[398 rows x 4 columns]"
      ]
     },
     "execution_count": 27,
     "metadata": {},
     "output_type": "execute_result"
    }
   ],
   "source": [
    "preds"
   ]
  },
  {
   "cell_type": "code",
   "execution_count": 28,
   "id": "281d9e9f",
   "metadata": {
    "execution": {
     "iopub.execute_input": "2022-09-25T18:26:38.757509Z",
     "iopub.status.busy": "2022-09-25T18:26:38.755718Z",
     "iopub.status.idle": "2022-09-25T18:26:38.777412Z",
     "shell.execute_reply": "2022-09-25T18:26:38.776385Z"
    },
    "papermill": {
     "duration": 0.062285,
     "end_time": "2022-09-25T18:26:38.779895",
     "exception": false,
     "start_time": "2022-09-25T18:26:38.717610",
     "status": "completed"
    },
    "tags": []
   },
   "outputs": [],
   "source": [
    "preds.to_csv(\"tile infos.csv\", index = False)"
   ]
  },
  {
   "cell_type": "code",
   "execution_count": null,
   "id": "dbc73218",
   "metadata": {
    "papermill": {
     "duration": 0.037048,
     "end_time": "2022-09-25T18:26:38.854744",
     "exception": false,
     "start_time": "2022-09-25T18:26:38.817696",
     "status": "completed"
    },
    "tags": []
   },
   "outputs": [],
   "source": []
  }
 ],
 "metadata": {
  "kernelspec": {
   "display_name": "Python 3",
   "language": "python",
   "name": "python3"
  },
  "language_info": {
   "codemirror_mode": {
    "name": "ipython",
    "version": 3
   },
   "file_extension": ".py",
   "mimetype": "text/x-python",
   "name": "python",
   "nbconvert_exporter": "python",
   "pygments_lexer": "ipython3",
   "version": "3.7.12"
  },
  "papermill": {
   "default_parameters": {},
   "duration": 403.469967,
   "end_time": "2022-09-25T18:26:41.602896",
   "environment_variables": {},
   "exception": null,
   "input_path": "__notebook__.ipynb",
   "output_path": "__notebook__.ipynb",
   "parameters": {},
   "start_time": "2022-09-25T18:19:58.132929",
   "version": "2.3.4"
  }
 },
 "nbformat": 4,
 "nbformat_minor": 5
}
