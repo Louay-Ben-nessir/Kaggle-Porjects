{
 "cells": [
  {
   "cell_type": "markdown",
   "id": "1696d745",
   "metadata": {
    "papermill": {
     "duration": 0.011586,
     "end_time": "2022-07-24T00:32:25.026933",
     "exception": false,
     "start_time": "2022-07-24T00:32:25.015347",
     "status": "completed"
    },
    "tags": []
   },
   "source": [
    "# 📚 Import Libraries"
   ]
  },
  {
   "cell_type": "code",
   "execution_count": 1,
   "id": "3a478c62",
   "metadata": {
    "execution": {
     "iopub.execute_input": "2022-07-24T00:32:25.057198Z",
     "iopub.status.busy": "2022-07-24T00:32:25.056631Z",
     "iopub.status.idle": "2022-07-24T00:32:28.926359Z",
     "shell.execute_reply": "2022-07-24T00:32:28.925189Z"
    },
    "papermill": {
     "duration": 3.885237,
     "end_time": "2022-07-24T00:32:28.928872",
     "exception": false,
     "start_time": "2022-07-24T00:32:25.043635",
     "status": "completed"
    },
    "tags": []
   },
   "outputs": [],
   "source": [
    "!cp -r ../input/timm-pytorch-image-models . \n",
    "!cp -r ../input/openslide ."
   ]
  },
  {
   "cell_type": "code",
   "execution_count": 2,
   "id": "25ba3dbf",
   "metadata": {
    "execution": {
     "iopub.execute_input": "2022-07-24T00:32:28.945224Z",
     "iopub.status.busy": "2022-07-24T00:32:28.944069Z",
     "iopub.status.idle": "2022-07-24T00:33:33.219012Z",
     "shell.execute_reply": "2022-07-24T00:33:33.217748Z"
    },
    "papermill": {
     "duration": 64.286047,
     "end_time": "2022-07-24T00:33:33.221835",
     "exception": false,
     "start_time": "2022-07-24T00:32:28.935788",
     "status": "completed"
    },
    "tags": []
   },
   "outputs": [
    {
     "name": "stdout",
     "output_type": "stream",
     "text": [
      "\u001b[33mWARNING: Running pip as the 'root' user can result in broken permissions and conflicting behaviour with the system package manager. It is recommended to use a virtual environment instead: https://pip.pypa.io/warnings/venv\u001b[0m\u001b[33m\r\n",
      "\u001b[0m\u001b[33mWARNING: There was an error checking the latest version of pip.\u001b[0m\u001b[33m\r\n",
      "\u001b[0m\u001b[33mWARNING: Running pip as the 'root' user can result in broken permissions and conflicting behaviour with the system package manager. It is recommended to use a virtual environment instead: https://pip.pypa.io/warnings/venv\u001b[0m\u001b[33m\r\n",
      "\u001b[0m\u001b[33mWARNING: There was an error checking the latest version of pip.\u001b[0m\u001b[33m\r\n",
      "\u001b[0m"
     ]
    }
   ],
   "source": [
    "!pip install -qU ./timm-pytorch-image-models/pytorch-image-models-master\n",
    "!pip install -qU ./openslide"
   ]
  },
  {
   "cell_type": "code",
   "execution_count": 3,
   "id": "be1d2a5a",
   "metadata": {
    "execution": {
     "iopub.execute_input": "2022-07-24T00:33:33.240199Z",
     "iopub.status.busy": "2022-07-24T00:33:33.239820Z",
     "iopub.status.idle": "2022-07-24T00:34:10.906322Z",
     "shell.execute_reply": "2022-07-24T00:34:10.905075Z"
    },
    "papermill": {
     "duration": 37.678229,
     "end_time": "2022-07-24T00:34:10.909094",
     "exception": false,
     "start_time": "2022-07-24T00:33:33.230865",
     "status": "completed"
    },
    "tags": []
   },
   "outputs": [
    {
     "name": "stdout",
     "output_type": "stream",
     "text": [
      "\r\n",
      "Downloading and Extracting Packages\r\n",
      "######################################################################## | 100% \r\n",
      "######################################################################## | 100% \r\n",
      "######################################################################## | 100% \r\n",
      "######################################################################## | 100% \r\n",
      "######################################################################## | 100% \r\n",
      "######################################################################## | 100% \r\n",
      "######################################################################## | 100% \r\n",
      "######################################################################## | 100% \r\n",
      "######################################################################## | 100% \r\n",
      "######################################################################## | 100% \r\n",
      "######################################################################## | 100% \r\n",
      "######################################################################## | 100% \r\n",
      "######################################################################## | 100% \r\n",
      "######################################################################## | 100% \r\n",
      "######################################################################## | 100% \r\n",
      "######################################################################## | 100% \r\n",
      "######################################################################## | 100% \r\n",
      "######################################################################## | 100% \r\n",
      "Preparing transaction: - \b\b\\ \b\b| \b\b/ \b\b- \b\b\\ \b\b| \b\b/ \b\b- \b\bdone\r\n",
      "Verifying transaction: | \b\b/ \b\b- \b\b\\ \b\b| \b\b/ \b\b- \b\b\\ \b\b| \b\b/ \b\b- \b\b\\ \b\b| \b\b/ \b\b- \b\b\\ \b\b| \b\b/ \b\b- \b\b\\ \b\b| \b\b/ \b\b- \b\b\\ \b\b| \b\b/ \b\b- \b\b\\ \b\b| \b\b/ \b\b- \b\b\\ \b\b| \b\b/ \b\bdone\r\n",
      "Executing transaction: \\ \b\b| \b\b/ \b\b- \b\b\\ \b\b| \b\b/ \b\b- \b\b\\ \b\b| \b\b/ \b\b- \b\b\\ \b\b| \b\b/ \b\b- \b\b\\ \b\b| \b\b/ \b\b- \b\b\\ \b\b| \b\b/ \b\b- \b\b\\ \b\b| \b\b/ \b\b- \b\b\\ \b\b| \b\b/ \b\b- \b\bdone\r\n"
     ]
    }
   ],
   "source": [
    "!conda install ../input/how-to-use-pyvips-offline/*.tar.bz2 "
   ]
  },
  {
   "cell_type": "code",
   "execution_count": 4,
   "id": "a9bbc914",
   "metadata": {
    "execution": {
     "iopub.execute_input": "2022-07-24T00:34:10.940862Z",
     "iopub.status.busy": "2022-07-24T00:34:10.939989Z",
     "iopub.status.idle": "2022-07-24T00:34:15.553369Z",
     "shell.execute_reply": "2022-07-24T00:34:15.552302Z"
    },
    "papermill": {
     "duration": 4.631281,
     "end_time": "2022-07-24T00:34:15.555763",
     "exception": false,
     "start_time": "2022-07-24T00:34:10.924482",
     "status": "completed"
    },
    "tags": []
   },
   "outputs": [],
   "source": [
    "import pandas as pd\n",
    "import numpy as np\n",
    "from glob import glob\n",
    "from collections import defaultdict\n",
    "from tqdm import tqdm\n",
    "import time\n",
    "import os \n",
    "import copy\n",
    "import gc\n",
    "from openslide import OpenSlide\n",
    "from PIL import Image\n",
    "# visualization\n",
    "import cv2\n",
    "import matplotlib.pyplot as plt\n",
    "\n",
    "# Sklearn\n",
    "from sklearn.model_selection import StratifiedKFold, KFold, StratifiedGroupKFold,GroupKFold \n",
    "\n",
    "# PyTorch \n",
    "import torch\n",
    "import torch.nn as nn\n",
    "import torch.optim as optim\n",
    "from torch.optim import lr_scheduler\n",
    "from torch.utils.data import Dataset, DataLoader\n",
    "from torch.cuda import amp\n",
    "\n",
    "import timm\n",
    "\n",
    "import zipfile\n",
    "import pyvips\n",
    "# Albumentations for augmentations\n",
    "import albumentations as A\n",
    "from albumentations.pytorch import ToTensorV2\n",
    "\n",
    "# Metrics \n",
    "from sklearn.metrics import accuracy_score, f1_score, precision_score, recall_score\n",
    "\n",
    "\n",
    "# For colored terminal text\n",
    "from colorama import Fore, Back, Style\n",
    "c_  = Fore.GREEN\n",
    "sr_ = Style.RESET_ALL\n",
    "\n",
    "import warnings\n",
    "warnings.filterwarnings('ignore')"
   ]
  },
  {
   "cell_type": "markdown",
   "id": "57a6f212",
   "metadata": {
    "papermill": {
     "duration": 0.013202,
     "end_time": "2022-07-24T00:34:15.581563",
     "exception": false,
     "start_time": "2022-07-24T00:34:15.568361",
     "status": "completed"
    },
    "tags": []
   },
   "source": [
    "# ⚙️ Configuration"
   ]
  },
  {
   "cell_type": "code",
   "execution_count": 5,
   "id": "6dcea891",
   "metadata": {
    "execution": {
     "iopub.execute_input": "2022-07-24T00:34:15.607590Z",
     "iopub.status.busy": "2022-07-24T00:34:15.607056Z",
     "iopub.status.idle": "2022-07-24T00:34:15.616517Z",
     "shell.execute_reply": "2022-07-24T00:34:15.615485Z"
    },
    "papermill": {
     "duration": 0.025112,
     "end_time": "2022-07-24T00:34:15.618914",
     "exception": false,
     "start_time": "2022-07-24T00:34:15.593802",
     "status": "completed"
    },
    "tags": []
   },
   "outputs": [
    {
     "name": "stdout",
     "output_type": "stream",
     "text": [
      "True\n"
     ]
    }
   ],
   "source": [
    "fake_inf = len(glob(\"/kaggle/input/mayo-clinic-strip-ai/test/*\")) == 4 \n",
    "print(fake_inf)"
   ]
  },
  {
   "cell_type": "code",
   "execution_count": 6,
   "id": "45c4a3e5",
   "metadata": {
    "execution": {
     "iopub.execute_input": "2022-07-24T00:34:15.645144Z",
     "iopub.status.busy": "2022-07-24T00:34:15.644870Z",
     "iopub.status.idle": "2022-07-24T00:34:15.709697Z",
     "shell.execute_reply": "2022-07-24T00:34:15.708631Z"
    },
    "papermill": {
     "duration": 0.079667,
     "end_time": "2022-07-24T00:34:15.711610",
     "exception": false,
     "start_time": "2022-07-24T00:34:15.631943",
     "status": "completed"
    },
    "tags": []
   },
   "outputs": [],
   "source": [
    "class CFG:\n",
    "    seed          = 2307\n",
    "    debug         = False # set debug=False for Full Training\n",
    "    comment       = \"eff b7 more more 0.15 satruration on data\"\n",
    "    n_flods       = 5\n",
    "    backbone      = \"efficientnet_b3\"\n",
    "    train_bs      = 8\n",
    "    valid_bs      = train_bs*4\n",
    "    epochs        = 25\n",
    "    lr            = 1e-4\n",
    "    scheduler     = 'CosineAnnealingLR'\n",
    "    min_lr        = 1e-6\n",
    "    T_max         = int(30000/train_bs*epochs)+50\n",
    "    T_0           = 25\n",
    "    warmup_epochs = 1\n",
    "    wd            = 1e-6\n",
    "    n_accumulate  = 2#max(1, 32//train_bs)\n",
    "    device        = torch.device(\"cuda:0\" if torch.cuda.is_available() else \"cpu\")\n",
    "    tile_size     = (1024,1024)\n",
    "    t_thr         = 0.4 # percentage of required color pixles to |keep the pic \n",
    "    faster_inf    = True #only take N_slides slides from each image \n",
    "    N_slides      = 16"
   ]
  },
  {
   "cell_type": "code",
   "execution_count": 7,
   "id": "acb83b34",
   "metadata": {
    "execution": {
     "iopub.execute_input": "2022-07-24T00:34:15.738041Z",
     "iopub.status.busy": "2022-07-24T00:34:15.737759Z",
     "iopub.status.idle": "2022-07-24T00:34:15.752990Z",
     "shell.execute_reply": "2022-07-24T00:34:15.751726Z"
    },
    "papermill": {
     "duration": 0.031216,
     "end_time": "2022-07-24T00:34:15.755553",
     "exception": false,
     "start_time": "2022-07-24T00:34:15.724337",
     "status": "completed"
    },
    "tags": []
   },
   "outputs": [
    {
     "name": "stdout",
     "output_type": "stream",
     "text": [
      "> SEEDING DONE\n"
     ]
    }
   ],
   "source": [
    "def set_seed(seed = 42):\n",
    "    np.random.seed(seed)\n",
    "    #random.seed(seed)\n",
    "    torch.manual_seed(seed)\n",
    "    torch.cuda.manual_seed(seed)\n",
    "    # When running on the CuDNN backend, two further options must be set\n",
    "    torch.backends.cudnn.deterministic = True\n",
    "    torch.backends.cudnn.benchmark = False\n",
    "    # Set a fixed value for the hash seed\n",
    "    os.environ['PYTHONHASHSEED'] = str(seed)\n",
    "    print('> SEEDING DONE')\n",
    "    \n",
    "set_seed(CFG.seed)"
   ]
  },
  {
   "cell_type": "markdown",
   "id": "b499b428",
   "metadata": {
    "papermill": {
     "duration": 0.012243,
     "end_time": "2022-07-24T00:34:15.780270",
     "exception": false,
     "start_time": "2022-07-24T00:34:15.768027",
     "status": "completed"
    },
    "tags": []
   },
   "source": [
    "# ❗ Data"
   ]
  },
  {
   "cell_type": "code",
   "execution_count": 8,
   "id": "0200adbe",
   "metadata": {
    "execution": {
     "iopub.execute_input": "2022-07-24T00:34:15.806491Z",
     "iopub.status.busy": "2022-07-24T00:34:15.805638Z",
     "iopub.status.idle": "2022-07-24T00:34:15.815034Z",
     "shell.execute_reply": "2022-07-24T00:34:15.814152Z"
    },
    "papermill": {
     "duration": 0.024408,
     "end_time": "2022-07-24T00:34:15.816965",
     "exception": false,
     "start_time": "2022-07-24T00:34:15.792557",
     "status": "completed"
    },
    "tags": []
   },
   "outputs": [],
   "source": [
    "def get_data_info(paths,df):\n",
    "    img_prop = defaultdict(list)\n",
    "    \n",
    "    for i, path in enumerate(paths):\n",
    "        img_path = paths[i]\n",
    "        slide = OpenSlide(img_path)    \n",
    "        img_prop['image_id'].append(img_path[-12:-4])\n",
    "        img_prop['width'].append(slide.dimensions[0])\n",
    "        img_prop['height'].append(slide.dimensions[1])\n",
    "        img_prop['size'].append(round(os.path.getsize(img_path) / 1e6, 2))\n",
    "        img_prop['path'].append(img_path)\n",
    "    \n",
    "    image_data = pd.DataFrame(img_prop)\n",
    "    image_data['img_aspect_ratio'] = image_data['width']/image_data['height']\n",
    "    image_data.sort_values(by='image_id', inplace=True)\n",
    "    image_data.reset_index(inplace=True, drop=True)\n",
    "    \n",
    "    image_data = image_data.merge(df, on='image_id')\n",
    "    return image_data"
   ]
  },
  {
   "cell_type": "code",
   "execution_count": 9,
   "id": "83f27311",
   "metadata": {
    "execution": {
     "iopub.execute_input": "2022-07-24T00:34:15.843202Z",
     "iopub.status.busy": "2022-07-24T00:34:15.842306Z",
     "iopub.status.idle": "2022-07-24T00:34:15.996334Z",
     "shell.execute_reply": "2022-07-24T00:34:15.995251Z"
    },
    "papermill": {
     "duration": 0.169406,
     "end_time": "2022-07-24T00:34:15.998588",
     "exception": false,
     "start_time": "2022-07-24T00:34:15.829182",
     "status": "completed"
    },
    "tags": []
   },
   "outputs": [
    {
     "data": {
      "text/html": [
       "<div>\n",
       "<style scoped>\n",
       "    .dataframe tbody tr th:only-of-type {\n",
       "        vertical-align: middle;\n",
       "    }\n",
       "\n",
       "    .dataframe tbody tr th {\n",
       "        vertical-align: top;\n",
       "    }\n",
       "\n",
       "    .dataframe thead th {\n",
       "        text-align: right;\n",
       "    }\n",
       "</style>\n",
       "<table border=\"1\" class=\"dataframe\">\n",
       "  <thead>\n",
       "    <tr style=\"text-align: right;\">\n",
       "      <th></th>\n",
       "      <th>image_id</th>\n",
       "      <th>width</th>\n",
       "      <th>height</th>\n",
       "      <th>size</th>\n",
       "      <th>path</th>\n",
       "      <th>img_aspect_ratio</th>\n",
       "      <th>center_id</th>\n",
       "      <th>patient_id</th>\n",
       "      <th>image_num</th>\n",
       "    </tr>\n",
       "  </thead>\n",
       "  <tbody>\n",
       "    <tr>\n",
       "      <th>0</th>\n",
       "      <td>006388_0</td>\n",
       "      <td>34007</td>\n",
       "      <td>60797</td>\n",
       "      <td>1312.94</td>\n",
       "      <td>/kaggle/input/mayo-clinic-strip-ai/test/006388...</td>\n",
       "      <td>0.559353</td>\n",
       "      <td>11</td>\n",
       "      <td>006388</td>\n",
       "      <td>0</td>\n",
       "    </tr>\n",
       "    <tr>\n",
       "      <th>1</th>\n",
       "      <td>008e5c_0</td>\n",
       "      <td>5946</td>\n",
       "      <td>29694</td>\n",
       "      <td>109.57</td>\n",
       "      <td>/kaggle/input/mayo-clinic-strip-ai/test/008e5c...</td>\n",
       "      <td>0.200242</td>\n",
       "      <td>11</td>\n",
       "      <td>008e5c</td>\n",
       "      <td>0</td>\n",
       "    </tr>\n",
       "    <tr>\n",
       "      <th>2</th>\n",
       "      <td>00c058_0</td>\n",
       "      <td>15255</td>\n",
       "      <td>61801</td>\n",
       "      <td>351.76</td>\n",
       "      <td>/kaggle/input/mayo-clinic-strip-ai/test/00c058...</td>\n",
       "      <td>0.246841</td>\n",
       "      <td>11</td>\n",
       "      <td>00c058</td>\n",
       "      <td>0</td>\n",
       "    </tr>\n",
       "    <tr>\n",
       "      <th>3</th>\n",
       "      <td>01adc5_0</td>\n",
       "      <td>55831</td>\n",
       "      <td>26553</td>\n",
       "      <td>679.17</td>\n",
       "      <td>/kaggle/input/mayo-clinic-strip-ai/test/01adc5...</td>\n",
       "      <td>2.102625</td>\n",
       "      <td>11</td>\n",
       "      <td>01adc5</td>\n",
       "      <td>0</td>\n",
       "    </tr>\n",
       "  </tbody>\n",
       "</table>\n",
       "</div>"
      ],
      "text/plain": [
       "   image_id  width  height     size  \\\n",
       "0  006388_0  34007   60797  1312.94   \n",
       "1  008e5c_0   5946   29694   109.57   \n",
       "2  00c058_0  15255   61801   351.76   \n",
       "3  01adc5_0  55831   26553   679.17   \n",
       "\n",
       "                                                path  img_aspect_ratio  \\\n",
       "0  /kaggle/input/mayo-clinic-strip-ai/test/006388...          0.559353   \n",
       "1  /kaggle/input/mayo-clinic-strip-ai/test/008e5c...          0.200242   \n",
       "2  /kaggle/input/mayo-clinic-strip-ai/test/00c058...          0.246841   \n",
       "3  /kaggle/input/mayo-clinic-strip-ai/test/01adc5...          2.102625   \n",
       "\n",
       "   center_id patient_id  image_num  \n",
       "0         11     006388          0  \n",
       "1         11     008e5c          0  \n",
       "2         11     00c058          0  \n",
       "3         11     01adc5          0  "
      ]
     },
     "execution_count": 9,
     "metadata": {},
     "output_type": "execute_result"
    }
   ],
   "source": [
    "test_images = glob(\"/kaggle/input/mayo-clinic-strip-ai/test/*\")\n",
    "test_df = pd.read_csv('../input/mayo-clinic-strip-ai/test.csv')\n",
    "test_df= get_data_info(test_images,test_df)\n",
    "test_df.head()"
   ]
  },
  {
   "cell_type": "code",
   "execution_count": 10,
   "id": "9ef3f22a",
   "metadata": {
    "execution": {
     "iopub.execute_input": "2022-07-24T00:34:16.026320Z",
     "iopub.status.busy": "2022-07-24T00:34:16.026012Z",
     "iopub.status.idle": "2022-07-24T00:35:58.642170Z",
     "shell.execute_reply": "2022-07-24T00:35:58.640966Z"
    },
    "papermill": {
     "duration": 102.632155,
     "end_time": "2022-07-24T00:35:58.644467",
     "exception": false,
     "start_time": "2022-07-24T00:34:16.012312",
     "status": "completed"
    },
    "tags": []
   },
   "outputs": [
    {
     "name": "stderr",
     "output_type": "stream",
     "text": [
      "  0%|          | 0/4 [00:00<?, ?it/s]"
     ]
    },
    {
     "name": "stdout",
     "output_type": "stream",
     "text": [
      "[1/4] image_id: 006388_0\n",
      "Input width: 20000 height: 11187\n"
     ]
    },
    {
     "name": "stderr",
     "output_type": "stream",
     "text": [
      " 25%|██▌       | 1/4 [00:45<02:17, 45.94s/it]"
     ]
    },
    {
     "name": "stdout",
     "output_type": "stream",
     "text": [
      "[2/4] image_id: 008e5c_0\n",
      "Input width: 20000 height: 4005\n"
     ]
    },
    {
     "name": "stderr",
     "output_type": "stream",
     "text": [
      " 50%|█████     | 2/4 [00:51<00:44, 22.48s/it]"
     ]
    },
    {
     "name": "stdout",
     "output_type": "stream",
     "text": [
      "[3/4] image_id: 00c058_0\n",
      "Input width: 20000 height: 4937\n"
     ]
    },
    {
     "name": "stderr",
     "output_type": "stream",
     "text": [
      " 75%|███████▌  | 3/4 [01:08<00:19, 19.59s/it]"
     ]
    },
    {
     "name": "stdout",
     "output_type": "stream",
     "text": [
      "[4/4] image_id: 01adc5_0\n",
      "Input width: 9512 height: 20000\n"
     ]
    },
    {
     "name": "stderr",
     "output_type": "stream",
     "text": [
      "100%|██████████| 4/4 [01:41<00:00, 25.48s/it]\n"
     ]
    }
   ],
   "source": [
    "def tile(img, sz=128, N=16):\n",
    "    shape = img.shape\n",
    "    pad0,pad1 = (sz - shape[0]%sz)%sz, (sz - shape[1]%sz)%sz\n",
    "    img = np.pad(img,[[pad0//2,pad0-pad0//2],[pad1//2,pad1-pad1//2],[0,0]],constant_values=255)\n",
    "    img = img.reshape(img.shape[0]//sz,sz,img.shape[1]//sz,sz,3)\n",
    "    img = img.transpose(0,2,1,3,4).reshape(-1,sz,sz,3)\n",
    "    if len(img) < N:\n",
    "        img = np.pad(img,[[0,N-len(img)],[0,0],[0,0],[0,0]],constant_values=255)\n",
    "    idxs = np.argsort(img.reshape(img.shape[0],-1).sum(-1))[:N]\n",
    "    img = img[idxs]\n",
    "    return img\n",
    "\n",
    "\n",
    "def save_dataset(\n",
    "    df: pd.DataFrame, \n",
    "    N=16,\n",
    "    max_size=20000, \n",
    "    crop_size=1024, \n",
    "    image_dir='../input/mayo-clinic-strip-ai/train', \n",
    "    out_dir='train_images.zip',\n",
    "):\n",
    "    format_to_dtype = {\n",
    "       'uchar': np.uint8,\n",
    "       'char': np.int8,\n",
    "       'ushort': np.uint16,\n",
    "       'short': np.int16,\n",
    "       'uint': np.uint32,\n",
    "       'int': np.int32,\n",
    "       'float': np.float32,\n",
    "       'double': np.float64,\n",
    "       'complex': np.complex64,\n",
    "       'dpcomplex': np.complex128,\n",
    "    }\n",
    "    def vips2numpy(vi):\n",
    "        return np.ndarray(\n",
    "            buffer=vi.write_to_memory(),\n",
    "            dtype=format_to_dtype[vi.format],\n",
    "            shape=[vi.height, vi.width, vi.bands])\n",
    "   \n",
    "    tk0 = tqdm(enumerate(df[\"image_id\"].values), total=len(df))\n",
    "    for i, image_id in tk0:\n",
    "        print(f\"[{i+1}/{len(df)}] image_id: {image_id}\")\n",
    "        image = pyvips.Image.thumbnail(f'{image_dir}/{image_id}.tif', max_size)\n",
    "        image = vips2numpy(image)\n",
    "        width, height, c = image.shape\n",
    "        print(f\"Input width: {width} height: {height}\")\n",
    "        images = tile(image, sz=crop_size, N=N)\n",
    "        for idx, img in enumerate(images):\n",
    "            img = cv2.cvtColor(img, cv2.COLOR_RGB2BGR)\n",
    "            #img = cv2.imencode(\".jpg\", img, [cv2.IMWRITE_JPEG_QUALITY, 100])[1]\n",
    "            cv2.imwrite(f\"./test/{image_id}_{idx}.png\", img)\n",
    "        del img, image, images; gc.collect()\n",
    "\n",
    "df = test_df\n",
    "!mkdir ./test\n",
    "save_dataset(\n",
    "    df,\n",
    "    N=16, \n",
    "    max_size=20000,\n",
    "    crop_size=1024, \n",
    "    image_dir='/kaggle/input/mayo-clinic-strip-ai/test', \n",
    "    out_dir=f'train_images_.zip'\n",
    ")"
   ]
  },
  {
   "cell_type": "code",
   "execution_count": 11,
   "id": "95f9ac23",
   "metadata": {
    "execution": {
     "iopub.execute_input": "2022-07-24T00:35:58.673205Z",
     "iopub.status.busy": "2022-07-24T00:35:58.672324Z",
     "iopub.status.idle": "2022-07-24T00:35:58.681120Z",
     "shell.execute_reply": "2022-07-24T00:35:58.680263Z"
    },
    "papermill": {
     "duration": 0.024976,
     "end_time": "2022-07-24T00:35:58.683067",
     "exception": false,
     "start_time": "2022-07-24T00:35:58.658091",
     "status": "completed"
    },
    "tags": []
   },
   "outputs": [],
   "source": [
    "def get_data_info(paths , train = False):\n",
    "    img_prop = defaultdict(list)\n",
    "    \n",
    "    for i, path in tqdm(enumerate(paths), total = len(paths),desc = \"making dataframe\"):\n",
    "        img_info =  path.split('/')[-1]\n",
    "        patient_id , image_num , _ = img_info.split(\"_\")\n",
    "        #tl_pixel = tl_pixel.split('.')[0]\n",
    "        \n",
    "        \n",
    "        img_prop['image_id'].append(f\"{patient_id}_{image_num}\")\n",
    "        img_prop['patient_id'].append(patient_id)\n",
    "        img_prop['image_num'].append(image_num)\n",
    "        img_prop['path'].append(path)\n",
    "        #img_prop['tl_pixel'].append(tl_pixel)\n",
    "        \n",
    "        if train:\n",
    "            label = train_data[train_data[\"image_id\"]==f\"{patient_id}_{image_num}\"].label.item()\n",
    "            \n",
    "            img_prop['label'].append(label)\n",
    "            \n",
    "        \n",
    "        #img_prop['density'].append(extra_info)\n",
    "    \n",
    "    image_data = pd.DataFrame(img_prop)\n",
    "\n",
    "    image_data.sort_values(by='image_id', inplace=True)\n",
    "    image_data.reset_index(inplace=True, drop=True)\n",
    "    #image_data['density'] = image_data['density'].astype(np.float16)\n",
    "    \n",
    "    return image_data"
   ]
  },
  {
   "cell_type": "code",
   "execution_count": 12,
   "id": "fb6c6786",
   "metadata": {
    "execution": {
     "iopub.execute_input": "2022-07-24T00:35:58.710409Z",
     "iopub.status.busy": "2022-07-24T00:35:58.710139Z",
     "iopub.status.idle": "2022-07-24T00:35:58.727107Z",
     "shell.execute_reply": "2022-07-24T00:35:58.726084Z"
    },
    "papermill": {
     "duration": 0.034608,
     "end_time": "2022-07-24T00:35:58.730770",
     "exception": false,
     "start_time": "2022-07-24T00:35:58.696162",
     "status": "completed"
    },
    "tags": []
   },
   "outputs": [
    {
     "name": "stderr",
     "output_type": "stream",
     "text": [
      "making dataframe: 100%|██████████| 64/64 [00:00<00:00, 204444.37it/s]\n"
     ]
    },
    {
     "data": {
      "text/html": [
       "<div>\n",
       "<style scoped>\n",
       "    .dataframe tbody tr th:only-of-type {\n",
       "        vertical-align: middle;\n",
       "    }\n",
       "\n",
       "    .dataframe tbody tr th {\n",
       "        vertical-align: top;\n",
       "    }\n",
       "\n",
       "    .dataframe thead th {\n",
       "        text-align: right;\n",
       "    }\n",
       "</style>\n",
       "<table border=\"1\" class=\"dataframe\">\n",
       "  <thead>\n",
       "    <tr style=\"text-align: right;\">\n",
       "      <th></th>\n",
       "      <th>image_id</th>\n",
       "      <th>patient_id</th>\n",
       "      <th>image_num</th>\n",
       "      <th>path</th>\n",
       "    </tr>\n",
       "  </thead>\n",
       "  <tbody>\n",
       "    <tr>\n",
       "      <th>0</th>\n",
       "      <td>006388_0</td>\n",
       "      <td>006388</td>\n",
       "      <td>0</td>\n",
       "      <td>./test/006388_0_14.png</td>\n",
       "    </tr>\n",
       "    <tr>\n",
       "      <th>1</th>\n",
       "      <td>006388_0</td>\n",
       "      <td>006388</td>\n",
       "      <td>0</td>\n",
       "      <td>./test/006388_0_1.png</td>\n",
       "    </tr>\n",
       "    <tr>\n",
       "      <th>2</th>\n",
       "      <td>006388_0</td>\n",
       "      <td>006388</td>\n",
       "      <td>0</td>\n",
       "      <td>./test/006388_0_10.png</td>\n",
       "    </tr>\n",
       "    <tr>\n",
       "      <th>3</th>\n",
       "      <td>006388_0</td>\n",
       "      <td>006388</td>\n",
       "      <td>0</td>\n",
       "      <td>./test/006388_0_7.png</td>\n",
       "    </tr>\n",
       "    <tr>\n",
       "      <th>4</th>\n",
       "      <td>006388_0</td>\n",
       "      <td>006388</td>\n",
       "      <td>0</td>\n",
       "      <td>./test/006388_0_15.png</td>\n",
       "    </tr>\n",
       "  </tbody>\n",
       "</table>\n",
       "</div>"
      ],
      "text/plain": [
       "   image_id patient_id image_num                    path\n",
       "0  006388_0     006388         0  ./test/006388_0_14.png\n",
       "1  006388_0     006388         0   ./test/006388_0_1.png\n",
       "2  006388_0     006388         0  ./test/006388_0_10.png\n",
       "3  006388_0     006388         0   ./test/006388_0_7.png\n",
       "4  006388_0     006388         0  ./test/006388_0_15.png"
      ]
     },
     "execution_count": 12,
     "metadata": {},
     "output_type": "execute_result"
    }
   ],
   "source": [
    "test_images = glob(\"./test/*\")\n",
    "df = get_data_info(test_images)\n",
    "df.head()"
   ]
  },
  {
   "cell_type": "markdown",
   "id": "72af1e73",
   "metadata": {
    "papermill": {
     "duration": 0.013385,
     "end_time": "2022-07-24T00:35:58.757579",
     "exception": false,
     "start_time": "2022-07-24T00:35:58.744194",
     "status": "completed"
    },
    "tags": []
   },
   "source": [
    "# 🔨 Utility"
   ]
  },
  {
   "cell_type": "code",
   "execution_count": 13,
   "id": "8467236f",
   "metadata": {
    "execution": {
     "iopub.execute_input": "2022-07-24T00:35:58.786237Z",
     "iopub.status.busy": "2022-07-24T00:35:58.785552Z",
     "iopub.status.idle": "2022-07-24T00:35:58.791562Z",
     "shell.execute_reply": "2022-07-24T00:35:58.790671Z"
    },
    "papermill": {
     "duration": 0.022402,
     "end_time": "2022-07-24T00:35:58.793487",
     "exception": false,
     "start_time": "2022-07-24T00:35:58.771085",
     "status": "completed"
    },
    "tags": []
   },
   "outputs": [],
   "source": [
    "def load_img(path):\n",
    "    img = cv2.imread(path, cv2.IMREAD_UNCHANGED)\n",
    "    img = img.astype('float32') # original is uint16\n",
    "    mx = np.max(img)\n",
    "    if mx:\n",
    "        img/=mx # scale image to [0, 1]\n",
    "    return img\n",
    "\n",
    "def show_img(img, ground_truth, pred = \"\", conf = \"\"):\n",
    "    plt.imshow(img)\n",
    "    plt.title(f'true: {\"CE\" if ground_truth else \"LAA\"} | predicted: {pred} | conf: {conf}')\n",
    "    plt.axis('off')\n",
    "    "
   ]
  },
  {
   "cell_type": "markdown",
   "id": "26f70c17",
   "metadata": {
    "papermill": {
     "duration": 0.01338,
     "end_time": "2022-07-24T00:35:58.820359",
     "exception": false,
     "start_time": "2022-07-24T00:35:58.806979",
     "status": "completed"
    },
    "tags": []
   },
   "source": [
    "# ❗ DataLoaders"
   ]
  },
  {
   "cell_type": "code",
   "execution_count": 14,
   "id": "58ecff15",
   "metadata": {
    "execution": {
     "iopub.execute_input": "2022-07-24T00:35:58.849846Z",
     "iopub.status.busy": "2022-07-24T00:35:58.849103Z",
     "iopub.status.idle": "2022-07-24T00:35:58.858006Z",
     "shell.execute_reply": "2022-07-24T00:35:58.857167Z"
    },
    "papermill": {
     "duration": 0.025218,
     "end_time": "2022-07-24T00:35:58.859928",
     "exception": false,
     "start_time": "2022-07-24T00:35:58.834710",
     "status": "completed"
    },
    "tags": []
   },
   "outputs": [],
   "source": [
    "class StripAiDataset(Dataset):\n",
    "    def __init__(self, df, label=False ,transforms = None):\n",
    "        self.df = df\n",
    "        self.transforms = transforms\n",
    "        self.file_names = df['path'].tolist()\n",
    "        self.patient_id = df['patient_id'].tolist()\n",
    "        self.label = None\n",
    "        if label:\n",
    "            self.labels = df.label.apply(lambda x: 1 if x == \"CE\" else 0).tolist()\n",
    "        \n",
    "    def __len__(self):\n",
    "        return len(self.df)\n",
    "  \n",
    "    def __getitem__(self,index):\n",
    "        img = load_img(self.file_names[index])\n",
    "\n",
    "        if self.transforms:\n",
    "            result = self.transforms(image=img)\n",
    "            img = result[\"image\"]\n",
    "            \n",
    "        img = np.transpose(img, (2, 0, 1))\n",
    "        \n",
    "        if not self.label:\n",
    "            return  torch.tensor(img),self.patient_id[index]\n",
    "        \n",
    "        label = self.labels[index]\n",
    "        return torch.tensor(img), torch.tensor(label)"
   ]
  },
  {
   "cell_type": "code",
   "execution_count": 15,
   "id": "6b75798d",
   "metadata": {
    "execution": {
     "iopub.execute_input": "2022-07-24T00:35:58.889224Z",
     "iopub.status.busy": "2022-07-24T00:35:58.888446Z",
     "iopub.status.idle": "2022-07-24T00:35:58.893355Z",
     "shell.execute_reply": "2022-07-24T00:35:58.892515Z"
    },
    "papermill": {
     "duration": 0.021867,
     "end_time": "2022-07-24T00:35:58.895250",
     "exception": false,
     "start_time": "2022-07-24T00:35:58.873383",
     "status": "completed"
    },
    "tags": []
   },
   "outputs": [],
   "source": [
    "data_transforms = {\n",
    "    \"train\": A.Compose([], p=1.0),\n",
    "    \"valid\": A.Compose([], p=1.0)\n",
    "}"
   ]
  },
  {
   "cell_type": "code",
   "execution_count": 16,
   "id": "386d20d8",
   "metadata": {
    "execution": {
     "iopub.execute_input": "2022-07-24T00:35:58.923840Z",
     "iopub.status.busy": "2022-07-24T00:35:58.922986Z",
     "iopub.status.idle": "2022-07-24T00:35:58.928530Z",
     "shell.execute_reply": "2022-07-24T00:35:58.927722Z"
    },
    "papermill": {
     "duration": 0.021742,
     "end_time": "2022-07-24T00:35:58.930408",
     "exception": false,
     "start_time": "2022-07-24T00:35:58.908666",
     "status": "completed"
    },
    "tags": []
   },
   "outputs": [],
   "source": [
    "def prepare_loaders(test_df, debug=False):\n",
    " \n",
    "\n",
    "    test_dataset = StripAiDataset(test_df, transforms=None)#data_transforms['valid'])\n",
    "\n",
    "    test_loader = DataLoader(test_dataset, batch_size=CFG.valid_bs, \n",
    "                              num_workers=2, shuffle=False, pin_memory=False)\n",
    "    \n",
    "    return test_loader"
   ]
  },
  {
   "cell_type": "code",
   "execution_count": 17,
   "id": "baa7d224",
   "metadata": {
    "execution": {
     "iopub.execute_input": "2022-07-24T00:35:58.966051Z",
     "iopub.status.busy": "2022-07-24T00:35:58.965661Z",
     "iopub.status.idle": "2022-07-24T00:35:58.974084Z",
     "shell.execute_reply": "2022-07-24T00:35:58.973248Z"
    },
    "papermill": {
     "duration": 0.031957,
     "end_time": "2022-07-24T00:35:58.975988",
     "exception": false,
     "start_time": "2022-07-24T00:35:58.944031",
     "status": "completed"
    },
    "tags": []
   },
   "outputs": [],
   "source": [
    "class StripModel(nn.Module):\n",
    "\n",
    "    def __init__(self, model_name, num_classes=2, pretrained=True):\n",
    "        super().__init__()\n",
    "        self.base = timm.create_model(model_name, pretrained=pretrained, num_classes=2)\n",
    "\n",
    "    def forward(self, x):\n",
    "        out  = self.base(x) \n",
    "        \n",
    "        return out"
   ]
  },
  {
   "cell_type": "code",
   "execution_count": 18,
   "id": "2336fa11",
   "metadata": {
    "execution": {
     "iopub.execute_input": "2022-07-24T00:35:59.005748Z",
     "iopub.status.busy": "2022-07-24T00:35:59.005483Z",
     "iopub.status.idle": "2022-07-24T00:35:59.010337Z",
     "shell.execute_reply": "2022-07-24T00:35:59.009431Z"
    },
    "papermill": {
     "duration": 0.02166,
     "end_time": "2022-07-24T00:35:59.012217",
     "exception": false,
     "start_time": "2022-07-24T00:35:58.990557",
     "status": "completed"
    },
    "tags": []
   },
   "outputs": [],
   "source": [
    "def get_model(path):\n",
    "    model = StripModel(CFG.backbone ,pretrained = False)\n",
    "    model.to(CFG.device)\n",
    "    model.load_state_dict(torch.load(path))#,map_location=torch.device(CFG.device)))\n",
    "    model.eval()\n",
    "    return model"
   ]
  },
  {
   "cell_type": "markdown",
   "id": "3f138a37",
   "metadata": {
    "papermill": {
     "duration": 0.013282,
     "end_time": "2022-07-24T00:35:59.038864",
     "exception": false,
     "start_time": "2022-07-24T00:35:59.025582",
     "status": "completed"
    },
    "tags": []
   },
   "source": [
    "# 🔧 Loss Function"
   ]
  },
  {
   "cell_type": "markdown",
   "id": "38b9b660",
   "metadata": {
    "papermill": {
     "duration": 0.01393,
     "end_time": "2022-07-24T00:35:59.066521",
     "exception": false,
     "start_time": "2022-07-24T00:35:59.052591",
     "status": "completed"
    },
    "tags": []
   },
   "source": [
    "# 🚄 Training Function"
   ]
  },
  {
   "cell_type": "code",
   "execution_count": 19,
   "id": "aa46daa8",
   "metadata": {
    "execution": {
     "iopub.execute_input": "2022-07-24T00:35:59.095338Z",
     "iopub.status.busy": "2022-07-24T00:35:59.094628Z",
     "iopub.status.idle": "2022-07-24T00:35:59.103200Z",
     "shell.execute_reply": "2022-07-24T00:35:59.102292Z"
    },
    "papermill": {
     "duration": 0.02494,
     "end_time": "2022-07-24T00:35:59.105083",
     "exception": false,
     "start_time": "2022-07-24T00:35:59.080143",
     "status": "completed"
    },
    "tags": []
   },
   "outputs": [],
   "source": [
    "@torch.no_grad()\n",
    "def infer(model_ptah, test_loader):\n",
    "    preds = defaultdict(list)\n",
    "    model     = get_model(model_ptah)\n",
    "    soft = nn.Softmax()\n",
    "    for idx, (img,pid) in enumerate(tqdm(test_loader, total=len(test_loader), desc='Infer ')):\n",
    "        img = img.to(CFG.device, dtype=torch.float)# .squeeze(0)\n",
    "        out = model(img).squeeze()\n",
    "        out = soft(out).cpu().detach().numpy()\n",
    "        preds[\"patient_id\"].extend(pid)\n",
    "        \n",
    "        preds[\"CE\"].extend(out[:,1])\n",
    "        preds[\"LAA\"].extend(out[:,0])\n",
    "    \n",
    "        \n",
    "        del img,  out\n",
    "        gc.collect()\n",
    "        torch.cuda.empty_cache()\n",
    "\n",
    "    return pd.DataFrame(preds)"
   ]
  },
  {
   "cell_type": "code",
   "execution_count": 20,
   "id": "1e52b672",
   "metadata": {
    "execution": {
     "iopub.execute_input": "2022-07-24T00:35:59.133740Z",
     "iopub.status.busy": "2022-07-24T00:35:59.132964Z",
     "iopub.status.idle": "2022-07-24T00:36:14.205994Z",
     "shell.execute_reply": "2022-07-24T00:36:14.204360Z"
    },
    "papermill": {
     "duration": 15.08948,
     "end_time": "2022-07-24T00:36:14.208179",
     "exception": false,
     "start_time": "2022-07-24T00:35:59.118699",
     "status": "completed"
    },
    "tags": []
   },
   "outputs": [
    {
     "name": "stderr",
     "output_type": "stream",
     "text": [
      "Infer : 100%|██████████| 2/2 [00:11<00:00,  5.64s/it]\n"
     ]
    }
   ],
   "source": [
    "test_loader  = prepare_loaders(df)\n",
    "preds = infer(\"../input/first-attempt/best_epoch-00-0.778382251522347.bin\",test_loader)"
   ]
  },
  {
   "cell_type": "code",
   "execution_count": 21,
   "id": "cdfb9fe1",
   "metadata": {
    "execution": {
     "iopub.execute_input": "2022-07-24T00:36:14.239491Z",
     "iopub.status.busy": "2022-07-24T00:36:14.238724Z",
     "iopub.status.idle": "2022-07-24T00:36:14.249954Z",
     "shell.execute_reply": "2022-07-24T00:36:14.249088Z"
    },
    "papermill": {
     "duration": 0.028679,
     "end_time": "2022-07-24T00:36:14.251866",
     "exception": false,
     "start_time": "2022-07-24T00:36:14.223187",
     "status": "completed"
    },
    "tags": []
   },
   "outputs": [],
   "source": [
    "preds = preds.groupby(by=\"patient_id\").mean().reset_index()"
   ]
  },
  {
   "cell_type": "code",
   "execution_count": 22,
   "id": "90cda979",
   "metadata": {
    "execution": {
     "iopub.execute_input": "2022-07-24T00:36:14.280953Z",
     "iopub.status.busy": "2022-07-24T00:36:14.280317Z",
     "iopub.status.idle": "2022-07-24T00:36:14.291598Z",
     "shell.execute_reply": "2022-07-24T00:36:14.290620Z"
    },
    "papermill": {
     "duration": 0.028134,
     "end_time": "2022-07-24T00:36:14.293758",
     "exception": false,
     "start_time": "2022-07-24T00:36:14.265624",
     "status": "completed"
    },
    "tags": []
   },
   "outputs": [
    {
     "data": {
      "text/html": [
       "<div>\n",
       "<style scoped>\n",
       "    .dataframe tbody tr th:only-of-type {\n",
       "        vertical-align: middle;\n",
       "    }\n",
       "\n",
       "    .dataframe tbody tr th {\n",
       "        vertical-align: top;\n",
       "    }\n",
       "\n",
       "    .dataframe thead th {\n",
       "        text-align: right;\n",
       "    }\n",
       "</style>\n",
       "<table border=\"1\" class=\"dataframe\">\n",
       "  <thead>\n",
       "    <tr style=\"text-align: right;\">\n",
       "      <th></th>\n",
       "      <th>patient_id</th>\n",
       "      <th>CE</th>\n",
       "      <th>LAA</th>\n",
       "    </tr>\n",
       "  </thead>\n",
       "  <tbody>\n",
       "    <tr>\n",
       "      <th>0</th>\n",
       "      <td>006388</td>\n",
       "      <td>0.783796</td>\n",
       "      <td>0.216204</td>\n",
       "    </tr>\n",
       "    <tr>\n",
       "      <th>1</th>\n",
       "      <td>008e5c</td>\n",
       "      <td>0.806523</td>\n",
       "      <td>0.193477</td>\n",
       "    </tr>\n",
       "    <tr>\n",
       "      <th>2</th>\n",
       "      <td>00c058</td>\n",
       "      <td>0.489846</td>\n",
       "      <td>0.510154</td>\n",
       "    </tr>\n",
       "    <tr>\n",
       "      <th>3</th>\n",
       "      <td>01adc5</td>\n",
       "      <td>0.455385</td>\n",
       "      <td>0.544615</td>\n",
       "    </tr>\n",
       "  </tbody>\n",
       "</table>\n",
       "</div>"
      ],
      "text/plain": [
       "  patient_id        CE       LAA\n",
       "0     006388  0.783796  0.216204\n",
       "1     008e5c  0.806523  0.193477\n",
       "2     00c058  0.489846  0.510154\n",
       "3     01adc5  0.455385  0.544615"
      ]
     },
     "execution_count": 22,
     "metadata": {},
     "output_type": "execute_result"
    }
   ],
   "source": [
    "preds"
   ]
  },
  {
   "cell_type": "code",
   "execution_count": 23,
   "id": "45af46f8",
   "metadata": {
    "execution": {
     "iopub.execute_input": "2022-07-24T00:36:14.323710Z",
     "iopub.status.busy": "2022-07-24T00:36:14.323440Z",
     "iopub.status.idle": "2022-07-24T00:36:14.329939Z",
     "shell.execute_reply": "2022-07-24T00:36:14.329028Z"
    },
    "papermill": {
     "duration": 0.023428,
     "end_time": "2022-07-24T00:36:14.331795",
     "exception": false,
     "start_time": "2022-07-24T00:36:14.308367",
     "status": "completed"
    },
    "tags": []
   },
   "outputs": [],
   "source": [
    "preds.to_csv(\"submission.csv\", index = False)"
   ]
  },
  {
   "cell_type": "code",
   "execution_count": null,
   "id": "16100958",
   "metadata": {
    "papermill": {
     "duration": 0.014068,
     "end_time": "2022-07-24T00:36:14.360294",
     "exception": false,
     "start_time": "2022-07-24T00:36:14.346226",
     "status": "completed"
    },
    "tags": []
   },
   "outputs": [],
   "source": []
  }
 ],
 "metadata": {
  "kernelspec": {
   "display_name": "Python 3",
   "language": "python",
   "name": "python3"
  },
  "language_info": {
   "codemirror_mode": {
    "name": "ipython",
    "version": 3
   },
   "file_extension": ".py",
   "mimetype": "text/x-python",
   "name": "python",
   "nbconvert_exporter": "python",
   "pygments_lexer": "ipython3",
   "version": "3.7.12"
  },
  "papermill": {
   "default_parameters": {},
   "duration": 238.96286,
   "end_time": "2022-07-24T00:36:15.998933",
   "environment_variables": {},
   "exception": null,
   "input_path": "__notebook__.ipynb",
   "output_path": "__notebook__.ipynb",
   "parameters": {},
   "start_time": "2022-07-24T00:32:17.036073",
   "version": "2.3.4"
  }
 },
 "nbformat": 4,
 "nbformat_minor": 5
}
