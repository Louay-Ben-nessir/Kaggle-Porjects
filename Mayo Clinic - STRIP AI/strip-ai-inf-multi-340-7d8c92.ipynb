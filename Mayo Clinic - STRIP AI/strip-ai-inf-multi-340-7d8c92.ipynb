{
 "cells": [
  {
   "cell_type": "markdown",
   "id": "a212180c",
   "metadata": {
    "papermill": {
     "duration": 0.008444,
     "end_time": "2022-09-29T21:53:14.153719",
     "exception": false,
     "start_time": "2022-09-29T21:53:14.145275",
     "status": "completed"
    },
    "tags": []
   },
   "source": [
    "# 📚 Import Libraries"
   ]
  },
  {
   "cell_type": "code",
   "execution_count": 1,
   "id": "a2deb96c",
   "metadata": {
    "execution": {
     "iopub.execute_input": "2022-09-29T21:53:14.170301Z",
     "iopub.status.busy": "2022-09-29T21:53:14.169446Z",
     "iopub.status.idle": "2022-09-29T21:53:17.531927Z",
     "shell.execute_reply": "2022-09-29T21:53:17.530662Z"
    },
    "papermill": {
     "duration": 3.373528,
     "end_time": "2022-09-29T21:53:17.534387",
     "exception": false,
     "start_time": "2022-09-29T21:53:14.160859",
     "status": "completed"
    },
    "tags": []
   },
   "outputs": [],
   "source": [
    "!cp -r ../input/timm-pytorch-image-models . \n",
    "#!cp -r ../input/openslide ."
   ]
  },
  {
   "cell_type": "code",
   "execution_count": 2,
   "id": "ce2e0fa2",
   "metadata": {
    "execution": {
     "iopub.execute_input": "2022-09-29T21:53:17.550695Z",
     "iopub.status.busy": "2022-09-29T21:53:17.550314Z",
     "iopub.status.idle": "2022-09-29T21:53:49.942556Z",
     "shell.execute_reply": "2022-09-29T21:53:49.941386Z"
    },
    "papermill": {
     "duration": 32.403354,
     "end_time": "2022-09-29T21:53:49.945253",
     "exception": false,
     "start_time": "2022-09-29T21:53:17.541899",
     "status": "completed"
    },
    "tags": []
   },
   "outputs": [
    {
     "name": "stdout",
     "output_type": "stream",
     "text": [
      "\u001b[33mWARNING: Running pip as the 'root' user can result in broken permissions and conflicting behaviour with the system package manager. It is recommended to use a virtual environment instead: https://pip.pypa.io/warnings/venv\u001b[0m\u001b[33m\r\n",
      "\u001b[0m\u001b[33mWARNING: There was an error checking the latest version of pip.\u001b[0m\u001b[33m\r\n",
      "\u001b[0m"
     ]
    }
   ],
   "source": [
    "!pip install -qU ./timm-pytorch-image-models/pytorch-image-models-master\n",
    "#!pip install -qU ./openslide"
   ]
  },
  {
   "cell_type": "code",
   "execution_count": 3,
   "id": "30999c54",
   "metadata": {
    "execution": {
     "iopub.execute_input": "2022-09-29T21:53:49.962474Z",
     "iopub.status.busy": "2022-09-29T21:53:49.961580Z",
     "iopub.status.idle": "2022-09-29T21:54:26.842277Z",
     "shell.execute_reply": "2022-09-29T21:54:26.841103Z"
    },
    "papermill": {
     "duration": 36.892137,
     "end_time": "2022-09-29T21:54:26.845277",
     "exception": false,
     "start_time": "2022-09-29T21:53:49.953140",
     "status": "completed"
    },
    "tags": []
   },
   "outputs": [
    {
     "name": "stdout",
     "output_type": "stream",
     "text": [
      "\r\n",
      "Downloading and Extracting Packages\r\n",
      "######################################################################## | 100% \r\n",
      "######################################################################## | 100% \r\n",
      "######################################################################## | 100% \r\n",
      "######################################################################## | 100% \r\n",
      "######################################################################## | 100% \r\n",
      "######################################################################## | 100% \r\n",
      "######################################################################## | 100% \r\n",
      "######################################################################## | 100% \r\n",
      "######################################################################## | 100% \r\n",
      "######################################################################## | 100% \r\n",
      "######################################################################## | 100% \r\n",
      "######################################################################## | 100% \r\n",
      "######################################################################## | 100% \r\n",
      "######################################################################## | 100% \r\n",
      "######################################################################## | 100% \r\n",
      "######################################################################## | 100% \r\n",
      "######################################################################## | 100% \r\n",
      "######################################################################## | 100% \r\n",
      "Preparing transaction: - \b\b\\ \b\b| \b\b/ \b\b- \b\b\\ \b\b| \b\b/ \b\bdone\r\n",
      "Verifying transaction: \\ \b\b| \b\b/ \b\b- \b\b\\ \b\b| \b\b/ \b\b- \b\b\\ \b\b| \b\b/ \b\b- \b\b\\ \b\b| \b\b/ \b\b- \b\b\\ \b\b| \b\b/ \b\b- \b\b\\ \b\b| \b\b/ \b\b- \b\b\\ \b\b| \b\b/ \b\bdone\r\n",
      "Executing transaction: \\ \b\b| \b\b/ \b\b- \b\b\\ \b\b| \b\b/ \b\b- \b\b\\ \b\b| \b\b/ \b\b- \b\b\\ \b\b| \b\b/ \b\b- \b\b\\ \b\b| \b\b/ \b\b- \b\b\\ \b\b| \b\b/ \b\b- \b\b\\ \b\b| \b\b/ \b\b- \b\bdone\r\n"
     ]
    }
   ],
   "source": [
    "!conda install ../input/how-to-use-pyvips-offline/*.tar.bz2 "
   ]
  },
  {
   "cell_type": "code",
   "execution_count": 4,
   "id": "a7616f5e",
   "metadata": {
    "execution": {
     "iopub.execute_input": "2022-09-29T21:54:26.869824Z",
     "iopub.status.busy": "2022-09-29T21:54:26.869478Z",
     "iopub.status.idle": "2022-09-29T21:54:31.655728Z",
     "shell.execute_reply": "2022-09-29T21:54:31.654649Z"
    },
    "papermill": {
     "duration": 4.801004,
     "end_time": "2022-09-29T21:54:31.658286",
     "exception": false,
     "start_time": "2022-09-29T21:54:26.857282",
     "status": "completed"
    },
    "tags": []
   },
   "outputs": [],
   "source": [
    "import pandas as pd\n",
    "import numpy as np\n",
    "from glob import glob\n",
    "from collections import defaultdict\n",
    "from tqdm import tqdm\n",
    "import time\n",
    "import os \n",
    "import copy\n",
    "import gc\n",
    "from openslide import OpenSlide\n",
    "from PIL import Image\n",
    "# visualization\n",
    "import cv2\n",
    "import matplotlib.pyplot as plt\n",
    "\n",
    "# Sklearn\n",
    "from sklearn.model_selection import StratifiedKFold, KFold, StratifiedGroupKFold,GroupKFold \n",
    "\n",
    "# PyTorch \n",
    "import torch\n",
    "import torch.nn as nn\n",
    "import torch.optim as optim\n",
    "from torch.optim import lr_scheduler\n",
    "from torch.utils.data import Dataset, DataLoader\n",
    "from torch.cuda import amp\n",
    "\n",
    "import timm\n",
    "\n",
    "import zipfile\n",
    "import pyvips\n",
    "# Albumentations for augmentations\n",
    "import albumentations as A\n",
    "from albumentations.pytorch import ToTensorV2\n",
    "\n",
    "# Metrics \n",
    "from sklearn.metrics import accuracy_score, f1_score, precision_score, recall_score\n",
    "\n",
    "\n",
    "# For colored terminal text\n",
    "from colorama import Fore, Back, Style\n",
    "c_  = Fore.GREEN\n",
    "sr_ = Style.RESET_ALL\n",
    "\n",
    "import warnings\n",
    "warnings.filterwarnings('ignore')"
   ]
  },
  {
   "cell_type": "markdown",
   "id": "efdfbffa",
   "metadata": {
    "papermill": {
     "duration": 0.01228,
     "end_time": "2022-09-29T21:54:31.681913",
     "exception": false,
     "start_time": "2022-09-29T21:54:31.669633",
     "status": "completed"
    },
    "tags": []
   },
   "source": [
    "# ⚙️ Configuration"
   ]
  },
  {
   "cell_type": "code",
   "execution_count": 5,
   "id": "cd21e78d",
   "metadata": {
    "execution": {
     "iopub.execute_input": "2022-09-29T21:54:31.705835Z",
     "iopub.status.busy": "2022-09-29T21:54:31.705268Z",
     "iopub.status.idle": "2022-09-29T21:54:31.715257Z",
     "shell.execute_reply": "2022-09-29T21:54:31.713524Z"
    },
    "papermill": {
     "duration": 0.024775,
     "end_time": "2022-09-29T21:54:31.717808",
     "exception": false,
     "start_time": "2022-09-29T21:54:31.693033",
     "status": "completed"
    },
    "tags": []
   },
   "outputs": [
    {
     "name": "stdout",
     "output_type": "stream",
     "text": [
      "True\n"
     ]
    }
   ],
   "source": [
    "fake_inf = len(glob(\"/kaggle/input/mayo-clinic-strip-ai/test/*\")) == 4 \n",
    "print(fake_inf)"
   ]
  },
  {
   "cell_type": "code",
   "execution_count": 6,
   "id": "dadc66e0",
   "metadata": {
    "execution": {
     "iopub.execute_input": "2022-09-29T21:54:31.741959Z",
     "iopub.status.busy": "2022-09-29T21:54:31.741371Z",
     "iopub.status.idle": "2022-09-29T21:54:31.812246Z",
     "shell.execute_reply": "2022-09-29T21:54:31.811316Z"
    },
    "papermill": {
     "duration": 0.084551,
     "end_time": "2022-09-29T21:54:31.814230",
     "exception": false,
     "start_time": "2022-09-29T21:54:31.729679",
     "status": "completed"
    },
    "tags": []
   },
   "outputs": [],
   "source": [
    "class CFG:\n",
    "    seed          = 2307\n",
    "    debug         = False # set debug=False for Full Training\n",
    "    comment       = \"eff b7 more more 0.15 satruration on data\"\n",
    "    n_flods       = 5\n",
    "    backbone      = \"convnext_tiny\"\n",
    "    train_bs      = 1\n",
    "    valid_bs      = 1\n",
    "    epochs        = 25\n",
    "    lr            = 1e-4\n",
    "    scheduler     = 'CosineAnnealingLR'\n",
    "    min_lr        = 1e-6\n",
    "    T_max         = int(30000/train_bs*epochs)+50\n",
    "    T_0           = 25\n",
    "    warmup_epochs = 1\n",
    "    wd            = 1e-6\n",
    "    n_accumulate  = 2#max(1, 32//train_bs)\n",
    "    device        = torch.device(\"cuda:0\" if torch.cuda.is_available() else \"cpu\")\n",
    "    tile_size     = (1024,1024)\n",
    "    t_thr         = 0.4 # percentage of required color pixles to |keep the pic \n",
    "    faster_inf    = True #only take N_slides slides from each image \n",
    "    N_slides      = 45"
   ]
  },
  {
   "cell_type": "code",
   "execution_count": 7,
   "id": "2df0933b",
   "metadata": {
    "execution": {
     "iopub.execute_input": "2022-09-29T21:54:31.838038Z",
     "iopub.status.busy": "2022-09-29T21:54:31.837232Z",
     "iopub.status.idle": "2022-09-29T21:54:31.853090Z",
     "shell.execute_reply": "2022-09-29T21:54:31.851474Z"
    },
    "papermill": {
     "duration": 0.030417,
     "end_time": "2022-09-29T21:54:31.855739",
     "exception": false,
     "start_time": "2022-09-29T21:54:31.825322",
     "status": "completed"
    },
    "tags": []
   },
   "outputs": [
    {
     "name": "stdout",
     "output_type": "stream",
     "text": [
      "> SEEDING DONE\n"
     ]
    }
   ],
   "source": [
    "def set_seed(seed = 42):\n",
    "    np.random.seed(seed)\n",
    "    #random.seed(seed)\n",
    "    torch.manual_seed(seed)\n",
    "    torch.cuda.manual_seed(seed)\n",
    "    # When running on the CuDNN backend, two further options must be set\n",
    "    torch.backends.cudnn.deterministic = True\n",
    "    torch.backends.cudnn.benchmark = False\n",
    "    # Set a fixed value for the hash seed\n",
    "    os.environ['PYTHONHASHSEED'] = str(seed)\n",
    "    print('> SEEDING DONE')\n",
    "    \n",
    "set_seed(CFG.seed)"
   ]
  },
  {
   "cell_type": "markdown",
   "id": "be347732",
   "metadata": {
    "papermill": {
     "duration": 0.011075,
     "end_time": "2022-09-29T21:54:31.878199",
     "exception": false,
     "start_time": "2022-09-29T21:54:31.867124",
     "status": "completed"
    },
    "tags": []
   },
   "source": [
    "# ❗ Data"
   ]
  },
  {
   "cell_type": "code",
   "execution_count": 8,
   "id": "3dd0daf2",
   "metadata": {
    "execution": {
     "iopub.execute_input": "2022-09-29T21:54:31.902641Z",
     "iopub.status.busy": "2022-09-29T21:54:31.901662Z",
     "iopub.status.idle": "2022-09-29T21:54:31.911355Z",
     "shell.execute_reply": "2022-09-29T21:54:31.910536Z"
    },
    "papermill": {
     "duration": 0.024464,
     "end_time": "2022-09-29T21:54:31.913566",
     "exception": false,
     "start_time": "2022-09-29T21:54:31.889102",
     "status": "completed"
    },
    "tags": []
   },
   "outputs": [],
   "source": [
    "def get_data_info(paths,df):\n",
    "    img_prop = defaultdict(list)\n",
    "    \n",
    "    for i, path in enumerate(paths):\n",
    "        img_path = paths[i]\n",
    "        slide = OpenSlide(img_path)    \n",
    "        img_prop['image_id'].append(img_path[-12:-4])\n",
    "        img_prop['width'].append(slide.dimensions[0])\n",
    "        img_prop['height'].append(slide.dimensions[1])\n",
    "        img_prop['size'].append(round(os.path.getsize(img_path) / 1e6, 2))\n",
    "        img_prop['path'].append(img_path)\n",
    "    \n",
    "    image_data = pd.DataFrame(img_prop)\n",
    "    image_data['img_aspect_ratio'] = image_data['width']/image_data['height']\n",
    "    image_data.sort_values(by='image_id', inplace=True)\n",
    "    image_data.reset_index(inplace=True, drop=True)\n",
    "    \n",
    "    image_data = image_data.merge(df, on='image_id')\n",
    "    return image_data"
   ]
  },
  {
   "cell_type": "code",
   "execution_count": 9,
   "id": "f4d643df",
   "metadata": {
    "execution": {
     "iopub.execute_input": "2022-09-29T21:54:31.937820Z",
     "iopub.status.busy": "2022-09-29T21:54:31.937057Z",
     "iopub.status.idle": "2022-09-29T21:54:32.094093Z",
     "shell.execute_reply": "2022-09-29T21:54:32.093246Z"
    },
    "papermill": {
     "duration": 0.171452,
     "end_time": "2022-09-29T21:54:32.096391",
     "exception": false,
     "start_time": "2022-09-29T21:54:31.924939",
     "status": "completed"
    },
    "tags": []
   },
   "outputs": [
    {
     "data": {
      "text/html": [
       "<div>\n",
       "<style scoped>\n",
       "    .dataframe tbody tr th:only-of-type {\n",
       "        vertical-align: middle;\n",
       "    }\n",
       "\n",
       "    .dataframe tbody tr th {\n",
       "        vertical-align: top;\n",
       "    }\n",
       "\n",
       "    .dataframe thead th {\n",
       "        text-align: right;\n",
       "    }\n",
       "</style>\n",
       "<table border=\"1\" class=\"dataframe\">\n",
       "  <thead>\n",
       "    <tr style=\"text-align: right;\">\n",
       "      <th></th>\n",
       "      <th>image_id</th>\n",
       "      <th>width</th>\n",
       "      <th>height</th>\n",
       "      <th>size</th>\n",
       "      <th>path</th>\n",
       "      <th>img_aspect_ratio</th>\n",
       "      <th>center_id</th>\n",
       "      <th>patient_id</th>\n",
       "      <th>image_num</th>\n",
       "    </tr>\n",
       "  </thead>\n",
       "  <tbody>\n",
       "    <tr>\n",
       "      <th>0</th>\n",
       "      <td>006388_0</td>\n",
       "      <td>34007</td>\n",
       "      <td>60797</td>\n",
       "      <td>1312.94</td>\n",
       "      <td>/kaggle/input/mayo-clinic-strip-ai/test/006388...</td>\n",
       "      <td>0.559353</td>\n",
       "      <td>11</td>\n",
       "      <td>006388</td>\n",
       "      <td>0</td>\n",
       "    </tr>\n",
       "    <tr>\n",
       "      <th>1</th>\n",
       "      <td>008e5c_0</td>\n",
       "      <td>5946</td>\n",
       "      <td>29694</td>\n",
       "      <td>109.57</td>\n",
       "      <td>/kaggle/input/mayo-clinic-strip-ai/test/008e5c...</td>\n",
       "      <td>0.200242</td>\n",
       "      <td>11</td>\n",
       "      <td>008e5c</td>\n",
       "      <td>0</td>\n",
       "    </tr>\n",
       "    <tr>\n",
       "      <th>2</th>\n",
       "      <td>00c058_0</td>\n",
       "      <td>15255</td>\n",
       "      <td>61801</td>\n",
       "      <td>351.76</td>\n",
       "      <td>/kaggle/input/mayo-clinic-strip-ai/test/00c058...</td>\n",
       "      <td>0.246841</td>\n",
       "      <td>11</td>\n",
       "      <td>00c058</td>\n",
       "      <td>0</td>\n",
       "    </tr>\n",
       "    <tr>\n",
       "      <th>3</th>\n",
       "      <td>01adc5_0</td>\n",
       "      <td>55831</td>\n",
       "      <td>26553</td>\n",
       "      <td>679.17</td>\n",
       "      <td>/kaggle/input/mayo-clinic-strip-ai/test/01adc5...</td>\n",
       "      <td>2.102625</td>\n",
       "      <td>11</td>\n",
       "      <td>01adc5</td>\n",
       "      <td>0</td>\n",
       "    </tr>\n",
       "  </tbody>\n",
       "</table>\n",
       "</div>"
      ],
      "text/plain": [
       "   image_id  width  height     size  \\\n",
       "0  006388_0  34007   60797  1312.94   \n",
       "1  008e5c_0   5946   29694   109.57   \n",
       "2  00c058_0  15255   61801   351.76   \n",
       "3  01adc5_0  55831   26553   679.17   \n",
       "\n",
       "                                                path  img_aspect_ratio  \\\n",
       "0  /kaggle/input/mayo-clinic-strip-ai/test/006388...          0.559353   \n",
       "1  /kaggle/input/mayo-clinic-strip-ai/test/008e5c...          0.200242   \n",
       "2  /kaggle/input/mayo-clinic-strip-ai/test/00c058...          0.246841   \n",
       "3  /kaggle/input/mayo-clinic-strip-ai/test/01adc5...          2.102625   \n",
       "\n",
       "   center_id patient_id  image_num  \n",
       "0         11     006388          0  \n",
       "1         11     008e5c          0  \n",
       "2         11     00c058          0  \n",
       "3         11     01adc5          0  "
      ]
     },
     "execution_count": 9,
     "metadata": {},
     "output_type": "execute_result"
    }
   ],
   "source": [
    "test_images = glob(\"/kaggle/input/mayo-clinic-strip-ai/test/*\")\n",
    "test_df = pd.read_csv('../input/mayo-clinic-strip-ai/test.csv')\n",
    "test_df= get_data_info(test_images,test_df)\n",
    "test_df.head()"
   ]
  },
  {
   "cell_type": "code",
   "execution_count": 10,
   "id": "9a587fc5",
   "metadata": {
    "execution": {
     "iopub.execute_input": "2022-09-29T21:54:32.120456Z",
     "iopub.status.busy": "2022-09-29T21:54:32.120183Z",
     "iopub.status.idle": "2022-09-29T21:54:33.186668Z",
     "shell.execute_reply": "2022-09-29T21:54:33.185251Z"
    },
    "papermill": {
     "duration": 1.081634,
     "end_time": "2022-09-29T21:54:33.189820",
     "exception": false,
     "start_time": "2022-09-29T21:54:32.108186",
     "status": "completed"
    },
    "tags": []
   },
   "outputs": [],
   "source": [
    "!mkdir ./test"
   ]
  },
  {
   "cell_type": "code",
   "execution_count": 11,
   "id": "40be962a",
   "metadata": {
    "execution": {
     "iopub.execute_input": "2022-09-29T21:54:33.226560Z",
     "iopub.status.busy": "2022-09-29T21:54:33.226101Z",
     "iopub.status.idle": "2022-09-29T21:54:33.243665Z",
     "shell.execute_reply": "2022-09-29T21:54:33.242703Z"
    },
    "papermill": {
     "duration": 0.039737,
     "end_time": "2022-09-29T21:54:33.247085",
     "exception": false,
     "start_time": "2022-09-29T21:54:33.207348",
     "status": "completed"
    },
    "tags": []
   },
   "outputs": [],
   "source": [
    "\n",
    "\n",
    "def tile(img, w,h, N=16):\n",
    "    shape = img.shape\n",
    "    diff_a0 = np.sum(np.diff(img,axis=0),axis = (0,2))/(3*shape[0]) < 3 # if the avg diffrannce in that line is less than 20 just delet it \n",
    "    diff_a1 = np.sum(np.diff(img,axis=1),axis = (1,2))/(3*shape[1]) < 3\n",
    "    img = np.delete(img, diff_a0, axis=1)\n",
    "    img = np.delete(img, diff_a1, axis=0)\n",
    "    shape = img.shape\n",
    "    pad0,pad1 = (w - shape[0]%w)%w, (h - shape[1]%h)%h\n",
    "    img = np.pad(img,[[pad0//2,pad0-pad0//2],[pad1//2,pad1-pad1//2],[0,0]],constant_values=255)\n",
    "    \n",
    "    img = img.reshape(img.shape[0]//w,w,img.shape[1]//h,h,3)\n",
    "    \n",
    "    img = img.transpose(0,2,1,3,4).reshape(-1,w,h,3)\n",
    "    #print(shape)\n",
    "\n",
    "    print(img.shape)\n",
    "    diff = np.diff(img,axis=1)\n",
    "    idxs = np.argsort(diff.reshape(diff.shape[0],-1).sum(-1))[-N:]\n",
    "    img = img[idxs]\n",
    "    return img\n",
    "\n",
    "\n",
    "def make_tiles(img_info , save_dir):\n",
    "\n",
    "    img_info = img_info[1]\n",
    "    image_id ,img_path ,center_id ,w ,h = img_info.image_id ,img_info.path ,img_info.center_id ,img_info.width ,img_info.height\n",
    "    \n",
    "    save_counter = 0\n",
    "    #img_obj = OpenSlide(img_path)\n",
    "    tiles_num = 20 #n*n tiles \n",
    "    ds_factor =  max(h,w) / 25000 # biggest image we can load in mem? \n",
    "    print(1/ds_factor)\n",
    "    #print(1/ds_factor)\n",
    "    img_obj = pyvips.Image.new_from_file(img_path).resize(1/ds_factor).numpy()\n",
    "\n",
    "    patch_size = (384,384)\n",
    "    \n",
    "    img_obj = tile(img_obj,patch_size[0],patch_size[1],50)\n",
    "\n",
    "    for i in range(img_obj.shape[0]):\n",
    "        img_name = f\"{image_id}_{center_id}_{i}.jpg\"\n",
    "        Image.fromarray(img_obj[i,:,:,:]).save(save_dir + img_name)\n",
    "    del img_obj\n",
    "    gc.collect()\n",
    "    #h*=1/ds_factor\n",
    "    #w*=1/ds_factor\n",
    "    #print(ds_factor)\n",
    "    "
   ]
  },
  {
   "cell_type": "code",
   "execution_count": 12,
   "id": "7c732e7c",
   "metadata": {
    "execution": {
     "iopub.execute_input": "2022-09-29T21:54:33.288672Z",
     "iopub.status.busy": "2022-09-29T21:54:33.288329Z",
     "iopub.status.idle": "2022-09-29T21:57:23.539722Z",
     "shell.execute_reply": "2022-09-29T21:57:23.538691Z"
    },
    "papermill": {
     "duration": 170.272882,
     "end_time": "2022-09-29T21:57:23.543753",
     "exception": false,
     "start_time": "2022-09-29T21:54:33.270871",
     "status": "completed"
    },
    "tags": []
   },
   "outputs": [
    {
     "name": "stderr",
     "output_type": "stream",
     "text": [
      "splliting images:   0%|          | 0/4 [00:00<?, ?it/s]"
     ]
    },
    {
     "name": "stdout",
     "output_type": "stream",
     "text": [
      "0.4112045002220504\n",
      "(1836, 384, 384, 3)\n"
     ]
    },
    {
     "name": "stderr",
     "output_type": "stream",
     "text": [
      "splliting images:  25%|██▌       | 1/4 [01:11<03:35, 71.81s/it]"
     ]
    },
    {
     "name": "stdout",
     "output_type": "stream",
     "text": [
      "0.8419209267865563\n",
      "(348, 384, 384, 3)\n"
     ]
    },
    {
     "name": "stderr",
     "output_type": "stream",
     "text": [
      "splliting images:  50%|█████     | 2/4 [01:25<01:15, 37.60s/it]"
     ]
    },
    {
     "name": "stdout",
     "output_type": "stream",
     "text": [
      "0.40452419863756256\n",
      "(560, 384, 384, 3)\n"
     ]
    },
    {
     "name": "stderr",
     "output_type": "stream",
     "text": [
      "splliting images:  75%|███████▌  | 3/4 [01:51<00:32, 32.42s/it]"
     ]
    },
    {
     "name": "stdout",
     "output_type": "stream",
     "text": [
      "0.44777990722000327\n",
      "(2046, 384, 384, 3)\n"
     ]
    },
    {
     "name": "stderr",
     "output_type": "stream",
     "text": [
      "splliting images: 100%|██████████| 4/4 [02:50<00:00, 42.56s/it]\n"
     ]
    }
   ],
   "source": [
    "for image_info in tqdm(test_df.iterrows(), total = len(test_df), desc = \"splliting images\"):\n",
    "\n",
    "    make_tiles(image_info, \"./test/\")"
   ]
  },
  {
   "cell_type": "code",
   "execution_count": 13,
   "id": "d56ab999",
   "metadata": {
    "execution": {
     "iopub.execute_input": "2022-09-29T21:57:23.570260Z",
     "iopub.status.busy": "2022-09-29T21:57:23.569945Z",
     "iopub.status.idle": "2022-09-29T21:57:23.578948Z",
     "shell.execute_reply": "2022-09-29T21:57:23.577974Z"
    },
    "papermill": {
     "duration": 0.023954,
     "end_time": "2022-09-29T21:57:23.580941",
     "exception": false,
     "start_time": "2022-09-29T21:57:23.556987",
     "status": "completed"
    },
    "tags": []
   },
   "outputs": [],
   "source": [
    "def get_data_info(paths , train = False):\n",
    "    img_prop = defaultdict(list)\n",
    "    \n",
    "    for i, path in tqdm(enumerate(paths), total = len(paths),desc = \"making dataframe\"):\n",
    "        img_info =  path.split('/')[-1]\n",
    "        if len(img_info.split(\"_\")) == 4:\n",
    "            patient_id , image_num  , centre_id ,slice_num= img_info.split(\"_\")\n",
    "        else:\n",
    "            patient_id , image_num   ,slice_num= img_info.split(\"_\")\n",
    "        #tl_pixel = tl_pixel.split('.')[0]\n",
    "        #centre_id = centre_id.split('.jpg')[0]\n",
    "        \n",
    "        img_prop['image_id'].append(f\"{patient_id}_{image_num}\")\n",
    "        img_prop['patient_id'].append(patient_id)\n",
    "        img_prop['image_num'].append(image_num)\n",
    "        img_prop['slice_num'].append(slice_num.split('.jpg')[0])\n",
    "\n",
    "        img_prop['path'].append(path)\n",
    "        #img_prop['tl_pixel'].append(tl_pixel)\n",
    "        \n",
    "        if train:\n",
    "            label = train_data[train_data[\"image_id\"]==f\"{patient_id}_{image_num}\"].label.item()\n",
    "            \n",
    "            img_prop['label'].append(label)\n",
    "            \n",
    "        \n",
    "        #img_prop['density'].append(extra_info)\n",
    "    \n",
    "    image_data = pd.DataFrame(img_prop)\n",
    "\n",
    "    image_data.sort_values(by='image_id', inplace=True)\n",
    "    image_data.reset_index(inplace=True, drop=True)\n",
    "    #image_data['density'] = image_data['density'].astype(np.float16)\n",
    "    \n",
    "    return image_data"
   ]
  },
  {
   "cell_type": "code",
   "execution_count": 14,
   "id": "5f154518",
   "metadata": {
    "execution": {
     "iopub.execute_input": "2022-09-29T21:57:23.606879Z",
     "iopub.status.busy": "2022-09-29T21:57:23.606219Z",
     "iopub.status.idle": "2022-09-29T21:57:23.624869Z",
     "shell.execute_reply": "2022-09-29T21:57:23.623880Z"
    },
    "papermill": {
     "duration": 0.033956,
     "end_time": "2022-09-29T21:57:23.626840",
     "exception": false,
     "start_time": "2022-09-29T21:57:23.592884",
     "status": "completed"
    },
    "tags": []
   },
   "outputs": [
    {
     "name": "stderr",
     "output_type": "stream",
     "text": [
      "making dataframe: 100%|██████████| 200/200 [00:00<00:00, 443841.69it/s]\n"
     ]
    },
    {
     "data": {
      "text/html": [
       "<div>\n",
       "<style scoped>\n",
       "    .dataframe tbody tr th:only-of-type {\n",
       "        vertical-align: middle;\n",
       "    }\n",
       "\n",
       "    .dataframe tbody tr th {\n",
       "        vertical-align: top;\n",
       "    }\n",
       "\n",
       "    .dataframe thead th {\n",
       "        text-align: right;\n",
       "    }\n",
       "</style>\n",
       "<table border=\"1\" class=\"dataframe\">\n",
       "  <thead>\n",
       "    <tr style=\"text-align: right;\">\n",
       "      <th></th>\n",
       "      <th>image_id</th>\n",
       "      <th>patient_id</th>\n",
       "      <th>image_num</th>\n",
       "      <th>slice_num</th>\n",
       "      <th>path</th>\n",
       "    </tr>\n",
       "  </thead>\n",
       "  <tbody>\n",
       "    <tr>\n",
       "      <th>0</th>\n",
       "      <td>006388_0</td>\n",
       "      <td>006388</td>\n",
       "      <td>0</td>\n",
       "      <td>33</td>\n",
       "      <td>./test/006388_0_11_33.jpg</td>\n",
       "    </tr>\n",
       "    <tr>\n",
       "      <th>1</th>\n",
       "      <td>006388_0</td>\n",
       "      <td>006388</td>\n",
       "      <td>0</td>\n",
       "      <td>28</td>\n",
       "      <td>./test/006388_0_11_28.jpg</td>\n",
       "    </tr>\n",
       "    <tr>\n",
       "      <th>2</th>\n",
       "      <td>006388_0</td>\n",
       "      <td>006388</td>\n",
       "      <td>0</td>\n",
       "      <td>12</td>\n",
       "      <td>./test/006388_0_11_12.jpg</td>\n",
       "    </tr>\n",
       "    <tr>\n",
       "      <th>3</th>\n",
       "      <td>006388_0</td>\n",
       "      <td>006388</td>\n",
       "      <td>0</td>\n",
       "      <td>7</td>\n",
       "      <td>./test/006388_0_11_7.jpg</td>\n",
       "    </tr>\n",
       "    <tr>\n",
       "      <th>4</th>\n",
       "      <td>006388_0</td>\n",
       "      <td>006388</td>\n",
       "      <td>0</td>\n",
       "      <td>48</td>\n",
       "      <td>./test/006388_0_11_48.jpg</td>\n",
       "    </tr>\n",
       "  </tbody>\n",
       "</table>\n",
       "</div>"
      ],
      "text/plain": [
       "   image_id patient_id image_num slice_num                       path\n",
       "0  006388_0     006388         0        33  ./test/006388_0_11_33.jpg\n",
       "1  006388_0     006388         0        28  ./test/006388_0_11_28.jpg\n",
       "2  006388_0     006388         0        12  ./test/006388_0_11_12.jpg\n",
       "3  006388_0     006388         0         7   ./test/006388_0_11_7.jpg\n",
       "4  006388_0     006388         0        48  ./test/006388_0_11_48.jpg"
      ]
     },
     "execution_count": 14,
     "metadata": {},
     "output_type": "execute_result"
    }
   ],
   "source": [
    "test_images = glob(\"./test/*\")\n",
    "df = get_data_info(test_images)\n",
    "df.head()"
   ]
  },
  {
   "cell_type": "markdown",
   "id": "2f54099f",
   "metadata": {
    "papermill": {
     "duration": 0.022156,
     "end_time": "2022-09-29T21:57:23.661178",
     "exception": false,
     "start_time": "2022-09-29T21:57:23.639022",
     "status": "completed"
    },
    "tags": []
   },
   "source": [
    "# 🔨 Utility"
   ]
  },
  {
   "cell_type": "code",
   "execution_count": 15,
   "id": "7fdc019a",
   "metadata": {
    "execution": {
     "iopub.execute_input": "2022-09-29T21:57:23.686786Z",
     "iopub.status.busy": "2022-09-29T21:57:23.686455Z",
     "iopub.status.idle": "2022-09-29T21:57:23.692199Z",
     "shell.execute_reply": "2022-09-29T21:57:23.691219Z"
    },
    "papermill": {
     "duration": 0.020695,
     "end_time": "2022-09-29T21:57:23.694095",
     "exception": false,
     "start_time": "2022-09-29T21:57:23.673400",
     "status": "completed"
    },
    "tags": []
   },
   "outputs": [],
   "source": [
    "def load_img(path):\n",
    "    img = cv2.imread(path, cv2.IMREAD_UNCHANGED)\n",
    "\n",
    "    img = img.astype('float32') \n",
    "    return img\n",
    "\n",
    "def show_img(img, ground_truth, pred = \"\", conf = \"\"):\n",
    "    plt.imshow(img)\n",
    "    plt.title(f'true: {\"CE\" if ground_truth else \"LAA\"} | predicted: {pred} | conf: {conf}')\n",
    "    plt.axis('off')\n",
    "    "
   ]
  },
  {
   "cell_type": "markdown",
   "id": "76316d78",
   "metadata": {
    "papermill": {
     "duration": 0.01208,
     "end_time": "2022-09-29T21:57:23.718152",
     "exception": false,
     "start_time": "2022-09-29T21:57:23.706072",
     "status": "completed"
    },
    "tags": []
   },
   "source": [
    "# ❗ DataLoaders"
   ]
  },
  {
   "cell_type": "code",
   "execution_count": 16,
   "id": "c5b1bd1c",
   "metadata": {
    "execution": {
     "iopub.execute_input": "2022-09-29T21:57:23.744278Z",
     "iopub.status.busy": "2022-09-29T21:57:23.743442Z",
     "iopub.status.idle": "2022-09-29T21:57:23.752408Z",
     "shell.execute_reply": "2022-09-29T21:57:23.751597Z"
    },
    "papermill": {
     "duration": 0.024073,
     "end_time": "2022-09-29T21:57:23.754302",
     "exception": false,
     "start_time": "2022-09-29T21:57:23.730229",
     "status": "completed"
    },
    "tags": []
   },
   "outputs": [],
   "source": [
    "class StripAiDataset(Dataset):\n",
    "    def __init__(self, df, N_slides, label=False ,transforms = None):\n",
    "        self.df = df\n",
    "        self.transforms = transforms\n",
    "        self.image_ids = df['image_id'].unique().tolist()\n",
    "        self.file_names = df['path'].tolist()\n",
    "        self.patient_id = df['patient_id'].tolist()\n",
    "        self.label = None\n",
    "        self.N_slides = N_slides\n",
    "    def __len__(self):\n",
    "        return len(self.image_ids)\n",
    "  \n",
    "    def __getitem__(self,index):\n",
    "        img_id = self.image_ids[index]\n",
    "        tempdf =self.df[self.df[\"image_id\"] == img_id]\n",
    "        patient_id = tempdf['patient_id'].tolist()\n",
    "        img_paths = tempdf.path.sample(self.N_slides,replace=True).tolist()\n",
    "        img = []\n",
    "        for path in img_paths:  \n",
    "            temp = self.transforms(image=load_img(path))[\"image\"]\n",
    "            temp = np.transpose(temp, (2, 0, 1))\n",
    "            img.append(temp)\n",
    "        #print(np.array(img).shape)\n",
    "\n",
    "        img = np.stack(img , axis = 0).astype(np.float32)\n",
    "\n",
    "        #print(img.shape)\n",
    "        \n",
    "    \n",
    "    \n",
    "        return torch.tensor(img), patient_id[0]"
   ]
  },
  {
   "cell_type": "code",
   "execution_count": 17,
   "id": "d7659c73",
   "metadata": {
    "execution": {
     "iopub.execute_input": "2022-09-29T21:57:23.780223Z",
     "iopub.status.busy": "2022-09-29T21:57:23.779380Z",
     "iopub.status.idle": "2022-09-29T21:57:23.784858Z",
     "shell.execute_reply": "2022-09-29T21:57:23.784066Z"
    },
    "papermill": {
     "duration": 0.020193,
     "end_time": "2022-09-29T21:57:23.786736",
     "exception": false,
     "start_time": "2022-09-29T21:57:23.766543",
     "status": "completed"
    },
    "tags": []
   },
   "outputs": [],
   "source": [
    "data_transforms = {\n",
    "    \"train\": A.Compose([A.Normalize()], p=1.0),\n",
    "    \"tta\": A.Compose([A.Flip(p=1.0),\n",
    "                      A.Normalize()], p=1.0),\n",
    "    \"valid\": A.Compose([A.Normalize()], p=1.0)\n",
    "}"
   ]
  },
  {
   "cell_type": "code",
   "execution_count": 18,
   "id": "e80c4c3a",
   "metadata": {
    "execution": {
     "iopub.execute_input": "2022-09-29T21:57:23.812562Z",
     "iopub.status.busy": "2022-09-29T21:57:23.811685Z",
     "iopub.status.idle": "2022-09-29T21:57:23.817070Z",
     "shell.execute_reply": "2022-09-29T21:57:23.816266Z"
    },
    "papermill": {
     "duration": 0.020113,
     "end_time": "2022-09-29T21:57:23.818976",
     "exception": false,
     "start_time": "2022-09-29T21:57:23.798863",
     "status": "completed"
    },
    "tags": []
   },
   "outputs": [],
   "source": [
    "def prepare_loaders(test_df, N_slides,aug,debug=False):\n",
    " \n",
    "\n",
    "    test_dataset = StripAiDataset(test_df, N_slides,transforms=aug)\n",
    "\n",
    "    test_loader = DataLoader(test_dataset, batch_size=CFG.valid_bs, \n",
    "                              num_workers=1, shuffle=False, pin_memory=False)\n",
    "    \n",
    "    return test_loader"
   ]
  },
  {
   "cell_type": "code",
   "execution_count": 19,
   "id": "9c0b9362",
   "metadata": {
    "execution": {
     "iopub.execute_input": "2022-09-29T21:57:23.844815Z",
     "iopub.status.busy": "2022-09-29T21:57:23.844514Z",
     "iopub.status.idle": "2022-09-29T21:57:23.850110Z",
     "shell.execute_reply": "2022-09-29T21:57:23.849136Z"
    },
    "papermill": {
     "duration": 0.020667,
     "end_time": "2022-09-29T21:57:23.852086",
     "exception": false,
     "start_time": "2022-09-29T21:57:23.831419",
     "status": "completed"
    },
    "tags": []
   },
   "outputs": [],
   "source": [
    "class Flatten(nn.Module):\n",
    "    def __init__(self, dim=1):\n",
    "        super().__init__()\n",
    "        self.dim = dim\n",
    "\n",
    "    def forward(self, x): \n",
    "        input_shape = x.shape\n",
    "        output_shape = [input_shape[i] for i in range(self.dim)] + [-1]\n",
    "        return x.view(*output_shape)\n"
   ]
  },
  {
   "cell_type": "code",
   "execution_count": 20,
   "id": "5abe3018",
   "metadata": {
    "execution": {
     "iopub.execute_input": "2022-09-29T21:57:23.878546Z",
     "iopub.status.busy": "2022-09-29T21:57:23.877798Z",
     "iopub.status.idle": "2022-09-29T21:57:23.887049Z",
     "shell.execute_reply": "2022-09-29T21:57:23.886244Z"
    },
    "papermill": {
     "duration": 0.024885,
     "end_time": "2022-09-29T21:57:23.889007",
     "exception": false,
     "start_time": "2022-09-29T21:57:23.864122",
     "status": "completed"
    },
    "tags": []
   },
   "outputs": [],
   "source": [
    "class StripModel(nn.Module):\n",
    "\n",
    "    def __init__(self, model_name, num_classes=2, pretrained=True ,num_instances=CFG.N_slides , path=\"\"):\n",
    "        super().__init__()\n",
    "        self.num_instances = num_instances\n",
    "        self.encoder = timm.create_model(model_name, pretrained=pretrained, num_classes=num_classes)\n",
    "\n",
    "        \n",
    "        \n",
    "        feature_dim = self.encoder.get_classifier().in_features\n",
    "        self.encoder.head.fc = nn.Identity()\n",
    "        self.feature_dim = feature_dim\n",
    "        print(feature_dim)\n",
    "        \n",
    "        self.head = nn.Sequential(\n",
    "            nn.Conv3d(self.num_instances ,1,(1,12,12)), nn.ReLU(inplace=True), Flatten(),\n",
    "            nn.Linear(feature_dim, 256), nn.ReLU(inplace=True), \n",
    "            nn.Linear(256, 64), nn.ReLU(inplace=True), \n",
    "            nn.Linear(64, num_classes)\n",
    "        )\n",
    "\n",
    "\n",
    "    def forward(self, x):\n",
    "        # x: bs x N x C x W x W\n",
    "        bs, _, ch, w, h = x.shape\n",
    "        x = x.view(bs*self.num_instances, ch, w, h) # x: N bs x C x W x W\n",
    "        x = self.encoder.forward_features(x) # x: N bs x C' x W' x W'\n",
    "\n",
    "        # Concat and pool\n",
    "        #bs2, ch2, w2, h2 = x.shape\n",
    "        #x = x.view(-1, self.num_instances, ch2, w2, h2).permute(0, 2, 1, 3, 4)\\\n",
    "            #.contiguous().view(bs, ch2, self.num_instances*w2, h2) # x: bs x C' x N W'' x W''\n",
    "        emb = self.head(x)\n",
    "\n",
    "        return emb,self.encoder.head(x)\n",
    "    "
   ]
  },
  {
   "cell_type": "code",
   "execution_count": 21,
   "id": "a375e372",
   "metadata": {
    "execution": {
     "iopub.execute_input": "2022-09-29T21:57:23.914730Z",
     "iopub.status.busy": "2022-09-29T21:57:23.913857Z",
     "iopub.status.idle": "2022-09-29T21:57:23.919277Z",
     "shell.execute_reply": "2022-09-29T21:57:23.918448Z"
    },
    "papermill": {
     "duration": 0.020393,
     "end_time": "2022-09-29T21:57:23.921383",
     "exception": false,
     "start_time": "2022-09-29T21:57:23.900990",
     "status": "completed"
    },
    "tags": []
   },
   "outputs": [],
   "source": [
    "def get_model(path):\n",
    "    model = StripModel(CFG.backbone ,pretrained = False)\n",
    "    model.to(CFG.device)\n",
    "    model.load_state_dict(torch.load(path,map_location=torch.device(CFG.device)))\n",
    "    model.eval()\n",
    "    return model"
   ]
  },
  {
   "cell_type": "markdown",
   "id": "8cff5cf4",
   "metadata": {
    "papermill": {
     "duration": 0.011922,
     "end_time": "2022-09-29T21:57:23.945373",
     "exception": false,
     "start_time": "2022-09-29T21:57:23.933451",
     "status": "completed"
    },
    "tags": []
   },
   "source": [
    "# 🔧 Loss Function"
   ]
  },
  {
   "cell_type": "markdown",
   "id": "6a8e7ba7",
   "metadata": {
    "papermill": {
     "duration": 0.011981,
     "end_time": "2022-09-29T21:57:23.969667",
     "exception": false,
     "start_time": "2022-09-29T21:57:23.957686",
     "status": "completed"
    },
    "tags": []
   },
   "source": [
    "# 🚄 Training Function"
   ]
  },
  {
   "cell_type": "code",
   "execution_count": 22,
   "id": "6ad1a59b",
   "metadata": {
    "execution": {
     "iopub.execute_input": "2022-09-29T21:57:23.995831Z",
     "iopub.status.busy": "2022-09-29T21:57:23.995084Z",
     "iopub.status.idle": "2022-09-29T21:57:24.003095Z",
     "shell.execute_reply": "2022-09-29T21:57:24.002200Z"
    },
    "papermill": {
     "duration": 0.023119,
     "end_time": "2022-09-29T21:57:24.005065",
     "exception": false,
     "start_time": "2022-09-29T21:57:23.981946",
     "status": "completed"
    },
    "tags": []
   },
   "outputs": [],
   "source": [
    "@torch.no_grad()\n",
    "def infer(model_ptah, test_loader, preds):\n",
    "\n",
    "    model     = get_model(model_ptah) \n",
    "    soft = nn.Softmax()\n",
    "    for idx, (img,pid) in enumerate(tqdm(test_loader, total=len(test_loader), desc='Infer ')):\n",
    "        img = img.to(CFG.device, dtype=torch.float)# .squeeze(0)\n",
    "        try:\n",
    "            out,_ = model(img)#.squeeze()\n",
    "            out = soft(out).cpu().detach().numpy()\n",
    "                \n",
    "        except:\n",
    "            out = torch.tensor([[0.5 ,0.5]])\n",
    "            print(\"except\")\n",
    "            #print(out)\n",
    "        preds[\"patient_id\"].extend(pid)\n",
    "        \n",
    "        preds[\"CE\"].extend(out[:,1])\n",
    "        preds[\"LAA\"].extend(out[:,0])\n",
    "            #out = model(img)#.squeeze()\n",
    "        \n",
    "        del img,  out\n",
    "        gc.collect()\n",
    "        torch.cuda.empty_cache()\n",
    "\n",
    "    return preds"
   ]
  },
  {
   "cell_type": "code",
   "execution_count": 23,
   "id": "fd8dba20",
   "metadata": {
    "execution": {
     "iopub.execute_input": "2022-09-29T21:57:24.032569Z",
     "iopub.status.busy": "2022-09-29T21:57:24.031717Z",
     "iopub.status.idle": "2022-09-29T21:57:24.045316Z",
     "shell.execute_reply": "2022-09-29T21:57:24.044533Z"
    },
    "papermill": {
     "duration": 0.028504,
     "end_time": "2022-09-29T21:57:24.047161",
     "exception": false,
     "start_time": "2022-09-29T21:57:24.018657",
     "status": "completed"
    },
    "tags": []
   },
   "outputs": [],
   "source": [
    "model_ptahs = glob(\"../input/all5fold/*\")"
   ]
  },
  {
   "cell_type": "code",
   "execution_count": 24,
   "id": "8dd07251",
   "metadata": {
    "execution": {
     "iopub.execute_input": "2022-09-29T21:57:24.072822Z",
     "iopub.status.busy": "2022-09-29T21:57:24.072299Z",
     "iopub.status.idle": "2022-09-29T21:57:24.076186Z",
     "shell.execute_reply": "2022-09-29T21:57:24.075285Z"
    },
    "papermill": {
     "duration": 0.018761,
     "end_time": "2022-09-29T21:57:24.078113",
     "exception": false,
     "start_time": "2022-09-29T21:57:24.059352",
     "status": "completed"
    },
    "tags": []
   },
   "outputs": [],
   "source": [
    "#pd.concat([df]*100)"
   ]
  },
  {
   "cell_type": "code",
   "execution_count": 25,
   "id": "f3cbadd4",
   "metadata": {
    "execution": {
     "iopub.execute_input": "2022-09-29T21:57:24.104454Z",
     "iopub.status.busy": "2022-09-29T21:57:24.103733Z",
     "iopub.status.idle": "2022-09-29T21:58:24.053396Z",
     "shell.execute_reply": "2022-09-29T21:58:24.051653Z"
    },
    "papermill": {
     "duration": 59.966637,
     "end_time": "2022-09-29T21:58:24.057338",
     "exception": false,
     "start_time": "2022-09-29T21:57:24.090701",
     "status": "completed"
    },
    "tags": []
   },
   "outputs": [
    {
     "name": "stdout",
     "output_type": "stream",
     "text": [
      "768\n"
     ]
    },
    {
     "name": "stderr",
     "output_type": "stream",
     "text": [
      "Infer : 100%|██████████| 4/4 [00:09<00:00,  2.33s/it]\n"
     ]
    },
    {
     "name": "stdout",
     "output_type": "stream",
     "text": [
      "768\n"
     ]
    },
    {
     "name": "stderr",
     "output_type": "stream",
     "text": [
      "Infer : 100%|██████████| 4/4 [00:03<00:00,  1.20it/s]\n"
     ]
    },
    {
     "name": "stdout",
     "output_type": "stream",
     "text": [
      "768\n"
     ]
    },
    {
     "name": "stderr",
     "output_type": "stream",
     "text": [
      "Infer : 100%|██████████| 4/4 [00:03<00:00,  1.26it/s]\n"
     ]
    },
    {
     "name": "stdout",
     "output_type": "stream",
     "text": [
      "768\n"
     ]
    },
    {
     "name": "stderr",
     "output_type": "stream",
     "text": [
      "Infer : 100%|██████████| 4/4 [00:03<00:00,  1.11it/s]\n"
     ]
    },
    {
     "name": "stdout",
     "output_type": "stream",
     "text": [
      "768\n"
     ]
    },
    {
     "name": "stderr",
     "output_type": "stream",
     "text": [
      "Infer : 100%|██████████| 4/4 [00:03<00:00,  1.26it/s]\n"
     ]
    },
    {
     "name": "stdout",
     "output_type": "stream",
     "text": [
      "768\n"
     ]
    },
    {
     "name": "stderr",
     "output_type": "stream",
     "text": [
      "Infer : 100%|██████████| 4/4 [00:03<00:00,  1.17it/s]\n"
     ]
    },
    {
     "name": "stdout",
     "output_type": "stream",
     "text": [
      "768\n"
     ]
    },
    {
     "name": "stderr",
     "output_type": "stream",
     "text": [
      "Infer : 100%|██████████| 4/4 [00:03<00:00,  1.20it/s]\n"
     ]
    },
    {
     "name": "stdout",
     "output_type": "stream",
     "text": [
      "768\n"
     ]
    },
    {
     "name": "stderr",
     "output_type": "stream",
     "text": [
      "Infer : 100%|██████████| 4/4 [00:03<00:00,  1.16it/s]\n"
     ]
    },
    {
     "name": "stdout",
     "output_type": "stream",
     "text": [
      "768\n"
     ]
    },
    {
     "name": "stderr",
     "output_type": "stream",
     "text": [
      "Infer : 100%|██████████| 4/4 [00:03<00:00,  1.25it/s]\n"
     ]
    },
    {
     "name": "stdout",
     "output_type": "stream",
     "text": [
      "768\n"
     ]
    },
    {
     "name": "stderr",
     "output_type": "stream",
     "text": [
      "Infer : 100%|██████████| 4/4 [00:03<00:00,  1.05it/s]\n"
     ]
    }
   ],
   "source": [
    "preds = defaultdict(list)\n",
    "for model_ptah in model_ptahs:\n",
    "    test_loader  = prepare_loaders(df,N_slides=45,aug = data_transforms['valid'])\n",
    "    preds = infer(model_ptah ,test_loader, preds)\n",
    "    test_loader  = prepare_loaders(df,N_slides=45,aug = data_transforms['tta'])\n",
    "    preds = infer(model_ptah ,test_loader, preds)\n"
   ]
  },
  {
   "cell_type": "code",
   "execution_count": 26,
   "id": "7362504d",
   "metadata": {
    "execution": {
     "iopub.execute_input": "2022-09-29T21:58:24.107953Z",
     "iopub.status.busy": "2022-09-29T21:58:24.107432Z",
     "iopub.status.idle": "2022-09-29T21:58:24.114730Z",
     "shell.execute_reply": "2022-09-29T21:58:24.113542Z"
    },
    "papermill": {
     "duration": 0.035613,
     "end_time": "2022-09-29T21:58:24.117669",
     "exception": false,
     "start_time": "2022-09-29T21:58:24.082056",
     "status": "completed"
    },
    "tags": []
   },
   "outputs": [],
   "source": [
    "preds = pd.DataFrame(preds)"
   ]
  },
  {
   "cell_type": "code",
   "execution_count": 27,
   "id": "6e923262",
   "metadata": {
    "execution": {
     "iopub.execute_input": "2022-09-29T21:58:24.170365Z",
     "iopub.status.busy": "2022-09-29T21:58:24.170002Z",
     "iopub.status.idle": "2022-09-29T21:58:24.180209Z",
     "shell.execute_reply": "2022-09-29T21:58:24.179353Z"
    },
    "papermill": {
     "duration": 0.03744,
     "end_time": "2022-09-29T21:58:24.182627",
     "exception": false,
     "start_time": "2022-09-29T21:58:24.145187",
     "status": "completed"
    },
    "tags": []
   },
   "outputs": [],
   "source": [
    "preds = preds.groupby(by=\"patient_id\").mean().reset_index()"
   ]
  },
  {
   "cell_type": "code",
   "execution_count": 28,
   "id": "07f55bb0",
   "metadata": {
    "execution": {
     "iopub.execute_input": "2022-09-29T21:58:24.231692Z",
     "iopub.status.busy": "2022-09-29T21:58:24.231354Z",
     "iopub.status.idle": "2022-09-29T21:58:24.245661Z",
     "shell.execute_reply": "2022-09-29T21:58:24.244811Z"
    },
    "papermill": {
     "duration": 0.041488,
     "end_time": "2022-09-29T21:58:24.248210",
     "exception": false,
     "start_time": "2022-09-29T21:58:24.206722",
     "status": "completed"
    },
    "tags": []
   },
   "outputs": [
    {
     "data": {
      "text/html": [
       "<div>\n",
       "<style scoped>\n",
       "    .dataframe tbody tr th:only-of-type {\n",
       "        vertical-align: middle;\n",
       "    }\n",
       "\n",
       "    .dataframe tbody tr th {\n",
       "        vertical-align: top;\n",
       "    }\n",
       "\n",
       "    .dataframe thead th {\n",
       "        text-align: right;\n",
       "    }\n",
       "</style>\n",
       "<table border=\"1\" class=\"dataframe\">\n",
       "  <thead>\n",
       "    <tr style=\"text-align: right;\">\n",
       "      <th></th>\n",
       "      <th>patient_id</th>\n",
       "      <th>CE</th>\n",
       "      <th>LAA</th>\n",
       "    </tr>\n",
       "  </thead>\n",
       "  <tbody>\n",
       "    <tr>\n",
       "      <th>0</th>\n",
       "      <td>006388</td>\n",
       "      <td>0.443729</td>\n",
       "      <td>0.556271</td>\n",
       "    </tr>\n",
       "    <tr>\n",
       "      <th>1</th>\n",
       "      <td>008e5c</td>\n",
       "      <td>0.618345</td>\n",
       "      <td>0.381655</td>\n",
       "    </tr>\n",
       "    <tr>\n",
       "      <th>2</th>\n",
       "      <td>00c058</td>\n",
       "      <td>0.576882</td>\n",
       "      <td>0.423118</td>\n",
       "    </tr>\n",
       "    <tr>\n",
       "      <th>3</th>\n",
       "      <td>01adc5</td>\n",
       "      <td>0.435397</td>\n",
       "      <td>0.564603</td>\n",
       "    </tr>\n",
       "  </tbody>\n",
       "</table>\n",
       "</div>"
      ],
      "text/plain": [
       "  patient_id        CE       LAA\n",
       "0     006388  0.443729  0.556271\n",
       "1     008e5c  0.618345  0.381655\n",
       "2     00c058  0.576882  0.423118\n",
       "3     01adc5  0.435397  0.564603"
      ]
     },
     "execution_count": 28,
     "metadata": {},
     "output_type": "execute_result"
    }
   ],
   "source": [
    "preds"
   ]
  },
  {
   "cell_type": "code",
   "execution_count": 29,
   "id": "83aca194",
   "metadata": {
    "execution": {
     "iopub.execute_input": "2022-09-29T21:58:24.297904Z",
     "iopub.status.busy": "2022-09-29T21:58:24.297546Z",
     "iopub.status.idle": "2022-09-29T21:58:24.312161Z",
     "shell.execute_reply": "2022-09-29T21:58:24.311235Z"
    },
    "papermill": {
     "duration": 0.041796,
     "end_time": "2022-09-29T21:58:24.314680",
     "exception": false,
     "start_time": "2022-09-29T21:58:24.272884",
     "status": "completed"
    },
    "tags": []
   },
   "outputs": [
    {
     "data": {
      "text/html": [
       "<div>\n",
       "<style scoped>\n",
       "    .dataframe tbody tr th:only-of-type {\n",
       "        vertical-align: middle;\n",
       "    }\n",
       "\n",
       "    .dataframe tbody tr th {\n",
       "        vertical-align: top;\n",
       "    }\n",
       "\n",
       "    .dataframe thead th {\n",
       "        text-align: right;\n",
       "    }\n",
       "</style>\n",
       "<table border=\"1\" class=\"dataframe\">\n",
       "  <thead>\n",
       "    <tr style=\"text-align: right;\">\n",
       "      <th></th>\n",
       "      <th>patient_id</th>\n",
       "      <th>CE</th>\n",
       "      <th>LAA</th>\n",
       "    </tr>\n",
       "  </thead>\n",
       "  <tbody>\n",
       "    <tr>\n",
       "      <th>0</th>\n",
       "      <td>006388</td>\n",
       "      <td>0.443729</td>\n",
       "      <td>0.556271</td>\n",
       "    </tr>\n",
       "    <tr>\n",
       "      <th>1</th>\n",
       "      <td>008e5c</td>\n",
       "      <td>0.618345</td>\n",
       "      <td>0.381655</td>\n",
       "    </tr>\n",
       "    <tr>\n",
       "      <th>2</th>\n",
       "      <td>00c058</td>\n",
       "      <td>0.576882</td>\n",
       "      <td>0.423118</td>\n",
       "    </tr>\n",
       "    <tr>\n",
       "      <th>3</th>\n",
       "      <td>01adc5</td>\n",
       "      <td>0.435397</td>\n",
       "      <td>0.564603</td>\n",
       "    </tr>\n",
       "  </tbody>\n",
       "</table>\n",
       "</div>"
      ],
      "text/plain": [
       "  patient_id        CE       LAA\n",
       "0     006388  0.443729  0.556271\n",
       "1     008e5c  0.618345  0.381655\n",
       "2     00c058  0.576882  0.423118\n",
       "3     01adc5  0.435397  0.564603"
      ]
     },
     "execution_count": 29,
     "metadata": {},
     "output_type": "execute_result"
    }
   ],
   "source": [
    "preds"
   ]
  },
  {
   "cell_type": "code",
   "execution_count": 30,
   "id": "3136ecf8",
   "metadata": {
    "execution": {
     "iopub.execute_input": "2022-09-29T21:58:24.370723Z",
     "iopub.status.busy": "2022-09-29T21:58:24.370351Z",
     "iopub.status.idle": "2022-09-29T21:58:24.378127Z",
     "shell.execute_reply": "2022-09-29T21:58:24.377281Z"
    },
    "papermill": {
     "duration": 0.029906,
     "end_time": "2022-09-29T21:58:24.380312",
     "exception": false,
     "start_time": "2022-09-29T21:58:24.350406",
     "status": "completed"
    },
    "tags": []
   },
   "outputs": [],
   "source": [
    "preds.to_csv(\"submission.csv\", index = False)"
   ]
  },
  {
   "cell_type": "code",
   "execution_count": null,
   "id": "bad3b3d0",
   "metadata": {
    "papermill": {
     "duration": 0.018392,
     "end_time": "2022-09-29T21:58:24.416148",
     "exception": false,
     "start_time": "2022-09-29T21:58:24.397756",
     "status": "completed"
    },
    "tags": []
   },
   "outputs": [],
   "source": []
  }
 ],
 "metadata": {
  "kernelspec": {
   "display_name": "Python 3",
   "language": "python",
   "name": "python3"
  },
  "language_info": {
   "codemirror_mode": {
    "name": "ipython",
    "version": 3
   },
   "file_extension": ".py",
   "mimetype": "text/x-python",
   "name": "python",
   "nbconvert_exporter": "python",
   "pygments_lexer": "ipython3",
   "version": "3.7.12"
  },
  "papermill": {
   "default_parameters": {},
   "duration": 320.715313,
   "end_time": "2022-09-29T21:58:26.865039",
   "environment_variables": {},
   "exception": null,
   "input_path": "__notebook__.ipynb",
   "output_path": "__notebook__.ipynb",
   "parameters": {},
   "start_time": "2022-09-29T21:53:06.149726",
   "version": "2.3.4"
  }
 },
 "nbformat": 4,
 "nbformat_minor": 5
}
